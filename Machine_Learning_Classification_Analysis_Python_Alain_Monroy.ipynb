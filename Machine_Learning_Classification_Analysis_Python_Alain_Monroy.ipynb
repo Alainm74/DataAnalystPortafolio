{
  "nbformat": 4,
  "nbformat_minor": 0,
  "metadata": {
    "colab": {
      "provenance": [],
      "toc_visible": true,
      "include_colab_link": true
    },
    "kernelspec": {
      "name": "python3",
      "display_name": "Python 3"
    },
    "language_info": {
      "name": "python"
    }
  },
  "cells": [
    {
      "cell_type": "markdown",
      "metadata": {
        "id": "view-in-github",
        "colab_type": "text"
      },
      "source": [
        "<a href=\"https://colab.research.google.com/github/Alainm74/DataAnalystPortafolio/blob/main/Machine_Learning_Classification_Analysis_Python_Alain_Monroy.ipynb\" target=\"_parent\"><img src=\"https://colab.research.google.com/assets/colab-badge.svg\" alt=\"Open In Colab\"/></a>"
      ]
    },
    {
      "cell_type": "markdown",
      "source": [
        "MACHINE LEARNING AND PATTERN RECOGNITION"
      ],
      "metadata": {
        "id": "SjhSjUI7rrlS"
      }
    },
    {
      "cell_type": "markdown",
      "source": [
        "## Author: Ruben Alain Monroy Perez Negron"
      ],
      "metadata": {
        "id": "MDX62JpDrri2"
      }
    },
    {
      "cell_type": "markdown",
      "source": [
        "##1.Introduction\n",
        "\n",
        "Apply any three regression or classification methods in Python. Dataset must have minimum 15 variables (including dependent and independent variables).\n",
        "\n"
      ],
      "metadata": {
        "id": "WNJwxvlfrrgd"
      }
    },
    {
      "cell_type": "markdown",
      "source": [
        "**Code and analysis should cover the following points**\n",
        "\n",
        "\n",
        "0.   Provide Reference of the data source and identify what problem are you trying to solve using machine learning\n",
        "1.   Choice of dependent and independent variables and selection of algorithms\n",
        "2.   Data Preparation\n",
        "3.   Feature selection\n",
        "4.   Model Development and Evaluation\n",
        "5.   Optimization\n",
        "6.   Model Comparison"
      ],
      "metadata": {
        "id": "GHlFzN0Rsk9v"
      }
    },
    {
      "cell_type": "markdown",
      "source": [
        "##2.Abstract\n",
        "\n",
        "The following code elaborated and run in Google Colab, provides a detailed analysis about the determination of the best predictive model to determine the risk of burnout or attrition of employees, the current analysis is focused on the prediction for those groups of employees with a higher risk of getting burnout or attrition, by reviewing the dependent variables \"WorkLifeBalance\" and \"JobSatisfaction\", Class 1 and Class 2.\n",
        "\n",
        "Three classification models, Logistic Regression, Gaussian Naive Bayes, and Support Vector Classification, were assessed for both variables, incorporating feature selection techniques such as the Correlation Matrix, Chi-square, and Mutual Information Classifier. Additionally, the search of better parameters for optimizing Gaussian Naive Bayes and Support Vector Classification was carried out, without meaningful results.\n",
        "\n",
        "Regarding WorkLifeBalance, models Test 1.17 and Test 1.29 using Gaussian Naive Bayes with Correlation Matrix feature selection and different scalers were found to excel in predicting Class 1, while Test 1.2 Gaussian Naive Bayes provided better results for Class 2.\n",
        "\n",
        "Regarding JobSatisfaction, models Test 2.5, Test 2.17, and Test 2.29 exhibited better predictive performance for both classes, by the simplicity of data use, the model Test 2.5 could be chosen with the current dataset.\n",
        "\n",
        "Despite the selected models would provide a better predictive result with the current data set, it is important to consider that macro avg F-1 obtained in each one could be considered as not accurate enough.\n",
        "\n",
        "Thus, future considerations involve collecting more data, exploring alternative feature selection methods, testing diverse algorithms like Decision Trees, and experimenting with different optimization techniques."
      ],
      "metadata": {
        "id": "QzeNxepplGhV"
      }
    },
    {
      "cell_type": "markdown",
      "source": [
        "##3.Code Assessment"
      ],
      "metadata": {
        "id": "OETvY1GOkr8w"
      }
    },
    {
      "cell_type": "markdown",
      "source": [
        "###3.0   Provide Reference of the data source and identify what problem are you trying to solve using machine learning\n",
        "\n",
        "Source:\n",
        "\n",
        "*  HR Analytics: Case Study: https://www.kaggle.com/datasets/bhanupratapbiswas/hr-analytics-case-study"
      ],
      "metadata": {
        "id": "WKOvbIrxmR7L"
      }
    },
    {
      "cell_type": "markdown",
      "source": [
        "Problem\n",
        "\n",
        "The selected dataset is related to HR analytics providing insights into various aspects of human force within an organization.\n",
        "\n",
        "Trends show that the level of satisfaction of employees is not only related to the wage, there are several attributes that can be considered more valuable to continue in a work relationship.\n",
        "\n",
        "The following analysis will focus on the prediction for those groups of employees with a higher risk of getting burnout or trying to quit their jobs, by reviewing the following variables under analysis.\n",
        "\n",
        "The variables under analysis will be:\n",
        "\n",
        "*   WorkLifeBalance: Employee's work-life balance satisfaction level\n",
        "*   JobSatisfaction: Employee's satisfaction level with their job\n"
      ],
      "metadata": {
        "id": "OcpYW2YJnS2B"
      }
    },
    {
      "cell_type": "markdown",
      "source": [
        "###3.1   Choice of dependent and independent variables and selection of algorithms"
      ],
      "metadata": {
        "id": "VuVqaAJJrrdg"
      }
    },
    {
      "cell_type": "code",
      "source": [
        "#Import libraries to create data frame\n",
        "\n",
        "import pandas as pd\n",
        "import numpy as np"
      ],
      "metadata": {
        "id": "NbKz-jiPuLSy"
      },
      "execution_count": null,
      "outputs": []
    },
    {
      "cell_type": "markdown",
      "source": [
        "####3.1.1 Exploring dataset"
      ],
      "metadata": {
        "id": "SW_RjQwyxNpy"
      }
    },
    {
      "cell_type": "code",
      "source": [
        "df = pd.read_csv('/content/WA_Fn-UseC_-HR-Employee-Attrition.csv')\n",
        "df"
      ],
      "metadata": {
        "colab": {
          "base_uri": "https://localhost:8080/",
          "height": 582
        },
        "id": "hx-q-bR0ugqf",
        "outputId": "01d459b1-4961-4859-9f2c-b8837720866f"
      },
      "execution_count": null,
      "outputs": [
        {
          "output_type": "execute_result",
          "data": {
            "text/plain": [
              "      Age Attrition     BusinessTravel  DailyRate              Department  \\\n",
              "0      41       Yes      Travel_Rarely       1102                   Sales   \n",
              "1      49        No  Travel_Frequently        279  Research & Development   \n",
              "2      37       Yes      Travel_Rarely       1373  Research & Development   \n",
              "3      33        No  Travel_Frequently       1392  Research & Development   \n",
              "4      27        No      Travel_Rarely        591  Research & Development   \n",
              "...   ...       ...                ...        ...                     ...   \n",
              "1465   36        No  Travel_Frequently        884  Research & Development   \n",
              "1466   39        No      Travel_Rarely        613  Research & Development   \n",
              "1467   27        No      Travel_Rarely        155  Research & Development   \n",
              "1468   49        No  Travel_Frequently       1023                   Sales   \n",
              "1469   34        No      Travel_Rarely        628  Research & Development   \n",
              "\n",
              "      DistanceFromHome  Education EducationField  EmployeeCount  \\\n",
              "0                    1          2  Life Sciences              1   \n",
              "1                    8          1  Life Sciences              1   \n",
              "2                    2          2          Other              1   \n",
              "3                    3          4  Life Sciences              1   \n",
              "4                    2          1        Medical              1   \n",
              "...                ...        ...            ...            ...   \n",
              "1465                23          2        Medical              1   \n",
              "1466                 6          1        Medical              1   \n",
              "1467                 4          3  Life Sciences              1   \n",
              "1468                 2          3        Medical              1   \n",
              "1469                 8          3        Medical              1   \n",
              "\n",
              "      EmployeeNumber  ...  RelationshipSatisfaction StandardHours  \\\n",
              "0                  1  ...                         1            80   \n",
              "1                  2  ...                         4            80   \n",
              "2                  4  ...                         2            80   \n",
              "3                  5  ...                         3            80   \n",
              "4                  7  ...                         4            80   \n",
              "...              ...  ...                       ...           ...   \n",
              "1465            2061  ...                         3            80   \n",
              "1466            2062  ...                         1            80   \n",
              "1467            2064  ...                         2            80   \n",
              "1468            2065  ...                         4            80   \n",
              "1469            2068  ...                         1            80   \n",
              "\n",
              "      StockOptionLevel  TotalWorkingYears  TrainingTimesLastYear  \\\n",
              "0                    0                  8                      0   \n",
              "1                    1                 10                      3   \n",
              "2                    0                  7                      3   \n",
              "3                    0                  8                      3   \n",
              "4                    1                  6                      3   \n",
              "...                ...                ...                    ...   \n",
              "1465                 1                 17                      3   \n",
              "1466                 1                  9                      5   \n",
              "1467                 1                  6                      0   \n",
              "1468                 0                 17                      3   \n",
              "1469                 0                  6                      3   \n",
              "\n",
              "     WorkLifeBalance  YearsAtCompany YearsInCurrentRole  \\\n",
              "0                  1               6                  4   \n",
              "1                  3              10                  7   \n",
              "2                  3               0                  0   \n",
              "3                  3               8                  7   \n",
              "4                  3               2                  2   \n",
              "...              ...             ...                ...   \n",
              "1465               3               5                  2   \n",
              "1466               3               7                  7   \n",
              "1467               3               6                  2   \n",
              "1468               2               9                  6   \n",
              "1469               4               4                  3   \n",
              "\n",
              "      YearsSinceLastPromotion  YearsWithCurrManager  \n",
              "0                           0                     5  \n",
              "1                           1                     7  \n",
              "2                           0                     0  \n",
              "3                           3                     0  \n",
              "4                           2                     2  \n",
              "...                       ...                   ...  \n",
              "1465                        0                     3  \n",
              "1466                        1                     7  \n",
              "1467                        0                     3  \n",
              "1468                        0                     8  \n",
              "1469                        1                     2  \n",
              "\n",
              "[1470 rows x 35 columns]"
            ],
            "text/html": [
              "\n",
              "  <div id=\"df-5ce494cf-0e2d-4454-b564-1757d6d2cb91\" class=\"colab-df-container\">\n",
              "    <div>\n",
              "<style scoped>\n",
              "    .dataframe tbody tr th:only-of-type {\n",
              "        vertical-align: middle;\n",
              "    }\n",
              "\n",
              "    .dataframe tbody tr th {\n",
              "        vertical-align: top;\n",
              "    }\n",
              "\n",
              "    .dataframe thead th {\n",
              "        text-align: right;\n",
              "    }\n",
              "</style>\n",
              "<table border=\"1\" class=\"dataframe\">\n",
              "  <thead>\n",
              "    <tr style=\"text-align: right;\">\n",
              "      <th></th>\n",
              "      <th>Age</th>\n",
              "      <th>Attrition</th>\n",
              "      <th>BusinessTravel</th>\n",
              "      <th>DailyRate</th>\n",
              "      <th>Department</th>\n",
              "      <th>DistanceFromHome</th>\n",
              "      <th>Education</th>\n",
              "      <th>EducationField</th>\n",
              "      <th>EmployeeCount</th>\n",
              "      <th>EmployeeNumber</th>\n",
              "      <th>...</th>\n",
              "      <th>RelationshipSatisfaction</th>\n",
              "      <th>StandardHours</th>\n",
              "      <th>StockOptionLevel</th>\n",
              "      <th>TotalWorkingYears</th>\n",
              "      <th>TrainingTimesLastYear</th>\n",
              "      <th>WorkLifeBalance</th>\n",
              "      <th>YearsAtCompany</th>\n",
              "      <th>YearsInCurrentRole</th>\n",
              "      <th>YearsSinceLastPromotion</th>\n",
              "      <th>YearsWithCurrManager</th>\n",
              "    </tr>\n",
              "  </thead>\n",
              "  <tbody>\n",
              "    <tr>\n",
              "      <th>0</th>\n",
              "      <td>41</td>\n",
              "      <td>Yes</td>\n",
              "      <td>Travel_Rarely</td>\n",
              "      <td>1102</td>\n",
              "      <td>Sales</td>\n",
              "      <td>1</td>\n",
              "      <td>2</td>\n",
              "      <td>Life Sciences</td>\n",
              "      <td>1</td>\n",
              "      <td>1</td>\n",
              "      <td>...</td>\n",
              "      <td>1</td>\n",
              "      <td>80</td>\n",
              "      <td>0</td>\n",
              "      <td>8</td>\n",
              "      <td>0</td>\n",
              "      <td>1</td>\n",
              "      <td>6</td>\n",
              "      <td>4</td>\n",
              "      <td>0</td>\n",
              "      <td>5</td>\n",
              "    </tr>\n",
              "    <tr>\n",
              "      <th>1</th>\n",
              "      <td>49</td>\n",
              "      <td>No</td>\n",
              "      <td>Travel_Frequently</td>\n",
              "      <td>279</td>\n",
              "      <td>Research &amp; Development</td>\n",
              "      <td>8</td>\n",
              "      <td>1</td>\n",
              "      <td>Life Sciences</td>\n",
              "      <td>1</td>\n",
              "      <td>2</td>\n",
              "      <td>...</td>\n",
              "      <td>4</td>\n",
              "      <td>80</td>\n",
              "      <td>1</td>\n",
              "      <td>10</td>\n",
              "      <td>3</td>\n",
              "      <td>3</td>\n",
              "      <td>10</td>\n",
              "      <td>7</td>\n",
              "      <td>1</td>\n",
              "      <td>7</td>\n",
              "    </tr>\n",
              "    <tr>\n",
              "      <th>2</th>\n",
              "      <td>37</td>\n",
              "      <td>Yes</td>\n",
              "      <td>Travel_Rarely</td>\n",
              "      <td>1373</td>\n",
              "      <td>Research &amp; Development</td>\n",
              "      <td>2</td>\n",
              "      <td>2</td>\n",
              "      <td>Other</td>\n",
              "      <td>1</td>\n",
              "      <td>4</td>\n",
              "      <td>...</td>\n",
              "      <td>2</td>\n",
              "      <td>80</td>\n",
              "      <td>0</td>\n",
              "      <td>7</td>\n",
              "      <td>3</td>\n",
              "      <td>3</td>\n",
              "      <td>0</td>\n",
              "      <td>0</td>\n",
              "      <td>0</td>\n",
              "      <td>0</td>\n",
              "    </tr>\n",
              "    <tr>\n",
              "      <th>3</th>\n",
              "      <td>33</td>\n",
              "      <td>No</td>\n",
              "      <td>Travel_Frequently</td>\n",
              "      <td>1392</td>\n",
              "      <td>Research &amp; Development</td>\n",
              "      <td>3</td>\n",
              "      <td>4</td>\n",
              "      <td>Life Sciences</td>\n",
              "      <td>1</td>\n",
              "      <td>5</td>\n",
              "      <td>...</td>\n",
              "      <td>3</td>\n",
              "      <td>80</td>\n",
              "      <td>0</td>\n",
              "      <td>8</td>\n",
              "      <td>3</td>\n",
              "      <td>3</td>\n",
              "      <td>8</td>\n",
              "      <td>7</td>\n",
              "      <td>3</td>\n",
              "      <td>0</td>\n",
              "    </tr>\n",
              "    <tr>\n",
              "      <th>4</th>\n",
              "      <td>27</td>\n",
              "      <td>No</td>\n",
              "      <td>Travel_Rarely</td>\n",
              "      <td>591</td>\n",
              "      <td>Research &amp; Development</td>\n",
              "      <td>2</td>\n",
              "      <td>1</td>\n",
              "      <td>Medical</td>\n",
              "      <td>1</td>\n",
              "      <td>7</td>\n",
              "      <td>...</td>\n",
              "      <td>4</td>\n",
              "      <td>80</td>\n",
              "      <td>1</td>\n",
              "      <td>6</td>\n",
              "      <td>3</td>\n",
              "      <td>3</td>\n",
              "      <td>2</td>\n",
              "      <td>2</td>\n",
              "      <td>2</td>\n",
              "      <td>2</td>\n",
              "    </tr>\n",
              "    <tr>\n",
              "      <th>...</th>\n",
              "      <td>...</td>\n",
              "      <td>...</td>\n",
              "      <td>...</td>\n",
              "      <td>...</td>\n",
              "      <td>...</td>\n",
              "      <td>...</td>\n",
              "      <td>...</td>\n",
              "      <td>...</td>\n",
              "      <td>...</td>\n",
              "      <td>...</td>\n",
              "      <td>...</td>\n",
              "      <td>...</td>\n",
              "      <td>...</td>\n",
              "      <td>...</td>\n",
              "      <td>...</td>\n",
              "      <td>...</td>\n",
              "      <td>...</td>\n",
              "      <td>...</td>\n",
              "      <td>...</td>\n",
              "      <td>...</td>\n",
              "      <td>...</td>\n",
              "    </tr>\n",
              "    <tr>\n",
              "      <th>1465</th>\n",
              "      <td>36</td>\n",
              "      <td>No</td>\n",
              "      <td>Travel_Frequently</td>\n",
              "      <td>884</td>\n",
              "      <td>Research &amp; Development</td>\n",
              "      <td>23</td>\n",
              "      <td>2</td>\n",
              "      <td>Medical</td>\n",
              "      <td>1</td>\n",
              "      <td>2061</td>\n",
              "      <td>...</td>\n",
              "      <td>3</td>\n",
              "      <td>80</td>\n",
              "      <td>1</td>\n",
              "      <td>17</td>\n",
              "      <td>3</td>\n",
              "      <td>3</td>\n",
              "      <td>5</td>\n",
              "      <td>2</td>\n",
              "      <td>0</td>\n",
              "      <td>3</td>\n",
              "    </tr>\n",
              "    <tr>\n",
              "      <th>1466</th>\n",
              "      <td>39</td>\n",
              "      <td>No</td>\n",
              "      <td>Travel_Rarely</td>\n",
              "      <td>613</td>\n",
              "      <td>Research &amp; Development</td>\n",
              "      <td>6</td>\n",
              "      <td>1</td>\n",
              "      <td>Medical</td>\n",
              "      <td>1</td>\n",
              "      <td>2062</td>\n",
              "      <td>...</td>\n",
              "      <td>1</td>\n",
              "      <td>80</td>\n",
              "      <td>1</td>\n",
              "      <td>9</td>\n",
              "      <td>5</td>\n",
              "      <td>3</td>\n",
              "      <td>7</td>\n",
              "      <td>7</td>\n",
              "      <td>1</td>\n",
              "      <td>7</td>\n",
              "    </tr>\n",
              "    <tr>\n",
              "      <th>1467</th>\n",
              "      <td>27</td>\n",
              "      <td>No</td>\n",
              "      <td>Travel_Rarely</td>\n",
              "      <td>155</td>\n",
              "      <td>Research &amp; Development</td>\n",
              "      <td>4</td>\n",
              "      <td>3</td>\n",
              "      <td>Life Sciences</td>\n",
              "      <td>1</td>\n",
              "      <td>2064</td>\n",
              "      <td>...</td>\n",
              "      <td>2</td>\n",
              "      <td>80</td>\n",
              "      <td>1</td>\n",
              "      <td>6</td>\n",
              "      <td>0</td>\n",
              "      <td>3</td>\n",
              "      <td>6</td>\n",
              "      <td>2</td>\n",
              "      <td>0</td>\n",
              "      <td>3</td>\n",
              "    </tr>\n",
              "    <tr>\n",
              "      <th>1468</th>\n",
              "      <td>49</td>\n",
              "      <td>No</td>\n",
              "      <td>Travel_Frequently</td>\n",
              "      <td>1023</td>\n",
              "      <td>Sales</td>\n",
              "      <td>2</td>\n",
              "      <td>3</td>\n",
              "      <td>Medical</td>\n",
              "      <td>1</td>\n",
              "      <td>2065</td>\n",
              "      <td>...</td>\n",
              "      <td>4</td>\n",
              "      <td>80</td>\n",
              "      <td>0</td>\n",
              "      <td>17</td>\n",
              "      <td>3</td>\n",
              "      <td>2</td>\n",
              "      <td>9</td>\n",
              "      <td>6</td>\n",
              "      <td>0</td>\n",
              "      <td>8</td>\n",
              "    </tr>\n",
              "    <tr>\n",
              "      <th>1469</th>\n",
              "      <td>34</td>\n",
              "      <td>No</td>\n",
              "      <td>Travel_Rarely</td>\n",
              "      <td>628</td>\n",
              "      <td>Research &amp; Development</td>\n",
              "      <td>8</td>\n",
              "      <td>3</td>\n",
              "      <td>Medical</td>\n",
              "      <td>1</td>\n",
              "      <td>2068</td>\n",
              "      <td>...</td>\n",
              "      <td>1</td>\n",
              "      <td>80</td>\n",
              "      <td>0</td>\n",
              "      <td>6</td>\n",
              "      <td>3</td>\n",
              "      <td>4</td>\n",
              "      <td>4</td>\n",
              "      <td>3</td>\n",
              "      <td>1</td>\n",
              "      <td>2</td>\n",
              "    </tr>\n",
              "  </tbody>\n",
              "</table>\n",
              "<p>1470 rows × 35 columns</p>\n",
              "</div>\n",
              "    <div class=\"colab-df-buttons\">\n",
              "\n",
              "  <div class=\"colab-df-container\">\n",
              "    <button class=\"colab-df-convert\" onclick=\"convertToInteractive('df-5ce494cf-0e2d-4454-b564-1757d6d2cb91')\"\n",
              "            title=\"Convert this dataframe to an interactive table.\"\n",
              "            style=\"display:none;\">\n",
              "\n",
              "  <svg xmlns=\"http://www.w3.org/2000/svg\" height=\"24px\" viewBox=\"0 -960 960 960\">\n",
              "    <path d=\"M120-120v-720h720v720H120Zm60-500h600v-160H180v160Zm220 220h160v-160H400v160Zm0 220h160v-160H400v160ZM180-400h160v-160H180v160Zm440 0h160v-160H620v160ZM180-180h160v-160H180v160Zm440 0h160v-160H620v160Z\"/>\n",
              "  </svg>\n",
              "    </button>\n",
              "\n",
              "  <style>\n",
              "    .colab-df-container {\n",
              "      display:flex;\n",
              "      gap: 12px;\n",
              "    }\n",
              "\n",
              "    .colab-df-convert {\n",
              "      background-color: #E8F0FE;\n",
              "      border: none;\n",
              "      border-radius: 50%;\n",
              "      cursor: pointer;\n",
              "      display: none;\n",
              "      fill: #1967D2;\n",
              "      height: 32px;\n",
              "      padding: 0 0 0 0;\n",
              "      width: 32px;\n",
              "    }\n",
              "\n",
              "    .colab-df-convert:hover {\n",
              "      background-color: #E2EBFA;\n",
              "      box-shadow: 0px 1px 2px rgba(60, 64, 67, 0.3), 0px 1px 3px 1px rgba(60, 64, 67, 0.15);\n",
              "      fill: #174EA6;\n",
              "    }\n",
              "\n",
              "    .colab-df-buttons div {\n",
              "      margin-bottom: 4px;\n",
              "    }\n",
              "\n",
              "    [theme=dark] .colab-df-convert {\n",
              "      background-color: #3B4455;\n",
              "      fill: #D2E3FC;\n",
              "    }\n",
              "\n",
              "    [theme=dark] .colab-df-convert:hover {\n",
              "      background-color: #434B5C;\n",
              "      box-shadow: 0px 1px 3px 1px rgba(0, 0, 0, 0.15);\n",
              "      filter: drop-shadow(0px 1px 2px rgba(0, 0, 0, 0.3));\n",
              "      fill: #FFFFFF;\n",
              "    }\n",
              "  </style>\n",
              "\n",
              "    <script>\n",
              "      const buttonEl =\n",
              "        document.querySelector('#df-5ce494cf-0e2d-4454-b564-1757d6d2cb91 button.colab-df-convert');\n",
              "      buttonEl.style.display =\n",
              "        google.colab.kernel.accessAllowed ? 'block' : 'none';\n",
              "\n",
              "      async function convertToInteractive(key) {\n",
              "        const element = document.querySelector('#df-5ce494cf-0e2d-4454-b564-1757d6d2cb91');\n",
              "        const dataTable =\n",
              "          await google.colab.kernel.invokeFunction('convertToInteractive',\n",
              "                                                    [key], {});\n",
              "        if (!dataTable) return;\n",
              "\n",
              "        const docLinkHtml = 'Like what you see? Visit the ' +\n",
              "          '<a target=\"_blank\" href=https://colab.research.google.com/notebooks/data_table.ipynb>data table notebook</a>'\n",
              "          + ' to learn more about interactive tables.';\n",
              "        element.innerHTML = '';\n",
              "        dataTable['output_type'] = 'display_data';\n",
              "        await google.colab.output.renderOutput(dataTable, element);\n",
              "        const docLink = document.createElement('div');\n",
              "        docLink.innerHTML = docLinkHtml;\n",
              "        element.appendChild(docLink);\n",
              "      }\n",
              "    </script>\n",
              "  </div>\n",
              "\n",
              "\n",
              "<div id=\"df-ca3df60e-908d-4581-a194-3b36860e6d3c\">\n",
              "  <button class=\"colab-df-quickchart\" onclick=\"quickchart('df-ca3df60e-908d-4581-a194-3b36860e6d3c')\"\n",
              "            title=\"Suggest charts\"\n",
              "            style=\"display:none;\">\n",
              "\n",
              "<svg xmlns=\"http://www.w3.org/2000/svg\" height=\"24px\"viewBox=\"0 0 24 24\"\n",
              "     width=\"24px\">\n",
              "    <g>\n",
              "        <path d=\"M19 3H5c-1.1 0-2 .9-2 2v14c0 1.1.9 2 2 2h14c1.1 0 2-.9 2-2V5c0-1.1-.9-2-2-2zM9 17H7v-7h2v7zm4 0h-2V7h2v10zm4 0h-2v-4h2v4z\"/>\n",
              "    </g>\n",
              "</svg>\n",
              "  </button>\n",
              "\n",
              "<style>\n",
              "  .colab-df-quickchart {\n",
              "      --bg-color: #E8F0FE;\n",
              "      --fill-color: #1967D2;\n",
              "      --hover-bg-color: #E2EBFA;\n",
              "      --hover-fill-color: #174EA6;\n",
              "      --disabled-fill-color: #AAA;\n",
              "      --disabled-bg-color: #DDD;\n",
              "  }\n",
              "\n",
              "  [theme=dark] .colab-df-quickchart {\n",
              "      --bg-color: #3B4455;\n",
              "      --fill-color: #D2E3FC;\n",
              "      --hover-bg-color: #434B5C;\n",
              "      --hover-fill-color: #FFFFFF;\n",
              "      --disabled-bg-color: #3B4455;\n",
              "      --disabled-fill-color: #666;\n",
              "  }\n",
              "\n",
              "  .colab-df-quickchart {\n",
              "    background-color: var(--bg-color);\n",
              "    border: none;\n",
              "    border-radius: 50%;\n",
              "    cursor: pointer;\n",
              "    display: none;\n",
              "    fill: var(--fill-color);\n",
              "    height: 32px;\n",
              "    padding: 0;\n",
              "    width: 32px;\n",
              "  }\n",
              "\n",
              "  .colab-df-quickchart:hover {\n",
              "    background-color: var(--hover-bg-color);\n",
              "    box-shadow: 0 1px 2px rgba(60, 64, 67, 0.3), 0 1px 3px 1px rgba(60, 64, 67, 0.15);\n",
              "    fill: var(--button-hover-fill-color);\n",
              "  }\n",
              "\n",
              "  .colab-df-quickchart-complete:disabled,\n",
              "  .colab-df-quickchart-complete:disabled:hover {\n",
              "    background-color: var(--disabled-bg-color);\n",
              "    fill: var(--disabled-fill-color);\n",
              "    box-shadow: none;\n",
              "  }\n",
              "\n",
              "  .colab-df-spinner {\n",
              "    border: 2px solid var(--fill-color);\n",
              "    border-color: transparent;\n",
              "    border-bottom-color: var(--fill-color);\n",
              "    animation:\n",
              "      spin 1s steps(1) infinite;\n",
              "  }\n",
              "\n",
              "  @keyframes spin {\n",
              "    0% {\n",
              "      border-color: transparent;\n",
              "      border-bottom-color: var(--fill-color);\n",
              "      border-left-color: var(--fill-color);\n",
              "    }\n",
              "    20% {\n",
              "      border-color: transparent;\n",
              "      border-left-color: var(--fill-color);\n",
              "      border-top-color: var(--fill-color);\n",
              "    }\n",
              "    30% {\n",
              "      border-color: transparent;\n",
              "      border-left-color: var(--fill-color);\n",
              "      border-top-color: var(--fill-color);\n",
              "      border-right-color: var(--fill-color);\n",
              "    }\n",
              "    40% {\n",
              "      border-color: transparent;\n",
              "      border-right-color: var(--fill-color);\n",
              "      border-top-color: var(--fill-color);\n",
              "    }\n",
              "    60% {\n",
              "      border-color: transparent;\n",
              "      border-right-color: var(--fill-color);\n",
              "    }\n",
              "    80% {\n",
              "      border-color: transparent;\n",
              "      border-right-color: var(--fill-color);\n",
              "      border-bottom-color: var(--fill-color);\n",
              "    }\n",
              "    90% {\n",
              "      border-color: transparent;\n",
              "      border-bottom-color: var(--fill-color);\n",
              "    }\n",
              "  }\n",
              "</style>\n",
              "\n",
              "  <script>\n",
              "    async function quickchart(key) {\n",
              "      const quickchartButtonEl =\n",
              "        document.querySelector('#' + key + ' button');\n",
              "      quickchartButtonEl.disabled = true;  // To prevent multiple clicks.\n",
              "      quickchartButtonEl.classList.add('colab-df-spinner');\n",
              "      try {\n",
              "        const charts = await google.colab.kernel.invokeFunction(\n",
              "            'suggestCharts', [key], {});\n",
              "      } catch (error) {\n",
              "        console.error('Error during call to suggestCharts:', error);\n",
              "      }\n",
              "      quickchartButtonEl.classList.remove('colab-df-spinner');\n",
              "      quickchartButtonEl.classList.add('colab-df-quickchart-complete');\n",
              "    }\n",
              "    (() => {\n",
              "      let quickchartButtonEl =\n",
              "        document.querySelector('#df-ca3df60e-908d-4581-a194-3b36860e6d3c button');\n",
              "      quickchartButtonEl.style.display =\n",
              "        google.colab.kernel.accessAllowed ? 'block' : 'none';\n",
              "    })();\n",
              "  </script>\n",
              "</div>\n",
              "    </div>\n",
              "  </div>\n"
            ]
          },
          "metadata": {},
          "execution_count": 2
        }
      ]
    },
    {
      "cell_type": "code",
      "source": [
        "df.shape"
      ],
      "metadata": {
        "colab": {
          "base_uri": "https://localhost:8080/"
        },
        "id": "HScNgRU3z8Vk",
        "outputId": "2df505a7-45a4-482c-a1ee-d59d2254cfed"
      },
      "execution_count": null,
      "outputs": [
        {
          "output_type": "execute_result",
          "data": {
            "text/plain": [
              "(1470, 35)"
            ]
          },
          "metadata": {},
          "execution_count": 3
        }
      ]
    },
    {
      "cell_type": "markdown",
      "source": [
        "####3.1.2 Identify missing values"
      ],
      "metadata": {
        "id": "eJxty5vSxSZz"
      }
    },
    {
      "cell_type": "code",
      "source": [
        "df.isnull().sum()"
      ],
      "metadata": {
        "colab": {
          "base_uri": "https://localhost:8080/"
        },
        "id": "wbFD0JHsxWql",
        "outputId": "70302747-a142-4ee2-a2fb-ca9cbe62def7"
      },
      "execution_count": null,
      "outputs": [
        {
          "output_type": "execute_result",
          "data": {
            "text/plain": [
              "Age                         0\n",
              "Attrition                   0\n",
              "BusinessTravel              0\n",
              "DailyRate                   0\n",
              "Department                  0\n",
              "DistanceFromHome            0\n",
              "Education                   0\n",
              "EducationField              0\n",
              "EmployeeCount               0\n",
              "EmployeeNumber              0\n",
              "EnvironmentSatisfaction     0\n",
              "Gender                      0\n",
              "HourlyRate                  0\n",
              "JobInvolvement              0\n",
              "JobLevel                    0\n",
              "JobRole                     0\n",
              "JobSatisfaction             0\n",
              "MaritalStatus               0\n",
              "MonthlyIncome               0\n",
              "MonthlyRate                 0\n",
              "NumCompaniesWorked          0\n",
              "Over18                      0\n",
              "OverTime                    0\n",
              "PercentSalaryHike           0\n",
              "PerformanceRating           0\n",
              "RelationshipSatisfaction    0\n",
              "StandardHours               0\n",
              "StockOptionLevel            0\n",
              "TotalWorkingYears           0\n",
              "TrainingTimesLastYear       0\n",
              "WorkLifeBalance             0\n",
              "YearsAtCompany              0\n",
              "YearsInCurrentRole          0\n",
              "YearsSinceLastPromotion     0\n",
              "YearsWithCurrManager        0\n",
              "dtype: int64"
            ]
          },
          "metadata": {},
          "execution_count": 4
        }
      ]
    },
    {
      "cell_type": "markdown",
      "source": [
        "####3.1.3 Identifying duplicate values"
      ],
      "metadata": {
        "id": "iRdXvtCGz10k"
      }
    },
    {
      "cell_type": "code",
      "source": [
        "df.duplicated().sum()"
      ],
      "metadata": {
        "colab": {
          "base_uri": "https://localhost:8080/"
        },
        "id": "c8xA7RR2z5KQ",
        "outputId": "0f39f612-9591-4524-cf45-90f8a511b3ef"
      },
      "execution_count": null,
      "outputs": [
        {
          "output_type": "execute_result",
          "data": {
            "text/plain": [
              "0"
            ]
          },
          "metadata": {},
          "execution_count": 5
        }
      ]
    },
    {
      "cell_type": "markdown",
      "source": [
        "####3.1.4 Initial stats for our variables"
      ],
      "metadata": {
        "id": "SU4CufQJ0Dap"
      }
    },
    {
      "cell_type": "code",
      "source": [
        "df.describe()"
      ],
      "metadata": {
        "colab": {
          "base_uri": "https://localhost:8080/",
          "height": 349
        },
        "id": "q5j2r2C30GFK",
        "outputId": "20870d5a-85ad-4434-e57e-32cd6d2df1a5"
      },
      "execution_count": null,
      "outputs": [
        {
          "output_type": "execute_result",
          "data": {
            "text/plain": [
              "               Age    DailyRate  DistanceFromHome    Education  EmployeeCount  \\\n",
              "count  1470.000000  1470.000000       1470.000000  1470.000000         1470.0   \n",
              "mean     36.923810   802.485714          9.192517     2.912925            1.0   \n",
              "std       9.135373   403.509100          8.106864     1.024165            0.0   \n",
              "min      18.000000   102.000000          1.000000     1.000000            1.0   \n",
              "25%      30.000000   465.000000          2.000000     2.000000            1.0   \n",
              "50%      36.000000   802.000000          7.000000     3.000000            1.0   \n",
              "75%      43.000000  1157.000000         14.000000     4.000000            1.0   \n",
              "max      60.000000  1499.000000         29.000000     5.000000            1.0   \n",
              "\n",
              "       EmployeeNumber  EnvironmentSatisfaction   HourlyRate  JobInvolvement  \\\n",
              "count     1470.000000              1470.000000  1470.000000     1470.000000   \n",
              "mean      1024.865306                 2.721769    65.891156        2.729932   \n",
              "std        602.024335                 1.093082    20.329428        0.711561   \n",
              "min          1.000000                 1.000000    30.000000        1.000000   \n",
              "25%        491.250000                 2.000000    48.000000        2.000000   \n",
              "50%       1020.500000                 3.000000    66.000000        3.000000   \n",
              "75%       1555.750000                 4.000000    83.750000        3.000000   \n",
              "max       2068.000000                 4.000000   100.000000        4.000000   \n",
              "\n",
              "          JobLevel  ...  RelationshipSatisfaction  StandardHours  \\\n",
              "count  1470.000000  ...               1470.000000         1470.0   \n",
              "mean      2.063946  ...                  2.712245           80.0   \n",
              "std       1.106940  ...                  1.081209            0.0   \n",
              "min       1.000000  ...                  1.000000           80.0   \n",
              "25%       1.000000  ...                  2.000000           80.0   \n",
              "50%       2.000000  ...                  3.000000           80.0   \n",
              "75%       3.000000  ...                  4.000000           80.0   \n",
              "max       5.000000  ...                  4.000000           80.0   \n",
              "\n",
              "       StockOptionLevel  TotalWorkingYears  TrainingTimesLastYear  \\\n",
              "count       1470.000000        1470.000000            1470.000000   \n",
              "mean           0.793878          11.279592               2.799320   \n",
              "std            0.852077           7.780782               1.289271   \n",
              "min            0.000000           0.000000               0.000000   \n",
              "25%            0.000000           6.000000               2.000000   \n",
              "50%            1.000000          10.000000               3.000000   \n",
              "75%            1.000000          15.000000               3.000000   \n",
              "max            3.000000          40.000000               6.000000   \n",
              "\n",
              "       WorkLifeBalance  YearsAtCompany  YearsInCurrentRole  \\\n",
              "count      1470.000000     1470.000000         1470.000000   \n",
              "mean          2.761224        7.008163            4.229252   \n",
              "std           0.706476        6.126525            3.623137   \n",
              "min           1.000000        0.000000            0.000000   \n",
              "25%           2.000000        3.000000            2.000000   \n",
              "50%           3.000000        5.000000            3.000000   \n",
              "75%           3.000000        9.000000            7.000000   \n",
              "max           4.000000       40.000000           18.000000   \n",
              "\n",
              "       YearsSinceLastPromotion  YearsWithCurrManager  \n",
              "count              1470.000000           1470.000000  \n",
              "mean                  2.187755              4.123129  \n",
              "std                   3.222430              3.568136  \n",
              "min                   0.000000              0.000000  \n",
              "25%                   0.000000              2.000000  \n",
              "50%                   1.000000              3.000000  \n",
              "75%                   3.000000              7.000000  \n",
              "max                  15.000000             17.000000  \n",
              "\n",
              "[8 rows x 26 columns]"
            ],
            "text/html": [
              "\n",
              "  <div id=\"df-8d3f0df0-584a-4ff6-ba1c-656d69a93fe8\" class=\"colab-df-container\">\n",
              "    <div>\n",
              "<style scoped>\n",
              "    .dataframe tbody tr th:only-of-type {\n",
              "        vertical-align: middle;\n",
              "    }\n",
              "\n",
              "    .dataframe tbody tr th {\n",
              "        vertical-align: top;\n",
              "    }\n",
              "\n",
              "    .dataframe thead th {\n",
              "        text-align: right;\n",
              "    }\n",
              "</style>\n",
              "<table border=\"1\" class=\"dataframe\">\n",
              "  <thead>\n",
              "    <tr style=\"text-align: right;\">\n",
              "      <th></th>\n",
              "      <th>Age</th>\n",
              "      <th>DailyRate</th>\n",
              "      <th>DistanceFromHome</th>\n",
              "      <th>Education</th>\n",
              "      <th>EmployeeCount</th>\n",
              "      <th>EmployeeNumber</th>\n",
              "      <th>EnvironmentSatisfaction</th>\n",
              "      <th>HourlyRate</th>\n",
              "      <th>JobInvolvement</th>\n",
              "      <th>JobLevel</th>\n",
              "      <th>...</th>\n",
              "      <th>RelationshipSatisfaction</th>\n",
              "      <th>StandardHours</th>\n",
              "      <th>StockOptionLevel</th>\n",
              "      <th>TotalWorkingYears</th>\n",
              "      <th>TrainingTimesLastYear</th>\n",
              "      <th>WorkLifeBalance</th>\n",
              "      <th>YearsAtCompany</th>\n",
              "      <th>YearsInCurrentRole</th>\n",
              "      <th>YearsSinceLastPromotion</th>\n",
              "      <th>YearsWithCurrManager</th>\n",
              "    </tr>\n",
              "  </thead>\n",
              "  <tbody>\n",
              "    <tr>\n",
              "      <th>count</th>\n",
              "      <td>1470.000000</td>\n",
              "      <td>1470.000000</td>\n",
              "      <td>1470.000000</td>\n",
              "      <td>1470.000000</td>\n",
              "      <td>1470.0</td>\n",
              "      <td>1470.000000</td>\n",
              "      <td>1470.000000</td>\n",
              "      <td>1470.000000</td>\n",
              "      <td>1470.000000</td>\n",
              "      <td>1470.000000</td>\n",
              "      <td>...</td>\n",
              "      <td>1470.000000</td>\n",
              "      <td>1470.0</td>\n",
              "      <td>1470.000000</td>\n",
              "      <td>1470.000000</td>\n",
              "      <td>1470.000000</td>\n",
              "      <td>1470.000000</td>\n",
              "      <td>1470.000000</td>\n",
              "      <td>1470.000000</td>\n",
              "      <td>1470.000000</td>\n",
              "      <td>1470.000000</td>\n",
              "    </tr>\n",
              "    <tr>\n",
              "      <th>mean</th>\n",
              "      <td>36.923810</td>\n",
              "      <td>802.485714</td>\n",
              "      <td>9.192517</td>\n",
              "      <td>2.912925</td>\n",
              "      <td>1.0</td>\n",
              "      <td>1024.865306</td>\n",
              "      <td>2.721769</td>\n",
              "      <td>65.891156</td>\n",
              "      <td>2.729932</td>\n",
              "      <td>2.063946</td>\n",
              "      <td>...</td>\n",
              "      <td>2.712245</td>\n",
              "      <td>80.0</td>\n",
              "      <td>0.793878</td>\n",
              "      <td>11.279592</td>\n",
              "      <td>2.799320</td>\n",
              "      <td>2.761224</td>\n",
              "      <td>7.008163</td>\n",
              "      <td>4.229252</td>\n",
              "      <td>2.187755</td>\n",
              "      <td>4.123129</td>\n",
              "    </tr>\n",
              "    <tr>\n",
              "      <th>std</th>\n",
              "      <td>9.135373</td>\n",
              "      <td>403.509100</td>\n",
              "      <td>8.106864</td>\n",
              "      <td>1.024165</td>\n",
              "      <td>0.0</td>\n",
              "      <td>602.024335</td>\n",
              "      <td>1.093082</td>\n",
              "      <td>20.329428</td>\n",
              "      <td>0.711561</td>\n",
              "      <td>1.106940</td>\n",
              "      <td>...</td>\n",
              "      <td>1.081209</td>\n",
              "      <td>0.0</td>\n",
              "      <td>0.852077</td>\n",
              "      <td>7.780782</td>\n",
              "      <td>1.289271</td>\n",
              "      <td>0.706476</td>\n",
              "      <td>6.126525</td>\n",
              "      <td>3.623137</td>\n",
              "      <td>3.222430</td>\n",
              "      <td>3.568136</td>\n",
              "    </tr>\n",
              "    <tr>\n",
              "      <th>min</th>\n",
              "      <td>18.000000</td>\n",
              "      <td>102.000000</td>\n",
              "      <td>1.000000</td>\n",
              "      <td>1.000000</td>\n",
              "      <td>1.0</td>\n",
              "      <td>1.000000</td>\n",
              "      <td>1.000000</td>\n",
              "      <td>30.000000</td>\n",
              "      <td>1.000000</td>\n",
              "      <td>1.000000</td>\n",
              "      <td>...</td>\n",
              "      <td>1.000000</td>\n",
              "      <td>80.0</td>\n",
              "      <td>0.000000</td>\n",
              "      <td>0.000000</td>\n",
              "      <td>0.000000</td>\n",
              "      <td>1.000000</td>\n",
              "      <td>0.000000</td>\n",
              "      <td>0.000000</td>\n",
              "      <td>0.000000</td>\n",
              "      <td>0.000000</td>\n",
              "    </tr>\n",
              "    <tr>\n",
              "      <th>25%</th>\n",
              "      <td>30.000000</td>\n",
              "      <td>465.000000</td>\n",
              "      <td>2.000000</td>\n",
              "      <td>2.000000</td>\n",
              "      <td>1.0</td>\n",
              "      <td>491.250000</td>\n",
              "      <td>2.000000</td>\n",
              "      <td>48.000000</td>\n",
              "      <td>2.000000</td>\n",
              "      <td>1.000000</td>\n",
              "      <td>...</td>\n",
              "      <td>2.000000</td>\n",
              "      <td>80.0</td>\n",
              "      <td>0.000000</td>\n",
              "      <td>6.000000</td>\n",
              "      <td>2.000000</td>\n",
              "      <td>2.000000</td>\n",
              "      <td>3.000000</td>\n",
              "      <td>2.000000</td>\n",
              "      <td>0.000000</td>\n",
              "      <td>2.000000</td>\n",
              "    </tr>\n",
              "    <tr>\n",
              "      <th>50%</th>\n",
              "      <td>36.000000</td>\n",
              "      <td>802.000000</td>\n",
              "      <td>7.000000</td>\n",
              "      <td>3.000000</td>\n",
              "      <td>1.0</td>\n",
              "      <td>1020.500000</td>\n",
              "      <td>3.000000</td>\n",
              "      <td>66.000000</td>\n",
              "      <td>3.000000</td>\n",
              "      <td>2.000000</td>\n",
              "      <td>...</td>\n",
              "      <td>3.000000</td>\n",
              "      <td>80.0</td>\n",
              "      <td>1.000000</td>\n",
              "      <td>10.000000</td>\n",
              "      <td>3.000000</td>\n",
              "      <td>3.000000</td>\n",
              "      <td>5.000000</td>\n",
              "      <td>3.000000</td>\n",
              "      <td>1.000000</td>\n",
              "      <td>3.000000</td>\n",
              "    </tr>\n",
              "    <tr>\n",
              "      <th>75%</th>\n",
              "      <td>43.000000</td>\n",
              "      <td>1157.000000</td>\n",
              "      <td>14.000000</td>\n",
              "      <td>4.000000</td>\n",
              "      <td>1.0</td>\n",
              "      <td>1555.750000</td>\n",
              "      <td>4.000000</td>\n",
              "      <td>83.750000</td>\n",
              "      <td>3.000000</td>\n",
              "      <td>3.000000</td>\n",
              "      <td>...</td>\n",
              "      <td>4.000000</td>\n",
              "      <td>80.0</td>\n",
              "      <td>1.000000</td>\n",
              "      <td>15.000000</td>\n",
              "      <td>3.000000</td>\n",
              "      <td>3.000000</td>\n",
              "      <td>9.000000</td>\n",
              "      <td>7.000000</td>\n",
              "      <td>3.000000</td>\n",
              "      <td>7.000000</td>\n",
              "    </tr>\n",
              "    <tr>\n",
              "      <th>max</th>\n",
              "      <td>60.000000</td>\n",
              "      <td>1499.000000</td>\n",
              "      <td>29.000000</td>\n",
              "      <td>5.000000</td>\n",
              "      <td>1.0</td>\n",
              "      <td>2068.000000</td>\n",
              "      <td>4.000000</td>\n",
              "      <td>100.000000</td>\n",
              "      <td>4.000000</td>\n",
              "      <td>5.000000</td>\n",
              "      <td>...</td>\n",
              "      <td>4.000000</td>\n",
              "      <td>80.0</td>\n",
              "      <td>3.000000</td>\n",
              "      <td>40.000000</td>\n",
              "      <td>6.000000</td>\n",
              "      <td>4.000000</td>\n",
              "      <td>40.000000</td>\n",
              "      <td>18.000000</td>\n",
              "      <td>15.000000</td>\n",
              "      <td>17.000000</td>\n",
              "    </tr>\n",
              "  </tbody>\n",
              "</table>\n",
              "<p>8 rows × 26 columns</p>\n",
              "</div>\n",
              "    <div class=\"colab-df-buttons\">\n",
              "\n",
              "  <div class=\"colab-df-container\">\n",
              "    <button class=\"colab-df-convert\" onclick=\"convertToInteractive('df-8d3f0df0-584a-4ff6-ba1c-656d69a93fe8')\"\n",
              "            title=\"Convert this dataframe to an interactive table.\"\n",
              "            style=\"display:none;\">\n",
              "\n",
              "  <svg xmlns=\"http://www.w3.org/2000/svg\" height=\"24px\" viewBox=\"0 -960 960 960\">\n",
              "    <path d=\"M120-120v-720h720v720H120Zm60-500h600v-160H180v160Zm220 220h160v-160H400v160Zm0 220h160v-160H400v160ZM180-400h160v-160H180v160Zm440 0h160v-160H620v160ZM180-180h160v-160H180v160Zm440 0h160v-160H620v160Z\"/>\n",
              "  </svg>\n",
              "    </button>\n",
              "\n",
              "  <style>\n",
              "    .colab-df-container {\n",
              "      display:flex;\n",
              "      gap: 12px;\n",
              "    }\n",
              "\n",
              "    .colab-df-convert {\n",
              "      background-color: #E8F0FE;\n",
              "      border: none;\n",
              "      border-radius: 50%;\n",
              "      cursor: pointer;\n",
              "      display: none;\n",
              "      fill: #1967D2;\n",
              "      height: 32px;\n",
              "      padding: 0 0 0 0;\n",
              "      width: 32px;\n",
              "    }\n",
              "\n",
              "    .colab-df-convert:hover {\n",
              "      background-color: #E2EBFA;\n",
              "      box-shadow: 0px 1px 2px rgba(60, 64, 67, 0.3), 0px 1px 3px 1px rgba(60, 64, 67, 0.15);\n",
              "      fill: #174EA6;\n",
              "    }\n",
              "\n",
              "    .colab-df-buttons div {\n",
              "      margin-bottom: 4px;\n",
              "    }\n",
              "\n",
              "    [theme=dark] .colab-df-convert {\n",
              "      background-color: #3B4455;\n",
              "      fill: #D2E3FC;\n",
              "    }\n",
              "\n",
              "    [theme=dark] .colab-df-convert:hover {\n",
              "      background-color: #434B5C;\n",
              "      box-shadow: 0px 1px 3px 1px rgba(0, 0, 0, 0.15);\n",
              "      filter: drop-shadow(0px 1px 2px rgba(0, 0, 0, 0.3));\n",
              "      fill: #FFFFFF;\n",
              "    }\n",
              "  </style>\n",
              "\n",
              "    <script>\n",
              "      const buttonEl =\n",
              "        document.querySelector('#df-8d3f0df0-584a-4ff6-ba1c-656d69a93fe8 button.colab-df-convert');\n",
              "      buttonEl.style.display =\n",
              "        google.colab.kernel.accessAllowed ? 'block' : 'none';\n",
              "\n",
              "      async function convertToInteractive(key) {\n",
              "        const element = document.querySelector('#df-8d3f0df0-584a-4ff6-ba1c-656d69a93fe8');\n",
              "        const dataTable =\n",
              "          await google.colab.kernel.invokeFunction('convertToInteractive',\n",
              "                                                    [key], {});\n",
              "        if (!dataTable) return;\n",
              "\n",
              "        const docLinkHtml = 'Like what you see? Visit the ' +\n",
              "          '<a target=\"_blank\" href=https://colab.research.google.com/notebooks/data_table.ipynb>data table notebook</a>'\n",
              "          + ' to learn more about interactive tables.';\n",
              "        element.innerHTML = '';\n",
              "        dataTable['output_type'] = 'display_data';\n",
              "        await google.colab.output.renderOutput(dataTable, element);\n",
              "        const docLink = document.createElement('div');\n",
              "        docLink.innerHTML = docLinkHtml;\n",
              "        element.appendChild(docLink);\n",
              "      }\n",
              "    </script>\n",
              "  </div>\n",
              "\n",
              "\n",
              "<div id=\"df-03f0a81d-2030-487e-8733-e2bcae96ad93\">\n",
              "  <button class=\"colab-df-quickchart\" onclick=\"quickchart('df-03f0a81d-2030-487e-8733-e2bcae96ad93')\"\n",
              "            title=\"Suggest charts\"\n",
              "            style=\"display:none;\">\n",
              "\n",
              "<svg xmlns=\"http://www.w3.org/2000/svg\" height=\"24px\"viewBox=\"0 0 24 24\"\n",
              "     width=\"24px\">\n",
              "    <g>\n",
              "        <path d=\"M19 3H5c-1.1 0-2 .9-2 2v14c0 1.1.9 2 2 2h14c1.1 0 2-.9 2-2V5c0-1.1-.9-2-2-2zM9 17H7v-7h2v7zm4 0h-2V7h2v10zm4 0h-2v-4h2v4z\"/>\n",
              "    </g>\n",
              "</svg>\n",
              "  </button>\n",
              "\n",
              "<style>\n",
              "  .colab-df-quickchart {\n",
              "      --bg-color: #E8F0FE;\n",
              "      --fill-color: #1967D2;\n",
              "      --hover-bg-color: #E2EBFA;\n",
              "      --hover-fill-color: #174EA6;\n",
              "      --disabled-fill-color: #AAA;\n",
              "      --disabled-bg-color: #DDD;\n",
              "  }\n",
              "\n",
              "  [theme=dark] .colab-df-quickchart {\n",
              "      --bg-color: #3B4455;\n",
              "      --fill-color: #D2E3FC;\n",
              "      --hover-bg-color: #434B5C;\n",
              "      --hover-fill-color: #FFFFFF;\n",
              "      --disabled-bg-color: #3B4455;\n",
              "      --disabled-fill-color: #666;\n",
              "  }\n",
              "\n",
              "  .colab-df-quickchart {\n",
              "    background-color: var(--bg-color);\n",
              "    border: none;\n",
              "    border-radius: 50%;\n",
              "    cursor: pointer;\n",
              "    display: none;\n",
              "    fill: var(--fill-color);\n",
              "    height: 32px;\n",
              "    padding: 0;\n",
              "    width: 32px;\n",
              "  }\n",
              "\n",
              "  .colab-df-quickchart:hover {\n",
              "    background-color: var(--hover-bg-color);\n",
              "    box-shadow: 0 1px 2px rgba(60, 64, 67, 0.3), 0 1px 3px 1px rgba(60, 64, 67, 0.15);\n",
              "    fill: var(--button-hover-fill-color);\n",
              "  }\n",
              "\n",
              "  .colab-df-quickchart-complete:disabled,\n",
              "  .colab-df-quickchart-complete:disabled:hover {\n",
              "    background-color: var(--disabled-bg-color);\n",
              "    fill: var(--disabled-fill-color);\n",
              "    box-shadow: none;\n",
              "  }\n",
              "\n",
              "  .colab-df-spinner {\n",
              "    border: 2px solid var(--fill-color);\n",
              "    border-color: transparent;\n",
              "    border-bottom-color: var(--fill-color);\n",
              "    animation:\n",
              "      spin 1s steps(1) infinite;\n",
              "  }\n",
              "\n",
              "  @keyframes spin {\n",
              "    0% {\n",
              "      border-color: transparent;\n",
              "      border-bottom-color: var(--fill-color);\n",
              "      border-left-color: var(--fill-color);\n",
              "    }\n",
              "    20% {\n",
              "      border-color: transparent;\n",
              "      border-left-color: var(--fill-color);\n",
              "      border-top-color: var(--fill-color);\n",
              "    }\n",
              "    30% {\n",
              "      border-color: transparent;\n",
              "      border-left-color: var(--fill-color);\n",
              "      border-top-color: var(--fill-color);\n",
              "      border-right-color: var(--fill-color);\n",
              "    }\n",
              "    40% {\n",
              "      border-color: transparent;\n",
              "      border-right-color: var(--fill-color);\n",
              "      border-top-color: var(--fill-color);\n",
              "    }\n",
              "    60% {\n",
              "      border-color: transparent;\n",
              "      border-right-color: var(--fill-color);\n",
              "    }\n",
              "    80% {\n",
              "      border-color: transparent;\n",
              "      border-right-color: var(--fill-color);\n",
              "      border-bottom-color: var(--fill-color);\n",
              "    }\n",
              "    90% {\n",
              "      border-color: transparent;\n",
              "      border-bottom-color: var(--fill-color);\n",
              "    }\n",
              "  }\n",
              "</style>\n",
              "\n",
              "  <script>\n",
              "    async function quickchart(key) {\n",
              "      const quickchartButtonEl =\n",
              "        document.querySelector('#' + key + ' button');\n",
              "      quickchartButtonEl.disabled = true;  // To prevent multiple clicks.\n",
              "      quickchartButtonEl.classList.add('colab-df-spinner');\n",
              "      try {\n",
              "        const charts = await google.colab.kernel.invokeFunction(\n",
              "            'suggestCharts', [key], {});\n",
              "      } catch (error) {\n",
              "        console.error('Error during call to suggestCharts:', error);\n",
              "      }\n",
              "      quickchartButtonEl.classList.remove('colab-df-spinner');\n",
              "      quickchartButtonEl.classList.add('colab-df-quickchart-complete');\n",
              "    }\n",
              "    (() => {\n",
              "      let quickchartButtonEl =\n",
              "        document.querySelector('#df-03f0a81d-2030-487e-8733-e2bcae96ad93 button');\n",
              "      quickchartButtonEl.style.display =\n",
              "        google.colab.kernel.accessAllowed ? 'block' : 'none';\n",
              "    })();\n",
              "  </script>\n",
              "</div>\n",
              "    </div>\n",
              "  </div>\n"
            ]
          },
          "metadata": {},
          "execution_count": 6
        }
      ]
    },
    {
      "cell_type": "markdown",
      "source": [
        "###3.2   Data Preparation\n"
      ],
      "metadata": {
        "id": "qeGB1IUarra6"
      }
    },
    {
      "cell_type": "markdown",
      "source": [
        "#####3.2.1 Mapping - review of variables"
      ],
      "metadata": {
        "id": "eu07AOQf00b9"
      }
    },
    {
      "cell_type": "markdown",
      "source": [
        "Identify the type of variables and attributes depending on the properties"
      ],
      "metadata": {
        "id": "DZ99f2Gb1BnW"
      }
    },
    {
      "cell_type": "code",
      "source": [
        "df.info()"
      ],
      "metadata": {
        "colab": {
          "base_uri": "https://localhost:8080/"
        },
        "id": "LEn-3C-eurIU",
        "outputId": "342817fe-f6fd-4d00-8d0c-27962071070d"
      },
      "execution_count": null,
      "outputs": [
        {
          "output_type": "stream",
          "name": "stdout",
          "text": [
            "<class 'pandas.core.frame.DataFrame'>\n",
            "RangeIndex: 1470 entries, 0 to 1469\n",
            "Data columns (total 35 columns):\n",
            " #   Column                    Non-Null Count  Dtype \n",
            "---  ------                    --------------  ----- \n",
            " 0   Age                       1470 non-null   int64 \n",
            " 1   Attrition                 1470 non-null   object\n",
            " 2   BusinessTravel            1470 non-null   object\n",
            " 3   DailyRate                 1470 non-null   int64 \n",
            " 4   Department                1470 non-null   object\n",
            " 5   DistanceFromHome          1470 non-null   int64 \n",
            " 6   Education                 1470 non-null   int64 \n",
            " 7   EducationField            1470 non-null   object\n",
            " 8   EmployeeCount             1470 non-null   int64 \n",
            " 9   EmployeeNumber            1470 non-null   int64 \n",
            " 10  EnvironmentSatisfaction   1470 non-null   int64 \n",
            " 11  Gender                    1470 non-null   object\n",
            " 12  HourlyRate                1470 non-null   int64 \n",
            " 13  JobInvolvement            1470 non-null   int64 \n",
            " 14  JobLevel                  1470 non-null   int64 \n",
            " 15  JobRole                   1470 non-null   object\n",
            " 16  JobSatisfaction           1470 non-null   int64 \n",
            " 17  MaritalStatus             1470 non-null   object\n",
            " 18  MonthlyIncome             1470 non-null   int64 \n",
            " 19  MonthlyRate               1470 non-null   int64 \n",
            " 20  NumCompaniesWorked        1470 non-null   int64 \n",
            " 21  Over18                    1470 non-null   object\n",
            " 22  OverTime                  1470 non-null   object\n",
            " 23  PercentSalaryHike         1470 non-null   int64 \n",
            " 24  PerformanceRating         1470 non-null   int64 \n",
            " 25  RelationshipSatisfaction  1470 non-null   int64 \n",
            " 26  StandardHours             1470 non-null   int64 \n",
            " 27  StockOptionLevel          1470 non-null   int64 \n",
            " 28  TotalWorkingYears         1470 non-null   int64 \n",
            " 29  TrainingTimesLastYear     1470 non-null   int64 \n",
            " 30  WorkLifeBalance           1470 non-null   int64 \n",
            " 31  YearsAtCompany            1470 non-null   int64 \n",
            " 32  YearsInCurrentRole        1470 non-null   int64 \n",
            " 33  YearsSinceLastPromotion   1470 non-null   int64 \n",
            " 34  YearsWithCurrManager      1470 non-null   int64 \n",
            "dtypes: int64(26), object(9)\n",
            "memory usage: 402.1+ KB\n"
          ]
        }
      ]
    },
    {
      "cell_type": "markdown",
      "source": [
        "Filtering the Dtype \"object\" variables\n",
        "\n",
        "Source:\n",
        "\n",
        "*   pandas.DataFrame.select_dtypes, https://pandas.pydata.org/pandas-docs/stable/reference/api/pandas.DataFrame.select_dtypes.html"
      ],
      "metadata": {
        "id": "nGBERbRgvowd"
      }
    },
    {
      "cell_type": "code",
      "source": [
        "#Selecting those variables with Dtype as \"object\"\n",
        "\n",
        "df.select_dtypes(include=['object']).info()"
      ],
      "metadata": {
        "colab": {
          "base_uri": "https://localhost:8080/"
        },
        "id": "ccwiY_vOvkoS",
        "outputId": "f4837702-00bf-4535-c19e-a54227a3696e"
      },
      "execution_count": null,
      "outputs": [
        {
          "output_type": "stream",
          "name": "stdout",
          "text": [
            "<class 'pandas.core.frame.DataFrame'>\n",
            "RangeIndex: 1470 entries, 0 to 1469\n",
            "Data columns (total 9 columns):\n",
            " #   Column          Non-Null Count  Dtype \n",
            "---  ------          --------------  ----- \n",
            " 0   Attrition       1470 non-null   object\n",
            " 1   BusinessTravel  1470 non-null   object\n",
            " 2   Department      1470 non-null   object\n",
            " 3   EducationField  1470 non-null   object\n",
            " 4   Gender          1470 non-null   object\n",
            " 5   JobRole         1470 non-null   object\n",
            " 6   MaritalStatus   1470 non-null   object\n",
            " 7   Over18          1470 non-null   object\n",
            " 8   OverTime        1470 non-null   object\n",
            "dtypes: object(9)\n",
            "memory usage: 103.5+ KB\n"
          ]
        }
      ]
    },
    {
      "cell_type": "markdown",
      "source": [
        "These 9 variables, should be preprocessed before running our models. It is important to identify their properties and type of attributes.\n",
        "\n",
        "Considering our interest variables (WorkLifeBalance, JobSatisfaction), it is important to identify if those 9 variables has an impact on them and determine if an scale is nedded or random assignment could be carried out\n",
        "\n",
        "\n",
        "\n",
        "\n",
        "\n"
      ],
      "metadata": {
        "id": "mwCZaoiTxpWD"
      }
    },
    {
      "cell_type": "markdown",
      "source": [
        "######3.2.1.1 Two output variables\n",
        "Variables: Attrition, Gender, Over18, OverTime will be reviewed"
      ],
      "metadata": {
        "id": "l_ElLNvU8mAP"
      }
    },
    {
      "cell_type": "markdown",
      "source": [
        "######3.2.1.1.a JobSatisfaction"
      ],
      "metadata": {
        "id": "-4tQ4M979ShT"
      }
    },
    {
      "cell_type": "code",
      "source": [
        "pd.crosstab(df['Attrition'], df['JobSatisfaction'])"
      ],
      "metadata": {
        "colab": {
          "base_uri": "https://localhost:8080/"
        },
        "id": "KQH7N7MS9Vrq",
        "outputId": "47b3b009-48f1-464b-98c5-eb2ba862ad33"
      },
      "execution_count": null,
      "outputs": [
        {
          "output_type": "execute_result",
          "data": {
            "text/plain": [
              "JobSatisfaction    1    2    3    4\n",
              "Attrition                          \n",
              "No               223  234  369  407\n",
              "Yes               66   46   73   52"
            ],
            "text/html": [
              "\n",
              "  <div id=\"df-e6b4a3c7-5811-40ac-b876-a226d3388911\" class=\"colab-df-container\">\n",
              "    <div>\n",
              "<style scoped>\n",
              "    .dataframe tbody tr th:only-of-type {\n",
              "        vertical-align: middle;\n",
              "    }\n",
              "\n",
              "    .dataframe tbody tr th {\n",
              "        vertical-align: top;\n",
              "    }\n",
              "\n",
              "    .dataframe thead th {\n",
              "        text-align: right;\n",
              "    }\n",
              "</style>\n",
              "<table border=\"1\" class=\"dataframe\">\n",
              "  <thead>\n",
              "    <tr style=\"text-align: right;\">\n",
              "      <th>JobSatisfaction</th>\n",
              "      <th>1</th>\n",
              "      <th>2</th>\n",
              "      <th>3</th>\n",
              "      <th>4</th>\n",
              "    </tr>\n",
              "    <tr>\n",
              "      <th>Attrition</th>\n",
              "      <th></th>\n",
              "      <th></th>\n",
              "      <th></th>\n",
              "      <th></th>\n",
              "    </tr>\n",
              "  </thead>\n",
              "  <tbody>\n",
              "    <tr>\n",
              "      <th>No</th>\n",
              "      <td>223</td>\n",
              "      <td>234</td>\n",
              "      <td>369</td>\n",
              "      <td>407</td>\n",
              "    </tr>\n",
              "    <tr>\n",
              "      <th>Yes</th>\n",
              "      <td>66</td>\n",
              "      <td>46</td>\n",
              "      <td>73</td>\n",
              "      <td>52</td>\n",
              "    </tr>\n",
              "  </tbody>\n",
              "</table>\n",
              "</div>\n",
              "    <div class=\"colab-df-buttons\">\n",
              "\n",
              "  <div class=\"colab-df-container\">\n",
              "    <button class=\"colab-df-convert\" onclick=\"convertToInteractive('df-e6b4a3c7-5811-40ac-b876-a226d3388911')\"\n",
              "            title=\"Convert this dataframe to an interactive table.\"\n",
              "            style=\"display:none;\">\n",
              "\n",
              "  <svg xmlns=\"http://www.w3.org/2000/svg\" height=\"24px\" viewBox=\"0 -960 960 960\">\n",
              "    <path d=\"M120-120v-720h720v720H120Zm60-500h600v-160H180v160Zm220 220h160v-160H400v160Zm0 220h160v-160H400v160ZM180-400h160v-160H180v160Zm440 0h160v-160H620v160ZM180-180h160v-160H180v160Zm440 0h160v-160H620v160Z\"/>\n",
              "  </svg>\n",
              "    </button>\n",
              "\n",
              "  <style>\n",
              "    .colab-df-container {\n",
              "      display:flex;\n",
              "      gap: 12px;\n",
              "    }\n",
              "\n",
              "    .colab-df-convert {\n",
              "      background-color: #E8F0FE;\n",
              "      border: none;\n",
              "      border-radius: 50%;\n",
              "      cursor: pointer;\n",
              "      display: none;\n",
              "      fill: #1967D2;\n",
              "      height: 32px;\n",
              "      padding: 0 0 0 0;\n",
              "      width: 32px;\n",
              "    }\n",
              "\n",
              "    .colab-df-convert:hover {\n",
              "      background-color: #E2EBFA;\n",
              "      box-shadow: 0px 1px 2px rgba(60, 64, 67, 0.3), 0px 1px 3px 1px rgba(60, 64, 67, 0.15);\n",
              "      fill: #174EA6;\n",
              "    }\n",
              "\n",
              "    .colab-df-buttons div {\n",
              "      margin-bottom: 4px;\n",
              "    }\n",
              "\n",
              "    [theme=dark] .colab-df-convert {\n",
              "      background-color: #3B4455;\n",
              "      fill: #D2E3FC;\n",
              "    }\n",
              "\n",
              "    [theme=dark] .colab-df-convert:hover {\n",
              "      background-color: #434B5C;\n",
              "      box-shadow: 0px 1px 3px 1px rgba(0, 0, 0, 0.15);\n",
              "      filter: drop-shadow(0px 1px 2px rgba(0, 0, 0, 0.3));\n",
              "      fill: #FFFFFF;\n",
              "    }\n",
              "  </style>\n",
              "\n",
              "    <script>\n",
              "      const buttonEl =\n",
              "        document.querySelector('#df-e6b4a3c7-5811-40ac-b876-a226d3388911 button.colab-df-convert');\n",
              "      buttonEl.style.display =\n",
              "        google.colab.kernel.accessAllowed ? 'block' : 'none';\n",
              "\n",
              "      async function convertToInteractive(key) {\n",
              "        const element = document.querySelector('#df-e6b4a3c7-5811-40ac-b876-a226d3388911');\n",
              "        const dataTable =\n",
              "          await google.colab.kernel.invokeFunction('convertToInteractive',\n",
              "                                                    [key], {});\n",
              "        if (!dataTable) return;\n",
              "\n",
              "        const docLinkHtml = 'Like what you see? Visit the ' +\n",
              "          '<a target=\"_blank\" href=https://colab.research.google.com/notebooks/data_table.ipynb>data table notebook</a>'\n",
              "          + ' to learn more about interactive tables.';\n",
              "        element.innerHTML = '';\n",
              "        dataTable['output_type'] = 'display_data';\n",
              "        await google.colab.output.renderOutput(dataTable, element);\n",
              "        const docLink = document.createElement('div');\n",
              "        docLink.innerHTML = docLinkHtml;\n",
              "        element.appendChild(docLink);\n",
              "      }\n",
              "    </script>\n",
              "  </div>\n",
              "\n",
              "\n",
              "<div id=\"df-41070b42-4529-4323-abc2-18ed0a148572\">\n",
              "  <button class=\"colab-df-quickchart\" onclick=\"quickchart('df-41070b42-4529-4323-abc2-18ed0a148572')\"\n",
              "            title=\"Suggest charts\"\n",
              "            style=\"display:none;\">\n",
              "\n",
              "<svg xmlns=\"http://www.w3.org/2000/svg\" height=\"24px\"viewBox=\"0 0 24 24\"\n",
              "     width=\"24px\">\n",
              "    <g>\n",
              "        <path d=\"M19 3H5c-1.1 0-2 .9-2 2v14c0 1.1.9 2 2 2h14c1.1 0 2-.9 2-2V5c0-1.1-.9-2-2-2zM9 17H7v-7h2v7zm4 0h-2V7h2v10zm4 0h-2v-4h2v4z\"/>\n",
              "    </g>\n",
              "</svg>\n",
              "  </button>\n",
              "\n",
              "<style>\n",
              "  .colab-df-quickchart {\n",
              "      --bg-color: #E8F0FE;\n",
              "      --fill-color: #1967D2;\n",
              "      --hover-bg-color: #E2EBFA;\n",
              "      --hover-fill-color: #174EA6;\n",
              "      --disabled-fill-color: #AAA;\n",
              "      --disabled-bg-color: #DDD;\n",
              "  }\n",
              "\n",
              "  [theme=dark] .colab-df-quickchart {\n",
              "      --bg-color: #3B4455;\n",
              "      --fill-color: #D2E3FC;\n",
              "      --hover-bg-color: #434B5C;\n",
              "      --hover-fill-color: #FFFFFF;\n",
              "      --disabled-bg-color: #3B4455;\n",
              "      --disabled-fill-color: #666;\n",
              "  }\n",
              "\n",
              "  .colab-df-quickchart {\n",
              "    background-color: var(--bg-color);\n",
              "    border: none;\n",
              "    border-radius: 50%;\n",
              "    cursor: pointer;\n",
              "    display: none;\n",
              "    fill: var(--fill-color);\n",
              "    height: 32px;\n",
              "    padding: 0;\n",
              "    width: 32px;\n",
              "  }\n",
              "\n",
              "  .colab-df-quickchart:hover {\n",
              "    background-color: var(--hover-bg-color);\n",
              "    box-shadow: 0 1px 2px rgba(60, 64, 67, 0.3), 0 1px 3px 1px rgba(60, 64, 67, 0.15);\n",
              "    fill: var(--button-hover-fill-color);\n",
              "  }\n",
              "\n",
              "  .colab-df-quickchart-complete:disabled,\n",
              "  .colab-df-quickchart-complete:disabled:hover {\n",
              "    background-color: var(--disabled-bg-color);\n",
              "    fill: var(--disabled-fill-color);\n",
              "    box-shadow: none;\n",
              "  }\n",
              "\n",
              "  .colab-df-spinner {\n",
              "    border: 2px solid var(--fill-color);\n",
              "    border-color: transparent;\n",
              "    border-bottom-color: var(--fill-color);\n",
              "    animation:\n",
              "      spin 1s steps(1) infinite;\n",
              "  }\n",
              "\n",
              "  @keyframes spin {\n",
              "    0% {\n",
              "      border-color: transparent;\n",
              "      border-bottom-color: var(--fill-color);\n",
              "      border-left-color: var(--fill-color);\n",
              "    }\n",
              "    20% {\n",
              "      border-color: transparent;\n",
              "      border-left-color: var(--fill-color);\n",
              "      border-top-color: var(--fill-color);\n",
              "    }\n",
              "    30% {\n",
              "      border-color: transparent;\n",
              "      border-left-color: var(--fill-color);\n",
              "      border-top-color: var(--fill-color);\n",
              "      border-right-color: var(--fill-color);\n",
              "    }\n",
              "    40% {\n",
              "      border-color: transparent;\n",
              "      border-right-color: var(--fill-color);\n",
              "      border-top-color: var(--fill-color);\n",
              "    }\n",
              "    60% {\n",
              "      border-color: transparent;\n",
              "      border-right-color: var(--fill-color);\n",
              "    }\n",
              "    80% {\n",
              "      border-color: transparent;\n",
              "      border-right-color: var(--fill-color);\n",
              "      border-bottom-color: var(--fill-color);\n",
              "    }\n",
              "    90% {\n",
              "      border-color: transparent;\n",
              "      border-bottom-color: var(--fill-color);\n",
              "    }\n",
              "  }\n",
              "</style>\n",
              "\n",
              "  <script>\n",
              "    async function quickchart(key) {\n",
              "      const quickchartButtonEl =\n",
              "        document.querySelector('#' + key + ' button');\n",
              "      quickchartButtonEl.disabled = true;  // To prevent multiple clicks.\n",
              "      quickchartButtonEl.classList.add('colab-df-spinner');\n",
              "      try {\n",
              "        const charts = await google.colab.kernel.invokeFunction(\n",
              "            'suggestCharts', [key], {});\n",
              "      } catch (error) {\n",
              "        console.error('Error during call to suggestCharts:', error);\n",
              "      }\n",
              "      quickchartButtonEl.classList.remove('colab-df-spinner');\n",
              "      quickchartButtonEl.classList.add('colab-df-quickchart-complete');\n",
              "    }\n",
              "    (() => {\n",
              "      let quickchartButtonEl =\n",
              "        document.querySelector('#df-41070b42-4529-4323-abc2-18ed0a148572 button');\n",
              "      quickchartButtonEl.style.display =\n",
              "        google.colab.kernel.accessAllowed ? 'block' : 'none';\n",
              "    })();\n",
              "  </script>\n",
              "</div>\n",
              "    </div>\n",
              "  </div>\n"
            ]
          },
          "metadata": {},
          "execution_count": 9
        }
      ]
    },
    {
      "cell_type": "code",
      "source": [
        "pd.crosstab(df['Gender'], df['JobSatisfaction'])"
      ],
      "metadata": {
        "colab": {
          "base_uri": "https://localhost:8080/"
        },
        "id": "XDVU9zv49Ue2",
        "outputId": "dcad771f-f89e-48ae-f915-67c385a52cc7"
      },
      "execution_count": null,
      "outputs": [
        {
          "output_type": "execute_result",
          "data": {
            "text/plain": [
              "JobSatisfaction    1    2    3    4\n",
              "Gender                             \n",
              "Female           119  118  181  170\n",
              "Male             170  162  261  289"
            ],
            "text/html": [
              "\n",
              "  <div id=\"df-ed88ce41-113e-4649-811e-62a0c629e743\" class=\"colab-df-container\">\n",
              "    <div>\n",
              "<style scoped>\n",
              "    .dataframe tbody tr th:only-of-type {\n",
              "        vertical-align: middle;\n",
              "    }\n",
              "\n",
              "    .dataframe tbody tr th {\n",
              "        vertical-align: top;\n",
              "    }\n",
              "\n",
              "    .dataframe thead th {\n",
              "        text-align: right;\n",
              "    }\n",
              "</style>\n",
              "<table border=\"1\" class=\"dataframe\">\n",
              "  <thead>\n",
              "    <tr style=\"text-align: right;\">\n",
              "      <th>JobSatisfaction</th>\n",
              "      <th>1</th>\n",
              "      <th>2</th>\n",
              "      <th>3</th>\n",
              "      <th>4</th>\n",
              "    </tr>\n",
              "    <tr>\n",
              "      <th>Gender</th>\n",
              "      <th></th>\n",
              "      <th></th>\n",
              "      <th></th>\n",
              "      <th></th>\n",
              "    </tr>\n",
              "  </thead>\n",
              "  <tbody>\n",
              "    <tr>\n",
              "      <th>Female</th>\n",
              "      <td>119</td>\n",
              "      <td>118</td>\n",
              "      <td>181</td>\n",
              "      <td>170</td>\n",
              "    </tr>\n",
              "    <tr>\n",
              "      <th>Male</th>\n",
              "      <td>170</td>\n",
              "      <td>162</td>\n",
              "      <td>261</td>\n",
              "      <td>289</td>\n",
              "    </tr>\n",
              "  </tbody>\n",
              "</table>\n",
              "</div>\n",
              "    <div class=\"colab-df-buttons\">\n",
              "\n",
              "  <div class=\"colab-df-container\">\n",
              "    <button class=\"colab-df-convert\" onclick=\"convertToInteractive('df-ed88ce41-113e-4649-811e-62a0c629e743')\"\n",
              "            title=\"Convert this dataframe to an interactive table.\"\n",
              "            style=\"display:none;\">\n",
              "\n",
              "  <svg xmlns=\"http://www.w3.org/2000/svg\" height=\"24px\" viewBox=\"0 -960 960 960\">\n",
              "    <path d=\"M120-120v-720h720v720H120Zm60-500h600v-160H180v160Zm220 220h160v-160H400v160Zm0 220h160v-160H400v160ZM180-400h160v-160H180v160Zm440 0h160v-160H620v160ZM180-180h160v-160H180v160Zm440 0h160v-160H620v160Z\"/>\n",
              "  </svg>\n",
              "    </button>\n",
              "\n",
              "  <style>\n",
              "    .colab-df-container {\n",
              "      display:flex;\n",
              "      gap: 12px;\n",
              "    }\n",
              "\n",
              "    .colab-df-convert {\n",
              "      background-color: #E8F0FE;\n",
              "      border: none;\n",
              "      border-radius: 50%;\n",
              "      cursor: pointer;\n",
              "      display: none;\n",
              "      fill: #1967D2;\n",
              "      height: 32px;\n",
              "      padding: 0 0 0 0;\n",
              "      width: 32px;\n",
              "    }\n",
              "\n",
              "    .colab-df-convert:hover {\n",
              "      background-color: #E2EBFA;\n",
              "      box-shadow: 0px 1px 2px rgba(60, 64, 67, 0.3), 0px 1px 3px 1px rgba(60, 64, 67, 0.15);\n",
              "      fill: #174EA6;\n",
              "    }\n",
              "\n",
              "    .colab-df-buttons div {\n",
              "      margin-bottom: 4px;\n",
              "    }\n",
              "\n",
              "    [theme=dark] .colab-df-convert {\n",
              "      background-color: #3B4455;\n",
              "      fill: #D2E3FC;\n",
              "    }\n",
              "\n",
              "    [theme=dark] .colab-df-convert:hover {\n",
              "      background-color: #434B5C;\n",
              "      box-shadow: 0px 1px 3px 1px rgba(0, 0, 0, 0.15);\n",
              "      filter: drop-shadow(0px 1px 2px rgba(0, 0, 0, 0.3));\n",
              "      fill: #FFFFFF;\n",
              "    }\n",
              "  </style>\n",
              "\n",
              "    <script>\n",
              "      const buttonEl =\n",
              "        document.querySelector('#df-ed88ce41-113e-4649-811e-62a0c629e743 button.colab-df-convert');\n",
              "      buttonEl.style.display =\n",
              "        google.colab.kernel.accessAllowed ? 'block' : 'none';\n",
              "\n",
              "      async function convertToInteractive(key) {\n",
              "        const element = document.querySelector('#df-ed88ce41-113e-4649-811e-62a0c629e743');\n",
              "        const dataTable =\n",
              "          await google.colab.kernel.invokeFunction('convertToInteractive',\n",
              "                                                    [key], {});\n",
              "        if (!dataTable) return;\n",
              "\n",
              "        const docLinkHtml = 'Like what you see? Visit the ' +\n",
              "          '<a target=\"_blank\" href=https://colab.research.google.com/notebooks/data_table.ipynb>data table notebook</a>'\n",
              "          + ' to learn more about interactive tables.';\n",
              "        element.innerHTML = '';\n",
              "        dataTable['output_type'] = 'display_data';\n",
              "        await google.colab.output.renderOutput(dataTable, element);\n",
              "        const docLink = document.createElement('div');\n",
              "        docLink.innerHTML = docLinkHtml;\n",
              "        element.appendChild(docLink);\n",
              "      }\n",
              "    </script>\n",
              "  </div>\n",
              "\n",
              "\n",
              "<div id=\"df-ca69433e-1eeb-4527-8aa8-10f20934217d\">\n",
              "  <button class=\"colab-df-quickchart\" onclick=\"quickchart('df-ca69433e-1eeb-4527-8aa8-10f20934217d')\"\n",
              "            title=\"Suggest charts\"\n",
              "            style=\"display:none;\">\n",
              "\n",
              "<svg xmlns=\"http://www.w3.org/2000/svg\" height=\"24px\"viewBox=\"0 0 24 24\"\n",
              "     width=\"24px\">\n",
              "    <g>\n",
              "        <path d=\"M19 3H5c-1.1 0-2 .9-2 2v14c0 1.1.9 2 2 2h14c1.1 0 2-.9 2-2V5c0-1.1-.9-2-2-2zM9 17H7v-7h2v7zm4 0h-2V7h2v10zm4 0h-2v-4h2v4z\"/>\n",
              "    </g>\n",
              "</svg>\n",
              "  </button>\n",
              "\n",
              "<style>\n",
              "  .colab-df-quickchart {\n",
              "      --bg-color: #E8F0FE;\n",
              "      --fill-color: #1967D2;\n",
              "      --hover-bg-color: #E2EBFA;\n",
              "      --hover-fill-color: #174EA6;\n",
              "      --disabled-fill-color: #AAA;\n",
              "      --disabled-bg-color: #DDD;\n",
              "  }\n",
              "\n",
              "  [theme=dark] .colab-df-quickchart {\n",
              "      --bg-color: #3B4455;\n",
              "      --fill-color: #D2E3FC;\n",
              "      --hover-bg-color: #434B5C;\n",
              "      --hover-fill-color: #FFFFFF;\n",
              "      --disabled-bg-color: #3B4455;\n",
              "      --disabled-fill-color: #666;\n",
              "  }\n",
              "\n",
              "  .colab-df-quickchart {\n",
              "    background-color: var(--bg-color);\n",
              "    border: none;\n",
              "    border-radius: 50%;\n",
              "    cursor: pointer;\n",
              "    display: none;\n",
              "    fill: var(--fill-color);\n",
              "    height: 32px;\n",
              "    padding: 0;\n",
              "    width: 32px;\n",
              "  }\n",
              "\n",
              "  .colab-df-quickchart:hover {\n",
              "    background-color: var(--hover-bg-color);\n",
              "    box-shadow: 0 1px 2px rgba(60, 64, 67, 0.3), 0 1px 3px 1px rgba(60, 64, 67, 0.15);\n",
              "    fill: var(--button-hover-fill-color);\n",
              "  }\n",
              "\n",
              "  .colab-df-quickchart-complete:disabled,\n",
              "  .colab-df-quickchart-complete:disabled:hover {\n",
              "    background-color: var(--disabled-bg-color);\n",
              "    fill: var(--disabled-fill-color);\n",
              "    box-shadow: none;\n",
              "  }\n",
              "\n",
              "  .colab-df-spinner {\n",
              "    border: 2px solid var(--fill-color);\n",
              "    border-color: transparent;\n",
              "    border-bottom-color: var(--fill-color);\n",
              "    animation:\n",
              "      spin 1s steps(1) infinite;\n",
              "  }\n",
              "\n",
              "  @keyframes spin {\n",
              "    0% {\n",
              "      border-color: transparent;\n",
              "      border-bottom-color: var(--fill-color);\n",
              "      border-left-color: var(--fill-color);\n",
              "    }\n",
              "    20% {\n",
              "      border-color: transparent;\n",
              "      border-left-color: var(--fill-color);\n",
              "      border-top-color: var(--fill-color);\n",
              "    }\n",
              "    30% {\n",
              "      border-color: transparent;\n",
              "      border-left-color: var(--fill-color);\n",
              "      border-top-color: var(--fill-color);\n",
              "      border-right-color: var(--fill-color);\n",
              "    }\n",
              "    40% {\n",
              "      border-color: transparent;\n",
              "      border-right-color: var(--fill-color);\n",
              "      border-top-color: var(--fill-color);\n",
              "    }\n",
              "    60% {\n",
              "      border-color: transparent;\n",
              "      border-right-color: var(--fill-color);\n",
              "    }\n",
              "    80% {\n",
              "      border-color: transparent;\n",
              "      border-right-color: var(--fill-color);\n",
              "      border-bottom-color: var(--fill-color);\n",
              "    }\n",
              "    90% {\n",
              "      border-color: transparent;\n",
              "      border-bottom-color: var(--fill-color);\n",
              "    }\n",
              "  }\n",
              "</style>\n",
              "\n",
              "  <script>\n",
              "    async function quickchart(key) {\n",
              "      const quickchartButtonEl =\n",
              "        document.querySelector('#' + key + ' button');\n",
              "      quickchartButtonEl.disabled = true;  // To prevent multiple clicks.\n",
              "      quickchartButtonEl.classList.add('colab-df-spinner');\n",
              "      try {\n",
              "        const charts = await google.colab.kernel.invokeFunction(\n",
              "            'suggestCharts', [key], {});\n",
              "      } catch (error) {\n",
              "        console.error('Error during call to suggestCharts:', error);\n",
              "      }\n",
              "      quickchartButtonEl.classList.remove('colab-df-spinner');\n",
              "      quickchartButtonEl.classList.add('colab-df-quickchart-complete');\n",
              "    }\n",
              "    (() => {\n",
              "      let quickchartButtonEl =\n",
              "        document.querySelector('#df-ca69433e-1eeb-4527-8aa8-10f20934217d button');\n",
              "      quickchartButtonEl.style.display =\n",
              "        google.colab.kernel.accessAllowed ? 'block' : 'none';\n",
              "    })();\n",
              "  </script>\n",
              "</div>\n",
              "    </div>\n",
              "  </div>\n"
            ]
          },
          "metadata": {},
          "execution_count": 10
        }
      ]
    },
    {
      "cell_type": "code",
      "source": [
        "pd.crosstab(df['Over18'], df['JobSatisfaction'])"
      ],
      "metadata": {
        "colab": {
          "base_uri": "https://localhost:8080/"
        },
        "id": "qzqn_jBp9TcT",
        "outputId": "864c0aed-a3b9-4b5a-dfdd-408fc4cb316b"
      },
      "execution_count": null,
      "outputs": [
        {
          "output_type": "execute_result",
          "data": {
            "text/plain": [
              "JobSatisfaction    1    2    3    4\n",
              "Over18                             \n",
              "Y                289  280  442  459"
            ],
            "text/html": [
              "\n",
              "  <div id=\"df-cf0770ca-0f5b-4f05-8380-7206a0b32d04\" class=\"colab-df-container\">\n",
              "    <div>\n",
              "<style scoped>\n",
              "    .dataframe tbody tr th:only-of-type {\n",
              "        vertical-align: middle;\n",
              "    }\n",
              "\n",
              "    .dataframe tbody tr th {\n",
              "        vertical-align: top;\n",
              "    }\n",
              "\n",
              "    .dataframe thead th {\n",
              "        text-align: right;\n",
              "    }\n",
              "</style>\n",
              "<table border=\"1\" class=\"dataframe\">\n",
              "  <thead>\n",
              "    <tr style=\"text-align: right;\">\n",
              "      <th>JobSatisfaction</th>\n",
              "      <th>1</th>\n",
              "      <th>2</th>\n",
              "      <th>3</th>\n",
              "      <th>4</th>\n",
              "    </tr>\n",
              "    <tr>\n",
              "      <th>Over18</th>\n",
              "      <th></th>\n",
              "      <th></th>\n",
              "      <th></th>\n",
              "      <th></th>\n",
              "    </tr>\n",
              "  </thead>\n",
              "  <tbody>\n",
              "    <tr>\n",
              "      <th>Y</th>\n",
              "      <td>289</td>\n",
              "      <td>280</td>\n",
              "      <td>442</td>\n",
              "      <td>459</td>\n",
              "    </tr>\n",
              "  </tbody>\n",
              "</table>\n",
              "</div>\n",
              "    <div class=\"colab-df-buttons\">\n",
              "\n",
              "  <div class=\"colab-df-container\">\n",
              "    <button class=\"colab-df-convert\" onclick=\"convertToInteractive('df-cf0770ca-0f5b-4f05-8380-7206a0b32d04')\"\n",
              "            title=\"Convert this dataframe to an interactive table.\"\n",
              "            style=\"display:none;\">\n",
              "\n",
              "  <svg xmlns=\"http://www.w3.org/2000/svg\" height=\"24px\" viewBox=\"0 -960 960 960\">\n",
              "    <path d=\"M120-120v-720h720v720H120Zm60-500h600v-160H180v160Zm220 220h160v-160H400v160Zm0 220h160v-160H400v160ZM180-400h160v-160H180v160Zm440 0h160v-160H620v160ZM180-180h160v-160H180v160Zm440 0h160v-160H620v160Z\"/>\n",
              "  </svg>\n",
              "    </button>\n",
              "\n",
              "  <style>\n",
              "    .colab-df-container {\n",
              "      display:flex;\n",
              "      gap: 12px;\n",
              "    }\n",
              "\n",
              "    .colab-df-convert {\n",
              "      background-color: #E8F0FE;\n",
              "      border: none;\n",
              "      border-radius: 50%;\n",
              "      cursor: pointer;\n",
              "      display: none;\n",
              "      fill: #1967D2;\n",
              "      height: 32px;\n",
              "      padding: 0 0 0 0;\n",
              "      width: 32px;\n",
              "    }\n",
              "\n",
              "    .colab-df-convert:hover {\n",
              "      background-color: #E2EBFA;\n",
              "      box-shadow: 0px 1px 2px rgba(60, 64, 67, 0.3), 0px 1px 3px 1px rgba(60, 64, 67, 0.15);\n",
              "      fill: #174EA6;\n",
              "    }\n",
              "\n",
              "    .colab-df-buttons div {\n",
              "      margin-bottom: 4px;\n",
              "    }\n",
              "\n",
              "    [theme=dark] .colab-df-convert {\n",
              "      background-color: #3B4455;\n",
              "      fill: #D2E3FC;\n",
              "    }\n",
              "\n",
              "    [theme=dark] .colab-df-convert:hover {\n",
              "      background-color: #434B5C;\n",
              "      box-shadow: 0px 1px 3px 1px rgba(0, 0, 0, 0.15);\n",
              "      filter: drop-shadow(0px 1px 2px rgba(0, 0, 0, 0.3));\n",
              "      fill: #FFFFFF;\n",
              "    }\n",
              "  </style>\n",
              "\n",
              "    <script>\n",
              "      const buttonEl =\n",
              "        document.querySelector('#df-cf0770ca-0f5b-4f05-8380-7206a0b32d04 button.colab-df-convert');\n",
              "      buttonEl.style.display =\n",
              "        google.colab.kernel.accessAllowed ? 'block' : 'none';\n",
              "\n",
              "      async function convertToInteractive(key) {\n",
              "        const element = document.querySelector('#df-cf0770ca-0f5b-4f05-8380-7206a0b32d04');\n",
              "        const dataTable =\n",
              "          await google.colab.kernel.invokeFunction('convertToInteractive',\n",
              "                                                    [key], {});\n",
              "        if (!dataTable) return;\n",
              "\n",
              "        const docLinkHtml = 'Like what you see? Visit the ' +\n",
              "          '<a target=\"_blank\" href=https://colab.research.google.com/notebooks/data_table.ipynb>data table notebook</a>'\n",
              "          + ' to learn more about interactive tables.';\n",
              "        element.innerHTML = '';\n",
              "        dataTable['output_type'] = 'display_data';\n",
              "        await google.colab.output.renderOutput(dataTable, element);\n",
              "        const docLink = document.createElement('div');\n",
              "        docLink.innerHTML = docLinkHtml;\n",
              "        element.appendChild(docLink);\n",
              "      }\n",
              "    </script>\n",
              "  </div>\n",
              "\n",
              "    </div>\n",
              "  </div>\n"
            ]
          },
          "metadata": {},
          "execution_count": 11
        }
      ]
    },
    {
      "cell_type": "code",
      "source": [
        "pd.crosstab(df['OverTime'], df['JobSatisfaction'])"
      ],
      "metadata": {
        "colab": {
          "base_uri": "https://localhost:8080/"
        },
        "id": "S-Np19nZ9S5L",
        "outputId": "965d444e-4337-43be-91c6-08e42cc46021"
      },
      "execution_count": null,
      "outputs": [
        {
          "output_type": "execute_result",
          "data": {
            "text/plain": [
              "JobSatisfaction    1    2    3    4\n",
              "OverTime                           \n",
              "No               205  211  321  317\n",
              "Yes               84   69  121  142"
            ],
            "text/html": [
              "\n",
              "  <div id=\"df-a16f55be-725f-4b29-a6ba-7b7716000e40\" class=\"colab-df-container\">\n",
              "    <div>\n",
              "<style scoped>\n",
              "    .dataframe tbody tr th:only-of-type {\n",
              "        vertical-align: middle;\n",
              "    }\n",
              "\n",
              "    .dataframe tbody tr th {\n",
              "        vertical-align: top;\n",
              "    }\n",
              "\n",
              "    .dataframe thead th {\n",
              "        text-align: right;\n",
              "    }\n",
              "</style>\n",
              "<table border=\"1\" class=\"dataframe\">\n",
              "  <thead>\n",
              "    <tr style=\"text-align: right;\">\n",
              "      <th>JobSatisfaction</th>\n",
              "      <th>1</th>\n",
              "      <th>2</th>\n",
              "      <th>3</th>\n",
              "      <th>4</th>\n",
              "    </tr>\n",
              "    <tr>\n",
              "      <th>OverTime</th>\n",
              "      <th></th>\n",
              "      <th></th>\n",
              "      <th></th>\n",
              "      <th></th>\n",
              "    </tr>\n",
              "  </thead>\n",
              "  <tbody>\n",
              "    <tr>\n",
              "      <th>No</th>\n",
              "      <td>205</td>\n",
              "      <td>211</td>\n",
              "      <td>321</td>\n",
              "      <td>317</td>\n",
              "    </tr>\n",
              "    <tr>\n",
              "      <th>Yes</th>\n",
              "      <td>84</td>\n",
              "      <td>69</td>\n",
              "      <td>121</td>\n",
              "      <td>142</td>\n",
              "    </tr>\n",
              "  </tbody>\n",
              "</table>\n",
              "</div>\n",
              "    <div class=\"colab-df-buttons\">\n",
              "\n",
              "  <div class=\"colab-df-container\">\n",
              "    <button class=\"colab-df-convert\" onclick=\"convertToInteractive('df-a16f55be-725f-4b29-a6ba-7b7716000e40')\"\n",
              "            title=\"Convert this dataframe to an interactive table.\"\n",
              "            style=\"display:none;\">\n",
              "\n",
              "  <svg xmlns=\"http://www.w3.org/2000/svg\" height=\"24px\" viewBox=\"0 -960 960 960\">\n",
              "    <path d=\"M120-120v-720h720v720H120Zm60-500h600v-160H180v160Zm220 220h160v-160H400v160Zm0 220h160v-160H400v160ZM180-400h160v-160H180v160Zm440 0h160v-160H620v160ZM180-180h160v-160H180v160Zm440 0h160v-160H620v160Z\"/>\n",
              "  </svg>\n",
              "    </button>\n",
              "\n",
              "  <style>\n",
              "    .colab-df-container {\n",
              "      display:flex;\n",
              "      gap: 12px;\n",
              "    }\n",
              "\n",
              "    .colab-df-convert {\n",
              "      background-color: #E8F0FE;\n",
              "      border: none;\n",
              "      border-radius: 50%;\n",
              "      cursor: pointer;\n",
              "      display: none;\n",
              "      fill: #1967D2;\n",
              "      height: 32px;\n",
              "      padding: 0 0 0 0;\n",
              "      width: 32px;\n",
              "    }\n",
              "\n",
              "    .colab-df-convert:hover {\n",
              "      background-color: #E2EBFA;\n",
              "      box-shadow: 0px 1px 2px rgba(60, 64, 67, 0.3), 0px 1px 3px 1px rgba(60, 64, 67, 0.15);\n",
              "      fill: #174EA6;\n",
              "    }\n",
              "\n",
              "    .colab-df-buttons div {\n",
              "      margin-bottom: 4px;\n",
              "    }\n",
              "\n",
              "    [theme=dark] .colab-df-convert {\n",
              "      background-color: #3B4455;\n",
              "      fill: #D2E3FC;\n",
              "    }\n",
              "\n",
              "    [theme=dark] .colab-df-convert:hover {\n",
              "      background-color: #434B5C;\n",
              "      box-shadow: 0px 1px 3px 1px rgba(0, 0, 0, 0.15);\n",
              "      filter: drop-shadow(0px 1px 2px rgba(0, 0, 0, 0.3));\n",
              "      fill: #FFFFFF;\n",
              "    }\n",
              "  </style>\n",
              "\n",
              "    <script>\n",
              "      const buttonEl =\n",
              "        document.querySelector('#df-a16f55be-725f-4b29-a6ba-7b7716000e40 button.colab-df-convert');\n",
              "      buttonEl.style.display =\n",
              "        google.colab.kernel.accessAllowed ? 'block' : 'none';\n",
              "\n",
              "      async function convertToInteractive(key) {\n",
              "        const element = document.querySelector('#df-a16f55be-725f-4b29-a6ba-7b7716000e40');\n",
              "        const dataTable =\n",
              "          await google.colab.kernel.invokeFunction('convertToInteractive',\n",
              "                                                    [key], {});\n",
              "        if (!dataTable) return;\n",
              "\n",
              "        const docLinkHtml = 'Like what you see? Visit the ' +\n",
              "          '<a target=\"_blank\" href=https://colab.research.google.com/notebooks/data_table.ipynb>data table notebook</a>'\n",
              "          + ' to learn more about interactive tables.';\n",
              "        element.innerHTML = '';\n",
              "        dataTable['output_type'] = 'display_data';\n",
              "        await google.colab.output.renderOutput(dataTable, element);\n",
              "        const docLink = document.createElement('div');\n",
              "        docLink.innerHTML = docLinkHtml;\n",
              "        element.appendChild(docLink);\n",
              "      }\n",
              "    </script>\n",
              "  </div>\n",
              "\n",
              "\n",
              "<div id=\"df-8b52be47-63cc-46af-b096-8a23fad80ac6\">\n",
              "  <button class=\"colab-df-quickchart\" onclick=\"quickchart('df-8b52be47-63cc-46af-b096-8a23fad80ac6')\"\n",
              "            title=\"Suggest charts\"\n",
              "            style=\"display:none;\">\n",
              "\n",
              "<svg xmlns=\"http://www.w3.org/2000/svg\" height=\"24px\"viewBox=\"0 0 24 24\"\n",
              "     width=\"24px\">\n",
              "    <g>\n",
              "        <path d=\"M19 3H5c-1.1 0-2 .9-2 2v14c0 1.1.9 2 2 2h14c1.1 0 2-.9 2-2V5c0-1.1-.9-2-2-2zM9 17H7v-7h2v7zm4 0h-2V7h2v10zm4 0h-2v-4h2v4z\"/>\n",
              "    </g>\n",
              "</svg>\n",
              "  </button>\n",
              "\n",
              "<style>\n",
              "  .colab-df-quickchart {\n",
              "      --bg-color: #E8F0FE;\n",
              "      --fill-color: #1967D2;\n",
              "      --hover-bg-color: #E2EBFA;\n",
              "      --hover-fill-color: #174EA6;\n",
              "      --disabled-fill-color: #AAA;\n",
              "      --disabled-bg-color: #DDD;\n",
              "  }\n",
              "\n",
              "  [theme=dark] .colab-df-quickchart {\n",
              "      --bg-color: #3B4455;\n",
              "      --fill-color: #D2E3FC;\n",
              "      --hover-bg-color: #434B5C;\n",
              "      --hover-fill-color: #FFFFFF;\n",
              "      --disabled-bg-color: #3B4455;\n",
              "      --disabled-fill-color: #666;\n",
              "  }\n",
              "\n",
              "  .colab-df-quickchart {\n",
              "    background-color: var(--bg-color);\n",
              "    border: none;\n",
              "    border-radius: 50%;\n",
              "    cursor: pointer;\n",
              "    display: none;\n",
              "    fill: var(--fill-color);\n",
              "    height: 32px;\n",
              "    padding: 0;\n",
              "    width: 32px;\n",
              "  }\n",
              "\n",
              "  .colab-df-quickchart:hover {\n",
              "    background-color: var(--hover-bg-color);\n",
              "    box-shadow: 0 1px 2px rgba(60, 64, 67, 0.3), 0 1px 3px 1px rgba(60, 64, 67, 0.15);\n",
              "    fill: var(--button-hover-fill-color);\n",
              "  }\n",
              "\n",
              "  .colab-df-quickchart-complete:disabled,\n",
              "  .colab-df-quickchart-complete:disabled:hover {\n",
              "    background-color: var(--disabled-bg-color);\n",
              "    fill: var(--disabled-fill-color);\n",
              "    box-shadow: none;\n",
              "  }\n",
              "\n",
              "  .colab-df-spinner {\n",
              "    border: 2px solid var(--fill-color);\n",
              "    border-color: transparent;\n",
              "    border-bottom-color: var(--fill-color);\n",
              "    animation:\n",
              "      spin 1s steps(1) infinite;\n",
              "  }\n",
              "\n",
              "  @keyframes spin {\n",
              "    0% {\n",
              "      border-color: transparent;\n",
              "      border-bottom-color: var(--fill-color);\n",
              "      border-left-color: var(--fill-color);\n",
              "    }\n",
              "    20% {\n",
              "      border-color: transparent;\n",
              "      border-left-color: var(--fill-color);\n",
              "      border-top-color: var(--fill-color);\n",
              "    }\n",
              "    30% {\n",
              "      border-color: transparent;\n",
              "      border-left-color: var(--fill-color);\n",
              "      border-top-color: var(--fill-color);\n",
              "      border-right-color: var(--fill-color);\n",
              "    }\n",
              "    40% {\n",
              "      border-color: transparent;\n",
              "      border-right-color: var(--fill-color);\n",
              "      border-top-color: var(--fill-color);\n",
              "    }\n",
              "    60% {\n",
              "      border-color: transparent;\n",
              "      border-right-color: var(--fill-color);\n",
              "    }\n",
              "    80% {\n",
              "      border-color: transparent;\n",
              "      border-right-color: var(--fill-color);\n",
              "      border-bottom-color: var(--fill-color);\n",
              "    }\n",
              "    90% {\n",
              "      border-color: transparent;\n",
              "      border-bottom-color: var(--fill-color);\n",
              "    }\n",
              "  }\n",
              "</style>\n",
              "\n",
              "  <script>\n",
              "    async function quickchart(key) {\n",
              "      const quickchartButtonEl =\n",
              "        document.querySelector('#' + key + ' button');\n",
              "      quickchartButtonEl.disabled = true;  // To prevent multiple clicks.\n",
              "      quickchartButtonEl.classList.add('colab-df-spinner');\n",
              "      try {\n",
              "        const charts = await google.colab.kernel.invokeFunction(\n",
              "            'suggestCharts', [key], {});\n",
              "      } catch (error) {\n",
              "        console.error('Error during call to suggestCharts:', error);\n",
              "      }\n",
              "      quickchartButtonEl.classList.remove('colab-df-spinner');\n",
              "      quickchartButtonEl.classList.add('colab-df-quickchart-complete');\n",
              "    }\n",
              "    (() => {\n",
              "      let quickchartButtonEl =\n",
              "        document.querySelector('#df-8b52be47-63cc-46af-b096-8a23fad80ac6 button');\n",
              "      quickchartButtonEl.style.display =\n",
              "        google.colab.kernel.accessAllowed ? 'block' : 'none';\n",
              "    })();\n",
              "  </script>\n",
              "</div>\n",
              "    </div>\n",
              "  </div>\n"
            ]
          },
          "metadata": {},
          "execution_count": 12
        }
      ]
    },
    {
      "cell_type": "markdown",
      "source": [
        "######3.2.1.1.b WorkLifeBalance"
      ],
      "metadata": {
        "id": "H5x3UOAI9diQ"
      }
    },
    {
      "cell_type": "code",
      "source": [
        "pd.crosstab(df['Attrition'], df['WorkLifeBalance'])"
      ],
      "metadata": {
        "colab": {
          "base_uri": "https://localhost:8080/"
        },
        "id": "o3UlpkIi9oFk",
        "outputId": "a32f4ac6-ee8e-4314-c866-4eb742acca9c"
      },
      "execution_count": null,
      "outputs": [
        {
          "output_type": "execute_result",
          "data": {
            "text/plain": [
              "WorkLifeBalance   1    2    3    4\n",
              "Attrition                         \n",
              "No               55  286  766  126\n",
              "Yes              25   58  127   27"
            ],
            "text/html": [
              "\n",
              "  <div id=\"df-ad50e206-d733-439f-a326-ea02610a2254\" class=\"colab-df-container\">\n",
              "    <div>\n",
              "<style scoped>\n",
              "    .dataframe tbody tr th:only-of-type {\n",
              "        vertical-align: middle;\n",
              "    }\n",
              "\n",
              "    .dataframe tbody tr th {\n",
              "        vertical-align: top;\n",
              "    }\n",
              "\n",
              "    .dataframe thead th {\n",
              "        text-align: right;\n",
              "    }\n",
              "</style>\n",
              "<table border=\"1\" class=\"dataframe\">\n",
              "  <thead>\n",
              "    <tr style=\"text-align: right;\">\n",
              "      <th>WorkLifeBalance</th>\n",
              "      <th>1</th>\n",
              "      <th>2</th>\n",
              "      <th>3</th>\n",
              "      <th>4</th>\n",
              "    </tr>\n",
              "    <tr>\n",
              "      <th>Attrition</th>\n",
              "      <th></th>\n",
              "      <th></th>\n",
              "      <th></th>\n",
              "      <th></th>\n",
              "    </tr>\n",
              "  </thead>\n",
              "  <tbody>\n",
              "    <tr>\n",
              "      <th>No</th>\n",
              "      <td>55</td>\n",
              "      <td>286</td>\n",
              "      <td>766</td>\n",
              "      <td>126</td>\n",
              "    </tr>\n",
              "    <tr>\n",
              "      <th>Yes</th>\n",
              "      <td>25</td>\n",
              "      <td>58</td>\n",
              "      <td>127</td>\n",
              "      <td>27</td>\n",
              "    </tr>\n",
              "  </tbody>\n",
              "</table>\n",
              "</div>\n",
              "    <div class=\"colab-df-buttons\">\n",
              "\n",
              "  <div class=\"colab-df-container\">\n",
              "    <button class=\"colab-df-convert\" onclick=\"convertToInteractive('df-ad50e206-d733-439f-a326-ea02610a2254')\"\n",
              "            title=\"Convert this dataframe to an interactive table.\"\n",
              "            style=\"display:none;\">\n",
              "\n",
              "  <svg xmlns=\"http://www.w3.org/2000/svg\" height=\"24px\" viewBox=\"0 -960 960 960\">\n",
              "    <path d=\"M120-120v-720h720v720H120Zm60-500h600v-160H180v160Zm220 220h160v-160H400v160Zm0 220h160v-160H400v160ZM180-400h160v-160H180v160Zm440 0h160v-160H620v160ZM180-180h160v-160H180v160Zm440 0h160v-160H620v160Z\"/>\n",
              "  </svg>\n",
              "    </button>\n",
              "\n",
              "  <style>\n",
              "    .colab-df-container {\n",
              "      display:flex;\n",
              "      gap: 12px;\n",
              "    }\n",
              "\n",
              "    .colab-df-convert {\n",
              "      background-color: #E8F0FE;\n",
              "      border: none;\n",
              "      border-radius: 50%;\n",
              "      cursor: pointer;\n",
              "      display: none;\n",
              "      fill: #1967D2;\n",
              "      height: 32px;\n",
              "      padding: 0 0 0 0;\n",
              "      width: 32px;\n",
              "    }\n",
              "\n",
              "    .colab-df-convert:hover {\n",
              "      background-color: #E2EBFA;\n",
              "      box-shadow: 0px 1px 2px rgba(60, 64, 67, 0.3), 0px 1px 3px 1px rgba(60, 64, 67, 0.15);\n",
              "      fill: #174EA6;\n",
              "    }\n",
              "\n",
              "    .colab-df-buttons div {\n",
              "      margin-bottom: 4px;\n",
              "    }\n",
              "\n",
              "    [theme=dark] .colab-df-convert {\n",
              "      background-color: #3B4455;\n",
              "      fill: #D2E3FC;\n",
              "    }\n",
              "\n",
              "    [theme=dark] .colab-df-convert:hover {\n",
              "      background-color: #434B5C;\n",
              "      box-shadow: 0px 1px 3px 1px rgba(0, 0, 0, 0.15);\n",
              "      filter: drop-shadow(0px 1px 2px rgba(0, 0, 0, 0.3));\n",
              "      fill: #FFFFFF;\n",
              "    }\n",
              "  </style>\n",
              "\n",
              "    <script>\n",
              "      const buttonEl =\n",
              "        document.querySelector('#df-ad50e206-d733-439f-a326-ea02610a2254 button.colab-df-convert');\n",
              "      buttonEl.style.display =\n",
              "        google.colab.kernel.accessAllowed ? 'block' : 'none';\n",
              "\n",
              "      async function convertToInteractive(key) {\n",
              "        const element = document.querySelector('#df-ad50e206-d733-439f-a326-ea02610a2254');\n",
              "        const dataTable =\n",
              "          await google.colab.kernel.invokeFunction('convertToInteractive',\n",
              "                                                    [key], {});\n",
              "        if (!dataTable) return;\n",
              "\n",
              "        const docLinkHtml = 'Like what you see? Visit the ' +\n",
              "          '<a target=\"_blank\" href=https://colab.research.google.com/notebooks/data_table.ipynb>data table notebook</a>'\n",
              "          + ' to learn more about interactive tables.';\n",
              "        element.innerHTML = '';\n",
              "        dataTable['output_type'] = 'display_data';\n",
              "        await google.colab.output.renderOutput(dataTable, element);\n",
              "        const docLink = document.createElement('div');\n",
              "        docLink.innerHTML = docLinkHtml;\n",
              "        element.appendChild(docLink);\n",
              "      }\n",
              "    </script>\n",
              "  </div>\n",
              "\n",
              "\n",
              "<div id=\"df-52a76560-ee5e-4938-b0fc-a70a8a1a345b\">\n",
              "  <button class=\"colab-df-quickchart\" onclick=\"quickchart('df-52a76560-ee5e-4938-b0fc-a70a8a1a345b')\"\n",
              "            title=\"Suggest charts\"\n",
              "            style=\"display:none;\">\n",
              "\n",
              "<svg xmlns=\"http://www.w3.org/2000/svg\" height=\"24px\"viewBox=\"0 0 24 24\"\n",
              "     width=\"24px\">\n",
              "    <g>\n",
              "        <path d=\"M19 3H5c-1.1 0-2 .9-2 2v14c0 1.1.9 2 2 2h14c1.1 0 2-.9 2-2V5c0-1.1-.9-2-2-2zM9 17H7v-7h2v7zm4 0h-2V7h2v10zm4 0h-2v-4h2v4z\"/>\n",
              "    </g>\n",
              "</svg>\n",
              "  </button>\n",
              "\n",
              "<style>\n",
              "  .colab-df-quickchart {\n",
              "      --bg-color: #E8F0FE;\n",
              "      --fill-color: #1967D2;\n",
              "      --hover-bg-color: #E2EBFA;\n",
              "      --hover-fill-color: #174EA6;\n",
              "      --disabled-fill-color: #AAA;\n",
              "      --disabled-bg-color: #DDD;\n",
              "  }\n",
              "\n",
              "  [theme=dark] .colab-df-quickchart {\n",
              "      --bg-color: #3B4455;\n",
              "      --fill-color: #D2E3FC;\n",
              "      --hover-bg-color: #434B5C;\n",
              "      --hover-fill-color: #FFFFFF;\n",
              "      --disabled-bg-color: #3B4455;\n",
              "      --disabled-fill-color: #666;\n",
              "  }\n",
              "\n",
              "  .colab-df-quickchart {\n",
              "    background-color: var(--bg-color);\n",
              "    border: none;\n",
              "    border-radius: 50%;\n",
              "    cursor: pointer;\n",
              "    display: none;\n",
              "    fill: var(--fill-color);\n",
              "    height: 32px;\n",
              "    padding: 0;\n",
              "    width: 32px;\n",
              "  }\n",
              "\n",
              "  .colab-df-quickchart:hover {\n",
              "    background-color: var(--hover-bg-color);\n",
              "    box-shadow: 0 1px 2px rgba(60, 64, 67, 0.3), 0 1px 3px 1px rgba(60, 64, 67, 0.15);\n",
              "    fill: var(--button-hover-fill-color);\n",
              "  }\n",
              "\n",
              "  .colab-df-quickchart-complete:disabled,\n",
              "  .colab-df-quickchart-complete:disabled:hover {\n",
              "    background-color: var(--disabled-bg-color);\n",
              "    fill: var(--disabled-fill-color);\n",
              "    box-shadow: none;\n",
              "  }\n",
              "\n",
              "  .colab-df-spinner {\n",
              "    border: 2px solid var(--fill-color);\n",
              "    border-color: transparent;\n",
              "    border-bottom-color: var(--fill-color);\n",
              "    animation:\n",
              "      spin 1s steps(1) infinite;\n",
              "  }\n",
              "\n",
              "  @keyframes spin {\n",
              "    0% {\n",
              "      border-color: transparent;\n",
              "      border-bottom-color: var(--fill-color);\n",
              "      border-left-color: var(--fill-color);\n",
              "    }\n",
              "    20% {\n",
              "      border-color: transparent;\n",
              "      border-left-color: var(--fill-color);\n",
              "      border-top-color: var(--fill-color);\n",
              "    }\n",
              "    30% {\n",
              "      border-color: transparent;\n",
              "      border-left-color: var(--fill-color);\n",
              "      border-top-color: var(--fill-color);\n",
              "      border-right-color: var(--fill-color);\n",
              "    }\n",
              "    40% {\n",
              "      border-color: transparent;\n",
              "      border-right-color: var(--fill-color);\n",
              "      border-top-color: var(--fill-color);\n",
              "    }\n",
              "    60% {\n",
              "      border-color: transparent;\n",
              "      border-right-color: var(--fill-color);\n",
              "    }\n",
              "    80% {\n",
              "      border-color: transparent;\n",
              "      border-right-color: var(--fill-color);\n",
              "      border-bottom-color: var(--fill-color);\n",
              "    }\n",
              "    90% {\n",
              "      border-color: transparent;\n",
              "      border-bottom-color: var(--fill-color);\n",
              "    }\n",
              "  }\n",
              "</style>\n",
              "\n",
              "  <script>\n",
              "    async function quickchart(key) {\n",
              "      const quickchartButtonEl =\n",
              "        document.querySelector('#' + key + ' button');\n",
              "      quickchartButtonEl.disabled = true;  // To prevent multiple clicks.\n",
              "      quickchartButtonEl.classList.add('colab-df-spinner');\n",
              "      try {\n",
              "        const charts = await google.colab.kernel.invokeFunction(\n",
              "            'suggestCharts', [key], {});\n",
              "      } catch (error) {\n",
              "        console.error('Error during call to suggestCharts:', error);\n",
              "      }\n",
              "      quickchartButtonEl.classList.remove('colab-df-spinner');\n",
              "      quickchartButtonEl.classList.add('colab-df-quickchart-complete');\n",
              "    }\n",
              "    (() => {\n",
              "      let quickchartButtonEl =\n",
              "        document.querySelector('#df-52a76560-ee5e-4938-b0fc-a70a8a1a345b button');\n",
              "      quickchartButtonEl.style.display =\n",
              "        google.colab.kernel.accessAllowed ? 'block' : 'none';\n",
              "    })();\n",
              "  </script>\n",
              "</div>\n",
              "    </div>\n",
              "  </div>\n"
            ]
          },
          "metadata": {},
          "execution_count": 13
        }
      ]
    },
    {
      "cell_type": "code",
      "source": [
        "pd.crosstab(df['Gender'], df['WorkLifeBalance'])"
      ],
      "metadata": {
        "colab": {
          "base_uri": "https://localhost:8080/"
        },
        "id": "-BfZUj1U9oFk",
        "outputId": "61733c64-60cc-4747-f4e9-9d09baa79dd5"
      },
      "execution_count": null,
      "outputs": [
        {
          "output_type": "execute_result",
          "data": {
            "text/plain": [
              "WorkLifeBalance   1    2    3   4\n",
              "Gender                           \n",
              "Female           30  136  365  57\n",
              "Male             50  208  528  96"
            ],
            "text/html": [
              "\n",
              "  <div id=\"df-f0eae344-64db-4fe1-8a05-3b1a4bb90822\" class=\"colab-df-container\">\n",
              "    <div>\n",
              "<style scoped>\n",
              "    .dataframe tbody tr th:only-of-type {\n",
              "        vertical-align: middle;\n",
              "    }\n",
              "\n",
              "    .dataframe tbody tr th {\n",
              "        vertical-align: top;\n",
              "    }\n",
              "\n",
              "    .dataframe thead th {\n",
              "        text-align: right;\n",
              "    }\n",
              "</style>\n",
              "<table border=\"1\" class=\"dataframe\">\n",
              "  <thead>\n",
              "    <tr style=\"text-align: right;\">\n",
              "      <th>WorkLifeBalance</th>\n",
              "      <th>1</th>\n",
              "      <th>2</th>\n",
              "      <th>3</th>\n",
              "      <th>4</th>\n",
              "    </tr>\n",
              "    <tr>\n",
              "      <th>Gender</th>\n",
              "      <th></th>\n",
              "      <th></th>\n",
              "      <th></th>\n",
              "      <th></th>\n",
              "    </tr>\n",
              "  </thead>\n",
              "  <tbody>\n",
              "    <tr>\n",
              "      <th>Female</th>\n",
              "      <td>30</td>\n",
              "      <td>136</td>\n",
              "      <td>365</td>\n",
              "      <td>57</td>\n",
              "    </tr>\n",
              "    <tr>\n",
              "      <th>Male</th>\n",
              "      <td>50</td>\n",
              "      <td>208</td>\n",
              "      <td>528</td>\n",
              "      <td>96</td>\n",
              "    </tr>\n",
              "  </tbody>\n",
              "</table>\n",
              "</div>\n",
              "    <div class=\"colab-df-buttons\">\n",
              "\n",
              "  <div class=\"colab-df-container\">\n",
              "    <button class=\"colab-df-convert\" onclick=\"convertToInteractive('df-f0eae344-64db-4fe1-8a05-3b1a4bb90822')\"\n",
              "            title=\"Convert this dataframe to an interactive table.\"\n",
              "            style=\"display:none;\">\n",
              "\n",
              "  <svg xmlns=\"http://www.w3.org/2000/svg\" height=\"24px\" viewBox=\"0 -960 960 960\">\n",
              "    <path d=\"M120-120v-720h720v720H120Zm60-500h600v-160H180v160Zm220 220h160v-160H400v160Zm0 220h160v-160H400v160ZM180-400h160v-160H180v160Zm440 0h160v-160H620v160ZM180-180h160v-160H180v160Zm440 0h160v-160H620v160Z\"/>\n",
              "  </svg>\n",
              "    </button>\n",
              "\n",
              "  <style>\n",
              "    .colab-df-container {\n",
              "      display:flex;\n",
              "      gap: 12px;\n",
              "    }\n",
              "\n",
              "    .colab-df-convert {\n",
              "      background-color: #E8F0FE;\n",
              "      border: none;\n",
              "      border-radius: 50%;\n",
              "      cursor: pointer;\n",
              "      display: none;\n",
              "      fill: #1967D2;\n",
              "      height: 32px;\n",
              "      padding: 0 0 0 0;\n",
              "      width: 32px;\n",
              "    }\n",
              "\n",
              "    .colab-df-convert:hover {\n",
              "      background-color: #E2EBFA;\n",
              "      box-shadow: 0px 1px 2px rgba(60, 64, 67, 0.3), 0px 1px 3px 1px rgba(60, 64, 67, 0.15);\n",
              "      fill: #174EA6;\n",
              "    }\n",
              "\n",
              "    .colab-df-buttons div {\n",
              "      margin-bottom: 4px;\n",
              "    }\n",
              "\n",
              "    [theme=dark] .colab-df-convert {\n",
              "      background-color: #3B4455;\n",
              "      fill: #D2E3FC;\n",
              "    }\n",
              "\n",
              "    [theme=dark] .colab-df-convert:hover {\n",
              "      background-color: #434B5C;\n",
              "      box-shadow: 0px 1px 3px 1px rgba(0, 0, 0, 0.15);\n",
              "      filter: drop-shadow(0px 1px 2px rgba(0, 0, 0, 0.3));\n",
              "      fill: #FFFFFF;\n",
              "    }\n",
              "  </style>\n",
              "\n",
              "    <script>\n",
              "      const buttonEl =\n",
              "        document.querySelector('#df-f0eae344-64db-4fe1-8a05-3b1a4bb90822 button.colab-df-convert');\n",
              "      buttonEl.style.display =\n",
              "        google.colab.kernel.accessAllowed ? 'block' : 'none';\n",
              "\n",
              "      async function convertToInteractive(key) {\n",
              "        const element = document.querySelector('#df-f0eae344-64db-4fe1-8a05-3b1a4bb90822');\n",
              "        const dataTable =\n",
              "          await google.colab.kernel.invokeFunction('convertToInteractive',\n",
              "                                                    [key], {});\n",
              "        if (!dataTable) return;\n",
              "\n",
              "        const docLinkHtml = 'Like what you see? Visit the ' +\n",
              "          '<a target=\"_blank\" href=https://colab.research.google.com/notebooks/data_table.ipynb>data table notebook</a>'\n",
              "          + ' to learn more about interactive tables.';\n",
              "        element.innerHTML = '';\n",
              "        dataTable['output_type'] = 'display_data';\n",
              "        await google.colab.output.renderOutput(dataTable, element);\n",
              "        const docLink = document.createElement('div');\n",
              "        docLink.innerHTML = docLinkHtml;\n",
              "        element.appendChild(docLink);\n",
              "      }\n",
              "    </script>\n",
              "  </div>\n",
              "\n",
              "\n",
              "<div id=\"df-c864079a-fa3c-4544-9e4c-cb43ee08d53c\">\n",
              "  <button class=\"colab-df-quickchart\" onclick=\"quickchart('df-c864079a-fa3c-4544-9e4c-cb43ee08d53c')\"\n",
              "            title=\"Suggest charts\"\n",
              "            style=\"display:none;\">\n",
              "\n",
              "<svg xmlns=\"http://www.w3.org/2000/svg\" height=\"24px\"viewBox=\"0 0 24 24\"\n",
              "     width=\"24px\">\n",
              "    <g>\n",
              "        <path d=\"M19 3H5c-1.1 0-2 .9-2 2v14c0 1.1.9 2 2 2h14c1.1 0 2-.9 2-2V5c0-1.1-.9-2-2-2zM9 17H7v-7h2v7zm4 0h-2V7h2v10zm4 0h-2v-4h2v4z\"/>\n",
              "    </g>\n",
              "</svg>\n",
              "  </button>\n",
              "\n",
              "<style>\n",
              "  .colab-df-quickchart {\n",
              "      --bg-color: #E8F0FE;\n",
              "      --fill-color: #1967D2;\n",
              "      --hover-bg-color: #E2EBFA;\n",
              "      --hover-fill-color: #174EA6;\n",
              "      --disabled-fill-color: #AAA;\n",
              "      --disabled-bg-color: #DDD;\n",
              "  }\n",
              "\n",
              "  [theme=dark] .colab-df-quickchart {\n",
              "      --bg-color: #3B4455;\n",
              "      --fill-color: #D2E3FC;\n",
              "      --hover-bg-color: #434B5C;\n",
              "      --hover-fill-color: #FFFFFF;\n",
              "      --disabled-bg-color: #3B4455;\n",
              "      --disabled-fill-color: #666;\n",
              "  }\n",
              "\n",
              "  .colab-df-quickchart {\n",
              "    background-color: var(--bg-color);\n",
              "    border: none;\n",
              "    border-radius: 50%;\n",
              "    cursor: pointer;\n",
              "    display: none;\n",
              "    fill: var(--fill-color);\n",
              "    height: 32px;\n",
              "    padding: 0;\n",
              "    width: 32px;\n",
              "  }\n",
              "\n",
              "  .colab-df-quickchart:hover {\n",
              "    background-color: var(--hover-bg-color);\n",
              "    box-shadow: 0 1px 2px rgba(60, 64, 67, 0.3), 0 1px 3px 1px rgba(60, 64, 67, 0.15);\n",
              "    fill: var(--button-hover-fill-color);\n",
              "  }\n",
              "\n",
              "  .colab-df-quickchart-complete:disabled,\n",
              "  .colab-df-quickchart-complete:disabled:hover {\n",
              "    background-color: var(--disabled-bg-color);\n",
              "    fill: var(--disabled-fill-color);\n",
              "    box-shadow: none;\n",
              "  }\n",
              "\n",
              "  .colab-df-spinner {\n",
              "    border: 2px solid var(--fill-color);\n",
              "    border-color: transparent;\n",
              "    border-bottom-color: var(--fill-color);\n",
              "    animation:\n",
              "      spin 1s steps(1) infinite;\n",
              "  }\n",
              "\n",
              "  @keyframes spin {\n",
              "    0% {\n",
              "      border-color: transparent;\n",
              "      border-bottom-color: var(--fill-color);\n",
              "      border-left-color: var(--fill-color);\n",
              "    }\n",
              "    20% {\n",
              "      border-color: transparent;\n",
              "      border-left-color: var(--fill-color);\n",
              "      border-top-color: var(--fill-color);\n",
              "    }\n",
              "    30% {\n",
              "      border-color: transparent;\n",
              "      border-left-color: var(--fill-color);\n",
              "      border-top-color: var(--fill-color);\n",
              "      border-right-color: var(--fill-color);\n",
              "    }\n",
              "    40% {\n",
              "      border-color: transparent;\n",
              "      border-right-color: var(--fill-color);\n",
              "      border-top-color: var(--fill-color);\n",
              "    }\n",
              "    60% {\n",
              "      border-color: transparent;\n",
              "      border-right-color: var(--fill-color);\n",
              "    }\n",
              "    80% {\n",
              "      border-color: transparent;\n",
              "      border-right-color: var(--fill-color);\n",
              "      border-bottom-color: var(--fill-color);\n",
              "    }\n",
              "    90% {\n",
              "      border-color: transparent;\n",
              "      border-bottom-color: var(--fill-color);\n",
              "    }\n",
              "  }\n",
              "</style>\n",
              "\n",
              "  <script>\n",
              "    async function quickchart(key) {\n",
              "      const quickchartButtonEl =\n",
              "        document.querySelector('#' + key + ' button');\n",
              "      quickchartButtonEl.disabled = true;  // To prevent multiple clicks.\n",
              "      quickchartButtonEl.classList.add('colab-df-spinner');\n",
              "      try {\n",
              "        const charts = await google.colab.kernel.invokeFunction(\n",
              "            'suggestCharts', [key], {});\n",
              "      } catch (error) {\n",
              "        console.error('Error during call to suggestCharts:', error);\n",
              "      }\n",
              "      quickchartButtonEl.classList.remove('colab-df-spinner');\n",
              "      quickchartButtonEl.classList.add('colab-df-quickchart-complete');\n",
              "    }\n",
              "    (() => {\n",
              "      let quickchartButtonEl =\n",
              "        document.querySelector('#df-c864079a-fa3c-4544-9e4c-cb43ee08d53c button');\n",
              "      quickchartButtonEl.style.display =\n",
              "        google.colab.kernel.accessAllowed ? 'block' : 'none';\n",
              "    })();\n",
              "  </script>\n",
              "</div>\n",
              "    </div>\n",
              "  </div>\n"
            ]
          },
          "metadata": {},
          "execution_count": 14
        }
      ]
    },
    {
      "cell_type": "code",
      "source": [
        "pd.crosstab(df['Over18'], df['WorkLifeBalance'])"
      ],
      "metadata": {
        "colab": {
          "base_uri": "https://localhost:8080/"
        },
        "id": "6Rrdidp19oFl",
        "outputId": "8a92935c-14a7-4dee-a195-bf031dc7b8cf"
      },
      "execution_count": null,
      "outputs": [
        {
          "output_type": "execute_result",
          "data": {
            "text/plain": [
              "WorkLifeBalance   1    2    3    4\n",
              "Over18                            \n",
              "Y                80  344  893  153"
            ],
            "text/html": [
              "\n",
              "  <div id=\"df-016bc1a6-bd44-4395-984c-dabafc1f837f\" class=\"colab-df-container\">\n",
              "    <div>\n",
              "<style scoped>\n",
              "    .dataframe tbody tr th:only-of-type {\n",
              "        vertical-align: middle;\n",
              "    }\n",
              "\n",
              "    .dataframe tbody tr th {\n",
              "        vertical-align: top;\n",
              "    }\n",
              "\n",
              "    .dataframe thead th {\n",
              "        text-align: right;\n",
              "    }\n",
              "</style>\n",
              "<table border=\"1\" class=\"dataframe\">\n",
              "  <thead>\n",
              "    <tr style=\"text-align: right;\">\n",
              "      <th>WorkLifeBalance</th>\n",
              "      <th>1</th>\n",
              "      <th>2</th>\n",
              "      <th>3</th>\n",
              "      <th>4</th>\n",
              "    </tr>\n",
              "    <tr>\n",
              "      <th>Over18</th>\n",
              "      <th></th>\n",
              "      <th></th>\n",
              "      <th></th>\n",
              "      <th></th>\n",
              "    </tr>\n",
              "  </thead>\n",
              "  <tbody>\n",
              "    <tr>\n",
              "      <th>Y</th>\n",
              "      <td>80</td>\n",
              "      <td>344</td>\n",
              "      <td>893</td>\n",
              "      <td>153</td>\n",
              "    </tr>\n",
              "  </tbody>\n",
              "</table>\n",
              "</div>\n",
              "    <div class=\"colab-df-buttons\">\n",
              "\n",
              "  <div class=\"colab-df-container\">\n",
              "    <button class=\"colab-df-convert\" onclick=\"convertToInteractive('df-016bc1a6-bd44-4395-984c-dabafc1f837f')\"\n",
              "            title=\"Convert this dataframe to an interactive table.\"\n",
              "            style=\"display:none;\">\n",
              "\n",
              "  <svg xmlns=\"http://www.w3.org/2000/svg\" height=\"24px\" viewBox=\"0 -960 960 960\">\n",
              "    <path d=\"M120-120v-720h720v720H120Zm60-500h600v-160H180v160Zm220 220h160v-160H400v160Zm0 220h160v-160H400v160ZM180-400h160v-160H180v160Zm440 0h160v-160H620v160ZM180-180h160v-160H180v160Zm440 0h160v-160H620v160Z\"/>\n",
              "  </svg>\n",
              "    </button>\n",
              "\n",
              "  <style>\n",
              "    .colab-df-container {\n",
              "      display:flex;\n",
              "      gap: 12px;\n",
              "    }\n",
              "\n",
              "    .colab-df-convert {\n",
              "      background-color: #E8F0FE;\n",
              "      border: none;\n",
              "      border-radius: 50%;\n",
              "      cursor: pointer;\n",
              "      display: none;\n",
              "      fill: #1967D2;\n",
              "      height: 32px;\n",
              "      padding: 0 0 0 0;\n",
              "      width: 32px;\n",
              "    }\n",
              "\n",
              "    .colab-df-convert:hover {\n",
              "      background-color: #E2EBFA;\n",
              "      box-shadow: 0px 1px 2px rgba(60, 64, 67, 0.3), 0px 1px 3px 1px rgba(60, 64, 67, 0.15);\n",
              "      fill: #174EA6;\n",
              "    }\n",
              "\n",
              "    .colab-df-buttons div {\n",
              "      margin-bottom: 4px;\n",
              "    }\n",
              "\n",
              "    [theme=dark] .colab-df-convert {\n",
              "      background-color: #3B4455;\n",
              "      fill: #D2E3FC;\n",
              "    }\n",
              "\n",
              "    [theme=dark] .colab-df-convert:hover {\n",
              "      background-color: #434B5C;\n",
              "      box-shadow: 0px 1px 3px 1px rgba(0, 0, 0, 0.15);\n",
              "      filter: drop-shadow(0px 1px 2px rgba(0, 0, 0, 0.3));\n",
              "      fill: #FFFFFF;\n",
              "    }\n",
              "  </style>\n",
              "\n",
              "    <script>\n",
              "      const buttonEl =\n",
              "        document.querySelector('#df-016bc1a6-bd44-4395-984c-dabafc1f837f button.colab-df-convert');\n",
              "      buttonEl.style.display =\n",
              "        google.colab.kernel.accessAllowed ? 'block' : 'none';\n",
              "\n",
              "      async function convertToInteractive(key) {\n",
              "        const element = document.querySelector('#df-016bc1a6-bd44-4395-984c-dabafc1f837f');\n",
              "        const dataTable =\n",
              "          await google.colab.kernel.invokeFunction('convertToInteractive',\n",
              "                                                    [key], {});\n",
              "        if (!dataTable) return;\n",
              "\n",
              "        const docLinkHtml = 'Like what you see? Visit the ' +\n",
              "          '<a target=\"_blank\" href=https://colab.research.google.com/notebooks/data_table.ipynb>data table notebook</a>'\n",
              "          + ' to learn more about interactive tables.';\n",
              "        element.innerHTML = '';\n",
              "        dataTable['output_type'] = 'display_data';\n",
              "        await google.colab.output.renderOutput(dataTable, element);\n",
              "        const docLink = document.createElement('div');\n",
              "        docLink.innerHTML = docLinkHtml;\n",
              "        element.appendChild(docLink);\n",
              "      }\n",
              "    </script>\n",
              "  </div>\n",
              "\n",
              "    </div>\n",
              "  </div>\n"
            ]
          },
          "metadata": {},
          "execution_count": 15
        }
      ]
    },
    {
      "cell_type": "code",
      "source": [
        "pd.crosstab(df['OverTime'], df['WorkLifeBalance'])"
      ],
      "metadata": {
        "colab": {
          "base_uri": "https://localhost:8080/"
        },
        "id": "YvdSFv4H9oFl",
        "outputId": "05dbd279-9655-4621-bf7c-41acc598f8a8"
      },
      "execution_count": null,
      "outputs": [
        {
          "output_type": "execute_result",
          "data": {
            "text/plain": [
              "WorkLifeBalance   1    2    3    4\n",
              "OverTime                          \n",
              "No               58  240  639  117\n",
              "Yes              22  104  254   36"
            ],
            "text/html": [
              "\n",
              "  <div id=\"df-fb23a2b3-1961-4684-8e71-a3292205e8dc\" class=\"colab-df-container\">\n",
              "    <div>\n",
              "<style scoped>\n",
              "    .dataframe tbody tr th:only-of-type {\n",
              "        vertical-align: middle;\n",
              "    }\n",
              "\n",
              "    .dataframe tbody tr th {\n",
              "        vertical-align: top;\n",
              "    }\n",
              "\n",
              "    .dataframe thead th {\n",
              "        text-align: right;\n",
              "    }\n",
              "</style>\n",
              "<table border=\"1\" class=\"dataframe\">\n",
              "  <thead>\n",
              "    <tr style=\"text-align: right;\">\n",
              "      <th>WorkLifeBalance</th>\n",
              "      <th>1</th>\n",
              "      <th>2</th>\n",
              "      <th>3</th>\n",
              "      <th>4</th>\n",
              "    </tr>\n",
              "    <tr>\n",
              "      <th>OverTime</th>\n",
              "      <th></th>\n",
              "      <th></th>\n",
              "      <th></th>\n",
              "      <th></th>\n",
              "    </tr>\n",
              "  </thead>\n",
              "  <tbody>\n",
              "    <tr>\n",
              "      <th>No</th>\n",
              "      <td>58</td>\n",
              "      <td>240</td>\n",
              "      <td>639</td>\n",
              "      <td>117</td>\n",
              "    </tr>\n",
              "    <tr>\n",
              "      <th>Yes</th>\n",
              "      <td>22</td>\n",
              "      <td>104</td>\n",
              "      <td>254</td>\n",
              "      <td>36</td>\n",
              "    </tr>\n",
              "  </tbody>\n",
              "</table>\n",
              "</div>\n",
              "    <div class=\"colab-df-buttons\">\n",
              "\n",
              "  <div class=\"colab-df-container\">\n",
              "    <button class=\"colab-df-convert\" onclick=\"convertToInteractive('df-fb23a2b3-1961-4684-8e71-a3292205e8dc')\"\n",
              "            title=\"Convert this dataframe to an interactive table.\"\n",
              "            style=\"display:none;\">\n",
              "\n",
              "  <svg xmlns=\"http://www.w3.org/2000/svg\" height=\"24px\" viewBox=\"0 -960 960 960\">\n",
              "    <path d=\"M120-120v-720h720v720H120Zm60-500h600v-160H180v160Zm220 220h160v-160H400v160Zm0 220h160v-160H400v160ZM180-400h160v-160H180v160Zm440 0h160v-160H620v160ZM180-180h160v-160H180v160Zm440 0h160v-160H620v160Z\"/>\n",
              "  </svg>\n",
              "    </button>\n",
              "\n",
              "  <style>\n",
              "    .colab-df-container {\n",
              "      display:flex;\n",
              "      gap: 12px;\n",
              "    }\n",
              "\n",
              "    .colab-df-convert {\n",
              "      background-color: #E8F0FE;\n",
              "      border: none;\n",
              "      border-radius: 50%;\n",
              "      cursor: pointer;\n",
              "      display: none;\n",
              "      fill: #1967D2;\n",
              "      height: 32px;\n",
              "      padding: 0 0 0 0;\n",
              "      width: 32px;\n",
              "    }\n",
              "\n",
              "    .colab-df-convert:hover {\n",
              "      background-color: #E2EBFA;\n",
              "      box-shadow: 0px 1px 2px rgba(60, 64, 67, 0.3), 0px 1px 3px 1px rgba(60, 64, 67, 0.15);\n",
              "      fill: #174EA6;\n",
              "    }\n",
              "\n",
              "    .colab-df-buttons div {\n",
              "      margin-bottom: 4px;\n",
              "    }\n",
              "\n",
              "    [theme=dark] .colab-df-convert {\n",
              "      background-color: #3B4455;\n",
              "      fill: #D2E3FC;\n",
              "    }\n",
              "\n",
              "    [theme=dark] .colab-df-convert:hover {\n",
              "      background-color: #434B5C;\n",
              "      box-shadow: 0px 1px 3px 1px rgba(0, 0, 0, 0.15);\n",
              "      filter: drop-shadow(0px 1px 2px rgba(0, 0, 0, 0.3));\n",
              "      fill: #FFFFFF;\n",
              "    }\n",
              "  </style>\n",
              "\n",
              "    <script>\n",
              "      const buttonEl =\n",
              "        document.querySelector('#df-fb23a2b3-1961-4684-8e71-a3292205e8dc button.colab-df-convert');\n",
              "      buttonEl.style.display =\n",
              "        google.colab.kernel.accessAllowed ? 'block' : 'none';\n",
              "\n",
              "      async function convertToInteractive(key) {\n",
              "        const element = document.querySelector('#df-fb23a2b3-1961-4684-8e71-a3292205e8dc');\n",
              "        const dataTable =\n",
              "          await google.colab.kernel.invokeFunction('convertToInteractive',\n",
              "                                                    [key], {});\n",
              "        if (!dataTable) return;\n",
              "\n",
              "        const docLinkHtml = 'Like what you see? Visit the ' +\n",
              "          '<a target=\"_blank\" href=https://colab.research.google.com/notebooks/data_table.ipynb>data table notebook</a>'\n",
              "          + ' to learn more about interactive tables.';\n",
              "        element.innerHTML = '';\n",
              "        dataTable['output_type'] = 'display_data';\n",
              "        await google.colab.output.renderOutput(dataTable, element);\n",
              "        const docLink = document.createElement('div');\n",
              "        docLink.innerHTML = docLinkHtml;\n",
              "        element.appendChild(docLink);\n",
              "      }\n",
              "    </script>\n",
              "  </div>\n",
              "\n",
              "\n",
              "<div id=\"df-023b8368-9ef3-44f8-8909-86b5bb8ac85f\">\n",
              "  <button class=\"colab-df-quickchart\" onclick=\"quickchart('df-023b8368-9ef3-44f8-8909-86b5bb8ac85f')\"\n",
              "            title=\"Suggest charts\"\n",
              "            style=\"display:none;\">\n",
              "\n",
              "<svg xmlns=\"http://www.w3.org/2000/svg\" height=\"24px\"viewBox=\"0 0 24 24\"\n",
              "     width=\"24px\">\n",
              "    <g>\n",
              "        <path d=\"M19 3H5c-1.1 0-2 .9-2 2v14c0 1.1.9 2 2 2h14c1.1 0 2-.9 2-2V5c0-1.1-.9-2-2-2zM9 17H7v-7h2v7zm4 0h-2V7h2v10zm4 0h-2v-4h2v4z\"/>\n",
              "    </g>\n",
              "</svg>\n",
              "  </button>\n",
              "\n",
              "<style>\n",
              "  .colab-df-quickchart {\n",
              "      --bg-color: #E8F0FE;\n",
              "      --fill-color: #1967D2;\n",
              "      --hover-bg-color: #E2EBFA;\n",
              "      --hover-fill-color: #174EA6;\n",
              "      --disabled-fill-color: #AAA;\n",
              "      --disabled-bg-color: #DDD;\n",
              "  }\n",
              "\n",
              "  [theme=dark] .colab-df-quickchart {\n",
              "      --bg-color: #3B4455;\n",
              "      --fill-color: #D2E3FC;\n",
              "      --hover-bg-color: #434B5C;\n",
              "      --hover-fill-color: #FFFFFF;\n",
              "      --disabled-bg-color: #3B4455;\n",
              "      --disabled-fill-color: #666;\n",
              "  }\n",
              "\n",
              "  .colab-df-quickchart {\n",
              "    background-color: var(--bg-color);\n",
              "    border: none;\n",
              "    border-radius: 50%;\n",
              "    cursor: pointer;\n",
              "    display: none;\n",
              "    fill: var(--fill-color);\n",
              "    height: 32px;\n",
              "    padding: 0;\n",
              "    width: 32px;\n",
              "  }\n",
              "\n",
              "  .colab-df-quickchart:hover {\n",
              "    background-color: var(--hover-bg-color);\n",
              "    box-shadow: 0 1px 2px rgba(60, 64, 67, 0.3), 0 1px 3px 1px rgba(60, 64, 67, 0.15);\n",
              "    fill: var(--button-hover-fill-color);\n",
              "  }\n",
              "\n",
              "  .colab-df-quickchart-complete:disabled,\n",
              "  .colab-df-quickchart-complete:disabled:hover {\n",
              "    background-color: var(--disabled-bg-color);\n",
              "    fill: var(--disabled-fill-color);\n",
              "    box-shadow: none;\n",
              "  }\n",
              "\n",
              "  .colab-df-spinner {\n",
              "    border: 2px solid var(--fill-color);\n",
              "    border-color: transparent;\n",
              "    border-bottom-color: var(--fill-color);\n",
              "    animation:\n",
              "      spin 1s steps(1) infinite;\n",
              "  }\n",
              "\n",
              "  @keyframes spin {\n",
              "    0% {\n",
              "      border-color: transparent;\n",
              "      border-bottom-color: var(--fill-color);\n",
              "      border-left-color: var(--fill-color);\n",
              "    }\n",
              "    20% {\n",
              "      border-color: transparent;\n",
              "      border-left-color: var(--fill-color);\n",
              "      border-top-color: var(--fill-color);\n",
              "    }\n",
              "    30% {\n",
              "      border-color: transparent;\n",
              "      border-left-color: var(--fill-color);\n",
              "      border-top-color: var(--fill-color);\n",
              "      border-right-color: var(--fill-color);\n",
              "    }\n",
              "    40% {\n",
              "      border-color: transparent;\n",
              "      border-right-color: var(--fill-color);\n",
              "      border-top-color: var(--fill-color);\n",
              "    }\n",
              "    60% {\n",
              "      border-color: transparent;\n",
              "      border-right-color: var(--fill-color);\n",
              "    }\n",
              "    80% {\n",
              "      border-color: transparent;\n",
              "      border-right-color: var(--fill-color);\n",
              "      border-bottom-color: var(--fill-color);\n",
              "    }\n",
              "    90% {\n",
              "      border-color: transparent;\n",
              "      border-bottom-color: var(--fill-color);\n",
              "    }\n",
              "  }\n",
              "</style>\n",
              "\n",
              "  <script>\n",
              "    async function quickchart(key) {\n",
              "      const quickchartButtonEl =\n",
              "        document.querySelector('#' + key + ' button');\n",
              "      quickchartButtonEl.disabled = true;  // To prevent multiple clicks.\n",
              "      quickchartButtonEl.classList.add('colab-df-spinner');\n",
              "      try {\n",
              "        const charts = await google.colab.kernel.invokeFunction(\n",
              "            'suggestCharts', [key], {});\n",
              "      } catch (error) {\n",
              "        console.error('Error during call to suggestCharts:', error);\n",
              "      }\n",
              "      quickchartButtonEl.classList.remove('colab-df-spinner');\n",
              "      quickchartButtonEl.classList.add('colab-df-quickchart-complete');\n",
              "    }\n",
              "    (() => {\n",
              "      let quickchartButtonEl =\n",
              "        document.querySelector('#df-023b8368-9ef3-44f8-8909-86b5bb8ac85f button');\n",
              "      quickchartButtonEl.style.display =\n",
              "        google.colab.kernel.accessAllowed ? 'block' : 'none';\n",
              "    })();\n",
              "  </script>\n",
              "</div>\n",
              "    </div>\n",
              "  </div>\n"
            ]
          },
          "metadata": {},
          "execution_count": 16
        }
      ]
    },
    {
      "cell_type": "markdown",
      "source": [
        "It can be concluded that for the four variables (Attrition, Gender, Over18, OverTime), there are not an specific order how ever, for gender, a random selection between 0 and 1 will be chosen while the others will be 0 -> No, 1 -> Yes"
      ],
      "metadata": {
        "id": "bu55ohIm_UjJ"
      }
    },
    {
      "cell_type": "markdown",
      "source": [
        "######3.2.1.1.c Multiple output variables\n",
        "Variables\n",
        "\n",
        "Ordinal attibute variables:\n",
        "\n",
        "*   BusinessTravel - Non-Travel -> 1, Travel_Rarely -> 2, Travel_Frequently -> 3\n",
        "*   MaritalStatus - Single -> 1, Married -> 2, Divorced -> 3\n",
        "\n",
        "Nominal attribute variables:\n",
        "Random mapping with LabelEncoder will be used.\n",
        "*   Department\n",
        "*   EducationField\n",
        "*   JobRole"
      ],
      "metadata": {
        "id": "AlKKbPfP_6x8"
      }
    },
    {
      "cell_type": "markdown",
      "source": [
        "#####3.2.1.2 Mapping - change previously indicated variables"
      ],
      "metadata": {
        "id": "rE1q-t19ByHR"
      }
    },
    {
      "cell_type": "markdown",
      "source": [
        "######3.2.1.2.a Random mapping"
      ],
      "metadata": {
        "id": "qytBdtwPDiRn"
      }
    },
    {
      "cell_type": "markdown",
      "source": [
        "Source:\n",
        "\n",
        "*   Label Encoding: (https://scikit-learn.org/stable/modules/generated/sklearn.preprocessing.LabelEncoder.html)"
      ],
      "metadata": {
        "id": "QxVufWC8CXO-"
      }
    },
    {
      "cell_type": "code",
      "source": [
        "# importing LabelEncoder\n",
        "from sklearn.preprocessing import LabelEncoder\n",
        "\n",
        "#list of attributes to be randomly mapped\n",
        "le = LabelEncoder()\n",
        "ls = ['Department','EducationField','JobRole','Gender']\n",
        "\n",
        "#loop through the list of attributes to be randomly mapped\n",
        "for col in ls:\n",
        "  df[col] = le.fit_transform(df[col])"
      ],
      "metadata": {
        "id": "gafDHAgPCJdP"
      },
      "execution_count": null,
      "outputs": []
    },
    {
      "cell_type": "markdown",
      "source": [
        "######3.2.1.2.b Manual mapping"
      ],
      "metadata": {
        "id": "3rpBcgUPDktB"
      }
    },
    {
      "cell_type": "code",
      "source": [
        "df['Attrition'] = df['Attrition'].map({'Yes':1,'No':0})\n",
        "df['Over18'] = df['Over18'].map({'Y':1})\n",
        "df['OverTime'] = df['OverTime'].map({'Yes':1,'No':0})\n",
        "df['BusinessTravel'] = df['BusinessTravel'].map({'Non-Travel':1,'Travel_Rarely':2, 'Travel_Frequently':3})\n",
        "df['MaritalStatus'] = df['MaritalStatus'].map({'Single':1,'Married':2, 'Divorced':3})"
      ],
      "metadata": {
        "id": "E9b0b40eDmI9"
      },
      "execution_count": null,
      "outputs": []
    },
    {
      "cell_type": "code",
      "source": [
        "df.info()"
      ],
      "metadata": {
        "colab": {
          "base_uri": "https://localhost:8080/"
        },
        "id": "Vtmm3prkErHR",
        "outputId": "09e374b7-0300-4218-e077-93548cd15e39"
      },
      "execution_count": null,
      "outputs": [
        {
          "output_type": "stream",
          "name": "stdout",
          "text": [
            "<class 'pandas.core.frame.DataFrame'>\n",
            "RangeIndex: 1470 entries, 0 to 1469\n",
            "Data columns (total 35 columns):\n",
            " #   Column                    Non-Null Count  Dtype\n",
            "---  ------                    --------------  -----\n",
            " 0   Age                       1470 non-null   int64\n",
            " 1   Attrition                 1470 non-null   int64\n",
            " 2   BusinessTravel            1470 non-null   int64\n",
            " 3   DailyRate                 1470 non-null   int64\n",
            " 4   Department                1470 non-null   int64\n",
            " 5   DistanceFromHome          1470 non-null   int64\n",
            " 6   Education                 1470 non-null   int64\n",
            " 7   EducationField            1470 non-null   int64\n",
            " 8   EmployeeCount             1470 non-null   int64\n",
            " 9   EmployeeNumber            1470 non-null   int64\n",
            " 10  EnvironmentSatisfaction   1470 non-null   int64\n",
            " 11  Gender                    1470 non-null   int64\n",
            " 12  HourlyRate                1470 non-null   int64\n",
            " 13  JobInvolvement            1470 non-null   int64\n",
            " 14  JobLevel                  1470 non-null   int64\n",
            " 15  JobRole                   1470 non-null   int64\n",
            " 16  JobSatisfaction           1470 non-null   int64\n",
            " 17  MaritalStatus             1470 non-null   int64\n",
            " 18  MonthlyIncome             1470 non-null   int64\n",
            " 19  MonthlyRate               1470 non-null   int64\n",
            " 20  NumCompaniesWorked        1470 non-null   int64\n",
            " 21  Over18                    1470 non-null   int64\n",
            " 22  OverTime                  1470 non-null   int64\n",
            " 23  PercentSalaryHike         1470 non-null   int64\n",
            " 24  PerformanceRating         1470 non-null   int64\n",
            " 25  RelationshipSatisfaction  1470 non-null   int64\n",
            " 26  StandardHours             1470 non-null   int64\n",
            " 27  StockOptionLevel          1470 non-null   int64\n",
            " 28  TotalWorkingYears         1470 non-null   int64\n",
            " 29  TrainingTimesLastYear     1470 non-null   int64\n",
            " 30  WorkLifeBalance           1470 non-null   int64\n",
            " 31  YearsAtCompany            1470 non-null   int64\n",
            " 32  YearsInCurrentRole        1470 non-null   int64\n",
            " 33  YearsSinceLastPromotion   1470 non-null   int64\n",
            " 34  YearsWithCurrManager      1470 non-null   int64\n",
            "dtypes: int64(35)\n",
            "memory usage: 402.1 KB\n"
          ]
        }
      ]
    },
    {
      "cell_type": "code",
      "source": [
        " df.describe()"
      ],
      "metadata": {
        "colab": {
          "base_uri": "https://localhost:8080/"
        },
        "id": "ooh35_TeEwUq",
        "outputId": "cefeb6d3-4917-4300-f8ea-b16f397d3afb"
      },
      "execution_count": null,
      "outputs": [
        {
          "output_type": "execute_result",
          "data": {
            "text/plain": [
              "               Age    Attrition  BusinessTravel    DailyRate   Department  \\\n",
              "count  1470.000000  1470.000000     1470.000000  1470.000000  1470.000000   \n",
              "mean     36.923810     0.161224        2.086395   802.485714     1.260544   \n",
              "std       9.135373     0.367863        0.532170   403.509100     0.527792   \n",
              "min      18.000000     0.000000        1.000000   102.000000     0.000000   \n",
              "25%      30.000000     0.000000        2.000000   465.000000     1.000000   \n",
              "50%      36.000000     0.000000        2.000000   802.000000     1.000000   \n",
              "75%      43.000000     0.000000        2.000000  1157.000000     2.000000   \n",
              "max      60.000000     1.000000        3.000000  1499.000000     2.000000   \n",
              "\n",
              "       DistanceFromHome    Education  EducationField  EmployeeCount  \\\n",
              "count       1470.000000  1470.000000     1470.000000         1470.0   \n",
              "mean           9.192517     2.912925        2.247619            1.0   \n",
              "std            8.106864     1.024165        1.331369            0.0   \n",
              "min            1.000000     1.000000        0.000000            1.0   \n",
              "25%            2.000000     2.000000        1.000000            1.0   \n",
              "50%            7.000000     3.000000        2.000000            1.0   \n",
              "75%           14.000000     4.000000        3.000000            1.0   \n",
              "max           29.000000     5.000000        5.000000            1.0   \n",
              "\n",
              "       EmployeeNumber  ...  RelationshipSatisfaction  StandardHours  \\\n",
              "count     1470.000000  ...               1470.000000         1470.0   \n",
              "mean      1024.865306  ...                  2.712245           80.0   \n",
              "std        602.024335  ...                  1.081209            0.0   \n",
              "min          1.000000  ...                  1.000000           80.0   \n",
              "25%        491.250000  ...                  2.000000           80.0   \n",
              "50%       1020.500000  ...                  3.000000           80.0   \n",
              "75%       1555.750000  ...                  4.000000           80.0   \n",
              "max       2068.000000  ...                  4.000000           80.0   \n",
              "\n",
              "       StockOptionLevel  TotalWorkingYears  TrainingTimesLastYear  \\\n",
              "count       1470.000000        1470.000000            1470.000000   \n",
              "mean           0.793878          11.279592               2.799320   \n",
              "std            0.852077           7.780782               1.289271   \n",
              "min            0.000000           0.000000               0.000000   \n",
              "25%            0.000000           6.000000               2.000000   \n",
              "50%            1.000000          10.000000               3.000000   \n",
              "75%            1.000000          15.000000               3.000000   \n",
              "max            3.000000          40.000000               6.000000   \n",
              "\n",
              "       WorkLifeBalance  YearsAtCompany  YearsInCurrentRole  \\\n",
              "count      1470.000000     1470.000000         1470.000000   \n",
              "mean          2.761224        7.008163            4.229252   \n",
              "std           0.706476        6.126525            3.623137   \n",
              "min           1.000000        0.000000            0.000000   \n",
              "25%           2.000000        3.000000            2.000000   \n",
              "50%           3.000000        5.000000            3.000000   \n",
              "75%           3.000000        9.000000            7.000000   \n",
              "max           4.000000       40.000000           18.000000   \n",
              "\n",
              "       YearsSinceLastPromotion  YearsWithCurrManager  \n",
              "count              1470.000000           1470.000000  \n",
              "mean                  2.187755              4.123129  \n",
              "std                   3.222430              3.568136  \n",
              "min                   0.000000              0.000000  \n",
              "25%                   0.000000              2.000000  \n",
              "50%                   1.000000              3.000000  \n",
              "75%                   3.000000              7.000000  \n",
              "max                  15.000000             17.000000  \n",
              "\n",
              "[8 rows x 35 columns]"
            ],
            "text/html": [
              "\n",
              "  <div id=\"df-bd17ffc9-2871-4131-b6a4-fff48f6998ca\" class=\"colab-df-container\">\n",
              "    <div>\n",
              "<style scoped>\n",
              "    .dataframe tbody tr th:only-of-type {\n",
              "        vertical-align: middle;\n",
              "    }\n",
              "\n",
              "    .dataframe tbody tr th {\n",
              "        vertical-align: top;\n",
              "    }\n",
              "\n",
              "    .dataframe thead th {\n",
              "        text-align: right;\n",
              "    }\n",
              "</style>\n",
              "<table border=\"1\" class=\"dataframe\">\n",
              "  <thead>\n",
              "    <tr style=\"text-align: right;\">\n",
              "      <th></th>\n",
              "      <th>Age</th>\n",
              "      <th>Attrition</th>\n",
              "      <th>BusinessTravel</th>\n",
              "      <th>DailyRate</th>\n",
              "      <th>Department</th>\n",
              "      <th>DistanceFromHome</th>\n",
              "      <th>Education</th>\n",
              "      <th>EducationField</th>\n",
              "      <th>EmployeeCount</th>\n",
              "      <th>EmployeeNumber</th>\n",
              "      <th>...</th>\n",
              "      <th>RelationshipSatisfaction</th>\n",
              "      <th>StandardHours</th>\n",
              "      <th>StockOptionLevel</th>\n",
              "      <th>TotalWorkingYears</th>\n",
              "      <th>TrainingTimesLastYear</th>\n",
              "      <th>WorkLifeBalance</th>\n",
              "      <th>YearsAtCompany</th>\n",
              "      <th>YearsInCurrentRole</th>\n",
              "      <th>YearsSinceLastPromotion</th>\n",
              "      <th>YearsWithCurrManager</th>\n",
              "    </tr>\n",
              "  </thead>\n",
              "  <tbody>\n",
              "    <tr>\n",
              "      <th>count</th>\n",
              "      <td>1470.000000</td>\n",
              "      <td>1470.000000</td>\n",
              "      <td>1470.000000</td>\n",
              "      <td>1470.000000</td>\n",
              "      <td>1470.000000</td>\n",
              "      <td>1470.000000</td>\n",
              "      <td>1470.000000</td>\n",
              "      <td>1470.000000</td>\n",
              "      <td>1470.0</td>\n",
              "      <td>1470.000000</td>\n",
              "      <td>...</td>\n",
              "      <td>1470.000000</td>\n",
              "      <td>1470.0</td>\n",
              "      <td>1470.000000</td>\n",
              "      <td>1470.000000</td>\n",
              "      <td>1470.000000</td>\n",
              "      <td>1470.000000</td>\n",
              "      <td>1470.000000</td>\n",
              "      <td>1470.000000</td>\n",
              "      <td>1470.000000</td>\n",
              "      <td>1470.000000</td>\n",
              "    </tr>\n",
              "    <tr>\n",
              "      <th>mean</th>\n",
              "      <td>36.923810</td>\n",
              "      <td>0.161224</td>\n",
              "      <td>2.086395</td>\n",
              "      <td>802.485714</td>\n",
              "      <td>1.260544</td>\n",
              "      <td>9.192517</td>\n",
              "      <td>2.912925</td>\n",
              "      <td>2.247619</td>\n",
              "      <td>1.0</td>\n",
              "      <td>1024.865306</td>\n",
              "      <td>...</td>\n",
              "      <td>2.712245</td>\n",
              "      <td>80.0</td>\n",
              "      <td>0.793878</td>\n",
              "      <td>11.279592</td>\n",
              "      <td>2.799320</td>\n",
              "      <td>2.761224</td>\n",
              "      <td>7.008163</td>\n",
              "      <td>4.229252</td>\n",
              "      <td>2.187755</td>\n",
              "      <td>4.123129</td>\n",
              "    </tr>\n",
              "    <tr>\n",
              "      <th>std</th>\n",
              "      <td>9.135373</td>\n",
              "      <td>0.367863</td>\n",
              "      <td>0.532170</td>\n",
              "      <td>403.509100</td>\n",
              "      <td>0.527792</td>\n",
              "      <td>8.106864</td>\n",
              "      <td>1.024165</td>\n",
              "      <td>1.331369</td>\n",
              "      <td>0.0</td>\n",
              "      <td>602.024335</td>\n",
              "      <td>...</td>\n",
              "      <td>1.081209</td>\n",
              "      <td>0.0</td>\n",
              "      <td>0.852077</td>\n",
              "      <td>7.780782</td>\n",
              "      <td>1.289271</td>\n",
              "      <td>0.706476</td>\n",
              "      <td>6.126525</td>\n",
              "      <td>3.623137</td>\n",
              "      <td>3.222430</td>\n",
              "      <td>3.568136</td>\n",
              "    </tr>\n",
              "    <tr>\n",
              "      <th>min</th>\n",
              "      <td>18.000000</td>\n",
              "      <td>0.000000</td>\n",
              "      <td>1.000000</td>\n",
              "      <td>102.000000</td>\n",
              "      <td>0.000000</td>\n",
              "      <td>1.000000</td>\n",
              "      <td>1.000000</td>\n",
              "      <td>0.000000</td>\n",
              "      <td>1.0</td>\n",
              "      <td>1.000000</td>\n",
              "      <td>...</td>\n",
              "      <td>1.000000</td>\n",
              "      <td>80.0</td>\n",
              "      <td>0.000000</td>\n",
              "      <td>0.000000</td>\n",
              "      <td>0.000000</td>\n",
              "      <td>1.000000</td>\n",
              "      <td>0.000000</td>\n",
              "      <td>0.000000</td>\n",
              "      <td>0.000000</td>\n",
              "      <td>0.000000</td>\n",
              "    </tr>\n",
              "    <tr>\n",
              "      <th>25%</th>\n",
              "      <td>30.000000</td>\n",
              "      <td>0.000000</td>\n",
              "      <td>2.000000</td>\n",
              "      <td>465.000000</td>\n",
              "      <td>1.000000</td>\n",
              "      <td>2.000000</td>\n",
              "      <td>2.000000</td>\n",
              "      <td>1.000000</td>\n",
              "      <td>1.0</td>\n",
              "      <td>491.250000</td>\n",
              "      <td>...</td>\n",
              "      <td>2.000000</td>\n",
              "      <td>80.0</td>\n",
              "      <td>0.000000</td>\n",
              "      <td>6.000000</td>\n",
              "      <td>2.000000</td>\n",
              "      <td>2.000000</td>\n",
              "      <td>3.000000</td>\n",
              "      <td>2.000000</td>\n",
              "      <td>0.000000</td>\n",
              "      <td>2.000000</td>\n",
              "    </tr>\n",
              "    <tr>\n",
              "      <th>50%</th>\n",
              "      <td>36.000000</td>\n",
              "      <td>0.000000</td>\n",
              "      <td>2.000000</td>\n",
              "      <td>802.000000</td>\n",
              "      <td>1.000000</td>\n",
              "      <td>7.000000</td>\n",
              "      <td>3.000000</td>\n",
              "      <td>2.000000</td>\n",
              "      <td>1.0</td>\n",
              "      <td>1020.500000</td>\n",
              "      <td>...</td>\n",
              "      <td>3.000000</td>\n",
              "      <td>80.0</td>\n",
              "      <td>1.000000</td>\n",
              "      <td>10.000000</td>\n",
              "      <td>3.000000</td>\n",
              "      <td>3.000000</td>\n",
              "      <td>5.000000</td>\n",
              "      <td>3.000000</td>\n",
              "      <td>1.000000</td>\n",
              "      <td>3.000000</td>\n",
              "    </tr>\n",
              "    <tr>\n",
              "      <th>75%</th>\n",
              "      <td>43.000000</td>\n",
              "      <td>0.000000</td>\n",
              "      <td>2.000000</td>\n",
              "      <td>1157.000000</td>\n",
              "      <td>2.000000</td>\n",
              "      <td>14.000000</td>\n",
              "      <td>4.000000</td>\n",
              "      <td>3.000000</td>\n",
              "      <td>1.0</td>\n",
              "      <td>1555.750000</td>\n",
              "      <td>...</td>\n",
              "      <td>4.000000</td>\n",
              "      <td>80.0</td>\n",
              "      <td>1.000000</td>\n",
              "      <td>15.000000</td>\n",
              "      <td>3.000000</td>\n",
              "      <td>3.000000</td>\n",
              "      <td>9.000000</td>\n",
              "      <td>7.000000</td>\n",
              "      <td>3.000000</td>\n",
              "      <td>7.000000</td>\n",
              "    </tr>\n",
              "    <tr>\n",
              "      <th>max</th>\n",
              "      <td>60.000000</td>\n",
              "      <td>1.000000</td>\n",
              "      <td>3.000000</td>\n",
              "      <td>1499.000000</td>\n",
              "      <td>2.000000</td>\n",
              "      <td>29.000000</td>\n",
              "      <td>5.000000</td>\n",
              "      <td>5.000000</td>\n",
              "      <td>1.0</td>\n",
              "      <td>2068.000000</td>\n",
              "      <td>...</td>\n",
              "      <td>4.000000</td>\n",
              "      <td>80.0</td>\n",
              "      <td>3.000000</td>\n",
              "      <td>40.000000</td>\n",
              "      <td>6.000000</td>\n",
              "      <td>4.000000</td>\n",
              "      <td>40.000000</td>\n",
              "      <td>18.000000</td>\n",
              "      <td>15.000000</td>\n",
              "      <td>17.000000</td>\n",
              "    </tr>\n",
              "  </tbody>\n",
              "</table>\n",
              "<p>8 rows × 35 columns</p>\n",
              "</div>\n",
              "    <div class=\"colab-df-buttons\">\n",
              "\n",
              "  <div class=\"colab-df-container\">\n",
              "    <button class=\"colab-df-convert\" onclick=\"convertToInteractive('df-bd17ffc9-2871-4131-b6a4-fff48f6998ca')\"\n",
              "            title=\"Convert this dataframe to an interactive table.\"\n",
              "            style=\"display:none;\">\n",
              "\n",
              "  <svg xmlns=\"http://www.w3.org/2000/svg\" height=\"24px\" viewBox=\"0 -960 960 960\">\n",
              "    <path d=\"M120-120v-720h720v720H120Zm60-500h600v-160H180v160Zm220 220h160v-160H400v160Zm0 220h160v-160H400v160ZM180-400h160v-160H180v160Zm440 0h160v-160H620v160ZM180-180h160v-160H180v160Zm440 0h160v-160H620v160Z\"/>\n",
              "  </svg>\n",
              "    </button>\n",
              "\n",
              "  <style>\n",
              "    .colab-df-container {\n",
              "      display:flex;\n",
              "      gap: 12px;\n",
              "    }\n",
              "\n",
              "    .colab-df-convert {\n",
              "      background-color: #E8F0FE;\n",
              "      border: none;\n",
              "      border-radius: 50%;\n",
              "      cursor: pointer;\n",
              "      display: none;\n",
              "      fill: #1967D2;\n",
              "      height: 32px;\n",
              "      padding: 0 0 0 0;\n",
              "      width: 32px;\n",
              "    }\n",
              "\n",
              "    .colab-df-convert:hover {\n",
              "      background-color: #E2EBFA;\n",
              "      box-shadow: 0px 1px 2px rgba(60, 64, 67, 0.3), 0px 1px 3px 1px rgba(60, 64, 67, 0.15);\n",
              "      fill: #174EA6;\n",
              "    }\n",
              "\n",
              "    .colab-df-buttons div {\n",
              "      margin-bottom: 4px;\n",
              "    }\n",
              "\n",
              "    [theme=dark] .colab-df-convert {\n",
              "      background-color: #3B4455;\n",
              "      fill: #D2E3FC;\n",
              "    }\n",
              "\n",
              "    [theme=dark] .colab-df-convert:hover {\n",
              "      background-color: #434B5C;\n",
              "      box-shadow: 0px 1px 3px 1px rgba(0, 0, 0, 0.15);\n",
              "      filter: drop-shadow(0px 1px 2px rgba(0, 0, 0, 0.3));\n",
              "      fill: #FFFFFF;\n",
              "    }\n",
              "  </style>\n",
              "\n",
              "    <script>\n",
              "      const buttonEl =\n",
              "        document.querySelector('#df-bd17ffc9-2871-4131-b6a4-fff48f6998ca button.colab-df-convert');\n",
              "      buttonEl.style.display =\n",
              "        google.colab.kernel.accessAllowed ? 'block' : 'none';\n",
              "\n",
              "      async function convertToInteractive(key) {\n",
              "        const element = document.querySelector('#df-bd17ffc9-2871-4131-b6a4-fff48f6998ca');\n",
              "        const dataTable =\n",
              "          await google.colab.kernel.invokeFunction('convertToInteractive',\n",
              "                                                    [key], {});\n",
              "        if (!dataTable) return;\n",
              "\n",
              "        const docLinkHtml = 'Like what you see? Visit the ' +\n",
              "          '<a target=\"_blank\" href=https://colab.research.google.com/notebooks/data_table.ipynb>data table notebook</a>'\n",
              "          + ' to learn more about interactive tables.';\n",
              "        element.innerHTML = '';\n",
              "        dataTable['output_type'] = 'display_data';\n",
              "        await google.colab.output.renderOutput(dataTable, element);\n",
              "        const docLink = document.createElement('div');\n",
              "        docLink.innerHTML = docLinkHtml;\n",
              "        element.appendChild(docLink);\n",
              "      }\n",
              "    </script>\n",
              "  </div>\n",
              "\n",
              "\n",
              "<div id=\"df-b158e317-0c8b-4780-8b9a-f4282ffe2f0e\">\n",
              "  <button class=\"colab-df-quickchart\" onclick=\"quickchart('df-b158e317-0c8b-4780-8b9a-f4282ffe2f0e')\"\n",
              "            title=\"Suggest charts\"\n",
              "            style=\"display:none;\">\n",
              "\n",
              "<svg xmlns=\"http://www.w3.org/2000/svg\" height=\"24px\"viewBox=\"0 0 24 24\"\n",
              "     width=\"24px\">\n",
              "    <g>\n",
              "        <path d=\"M19 3H5c-1.1 0-2 .9-2 2v14c0 1.1.9 2 2 2h14c1.1 0 2-.9 2-2V5c0-1.1-.9-2-2-2zM9 17H7v-7h2v7zm4 0h-2V7h2v10zm4 0h-2v-4h2v4z\"/>\n",
              "    </g>\n",
              "</svg>\n",
              "  </button>\n",
              "\n",
              "<style>\n",
              "  .colab-df-quickchart {\n",
              "      --bg-color: #E8F0FE;\n",
              "      --fill-color: #1967D2;\n",
              "      --hover-bg-color: #E2EBFA;\n",
              "      --hover-fill-color: #174EA6;\n",
              "      --disabled-fill-color: #AAA;\n",
              "      --disabled-bg-color: #DDD;\n",
              "  }\n",
              "\n",
              "  [theme=dark] .colab-df-quickchart {\n",
              "      --bg-color: #3B4455;\n",
              "      --fill-color: #D2E3FC;\n",
              "      --hover-bg-color: #434B5C;\n",
              "      --hover-fill-color: #FFFFFF;\n",
              "      --disabled-bg-color: #3B4455;\n",
              "      --disabled-fill-color: #666;\n",
              "  }\n",
              "\n",
              "  .colab-df-quickchart {\n",
              "    background-color: var(--bg-color);\n",
              "    border: none;\n",
              "    border-radius: 50%;\n",
              "    cursor: pointer;\n",
              "    display: none;\n",
              "    fill: var(--fill-color);\n",
              "    height: 32px;\n",
              "    padding: 0;\n",
              "    width: 32px;\n",
              "  }\n",
              "\n",
              "  .colab-df-quickchart:hover {\n",
              "    background-color: var(--hover-bg-color);\n",
              "    box-shadow: 0 1px 2px rgba(60, 64, 67, 0.3), 0 1px 3px 1px rgba(60, 64, 67, 0.15);\n",
              "    fill: var(--button-hover-fill-color);\n",
              "  }\n",
              "\n",
              "  .colab-df-quickchart-complete:disabled,\n",
              "  .colab-df-quickchart-complete:disabled:hover {\n",
              "    background-color: var(--disabled-bg-color);\n",
              "    fill: var(--disabled-fill-color);\n",
              "    box-shadow: none;\n",
              "  }\n",
              "\n",
              "  .colab-df-spinner {\n",
              "    border: 2px solid var(--fill-color);\n",
              "    border-color: transparent;\n",
              "    border-bottom-color: var(--fill-color);\n",
              "    animation:\n",
              "      spin 1s steps(1) infinite;\n",
              "  }\n",
              "\n",
              "  @keyframes spin {\n",
              "    0% {\n",
              "      border-color: transparent;\n",
              "      border-bottom-color: var(--fill-color);\n",
              "      border-left-color: var(--fill-color);\n",
              "    }\n",
              "    20% {\n",
              "      border-color: transparent;\n",
              "      border-left-color: var(--fill-color);\n",
              "      border-top-color: var(--fill-color);\n",
              "    }\n",
              "    30% {\n",
              "      border-color: transparent;\n",
              "      border-left-color: var(--fill-color);\n",
              "      border-top-color: var(--fill-color);\n",
              "      border-right-color: var(--fill-color);\n",
              "    }\n",
              "    40% {\n",
              "      border-color: transparent;\n",
              "      border-right-color: var(--fill-color);\n",
              "      border-top-color: var(--fill-color);\n",
              "    }\n",
              "    60% {\n",
              "      border-color: transparent;\n",
              "      border-right-color: var(--fill-color);\n",
              "    }\n",
              "    80% {\n",
              "      border-color: transparent;\n",
              "      border-right-color: var(--fill-color);\n",
              "      border-bottom-color: var(--fill-color);\n",
              "    }\n",
              "    90% {\n",
              "      border-color: transparent;\n",
              "      border-bottom-color: var(--fill-color);\n",
              "    }\n",
              "  }\n",
              "</style>\n",
              "\n",
              "  <script>\n",
              "    async function quickchart(key) {\n",
              "      const quickchartButtonEl =\n",
              "        document.querySelector('#' + key + ' button');\n",
              "      quickchartButtonEl.disabled = true;  // To prevent multiple clicks.\n",
              "      quickchartButtonEl.classList.add('colab-df-spinner');\n",
              "      try {\n",
              "        const charts = await google.colab.kernel.invokeFunction(\n",
              "            'suggestCharts', [key], {});\n",
              "      } catch (error) {\n",
              "        console.error('Error during call to suggestCharts:', error);\n",
              "      }\n",
              "      quickchartButtonEl.classList.remove('colab-df-spinner');\n",
              "      quickchartButtonEl.classList.add('colab-df-quickchart-complete');\n",
              "    }\n",
              "    (() => {\n",
              "      let quickchartButtonEl =\n",
              "        document.querySelector('#df-b158e317-0c8b-4780-8b9a-f4282ffe2f0e button');\n",
              "      quickchartButtonEl.style.display =\n",
              "        google.colab.kernel.accessAllowed ? 'block' : 'none';\n",
              "    })();\n",
              "  </script>\n",
              "</div>\n",
              "    </div>\n",
              "  </div>\n"
            ]
          },
          "metadata": {},
          "execution_count": 20
        }
      ]
    },
    {
      "cell_type": "markdown",
      "source": [
        "######3.2.1.2.c Classification of attributes by their properties:\n",
        "\n",
        "*  Age - Ratio\n",
        "*  Attrition - Nominal\n",
        "*  BusinessTravel - Ordinal\n",
        "*  DailyRate - Ratio\n",
        "*  Department - Nominal\n",
        "*  DistanceFromHome - Ratio\n",
        "*  Education - Ordinal\n",
        "*  EducationField - Nominal\n",
        "*  EmployeeCount - Nominal\n",
        "*  EmployeeNumber - Nominal\n",
        "*  EnvironmentSatisfaction - Ordinal\n",
        "*  Gender - Nominal\n",
        "*  HourlyRate - Ratio\n",
        "*  JobInvolvement - Ordinal\n",
        "*  JobLevel - Ordinal\n",
        "*  JobRole - Nominal\n",
        "*  JobSatisfaction - Ordinal (Variable to be analyzed)\n",
        "*  MaritalStatus - Ordinal\n",
        "*  MonthlyIncome - Ratio\n",
        "*  MonthlyRate - Ratio\n",
        "*  NumCompaniesWorked - Ordinal\n",
        "*  Over18 - Nominal\n",
        "*  OverTime - Nominal\n",
        "*  PercentSalaryHike - Ratio\n",
        "*  PerformanceRating - Ordinal\n",
        "*  RelationshipSatisfaction - Ordinal\n",
        "*  StandardHours - Nominal\n",
        "*  StockOptionLevel - Ordinal\n",
        "*  TotalWorkingYears - Ratio\n",
        "*  TrainingTimesLastYear - Ordinal\n",
        "*  WorkLifeBalance - Ordinal (Variable to be analyzed)\n",
        "*  YearsAtCompany - ratio\n",
        "*  YearsInCurrentRole - ratio\n",
        "*  YearsSinceLastPromotion - ratio\n",
        "*  YearsWithCurrManager - ratio\n"
      ],
      "metadata": {
        "id": "6XG9SEN5GuBN"
      }
    },
    {
      "cell_type": "markdown",
      "source": [
        "###3.3   Feature selection\n"
      ],
      "metadata": {
        "id": "i6ZR8eRNtSkX"
      }
    },
    {
      "cell_type": "markdown",
      "source": [
        "Considering that the two variables under analysis are discrete, this lead to a classification task. Thus, in order to elaborate the feature selection, different techniques were used such as:\n",
        "* Correlation matrix,\n",
        "* Chi-square test, and\n",
        "* Mutual_info_classifier\n",
        "\n",
        "Further information about each technique is provided in file \"GroupReport_Ruben_Monroy_Jayanth_Komala_Utku_Can.docx\""
      ],
      "metadata": {
        "id": "bOfxvm-JLccJ"
      }
    },
    {
      "cell_type": "markdown",
      "source": [
        "####3.3.1 Correlation Heatmap"
      ],
      "metadata": {
        "id": "sr0o_LKb4bvi"
      }
    },
    {
      "cell_type": "markdown",
      "source": [
        "Sources:\n",
        "\n",
        "*   How to create a seaborn correlation heatmap in Python?, https://www.geeksforgeeks.org/how-to-create-a-seaborn-correlation-heatmap-in-python/\n",
        "*   How to Create a Seaborn Correlation Heatmap in Python?, https://medium.com/@szabo.bibor/how-to-create-a-seaborn-correlation-heatmap-in-python-834c0686b88e\n",
        "*   sklearn.feature_selection.SelectKBest, https://scikit-learn.org/stable/modules/generated/sklearn.feature_selection.SelectKBest.html\n",
        "*   sklearn.feature_selection.mutual_info_classif, https://scikit-learn.org/stable/modules/generated/sklearn.feature_selection.mutual_info_classif.html#sklearn.feature_selection.mutual_info_classif\n",
        "*   sklearn.feature_selection.chi2, https://scikit-learn.org/stable/modules/generated/sklearn.feature_selection.chi2.html#sklearn.feature_selection.chi2"
      ],
      "metadata": {
        "id": "ZQxNXUYF4qYc"
      }
    },
    {
      "cell_type": "code",
      "source": [
        "#import required libraries\n",
        "import seaborn as sns\n",
        "import matplotlib.pyplot as plt\n",
        "\n",
        "plt.figure(figsize=(14, 11))\n",
        "\n",
        "dataplot = sns.heatmap(df.corr(), cmap=\"YlGnBu\", annot=True, fmt=\".2f\", vmin=-1, vmax=1, annot_kws={\"size\": 6})\n",
        "dataplot.set_title('Correlation Heatmap', fontdict={'fontsize':12}, pad=12);\n",
        "\n",
        "plt.show()"
      ],
      "metadata": {
        "colab": {
          "base_uri": "https://localhost:8080/",
          "height": 1000
        },
        "id": "vQrtqzA-4gnu",
        "outputId": "5e2428ba-60a9-4da8-e211-a3d58e55f9d3"
      },
      "execution_count": null,
      "outputs": [
        {
          "output_type": "display_data",
          "data": {
            "text/plain": [
              "<Figure size 1400x1100 with 2 Axes>"
            ],
            "image/png": "[encoded data removed]"
          },
          "metadata": {}
        }
      ]
    },
    {
      "cell_type": "markdown",
      "source": [
        "#####3.3.1.1 Correlation matrix insights\n",
        "\n",
        "1.   Variables \"EmployeeCount\", \"Over18\" and \"StandardHours\" do not provide any correlation values, due that these have only a single constant value for all rows, which means there is no variation.\n",
        "As \"EmployeeCount\", \"Over18\" and \"StandardHours\" variables do not provide useful information for understanding relationships with the variables under analysis, these will not be considerer in the models.\n",
        "\n",
        "**Categorical variables - Classification Analysis**\n",
        "\n",
        "2.   Regarding the variables under analysis WorkLifeBalance and JobSatisfaction, additional analysis is provided below to identify top correlated attributes\n",
        "\n",
        "\n"
      ],
      "metadata": {
        "id": "ywMljQINAi2D"
      }
    },
    {
      "cell_type": "markdown",
      "source": [
        "It is important to consider that the first feature selection scenario for the variables under analysis will be based on selection of top variables with correlation marix.\n",
        "\n",
        "However, considering that the dependent variables are mixed within discrete and continuous independent variables , others method such as mutual_info_classif, chi2 (for classification analysis) will be used for feature selection"
      ],
      "metadata": {
        "id": "F506QP2NJSc7"
      }
    },
    {
      "cell_type": "markdown",
      "source": [
        "####3.3.2 Feature selection"
      ],
      "metadata": {
        "id": "aTeXE2k-Tods"
      }
    },
    {
      "cell_type": "markdown",
      "source": [
        "#####3.3.2.1  WorkLifeBalance\n"
      ],
      "metadata": {
        "id": "6CmEmqtTUpb_"
      }
    },
    {
      "cell_type": "markdown",
      "source": [
        "######3.3.2.1.a Correlation"
      ],
      "metadata": {
        "id": "ZeG0rzFhkxq1"
      }
    },
    {
      "cell_type": "code",
      "source": [
        "#Classification analysis - WorkLifeBalance\n",
        "\n",
        "cor = df.drop(columns=['EmployeeCount','Over18','StandardHours']).corr()\n",
        "cor_target_v1 = abs(cor[\"WorkLifeBalance\"])\n",
        "cor_target_v1"
      ],
      "metadata": {
        "colab": {
          "base_uri": "https://localhost:8080/"
        },
        "id": "fFQ6YgkST-A7",
        "outputId": "d47a8659-8585-4775-8452-368cc33d6ade"
      },
      "execution_count": null,
      "outputs": [
        {
          "output_type": "execute_result",
          "data": {
            "text/plain": [
              "Age                         0.021490\n",
              "Attrition                   0.063939\n",
              "BusinessTravel              0.004209\n",
              "DailyRate                   0.037848\n",
              "Department                  0.026383\n",
              "DistanceFromHome            0.026556\n",
              "Education                   0.009819\n",
              "EducationField              0.041191\n",
              "EmployeeNumber              0.010309\n",
              "EnvironmentSatisfaction     0.027627\n",
              "Gender                      0.002753\n",
              "HourlyRate                  0.004607\n",
              "JobInvolvement              0.014617\n",
              "JobLevel                    0.037818\n",
              "JobRole                     0.027764\n",
              "JobSatisfaction             0.019459\n",
              "MaritalStatus               0.014708\n",
              "MonthlyIncome               0.030683\n",
              "MonthlyRate                 0.007963\n",
              "NumCompaniesWorked          0.008366\n",
              "OverTime                    0.027092\n",
              "PercentSalaryHike           0.003280\n",
              "PerformanceRating           0.002572\n",
              "RelationshipSatisfaction    0.019604\n",
              "StockOptionLevel            0.004129\n",
              "TotalWorkingYears           0.001008\n",
              "TrainingTimesLastYear       0.028072\n",
              "WorkLifeBalance             1.000000\n",
              "YearsAtCompany              0.012089\n",
              "YearsInCurrentRole          0.049856\n",
              "YearsSinceLastPromotion     0.008941\n",
              "YearsWithCurrManager        0.002759\n",
              "Name: WorkLifeBalance, dtype: float64"
            ]
          },
          "metadata": {},
          "execution_count": 59
        }
      ]
    },
    {
      "cell_type": "code",
      "source": [
        "#classification analysis -\n",
        "cor = df.drop(columns=['EmployeeCount','Over18','StandardHours']).corr()\n",
        "cor_target_v1 = abs(cor[\"WorkLifeBalance\"])\n",
        "cor_target_v1"
      ],
      "metadata": {
        "id": "UWGVOdN9ECRt",
        "colab": {
          "base_uri": "https://localhost:8080/"
        },
        "outputId": "5aeba643-f173-4250-c7cb-28f26160af6d"
      },
      "execution_count": null,
      "outputs": [
        {
          "output_type": "execute_result",
          "data": {
            "text/plain": [
              "Age                         0.021490\n",
              "Attrition                   0.063939\n",
              "BusinessTravel              0.004209\n",
              "DailyRate                   0.037848\n",
              "Department                  0.026383\n",
              "DistanceFromHome            0.026556\n",
              "Education                   0.009819\n",
              "EducationField              0.041191\n",
              "EmployeeNumber              0.010309\n",
              "EnvironmentSatisfaction     0.027627\n",
              "Gender                      0.002753\n",
              "HourlyRate                  0.004607\n",
              "JobInvolvement              0.014617\n",
              "JobLevel                    0.037818\n",
              "JobRole                     0.027764\n",
              "JobSatisfaction             0.019459\n",
              "MaritalStatus               0.014708\n",
              "MonthlyIncome               0.030683\n",
              "MonthlyRate                 0.007963\n",
              "NumCompaniesWorked          0.008366\n",
              "OverTime                    0.027092\n",
              "PercentSalaryHike           0.003280\n",
              "PerformanceRating           0.002572\n",
              "RelationshipSatisfaction    0.019604\n",
              "StockOptionLevel            0.004129\n",
              "TotalWorkingYears           0.001008\n",
              "TrainingTimesLastYear       0.028072\n",
              "WorkLifeBalance             1.000000\n",
              "YearsAtCompany              0.012089\n",
              "YearsInCurrentRole          0.049856\n",
              "YearsSinceLastPromotion     0.008941\n",
              "YearsWithCurrManager        0.002759\n",
              "Name: WorkLifeBalance, dtype: float64"
            ]
          },
          "metadata": {},
          "execution_count": 60
        }
      ]
    },
    {
      "cell_type": "code",
      "source": [
        "#choose those  with correlation > than x, inthis case x=0.02\n",
        "chosen_features_v1 = cor_target_v1[cor_target_v1>0.02]\n",
        "chosen_features_v1"
      ],
      "metadata": {
        "colab": {
          "base_uri": "https://localhost:8080/"
        },
        "id": "QMBww6G2UoSu",
        "outputId": "c7878c05-78df-4795-8d1e-f73b55c8267e"
      },
      "execution_count": null,
      "outputs": [
        {
          "output_type": "execute_result",
          "data": {
            "text/plain": [
              "Age                        0.021490\n",
              "Attrition                  0.063939\n",
              "DailyRate                  0.037848\n",
              "Department                 0.026383\n",
              "DistanceFromHome           0.026556\n",
              "EducationField             0.041191\n",
              "EnvironmentSatisfaction    0.027627\n",
              "JobLevel                   0.037818\n",
              "JobRole                    0.027764\n",
              "MonthlyIncome              0.030683\n",
              "OverTime                   0.027092\n",
              "TrainingTimesLastYear      0.028072\n",
              "WorkLifeBalance            1.000000\n",
              "YearsInCurrentRole         0.049856\n",
              "Name: WorkLifeBalance, dtype: float64"
            ]
          },
          "metadata": {},
          "execution_count": 61
        }
      ]
    },
    {
      "cell_type": "code",
      "source": [
        "#Attributes to be excluded, correlation <= than x, inthis case x=0.02\n",
        "chosen_features_v1 = cor_target_v1[cor_target_v1<=0.02]\n",
        "chosen_features_v1"
      ],
      "metadata": {
        "colab": {
          "base_uri": "https://localhost:8080/"
        },
        "id": "o0BuIPz74LTx",
        "outputId": "cc9bf380-f27a-45cf-8315-94bef44e4f4d"
      },
      "execution_count": null,
      "outputs": [
        {
          "output_type": "execute_result",
          "data": {
            "text/plain": [
              "BusinessTravel              0.004209\n",
              "Education                   0.009819\n",
              "EmployeeNumber              0.010309\n",
              "Gender                      0.002753\n",
              "HourlyRate                  0.004607\n",
              "JobInvolvement              0.014617\n",
              "JobSatisfaction             0.019459\n",
              "MaritalStatus               0.014708\n",
              "MonthlyRate                 0.007963\n",
              "NumCompaniesWorked          0.008366\n",
              "PercentSalaryHike           0.003280\n",
              "PerformanceRating           0.002572\n",
              "RelationshipSatisfaction    0.019604\n",
              "StockOptionLevel            0.004129\n",
              "TotalWorkingYears           0.001008\n",
              "YearsAtCompany              0.012089\n",
              "YearsSinceLastPromotion     0.008941\n",
              "YearsWithCurrManager        0.002759\n",
              "Name: WorkLifeBalance, dtype: float64"
            ]
          },
          "metadata": {},
          "execution_count": 62
        }
      ]
    },
    {
      "cell_type": "markdown",
      "source": [
        "######3.3.2.1.b Chi-square test"
      ],
      "metadata": {
        "id": "MdWRC9Cyd1sp"
      }
    },
    {
      "cell_type": "code",
      "source": [
        "#Import required libraries\n",
        "from sklearn.feature_selection import SelectKBest\n",
        "from sklearn.feature_selection import chi2\n",
        "\n",
        "#Split data\n",
        "X = df.drop(columns=['EmployeeCount','Over18','StandardHours'])\n",
        "y = df['WorkLifeBalance']\n",
        "\n",
        "# Select the top 15 features using chi-squared feature selection\n",
        "k = 16\n",
        "selected_features_Chi21 = SelectKBest(chi2, k=k).fit(X, y)\n",
        "X_new = selected_features_Chi21.transform(X)\n",
        "\n",
        "# Print the names of the selected features\n",
        "selected_indices_Chi21 = selected_features_Chi21.get_support(indices=True)\n",
        "selected_feature_names_Chi21 = X.columns[selected_indices_Chi21]\n",
        "print(\"Selected Feature Names:\")\n",
        "for idx, name in enumerate(selected_feature_names_Chi21):\n",
        "    value = X_new[0, idx]\n",
        "    print(f\"{name} \\t, Chi2 Test value: {value}\")\n"
      ],
      "metadata": {
        "colab": {
          "base_uri": "https://localhost:8080/"
        },
        "id": "kt-4VDyAd8Kl",
        "outputId": "d9dbb2c8-c1bc-4fb0-89b1-31d7091e949d"
      },
      "execution_count": null,
      "outputs": [
        {
          "output_type": "stream",
          "name": "stdout",
          "text": [
            "Selected Feature Names:\n",
            "Attrition \t, Chi2 Test value: 1\n",
            "DailyRate \t, Chi2 Test value: 1102\n",
            "DistanceFromHome \t, Chi2 Test value: 1\n",
            "EducationField \t, Chi2 Test value: 1\n",
            "EmployeeNumber \t, Chi2 Test value: 1\n",
            "HourlyRate \t, Chi2 Test value: 94\n",
            "JobRole \t, Chi2 Test value: 7\n",
            "MonthlyIncome \t, Chi2 Test value: 5993\n",
            "MonthlyRate \t, Chi2 Test value: 19479\n",
            "NumCompaniesWorked \t, Chi2 Test value: 8\n",
            "StockOptionLevel \t, Chi2 Test value: 0\n",
            "TotalWorkingYears \t, Chi2 Test value: 8\n",
            "WorkLifeBalance \t, Chi2 Test value: 1\n",
            "YearsAtCompany \t, Chi2 Test value: 6\n",
            "YearsInCurrentRole \t, Chi2 Test value: 4\n",
            "YearsSinceLastPromotion \t, Chi2 Test value: 0\n"
          ]
        }
      ]
    },
    {
      "cell_type": "markdown",
      "source": [
        "######3.3.2.1.c mutual_info_classif"
      ],
      "metadata": {
        "id": "Y2cTPKt0ih1s"
      }
    },
    {
      "cell_type": "code",
      "source": [
        "#Import required libraries\n",
        "from sklearn.feature_selection import SelectKBest\n",
        "from sklearn.feature_selection import mutual_info_classif\n",
        "\n",
        "#Split data\n",
        "X = df.drop(columns=['EmployeeCount','Over18','StandardHours'])\n",
        "y = df['WorkLifeBalance']\n",
        "\n",
        "# Select the top 15 features using mutual_info_classif feature selection\n",
        "k = 16\n",
        "selected_features_mic1 = SelectKBest(mutual_info_classif, k=k).fit(X, y)\n",
        "X_new = selected_features_mic1.transform(X)\n",
        "\n",
        "# Print the names of the selected features\n",
        "selected_indices_mic1 = selected_features_mic1.get_support(indices=True)\n",
        "selected_feature_names_mic1 = X.columns[selected_indices_mic1]\n",
        "print(\"Selected Feature Names:\")\n",
        "for idx, name in enumerate(selected_feature_names_mic1):\n",
        "    value = X_new[0, idx]\n",
        "    print(f\"{name} \\t, mutual_info_classif value: {value}\")"
      ],
      "metadata": {
        "colab": {
          "base_uri": "https://localhost:8080/"
        },
        "id": "cFAq4xeAihjL",
        "outputId": "f520b614-b37e-49c1-e118-cd2b7eb28872"
      },
      "execution_count": null,
      "outputs": [
        {
          "output_type": "stream",
          "name": "stdout",
          "text": [
            "Selected Feature Names:\n",
            "Age \t, mutual_info_classif value: 41\n",
            "Attrition \t, mutual_info_classif value: 1\n",
            "BusinessTravel \t, mutual_info_classif value: 2\n",
            "DailyRate \t, mutual_info_classif value: 1102\n",
            "Department \t, mutual_info_classif value: 2\n",
            "Education \t, mutual_info_classif value: 2\n",
            "EnvironmentSatisfaction \t, mutual_info_classif value: 2\n",
            "Gender \t, mutual_info_classif value: 0\n",
            "JobRole \t, mutual_info_classif value: 7\n",
            "MaritalStatus \t, mutual_info_classif value: 1\n",
            "MonthlyRate \t, mutual_info_classif value: 19479\n",
            "OverTime \t, mutual_info_classif value: 1\n",
            "StockOptionLevel \t, mutual_info_classif value: 0\n",
            "WorkLifeBalance \t, mutual_info_classif value: 1\n",
            "YearsInCurrentRole \t, mutual_info_classif value: 4\n",
            "YearsSinceLastPromotion \t, mutual_info_classif value: 0\n"
          ]
        }
      ]
    },
    {
      "cell_type": "markdown",
      "source": [
        "#####3.3.2.2 JobSatisfaction"
      ],
      "metadata": {
        "id": "_HClxaxbdVlp"
      }
    },
    {
      "cell_type": "markdown",
      "source": [
        "######3.3.2.2.a Correlation"
      ],
      "metadata": {
        "id": "NB8bbFgflO2z"
      }
    },
    {
      "cell_type": "code",
      "source": [
        "#Classification analysis - JobSatisfaction"
      ],
      "metadata": {
        "id": "jcePy7ReT95O"
      },
      "execution_count": null,
      "outputs": []
    },
    {
      "cell_type": "code",
      "source": [
        "cor = df.drop(columns=['EmployeeCount','Over18','StandardHours']).corr()\n",
        "cor_target_v2 = abs(cor[\"JobSatisfaction\"])\n",
        "cor_target_v2"
      ],
      "metadata": {
        "colab": {
          "base_uri": "https://localhost:8080/"
        },
        "id": "r90n0rcccxPG",
        "outputId": "ab22a358-e1e9-4d2a-9bc7-2206eb3425f5"
      },
      "execution_count": null,
      "outputs": [
        {
          "output_type": "execute_result",
          "data": {
            "text/plain": [
              "Age                         0.004892\n",
              "Attrition                   0.103481\n",
              "BusinessTravel              0.008666\n",
              "DailyRate                   0.030571\n",
              "Department                  0.021001\n",
              "DistanceFromHome            0.003669\n",
              "Education                   0.011296\n",
              "EducationField              0.034401\n",
              "EmployeeNumber              0.046247\n",
              "EnvironmentSatisfaction     0.006784\n",
              "Gender                      0.033252\n",
              "HourlyRate                  0.071335\n",
              "JobInvolvement              0.021476\n",
              "JobLevel                    0.001944\n",
              "JobRole                     0.017537\n",
              "JobSatisfaction             1.000000\n",
              "MaritalStatus               0.024360\n",
              "MonthlyIncome               0.007157\n",
              "MonthlyRate                 0.000644\n",
              "NumCompaniesWorked          0.055699\n",
              "OverTime                    0.024539\n",
              "PercentSalaryHike           0.020002\n",
              "PerformanceRating           0.002297\n",
              "RelationshipSatisfaction    0.012454\n",
              "StockOptionLevel            0.010690\n",
              "TotalWorkingYears           0.020185\n",
              "TrainingTimesLastYear       0.005779\n",
              "WorkLifeBalance             0.019459\n",
              "YearsAtCompany              0.003803\n",
              "YearsInCurrentRole          0.002305\n",
              "YearsSinceLastPromotion     0.018214\n",
              "YearsWithCurrManager        0.027656\n",
              "Name: JobSatisfaction, dtype: float64"
            ]
          },
          "metadata": {},
          "execution_count": 66
        }
      ]
    },
    {
      "cell_type": "code",
      "source": [
        "#choose those  with correlation > than x, inthis case x=0.02\n",
        "chosen_features_v2 = cor_target_v2[cor_target_v2>0.02]\n",
        "chosen_features_v2"
      ],
      "metadata": {
        "colab": {
          "base_uri": "https://localhost:8080/"
        },
        "id": "bGRNCWGAc3lU",
        "outputId": "2e70de11-8b5f-4bbe-d13b-7b107542b90b"
      },
      "execution_count": null,
      "outputs": [
        {
          "output_type": "execute_result",
          "data": {
            "text/plain": [
              "Attrition               0.103481\n",
              "DailyRate               0.030571\n",
              "Department              0.021001\n",
              "EducationField          0.034401\n",
              "EmployeeNumber          0.046247\n",
              "Gender                  0.033252\n",
              "HourlyRate              0.071335\n",
              "JobInvolvement          0.021476\n",
              "JobSatisfaction         1.000000\n",
              "MaritalStatus           0.024360\n",
              "NumCompaniesWorked      0.055699\n",
              "OverTime                0.024539\n",
              "PercentSalaryHike       0.020002\n",
              "TotalWorkingYears       0.020185\n",
              "YearsWithCurrManager    0.027656\n",
              "Name: JobSatisfaction, dtype: float64"
            ]
          },
          "metadata": {},
          "execution_count": 67
        }
      ]
    },
    {
      "cell_type": "markdown",
      "source": [
        "######3.3.2.2.b Chi-square test"
      ],
      "metadata": {
        "id": "PpWwIqkLjtud"
      }
    },
    {
      "cell_type": "code",
      "source": [
        "#Import required libraries\n",
        "from sklearn.feature_selection import SelectKBest\n",
        "from sklearn.feature_selection import chi2\n",
        "\n",
        "#Split data\n",
        "X = df.drop(columns=['EmployeeCount','Over18','StandardHours'])\n",
        "y = df['JobSatisfaction']\n",
        "\n",
        "# Select the top 15 features using chi-squared feature selection\n",
        "k = 16\n",
        "selected_features_Chi22 = SelectKBest(chi2, k=k).fit(X, y)\n",
        "X_new = selected_features_Chi22.transform(X)\n",
        "\n",
        "# Print the names of the selected features\n",
        "selected_indices_Chi22 = selected_features_Chi22.get_support(indices=True)\n",
        "selected_feature_names_Chi22 = X.columns[selected_indices_Chi22]\n",
        "print(\"Selected Feature Names:\")\n",
        "for idx, name in enumerate(selected_feature_names_Chi22):\n",
        "    value = X_new[0, idx]\n",
        "    print(f\"{name} \\t, Chi2 Test value: {value}\")\n"
      ],
      "metadata": {
        "colab": {
          "base_uri": "https://localhost:8080/"
        },
        "outputId": "3b755fba-2e27-46fc-9405-729affccd78b",
        "id": "amhRdJYJjtun"
      },
      "execution_count": null,
      "outputs": [
        {
          "output_type": "stream",
          "name": "stdout",
          "text": [
            "Selected Feature Names:\n",
            "Attrition \t, Chi2 Test value: 1\n",
            "DailyRate \t, Chi2 Test value: 1102\n",
            "DistanceFromHome \t, Chi2 Test value: 1\n",
            "EducationField \t, Chi2 Test value: 1\n",
            "EmployeeNumber \t, Chi2 Test value: 1\n",
            "EnvironmentSatisfaction \t, Chi2 Test value: 2\n",
            "HourlyRate \t, Chi2 Test value: 94\n",
            "JobSatisfaction \t, Chi2 Test value: 4\n",
            "MonthlyIncome \t, Chi2 Test value: 5993\n",
            "MonthlyRate \t, Chi2 Test value: 19479\n",
            "NumCompaniesWorked \t, Chi2 Test value: 8\n",
            "OverTime \t, Chi2 Test value: 1\n",
            "PercentSalaryHike \t, Chi2 Test value: 11\n",
            "TotalWorkingYears \t, Chi2 Test value: 8\n",
            "YearsSinceLastPromotion \t, Chi2 Test value: 0\n",
            "YearsWithCurrManager \t, Chi2 Test value: 5\n"
          ]
        }
      ]
    },
    {
      "cell_type": "markdown",
      "source": [
        "######3.3.2.2.c mutual_info_classif"
      ],
      "metadata": {
        "id": "sPbY_ttZjtuo"
      }
    },
    {
      "cell_type": "code",
      "source": [
        "#Import required libraries\n",
        "from sklearn.feature_selection import SelectKBest\n",
        "from sklearn.feature_selection import mutual_info_classif\n",
        "\n",
        "#Split data\n",
        "X = df.drop(columns=['EmployeeCount','Over18','StandardHours'])\n",
        "y = df['JobSatisfaction']\n",
        "\n",
        "# Select the top 15 features using mutual_info_classif feature selection\n",
        "k = 16\n",
        "selected_features_mic2 = SelectKBest(mutual_info_classif, k=k).fit(X, y)\n",
        "X_new = selected_features_mic2.transform(X)\n",
        "\n",
        "# Print the names of the selected features\n",
        "selected_indices_mic2 = selected_features_mic2.get_support(indices=True)\n",
        "selected_feature_names_mic2 = X.columns[selected_indices_mic2]\n",
        "print(\"Selected Feature Names:\")\n",
        "for idx, name in enumerate(selected_feature_names_mic2):\n",
        "    value = X_new[0, idx]\n",
        "    print(f\"{name} \\t, mutual_info_classif value: {value}\")"
      ],
      "metadata": {
        "colab": {
          "base_uri": "https://localhost:8080/"
        },
        "outputId": "454f68ad-6a69-496e-fe7f-fece4b779897",
        "id": "b0bWY-nHjtuo"
      },
      "execution_count": null,
      "outputs": [
        {
          "output_type": "stream",
          "name": "stdout",
          "text": [
            "Selected Feature Names:\n",
            "Age \t, mutual_info_classif value: 41\n",
            "Attrition \t, mutual_info_classif value: 1\n",
            "Education \t, mutual_info_classif value: 2\n",
            "EducationField \t, mutual_info_classif value: 1\n",
            "EnvironmentSatisfaction \t, mutual_info_classif value: 2\n",
            "JobLevel \t, mutual_info_classif value: 2\n",
            "JobRole \t, mutual_info_classif value: 7\n",
            "JobSatisfaction \t, mutual_info_classif value: 4\n",
            "MonthlyIncome \t, mutual_info_classif value: 5993\n",
            "MonthlyRate \t, mutual_info_classif value: 19479\n",
            "OverTime \t, mutual_info_classif value: 1\n",
            "PerformanceRating \t, mutual_info_classif value: 3\n",
            "StockOptionLevel \t, mutual_info_classif value: 0\n",
            "YearsInCurrentRole \t, mutual_info_classif value: 4\n",
            "YearsSinceLastPromotion \t, mutual_info_classif value: 0\n",
            "YearsWithCurrManager \t, mutual_info_classif value: 5\n"
          ]
        }
      ]
    },
    {
      "cell_type": "markdown",
      "source": [
        "#####3.3.2.3 Selected features"
      ],
      "metadata": {
        "id": "1nocBO2DghfH"
      }
    },
    {
      "cell_type": "markdown",
      "source": [
        "Considering the different feature selection analysis, the selected features for each variable under analysis are as follows:"
      ],
      "metadata": {
        "id": "OR5g1dJ7f703"
      }
    },
    {
      "cell_type": "markdown",
      "source": [
        "######3.3.2.3.b WorkLifeBalance\n",
        "\n",
        "**Correlation**\n",
        "\n",
        "-  Age\n",
        "-  Attrition\n",
        "-  DailyRate\n",
        "-  Department\n",
        "-  DistanceFromHome\n",
        "-  EducationField\n",
        "-  EnvironmentSatisfaction\n",
        "-  JobLevel\n",
        "-  JobRole\n",
        "-  MonthlyIncome\n",
        "-  OverTime\n",
        "-  TrainingTimesLastYear\n",
        "-  YearsInCurrentRole\n",
        "\n",
        "**chi-square**\n",
        "\n",
        "-  Attrition\n",
        "-  DailyRate\n",
        "-  DistanceFromHome\n",
        "-  EducationField\n",
        "-  EmployeeNumber\n",
        "-  HourlyRate\n",
        "-  JobRole\n",
        "-  MonthlyIncome\n",
        "-  MonthlyRate\n",
        "-  NumCompaniesWorked\n",
        "-  StockOptionLevel\n",
        "-  TotalWorkingYears\n",
        "-  YearsAtCompany\n",
        "-  YearsInCurrentRole\n",
        "-  YearsSinceLastPromotion\n",
        "\n",
        "**mutual_info_classifier**\n",
        "\n",
        "-  Department\n",
        "-  Education\n",
        "-  EmployeeNumber\n",
        "-  HourlyRate\n",
        "-  JobInvolvement\n",
        "-  JobLevel\n",
        "-  MonthlyRate\n",
        "-  PerformanceRating\n",
        "-  RelationshipSatisfaction\n",
        "-  StockOptionLevel\n",
        "-  TotalWorkingYears\n",
        "-  WorkLifeBalance\n",
        "-  YearsAtCompany\n",
        "-  YearsInCurrentRole\n",
        "-  YearsSinceLastPromotion\n",
        "-  YearsWithCurrManager\n",
        "\n"
      ],
      "metadata": {
        "id": "aFmAkojCgZnd"
      }
    },
    {
      "cell_type": "markdown",
      "source": [
        "######3.3.2.3.b JobSatisfaction\n",
        "\n",
        "**Correlation**\n",
        "\n",
        "-  Age\n",
        "-  BusinessTravel\n",
        "-  DistanceFromHome\n",
        "-  Education\n",
        "-  EnvironmentSatisfaction\n",
        "-  JobLevel\n",
        "-  JobRole\n",
        "-  MonthlyIncome\n",
        "-  MonthlyRate\n",
        "-  PerformanceRating\n",
        "-  RelationshipSatisfaction\n",
        "-  StockOptionLevel\n",
        "-  TrainingTimesLastYear\n",
        "-  WorkLifeBalance\n",
        "-  YearsAtCompany\n",
        "-  YearsInCurrentRole\n",
        "-  YearsSinceLastPromotion\n",
        "\n",
        "**chi-square**\n",
        "\n",
        "-  Attrition\n",
        "-  DailyRate\n",
        "-  DistanceFromHome\n",
        "-  EducationField\n",
        "-  EmployeeNumber\n",
        "-  EnvironmentSatisfaction\n",
        "-  HourlyRate\n",
        "-  JobSatisfaction\n",
        "-  MonthlyIncome\n",
        "-  MonthlyRate\n",
        "-  NumCompaniesWorked\n",
        "-  OverTime\n",
        "-  PercentSalaryHike\n",
        "-  TotalWorkingYears\n",
        "-  YearsSinceLastPromotion\n",
        "-  YearsWithCurrManager\n",
        "\n",
        "**mutual_info_classifier**\n",
        "\n",
        "-  Age\n",
        "-  Attrition\n",
        "-  Department\n",
        "-  Education\n",
        "-  EducationField\n",
        "-  EmployeeNumber\n",
        "-  EnvironmentSatisfaction\n",
        "-  JobLevel\n",
        "-  JobSatisfaction\n",
        "-  MaritalStatus\n",
        "-  MonthlyIncome\n",
        "-  MonthlyRate\n",
        "-  OverTime\n",
        "-  RelationshipSatisfaction\n",
        "-  TotalWorkingYears\n",
        "-  YearsAtCompany"
      ],
      "metadata": {
        "id": "V-Tv2-asgZ7R"
      }
    },
    {
      "cell_type": "markdown",
      "source": [
        "###3.4   Model Development and Evaluation\n"
      ],
      "metadata": {
        "id": "KADZZmFYtShY"
      }
    },
    {
      "cell_type": "markdown",
      "source": [
        "####3.4.1 Write functions for implementing the model"
      ],
      "metadata": {
        "id": "sGfdvCNXhz99"
      }
    },
    {
      "cell_type": "markdown",
      "source": [
        "#####3.4.1.1 Classification Analysis"
      ],
      "metadata": {
        "id": "Ab8XPT_jh2uD"
      }
    },
    {
      "cell_type": "markdown",
      "source": [
        "######3.4.1.1.a Logistic Regression"
      ],
      "metadata": {
        "id": "pRPN9_Nvh-g1"
      }
    },
    {
      "cell_type": "code",
      "source": [
        "#Import requiered libraries\n",
        "from sklearn.linear_model import LogisticRegression\n",
        "from sklearn.metrics import confusion_matrix, classification_report"
      ],
      "metadata": {
        "id": "fbESVjBZi9dK"
      },
      "execution_count": null,
      "outputs": []
    },
    {
      "cell_type": "code",
      "source": [
        "#Create function for Logistic Regression\n",
        "def LR(X_train, X_test, y_train, y_test):\n",
        "  logReg = LogisticRegression()\n",
        "  logReg.fit(X_train, y_train)\n",
        "  y_pred = logReg.predict(X_test)\n",
        "\n",
        "  print(confusion_matrix(y_test, y_pred))\n",
        "  print(classification_report(y_test, y_pred))"
      ],
      "metadata": {
        "id": "nfSDyrv1jAII"
      },
      "execution_count": null,
      "outputs": []
    },
    {
      "cell_type": "markdown",
      "source": [
        "######3.4.1.1.b Gaussian Naive Bayes Classifier"
      ],
      "metadata": {
        "id": "IIRT8_6OiBeL"
      }
    },
    {
      "cell_type": "code",
      "source": [
        "#Import requiered library\n",
        "from sklearn.naive_bayes import GaussianNB"
      ],
      "metadata": {
        "id": "HJ5ahR57jK5a"
      },
      "execution_count": null,
      "outputs": []
    },
    {
      "cell_type": "code",
      "source": [
        "#Create function for Gaussian Naive Bayes\n",
        "def gaussian(X_train, X_test, y_train, y_test):\n",
        "  gnb = GaussianNB()\n",
        "  gnb.fit(X_train, y_train)\n",
        "  y_pred = gnb.predict(X_test)\n",
        "\n",
        "  print(confusion_matrix(y_test, y_pred))\n",
        "  print(classification_report(y_test, y_pred))"
      ],
      "metadata": {
        "id": "9An1mYo2jMGY"
      },
      "execution_count": null,
      "outputs": []
    },
    {
      "cell_type": "markdown",
      "source": [
        "######3.4.1.1.c Support Vector Classifier"
      ],
      "metadata": {
        "id": "bRwGoGc_h2k9"
      }
    },
    {
      "cell_type": "code",
      "source": [
        "#Import requiered library\n",
        "from sklearn.svm import SVC"
      ],
      "metadata": {
        "id": "3C7e5h1ljSLj"
      },
      "execution_count": null,
      "outputs": []
    },
    {
      "cell_type": "code",
      "source": [
        "#Create function for Support Vector Classifier\n",
        "def support(X_train, X_test, y_train, y_test):\n",
        "  svc = SVC()\n",
        "  svc.fit(X_train, y_train)\n",
        "  y_pred = svc.predict(X_test)\n",
        "\n",
        "  print(confusion_matrix(y_test, y_pred))\n",
        "  print(classification_report(y_test, y_pred))"
      ],
      "metadata": {
        "id": "MbAn4K_4jSGe"
      },
      "execution_count": null,
      "outputs": []
    },
    {
      "cell_type": "markdown",
      "source": [
        "####3.4.2. Models"
      ],
      "metadata": {
        "id": "N7vysil0iceF"
      }
    },
    {
      "cell_type": "markdown",
      "source": [
        "As mention before, variables 'EmployeeCount','Over18','StandardHours' will not be considered for the models, these only provide the same value for all the records."
      ],
      "metadata": {
        "id": "f0a2f4R8mqIo"
      }
    },
    {
      "cell_type": "markdown",
      "source": [
        "#####3.4.2.1 WorkLifeBalance - Classification Analysis"
      ],
      "metadata": {
        "id": "5dpkiUPPlZZ_"
      }
    },
    {
      "cell_type": "markdown",
      "source": [
        "######3.4.2.1.a Experiment without feature selection"
      ],
      "metadata": {
        "id": "ZnmkVFmQg4Gm"
      }
    },
    {
      "cell_type": "code",
      "source": [
        "#Split data\n",
        "X1 = df.drop(columns=['WorkLifeBalance','EmployeeCount','Over18','StandardHours'])\n",
        "y1 = df['WorkLifeBalance']"
      ],
      "metadata": {
        "id": "gLA7chNYm_em"
      },
      "execution_count": null,
      "outputs": []
    },
    {
      "cell_type": "code",
      "source": [
        "#Split dataframe into random train and test subsets\n",
        "\n",
        "from sklearn.model_selection import train_test_split\n",
        "\n",
        "X1_train, X1_test, y1_train, y1_test = train_test_split(X1, y1, test_size=0.25, random_state = 42)"
      ],
      "metadata": {
        "id": "KsGjmyVynbn6"
      },
      "execution_count": null,
      "outputs": []
    },
    {
      "cell_type": "code",
      "source": [
        "#Test 1.1\n",
        "LR(X1_train, X1_test, y1_train, y1_test)"
      ],
      "metadata": {
        "colab": {
          "base_uri": "https://localhost:8080/"
        },
        "id": "lzkydNG5oLR9",
        "outputId": "45510604-6dad-4f74-e412-7b4c1f0c6123"
      },
      "execution_count": null,
      "outputs": [
        {
          "output_type": "stream",
          "name": "stdout",
          "text": [
            "[[  0   0  22   0]\n",
            " [  0   0  74   0]\n",
            " [  0   0 224   0]\n",
            " [  0   0  48   0]]\n",
            "              precision    recall  f1-score   support\n",
            "\n",
            "           1       0.00      0.00      0.00        22\n",
            "           2       0.00      0.00      0.00        74\n",
            "           3       0.61      1.00      0.76       224\n",
            "           4       0.00      0.00      0.00        48\n",
            "\n",
            "    accuracy                           0.61       368\n",
            "   macro avg       0.15      0.25      0.19       368\n",
            "weighted avg       0.37      0.61      0.46       368\n",
            "\n"
          ]
        },
        {
          "output_type": "stream",
          "name": "stderr",
          "text": [
            "/usr/local/lib/python3.10/dist-packages/sklearn/linear_model/_logistic.py:458: ConvergenceWarning: lbfgs failed to converge (status=1):\n",
            "STOP: TOTAL NO. of ITERATIONS REACHED LIMIT.\n",
            "\n",
            "Increase the number of iterations (max_iter) or scale the data as shown in:\n",
            "    https://scikit-learn.org/stable/modules/preprocessing.html\n",
            "Please also refer to the documentation for alternative solver options:\n",
            "    https://scikit-learn.org/stable/modules/linear_model.html#logistic-regression\n",
            "  n_iter_i = _check_optimize_result(\n",
            "/usr/local/lib/python3.10/dist-packages/sklearn/metrics/_classification.py:1344: UndefinedMetricWarning: Precision and F-score are ill-defined and being set to 0.0 in labels with no predicted samples. Use `zero_division` parameter to control this behavior.\n",
            "  _warn_prf(average, modifier, msg_start, len(result))\n",
            "/usr/local/lib/python3.10/dist-packages/sklearn/metrics/_classification.py:1344: UndefinedMetricWarning: Precision and F-score are ill-defined and being set to 0.0 in labels with no predicted samples. Use `zero_division` parameter to control this behavior.\n",
            "  _warn_prf(average, modifier, msg_start, len(result))\n",
            "/usr/local/lib/python3.10/dist-packages/sklearn/metrics/_classification.py:1344: UndefinedMetricWarning: Precision and F-score are ill-defined and being set to 0.0 in labels with no predicted samples. Use `zero_division` parameter to control this behavior.\n",
            "  _warn_prf(average, modifier, msg_start, len(result))\n"
          ]
        }
      ]
    },
    {
      "cell_type": "markdown",
      "source": [
        "######Top model variable under analysis 1 - for those with low rate of WorkLifeBalance (2)"
      ],
      "metadata": {
        "id": "RNOY5PhxTqY2"
      }
    },
    {
      "cell_type": "code",
      "source": [
        "#Test 1.2\n",
        "gaussian(X1_train, X1_test, y1_train, y1_test)"
      ],
      "metadata": {
        "colab": {
          "base_uri": "https://localhost:8080/"
        },
        "id": "_ZXD4J3eon2j",
        "outputId": "c0dad478-49a3-4ee6-d08e-e67a7e370582"
      },
      "execution_count": null,
      "outputs": [
        {
          "output_type": "stream",
          "name": "stdout",
          "text": [
            "[[  3   1  18   0]\n",
            " [  7   1  65   1]\n",
            " [ 17   3 204   0]\n",
            " [  5   1  42   0]]\n",
            "              precision    recall  f1-score   support\n",
            "\n",
            "           1       0.09      0.14      0.11        22\n",
            "           2       0.17      0.01      0.03        74\n",
            "           3       0.62      0.91      0.74       224\n",
            "           4       0.00      0.00      0.00        48\n",
            "\n",
            "    accuracy                           0.57       368\n",
            "   macro avg       0.22      0.27      0.22       368\n",
            "weighted avg       0.42      0.57      0.46       368\n",
            "\n"
          ]
        }
      ]
    },
    {
      "cell_type": "code",
      "source": [
        "#Test 1.3\n",
        "support(X1_train, X1_test, y1_train, y1_test)"
      ],
      "metadata": {
        "colab": {
          "base_uri": "https://localhost:8080/"
        },
        "id": "-pv1jcuboqWj",
        "outputId": "8ebb0876-3b8e-4308-dd92-6daffd946b57"
      },
      "execution_count": null,
      "outputs": [
        {
          "output_type": "stream",
          "name": "stdout",
          "text": [
            "[[  0   0  22   0]\n",
            " [  0   0  74   0]\n",
            " [  0   0 224   0]\n",
            " [  0   0  48   0]]\n",
            "              precision    recall  f1-score   support\n",
            "\n",
            "           1       0.00      0.00      0.00        22\n",
            "           2       0.00      0.00      0.00        74\n",
            "           3       0.61      1.00      0.76       224\n",
            "           4       0.00      0.00      0.00        48\n",
            "\n",
            "    accuracy                           0.61       368\n",
            "   macro avg       0.15      0.25      0.19       368\n",
            "weighted avg       0.37      0.61      0.46       368\n",
            "\n"
          ]
        },
        {
          "output_type": "stream",
          "name": "stderr",
          "text": [
            "/usr/local/lib/python3.10/dist-packages/sklearn/metrics/_classification.py:1344: UndefinedMetricWarning: Precision and F-score are ill-defined and being set to 0.0 in labels with no predicted samples. Use `zero_division` parameter to control this behavior.\n",
            "  _warn_prf(average, modifier, msg_start, len(result))\n",
            "/usr/local/lib/python3.10/dist-packages/sklearn/metrics/_classification.py:1344: UndefinedMetricWarning: Precision and F-score are ill-defined and being set to 0.0 in labels with no predicted samples. Use `zero_division` parameter to control this behavior.\n",
            "  _warn_prf(average, modifier, msg_start, len(result))\n",
            "/usr/local/lib/python3.10/dist-packages/sklearn/metrics/_classification.py:1344: UndefinedMetricWarning: Precision and F-score are ill-defined and being set to 0.0 in labels with no predicted samples. Use `zero_division` parameter to control this behavior.\n",
            "  _warn_prf(average, modifier, msg_start, len(result))\n"
          ]
        }
      ]
    },
    {
      "cell_type": "markdown",
      "source": [
        "######3.4.2.1.b Feature selection using correlation matrix"
      ],
      "metadata": {
        "id": "izKzpODbhWB9"
      }
    },
    {
      "cell_type": "code",
      "source": [
        "X11_feat = df.drop(columns=['WorkLifeBalance','EmployeeCount','Over18','StandardHours', 'BusinessTravel','Education','EmployeeNumber','Gender','HourlyRate','JobInvolvement','JobSatisfaction','MaritalStatus','MonthlyRate','NumCompaniesWorked','PercentSalaryHike','PerformanceRating','RelationshipSatisfaction','StockOptionLevel','TotalWorkingYears','YearsAtCompany','YearsSinceLastPromotion','YearsWithCurrManager'])\n",
        "y11 = df['WorkLifeBalance']"
      ],
      "metadata": {
        "id": "hzRytHu21WAQ"
      },
      "execution_count": null,
      "outputs": []
    },
    {
      "cell_type": "code",
      "source": [
        "X11_train_feat, X11_test_feat, y11_train, y11_test = train_test_split(X11_feat, y11, test_size = 0.25, random_state = 42)"
      ],
      "metadata": {
        "id": "2GcXumtB6CEZ"
      },
      "execution_count": null,
      "outputs": []
    },
    {
      "cell_type": "code",
      "source": [
        "#Test 1.4\n",
        "LR(X11_train_feat, X11_test_feat, y11_train, y11_test)"
      ],
      "metadata": {
        "colab": {
          "base_uri": "https://localhost:8080/"
        },
        "id": "03bQtt8P6Nzd",
        "outputId": "80cc5899-fe14-477e-c234-e63d66ea6ef8"
      },
      "execution_count": null,
      "outputs": [
        {
          "output_type": "stream",
          "name": "stdout",
          "text": [
            "[[  0   0  22   0]\n",
            " [  0   0  74   0]\n",
            " [  0   0 224   0]\n",
            " [  0   0  48   0]]\n",
            "              precision    recall  f1-score   support\n",
            "\n",
            "           1       0.00      0.00      0.00        22\n",
            "           2       0.00      0.00      0.00        74\n",
            "           3       0.61      1.00      0.76       224\n",
            "           4       0.00      0.00      0.00        48\n",
            "\n",
            "    accuracy                           0.61       368\n",
            "   macro avg       0.15      0.25      0.19       368\n",
            "weighted avg       0.37      0.61      0.46       368\n",
            "\n"
          ]
        },
        {
          "output_type": "stream",
          "name": "stderr",
          "text": [
            "/usr/local/lib/python3.10/dist-packages/sklearn/linear_model/_logistic.py:458: ConvergenceWarning: lbfgs failed to converge (status=1):\n",
            "STOP: TOTAL NO. of ITERATIONS REACHED LIMIT.\n",
            "\n",
            "Increase the number of iterations (max_iter) or scale the data as shown in:\n",
            "    https://scikit-learn.org/stable/modules/preprocessing.html\n",
            "Please also refer to the documentation for alternative solver options:\n",
            "    https://scikit-learn.org/stable/modules/linear_model.html#logistic-regression\n",
            "  n_iter_i = _check_optimize_result(\n",
            "/usr/local/lib/python3.10/dist-packages/sklearn/metrics/_classification.py:1344: UndefinedMetricWarning: Precision and F-score are ill-defined and being set to 0.0 in labels with no predicted samples. Use `zero_division` parameter to control this behavior.\n",
            "  _warn_prf(average, modifier, msg_start, len(result))\n",
            "/usr/local/lib/python3.10/dist-packages/sklearn/metrics/_classification.py:1344: UndefinedMetricWarning: Precision and F-score are ill-defined and being set to 0.0 in labels with no predicted samples. Use `zero_division` parameter to control this behavior.\n",
            "  _warn_prf(average, modifier, msg_start, len(result))\n",
            "/usr/local/lib/python3.10/dist-packages/sklearn/metrics/_classification.py:1344: UndefinedMetricWarning: Precision and F-score are ill-defined and being set to 0.0 in labels with no predicted samples. Use `zero_division` parameter to control this behavior.\n",
            "  _warn_prf(average, modifier, msg_start, len(result))\n"
          ]
        }
      ]
    },
    {
      "cell_type": "code",
      "source": [
        "#Test 1.5\n",
        "gaussian(X11_train_feat, X11_test_feat, y11_train, y11_test)"
      ],
      "metadata": {
        "colab": {
          "base_uri": "https://localhost:8080/"
        },
        "id": "5Nu33fOnBFjF",
        "outputId": "16096b73-9f67-44de-bed0-8478c32cdf69"
      },
      "execution_count": null,
      "outputs": [
        {
          "output_type": "stream",
          "name": "stdout",
          "text": [
            "[[  1   0  21   0]\n",
            " [  1   0  73   0]\n",
            " [  0   0 224   0]\n",
            " [  2   1  45   0]]\n",
            "              precision    recall  f1-score   support\n",
            "\n",
            "           1       0.25      0.05      0.08        22\n",
            "           2       0.00      0.00      0.00        74\n",
            "           3       0.62      1.00      0.76       224\n",
            "           4       0.00      0.00      0.00        48\n",
            "\n",
            "    accuracy                           0.61       368\n",
            "   macro avg       0.22      0.26      0.21       368\n",
            "weighted avg       0.39      0.61      0.47       368\n",
            "\n"
          ]
        },
        {
          "output_type": "stream",
          "name": "stderr",
          "text": [
            "/usr/local/lib/python3.10/dist-packages/sklearn/metrics/_classification.py:1344: UndefinedMetricWarning: Precision and F-score are ill-defined and being set to 0.0 in labels with no predicted samples. Use `zero_division` parameter to control this behavior.\n",
            "  _warn_prf(average, modifier, msg_start, len(result))\n",
            "/usr/local/lib/python3.10/dist-packages/sklearn/metrics/_classification.py:1344: UndefinedMetricWarning: Precision and F-score are ill-defined and being set to 0.0 in labels with no predicted samples. Use `zero_division` parameter to control this behavior.\n",
            "  _warn_prf(average, modifier, msg_start, len(result))\n",
            "/usr/local/lib/python3.10/dist-packages/sklearn/metrics/_classification.py:1344: UndefinedMetricWarning: Precision and F-score are ill-defined and being set to 0.0 in labels with no predicted samples. Use `zero_division` parameter to control this behavior.\n",
            "  _warn_prf(average, modifier, msg_start, len(result))\n"
          ]
        }
      ]
    },
    {
      "cell_type": "code",
      "source": [
        "#Test 1.6\n",
        "support(X11_train_feat, X11_test_feat, y11_train, y11_test)"
      ],
      "metadata": {
        "colab": {
          "base_uri": "https://localhost:8080/"
        },
        "id": "3GTTFs2QBFWm",
        "outputId": "f016485e-33d0-4c3d-9283-ffef2992aecc"
      },
      "execution_count": null,
      "outputs": [
        {
          "output_type": "stream",
          "name": "stdout",
          "text": [
            "[[  0   0  22   0]\n",
            " [  0   0  74   0]\n",
            " [  0   0 224   0]\n",
            " [  0   0  48   0]]\n",
            "              precision    recall  f1-score   support\n",
            "\n",
            "           1       0.00      0.00      0.00        22\n",
            "           2       0.00      0.00      0.00        74\n",
            "           3       0.61      1.00      0.76       224\n",
            "           4       0.00      0.00      0.00        48\n",
            "\n",
            "    accuracy                           0.61       368\n",
            "   macro avg       0.15      0.25      0.19       368\n",
            "weighted avg       0.37      0.61      0.46       368\n",
            "\n"
          ]
        },
        {
          "output_type": "stream",
          "name": "stderr",
          "text": [
            "/usr/local/lib/python3.10/dist-packages/sklearn/metrics/_classification.py:1344: UndefinedMetricWarning: Precision and F-score are ill-defined and being set to 0.0 in labels with no predicted samples. Use `zero_division` parameter to control this behavior.\n",
            "  _warn_prf(average, modifier, msg_start, len(result))\n",
            "/usr/local/lib/python3.10/dist-packages/sklearn/metrics/_classification.py:1344: UndefinedMetricWarning: Precision and F-score are ill-defined and being set to 0.0 in labels with no predicted samples. Use `zero_division` parameter to control this behavior.\n",
            "  _warn_prf(average, modifier, msg_start, len(result))\n",
            "/usr/local/lib/python3.10/dist-packages/sklearn/metrics/_classification.py:1344: UndefinedMetricWarning: Precision and F-score are ill-defined and being set to 0.0 in labels with no predicted samples. Use `zero_division` parameter to control this behavior.\n",
            "  _warn_prf(average, modifier, msg_start, len(result))\n"
          ]
        }
      ]
    },
    {
      "cell_type": "markdown",
      "source": [
        "######3.4.2.1.c Feature selection using chi2"
      ],
      "metadata": {
        "id": "WYuM5gqk2HcJ"
      }
    },
    {
      "cell_type": "code",
      "source": [
        "#Split data\n",
        "X12_feat = df.drop(columns=['WorkLifeBalance','EmployeeCount','Over18','StandardHours','Age','BusinessTravel','Department','Education','EnvironmentSatisfaction','Gender','JobInvolvement','JobLevel','JobSatisfaction','MaritalStatus','OverTime','PercentSalaryHike','PerformanceRating','RelationshipSatisfaction','TrainingTimesLastYear','YearsWithCurrManager'])\n",
        "y12 = df['WorkLifeBalance']\n"
      ],
      "metadata": {
        "id": "LlBlwQJ12HuX"
      },
      "execution_count": null,
      "outputs": []
    },
    {
      "cell_type": "code",
      "source": [
        "X12_train_feat, X12_test_feat, y12_train, y12_test = train_test_split(X12_feat, y12, test_size = 0.25, random_state = 42)"
      ],
      "metadata": {
        "id": "4olUzyBf2V3h"
      },
      "execution_count": null,
      "outputs": []
    },
    {
      "cell_type": "code",
      "source": [
        "#Test 1.7\n",
        "LR(X12_train_feat, X12_test_feat, y12_train, y12_test)"
      ],
      "metadata": {
        "colab": {
          "base_uri": "https://localhost:8080/"
        },
        "id": "dkg3nDikAWw9",
        "outputId": "f4e7af8c-1bae-48ea-a921-b37004e8a24d"
      },
      "execution_count": null,
      "outputs": [
        {
          "output_type": "stream",
          "name": "stdout",
          "text": [
            "[[  0   0  22   0]\n",
            " [  0   0  74   0]\n",
            " [  0   0 224   0]\n",
            " [  0   0  48   0]]\n",
            "              precision    recall  f1-score   support\n",
            "\n",
            "           1       0.00      0.00      0.00        22\n",
            "           2       0.00      0.00      0.00        74\n",
            "           3       0.61      1.00      0.76       224\n",
            "           4       0.00      0.00      0.00        48\n",
            "\n",
            "    accuracy                           0.61       368\n",
            "   macro avg       0.15      0.25      0.19       368\n",
            "weighted avg       0.37      0.61      0.46       368\n",
            "\n"
          ]
        },
        {
          "output_type": "stream",
          "name": "stderr",
          "text": [
            "/usr/local/lib/python3.10/dist-packages/sklearn/linear_model/_logistic.py:458: ConvergenceWarning: lbfgs failed to converge (status=1):\n",
            "STOP: TOTAL NO. of ITERATIONS REACHED LIMIT.\n",
            "\n",
            "Increase the number of iterations (max_iter) or scale the data as shown in:\n",
            "    https://scikit-learn.org/stable/modules/preprocessing.html\n",
            "Please also refer to the documentation for alternative solver options:\n",
            "    https://scikit-learn.org/stable/modules/linear_model.html#logistic-regression\n",
            "  n_iter_i = _check_optimize_result(\n",
            "/usr/local/lib/python3.10/dist-packages/sklearn/metrics/_classification.py:1344: UndefinedMetricWarning: Precision and F-score are ill-defined and being set to 0.0 in labels with no predicted samples. Use `zero_division` parameter to control this behavior.\n",
            "  _warn_prf(average, modifier, msg_start, len(result))\n",
            "/usr/local/lib/python3.10/dist-packages/sklearn/metrics/_classification.py:1344: UndefinedMetricWarning: Precision and F-score are ill-defined and being set to 0.0 in labels with no predicted samples. Use `zero_division` parameter to control this behavior.\n",
            "  _warn_prf(average, modifier, msg_start, len(result))\n",
            "/usr/local/lib/python3.10/dist-packages/sklearn/metrics/_classification.py:1344: UndefinedMetricWarning: Precision and F-score are ill-defined and being set to 0.0 in labels with no predicted samples. Use `zero_division` parameter to control this behavior.\n",
            "  _warn_prf(average, modifier, msg_start, len(result))\n"
          ]
        }
      ]
    },
    {
      "cell_type": "code",
      "source": [
        "#Test 1.8\n",
        "gaussian(X12_train_feat, X12_test_feat, y12_train, y12_test)"
      ],
      "metadata": {
        "colab": {
          "base_uri": "https://localhost:8080/"
        },
        "id": "9lb4tRGHBRlO",
        "outputId": "42797acb-ecda-40aa-d48c-f928bbf3fa02"
      },
      "execution_count": null,
      "outputs": [
        {
          "output_type": "stream",
          "name": "stdout",
          "text": [
            "[[  1   0  21   0]\n",
            " [  2   0  72   0]\n",
            " [  2   0 222   0]\n",
            " [  2   0  46   0]]\n",
            "              precision    recall  f1-score   support\n",
            "\n",
            "           1       0.14      0.05      0.07        22\n",
            "           2       0.00      0.00      0.00        74\n",
            "           3       0.61      0.99      0.76       224\n",
            "           4       0.00      0.00      0.00        48\n",
            "\n",
            "    accuracy                           0.61       368\n",
            "   macro avg       0.19      0.26      0.21       368\n",
            "weighted avg       0.38      0.61      0.47       368\n",
            "\n"
          ]
        },
        {
          "output_type": "stream",
          "name": "stderr",
          "text": [
            "/usr/local/lib/python3.10/dist-packages/sklearn/metrics/_classification.py:1344: UndefinedMetricWarning: Precision and F-score are ill-defined and being set to 0.0 in labels with no predicted samples. Use `zero_division` parameter to control this behavior.\n",
            "  _warn_prf(average, modifier, msg_start, len(result))\n",
            "/usr/local/lib/python3.10/dist-packages/sklearn/metrics/_classification.py:1344: UndefinedMetricWarning: Precision and F-score are ill-defined and being set to 0.0 in labels with no predicted samples. Use `zero_division` parameter to control this behavior.\n",
            "  _warn_prf(average, modifier, msg_start, len(result))\n",
            "/usr/local/lib/python3.10/dist-packages/sklearn/metrics/_classification.py:1344: UndefinedMetricWarning: Precision and F-score are ill-defined and being set to 0.0 in labels with no predicted samples. Use `zero_division` parameter to control this behavior.\n",
            "  _warn_prf(average, modifier, msg_start, len(result))\n"
          ]
        }
      ]
    },
    {
      "cell_type": "code",
      "source": [
        "#Test 1.9\n",
        "support(X12_train_feat, X12_test_feat, y12_train, y12_test)"
      ],
      "metadata": {
        "colab": {
          "base_uri": "https://localhost:8080/"
        },
        "id": "x-VfVzgRBUVH",
        "outputId": "194c463b-bb52-455b-9edf-7588d5a3c231"
      },
      "execution_count": null,
      "outputs": [
        {
          "output_type": "stream",
          "name": "stdout",
          "text": [
            "[[  0   0  22   0]\n",
            " [  0   0  74   0]\n",
            " [  0   0 224   0]\n",
            " [  0   0  48   0]]\n",
            "              precision    recall  f1-score   support\n",
            "\n",
            "           1       0.00      0.00      0.00        22\n",
            "           2       0.00      0.00      0.00        74\n",
            "           3       0.61      1.00      0.76       224\n",
            "           4       0.00      0.00      0.00        48\n",
            "\n",
            "    accuracy                           0.61       368\n",
            "   macro avg       0.15      0.25      0.19       368\n",
            "weighted avg       0.37      0.61      0.46       368\n",
            "\n"
          ]
        },
        {
          "output_type": "stream",
          "name": "stderr",
          "text": [
            "/usr/local/lib/python3.10/dist-packages/sklearn/metrics/_classification.py:1344: UndefinedMetricWarning: Precision and F-score are ill-defined and being set to 0.0 in labels with no predicted samples. Use `zero_division` parameter to control this behavior.\n",
            "  _warn_prf(average, modifier, msg_start, len(result))\n",
            "/usr/local/lib/python3.10/dist-packages/sklearn/metrics/_classification.py:1344: UndefinedMetricWarning: Precision and F-score are ill-defined and being set to 0.0 in labels with no predicted samples. Use `zero_division` parameter to control this behavior.\n",
            "  _warn_prf(average, modifier, msg_start, len(result))\n",
            "/usr/local/lib/python3.10/dist-packages/sklearn/metrics/_classification.py:1344: UndefinedMetricWarning: Precision and F-score are ill-defined and being set to 0.0 in labels with no predicted samples. Use `zero_division` parameter to control this behavior.\n",
            "  _warn_prf(average, modifier, msg_start, len(result))\n"
          ]
        }
      ]
    },
    {
      "cell_type": "markdown",
      "source": [
        "######3.4.2.1.d Feature selection using mutual_info_regression"
      ],
      "metadata": {
        "id": "z10_OTED2Vlp"
      }
    },
    {
      "cell_type": "code",
      "source": [
        "#Split data\n",
        "X13_feat = df.drop(columns=['WorkLifeBalance','EmployeeCount','Over18','StandardHours','Age','Attrition','BusinessTravel','DailyRate','Department','DistanceFromHome','EducationField','EnvironmentSatisfaction','Gender','JobRole','JobSatisfaction','MaritalStatus','MonthlyIncome','NumCompaniesWorked','OverTime','PercentSalaryHike','TrainingTimesLastYear'])\n",
        "y13 = df['WorkLifeBalance']\n"
      ],
      "metadata": {
        "id": "9N6bcBEBAdKt"
      },
      "execution_count": null,
      "outputs": []
    },
    {
      "cell_type": "code",
      "source": [
        "X13_train_feat, X13_test_feat, y13_train, y13_test = train_test_split(X13_feat, y13, test_size = 0.25, random_state = 42)"
      ],
      "metadata": {
        "id": "d1HTZO68CAAh"
      },
      "execution_count": null,
      "outputs": []
    },
    {
      "cell_type": "code",
      "source": [
        "#Test 1.10\n",
        "LR(X13_train_feat, X13_test_feat, y13_train, y13_test)"
      ],
      "metadata": {
        "colab": {
          "base_uri": "https://localhost:8080/"
        },
        "id": "vhMgoifiCN7C",
        "outputId": "faaf6ec5-7082-4d41-a783-a964d9163463"
      },
      "execution_count": null,
      "outputs": [
        {
          "output_type": "stream",
          "name": "stdout",
          "text": [
            "[[  0   0  22   0]\n",
            " [  0   0  74   0]\n",
            " [  0   0 224   0]\n",
            " [  0   0  48   0]]\n",
            "              precision    recall  f1-score   support\n",
            "\n",
            "           1       0.00      0.00      0.00        22\n",
            "           2       0.00      0.00      0.00        74\n",
            "           3       0.61      1.00      0.76       224\n",
            "           4       0.00      0.00      0.00        48\n",
            "\n",
            "    accuracy                           0.61       368\n",
            "   macro avg       0.15      0.25      0.19       368\n",
            "weighted avg       0.37      0.61      0.46       368\n",
            "\n"
          ]
        },
        {
          "output_type": "stream",
          "name": "stderr",
          "text": [
            "/usr/local/lib/python3.10/dist-packages/sklearn/linear_model/_logistic.py:458: ConvergenceWarning: lbfgs failed to converge (status=1):\n",
            "STOP: TOTAL NO. of ITERATIONS REACHED LIMIT.\n",
            "\n",
            "Increase the number of iterations (max_iter) or scale the data as shown in:\n",
            "    https://scikit-learn.org/stable/modules/preprocessing.html\n",
            "Please also refer to the documentation for alternative solver options:\n",
            "    https://scikit-learn.org/stable/modules/linear_model.html#logistic-regression\n",
            "  n_iter_i = _check_optimize_result(\n",
            "/usr/local/lib/python3.10/dist-packages/sklearn/metrics/_classification.py:1344: UndefinedMetricWarning: Precision and F-score are ill-defined and being set to 0.0 in labels with no predicted samples. Use `zero_division` parameter to control this behavior.\n",
            "  _warn_prf(average, modifier, msg_start, len(result))\n",
            "/usr/local/lib/python3.10/dist-packages/sklearn/metrics/_classification.py:1344: UndefinedMetricWarning: Precision and F-score are ill-defined and being set to 0.0 in labels with no predicted samples. Use `zero_division` parameter to control this behavior.\n",
            "  _warn_prf(average, modifier, msg_start, len(result))\n",
            "/usr/local/lib/python3.10/dist-packages/sklearn/metrics/_classification.py:1344: UndefinedMetricWarning: Precision and F-score are ill-defined and being set to 0.0 in labels with no predicted samples. Use `zero_division` parameter to control this behavior.\n",
            "  _warn_prf(average, modifier, msg_start, len(result))\n"
          ]
        }
      ]
    },
    {
      "cell_type": "code",
      "source": [
        "#Test 1.11\n",
        "gaussian(X13_train_feat, X13_test_feat, y13_train, y13_test)"
      ],
      "metadata": {
        "colab": {
          "base_uri": "https://localhost:8080/"
        },
        "id": "2KnJxZQECQ1E",
        "outputId": "6bb13f8b-916b-4f57-da6b-220b4967f736"
      },
      "execution_count": null,
      "outputs": [
        {
          "output_type": "stream",
          "name": "stdout",
          "text": [
            "[[  0   0  22   0]\n",
            " [  0   0  74   0]\n",
            " [  0   0 224   0]\n",
            " [  0   0  48   0]]\n",
            "              precision    recall  f1-score   support\n",
            "\n",
            "           1       0.00      0.00      0.00        22\n",
            "           2       0.00      0.00      0.00        74\n",
            "           3       0.61      1.00      0.76       224\n",
            "           4       0.00      0.00      0.00        48\n",
            "\n",
            "    accuracy                           0.61       368\n",
            "   macro avg       0.15      0.25      0.19       368\n",
            "weighted avg       0.37      0.61      0.46       368\n",
            "\n"
          ]
        },
        {
          "output_type": "stream",
          "name": "stderr",
          "text": [
            "/usr/local/lib/python3.10/dist-packages/sklearn/metrics/_classification.py:1344: UndefinedMetricWarning: Precision and F-score are ill-defined and being set to 0.0 in labels with no predicted samples. Use `zero_division` parameter to control this behavior.\n",
            "  _warn_prf(average, modifier, msg_start, len(result))\n",
            "/usr/local/lib/python3.10/dist-packages/sklearn/metrics/_classification.py:1344: UndefinedMetricWarning: Precision and F-score are ill-defined and being set to 0.0 in labels with no predicted samples. Use `zero_division` parameter to control this behavior.\n",
            "  _warn_prf(average, modifier, msg_start, len(result))\n",
            "/usr/local/lib/python3.10/dist-packages/sklearn/metrics/_classification.py:1344: UndefinedMetricWarning: Precision and F-score are ill-defined and being set to 0.0 in labels with no predicted samples. Use `zero_division` parameter to control this behavior.\n",
            "  _warn_prf(average, modifier, msg_start, len(result))\n"
          ]
        }
      ]
    },
    {
      "cell_type": "code",
      "source": [
        "#Test 1.12\n",
        "support(X13_train_feat, X13_test_feat, y13_train, y13_test)"
      ],
      "metadata": {
        "colab": {
          "base_uri": "https://localhost:8080/"
        },
        "id": "7AXpBVIMCSTz",
        "outputId": "e2f12f9e-4f69-4657-99be-6eaf64058c1a"
      },
      "execution_count": null,
      "outputs": [
        {
          "output_type": "stream",
          "name": "stdout",
          "text": [
            "[[  0   0  22   0]\n",
            " [  0   0  74   0]\n",
            " [  0   0 224   0]\n",
            " [  0   0  48   0]]\n",
            "              precision    recall  f1-score   support\n",
            "\n",
            "           1       0.00      0.00      0.00        22\n",
            "           2       0.00      0.00      0.00        74\n",
            "           3       0.61      1.00      0.76       224\n",
            "           4       0.00      0.00      0.00        48\n",
            "\n",
            "    accuracy                           0.61       368\n",
            "   macro avg       0.15      0.25      0.19       368\n",
            "weighted avg       0.37      0.61      0.46       368\n",
            "\n"
          ]
        },
        {
          "output_type": "stream",
          "name": "stderr",
          "text": [
            "/usr/local/lib/python3.10/dist-packages/sklearn/metrics/_classification.py:1344: UndefinedMetricWarning: Precision and F-score are ill-defined and being set to 0.0 in labels with no predicted samples. Use `zero_division` parameter to control this behavior.\n",
            "  _warn_prf(average, modifier, msg_start, len(result))\n",
            "/usr/local/lib/python3.10/dist-packages/sklearn/metrics/_classification.py:1344: UndefinedMetricWarning: Precision and F-score are ill-defined and being set to 0.0 in labels with no predicted samples. Use `zero_division` parameter to control this behavior.\n",
            "  _warn_prf(average, modifier, msg_start, len(result))\n",
            "/usr/local/lib/python3.10/dist-packages/sklearn/metrics/_classification.py:1344: UndefinedMetricWarning: Precision and F-score are ill-defined and being set to 0.0 in labels with no predicted samples. Use `zero_division` parameter to control this behavior.\n",
            "  _warn_prf(average, modifier, msg_start, len(result))\n"
          ]
        }
      ]
    },
    {
      "cell_type": "markdown",
      "source": [
        "######3.4.2.1.e Standard scaler with original data"
      ],
      "metadata": {
        "id": "GU79tFW7g8wc"
      }
    },
    {
      "cell_type": "code",
      "source": [
        "#Import requiered Libreary\n",
        "from sklearn.preprocessing import StandardScaler"
      ],
      "metadata": {
        "id": "Fs15_e7oqBd3"
      },
      "execution_count": null,
      "outputs": []
    },
    {
      "cell_type": "code",
      "source": [
        "std = StandardScaler()\n",
        "X1_std = std.fit_transform(X1)"
      ],
      "metadata": {
        "id": "GYwK4NcgqLWt"
      },
      "execution_count": null,
      "outputs": []
    },
    {
      "cell_type": "code",
      "source": [
        "X1_train_std, X1_test_std, y1_train, y1_test = train_test_split(X1_std, y1, test_size = 0.25, random_state = 42)"
      ],
      "metadata": {
        "id": "XfFcfoH4qPXU"
      },
      "execution_count": null,
      "outputs": []
    },
    {
      "cell_type": "code",
      "source": [
        "#Test 1.13\n",
        "LR(X1_train_std, X1_test_std, y1_train, y1_test)"
      ],
      "metadata": {
        "colab": {
          "base_uri": "https://localhost:8080/"
        },
        "id": "4e68_pBWqRIe",
        "outputId": "ec8f110e-5589-4d51-b4e5-182b1fdeb2f9"
      },
      "execution_count": null,
      "outputs": [
        {
          "output_type": "stream",
          "name": "stdout",
          "text": [
            "[[  0   0  22   0]\n",
            " [  0   0  74   0]\n",
            " [  0   3 221   0]\n",
            " [  0   1  47   0]]\n",
            "              precision    recall  f1-score   support\n",
            "\n",
            "           1       0.00      0.00      0.00        22\n",
            "           2       0.00      0.00      0.00        74\n",
            "           3       0.61      0.99      0.75       224\n",
            "           4       0.00      0.00      0.00        48\n",
            "\n",
            "    accuracy                           0.60       368\n",
            "   macro avg       0.15      0.25      0.19       368\n",
            "weighted avg       0.37      0.60      0.46       368\n",
            "\n"
          ]
        },
        {
          "output_type": "stream",
          "name": "stderr",
          "text": [
            "/usr/local/lib/python3.10/dist-packages/sklearn/metrics/_classification.py:1344: UndefinedMetricWarning: Precision and F-score are ill-defined and being set to 0.0 in labels with no predicted samples. Use `zero_division` parameter to control this behavior.\n",
            "  _warn_prf(average, modifier, msg_start, len(result))\n",
            "/usr/local/lib/python3.10/dist-packages/sklearn/metrics/_classification.py:1344: UndefinedMetricWarning: Precision and F-score are ill-defined and being set to 0.0 in labels with no predicted samples. Use `zero_division` parameter to control this behavior.\n",
            "  _warn_prf(average, modifier, msg_start, len(result))\n",
            "/usr/local/lib/python3.10/dist-packages/sklearn/metrics/_classification.py:1344: UndefinedMetricWarning: Precision and F-score are ill-defined and being set to 0.0 in labels with no predicted samples. Use `zero_division` parameter to control this behavior.\n",
            "  _warn_prf(average, modifier, msg_start, len(result))\n"
          ]
        }
      ]
    },
    {
      "cell_type": "code",
      "source": [
        "#Test 1.14\n",
        "gaussian(X1_train_std, X1_test_std, y1_train, y1_test)"
      ],
      "metadata": {
        "colab": {
          "base_uri": "https://localhost:8080/"
        },
        "id": "kf59YPgeqSrN",
        "outputId": "0ed48bc3-17fc-436b-c3bc-3db38a03d76b"
      },
      "execution_count": null,
      "outputs": [
        {
          "output_type": "stream",
          "name": "stdout",
          "text": [
            "[[  3   1  18   0]\n",
            " [  8   1  64   1]\n",
            " [ 20   5 199   0]\n",
            " [  7   1  40   0]]\n",
            "              precision    recall  f1-score   support\n",
            "\n",
            "           1       0.08      0.14      0.10        22\n",
            "           2       0.12      0.01      0.02        74\n",
            "           3       0.62      0.89      0.73       224\n",
            "           4       0.00      0.00      0.00        48\n",
            "\n",
            "    accuracy                           0.55       368\n",
            "   macro avg       0.21      0.26      0.21       368\n",
            "weighted avg       0.41      0.55      0.46       368\n",
            "\n"
          ]
        }
      ]
    },
    {
      "cell_type": "code",
      "source": [
        "#Test 1.15\n",
        "support(X1_train_std, X1_test_std, y1_train, y1_test)"
      ],
      "metadata": {
        "colab": {
          "base_uri": "https://localhost:8080/"
        },
        "id": "38lWA9kOqURM",
        "outputId": "1fffc6a9-e09e-420d-8c6d-ead6bea576c7"
      },
      "execution_count": null,
      "outputs": [
        {
          "output_type": "stream",
          "name": "stdout",
          "text": [
            "[[  0   0  22   0]\n",
            " [  0   0  74   0]\n",
            " [  0   0 224   0]\n",
            " [  0   0  48   0]]\n",
            "              precision    recall  f1-score   support\n",
            "\n",
            "           1       0.00      0.00      0.00        22\n",
            "           2       0.00      0.00      0.00        74\n",
            "           3       0.61      1.00      0.76       224\n",
            "           4       0.00      0.00      0.00        48\n",
            "\n",
            "    accuracy                           0.61       368\n",
            "   macro avg       0.15      0.25      0.19       368\n",
            "weighted avg       0.37      0.61      0.46       368\n",
            "\n"
          ]
        },
        {
          "output_type": "stream",
          "name": "stderr",
          "text": [
            "/usr/local/lib/python3.10/dist-packages/sklearn/metrics/_classification.py:1344: UndefinedMetricWarning: Precision and F-score are ill-defined and being set to 0.0 in labels with no predicted samples. Use `zero_division` parameter to control this behavior.\n",
            "  _warn_prf(average, modifier, msg_start, len(result))\n",
            "/usr/local/lib/python3.10/dist-packages/sklearn/metrics/_classification.py:1344: UndefinedMetricWarning: Precision and F-score are ill-defined and being set to 0.0 in labels with no predicted samples. Use `zero_division` parameter to control this behavior.\n",
            "  _warn_prf(average, modifier, msg_start, len(result))\n",
            "/usr/local/lib/python3.10/dist-packages/sklearn/metrics/_classification.py:1344: UndefinedMetricWarning: Precision and F-score are ill-defined and being set to 0.0 in labels with no predicted samples. Use `zero_division` parameter to control this behavior.\n",
            "  _warn_prf(average, modifier, msg_start, len(result))\n"
          ]
        }
      ]
    },
    {
      "cell_type": "markdown",
      "source": [
        "######Standard scaler with selected features"
      ],
      "metadata": {
        "id": "zHexN779hfQq"
      }
    },
    {
      "cell_type": "markdown",
      "source": [
        "######3.4.2.1.f Standard scaler - Feature selection using correlation matrix"
      ],
      "metadata": {
        "id": "RfIW56o6GzdS"
      }
    },
    {
      "cell_type": "code",
      "source": [
        "X11_std_feat = std.fit_transform(X11_feat)\n",
        "X11_train_std_feat, X11_test_std_feat, y11_train, y11_test = train_test_split(X11_std_feat, y11, test_size = 0.25, random_state = 42)"
      ],
      "metadata": {
        "id": "uCXdqz4eDrvv"
      },
      "execution_count": null,
      "outputs": []
    },
    {
      "cell_type": "code",
      "source": [
        "#Test 1.16\n",
        "LR(X11_train_std_feat, X11_test_std_feat, y11_train, y11_test)"
      ],
      "metadata": {
        "id": "pB3l02l6DrrM",
        "colab": {
          "base_uri": "https://localhost:8080/"
        },
        "outputId": "6472dd5e-af52-4fe0-f107-c738475e2eb3"
      },
      "execution_count": null,
      "outputs": [
        {
          "output_type": "stream",
          "name": "stdout",
          "text": [
            "[[  0   0  22   0]\n",
            " [  0   0  74   0]\n",
            " [  0   0 224   0]\n",
            " [  0   0  48   0]]\n",
            "              precision    recall  f1-score   support\n",
            "\n",
            "           1       0.00      0.00      0.00        22\n",
            "           2       0.00      0.00      0.00        74\n",
            "           3       0.61      1.00      0.76       224\n",
            "           4       0.00      0.00      0.00        48\n",
            "\n",
            "    accuracy                           0.61       368\n",
            "   macro avg       0.15      0.25      0.19       368\n",
            "weighted avg       0.37      0.61      0.46       368\n",
            "\n"
          ]
        },
        {
          "output_type": "stream",
          "name": "stderr",
          "text": [
            "/usr/local/lib/python3.10/dist-packages/sklearn/metrics/_classification.py:1344: UndefinedMetricWarning: Precision and F-score are ill-defined and being set to 0.0 in labels with no predicted samples. Use `zero_division` parameter to control this behavior.\n",
            "  _warn_prf(average, modifier, msg_start, len(result))\n",
            "/usr/local/lib/python3.10/dist-packages/sklearn/metrics/_classification.py:1344: UndefinedMetricWarning: Precision and F-score are ill-defined and being set to 0.0 in labels with no predicted samples. Use `zero_division` parameter to control this behavior.\n",
            "  _warn_prf(average, modifier, msg_start, len(result))\n",
            "/usr/local/lib/python3.10/dist-packages/sklearn/metrics/_classification.py:1344: UndefinedMetricWarning: Precision and F-score are ill-defined and being set to 0.0 in labels with no predicted samples. Use `zero_division` parameter to control this behavior.\n",
            "  _warn_prf(average, modifier, msg_start, len(result))\n"
          ]
        }
      ]
    },
    {
      "cell_type": "markdown",
      "source": [
        "######Top model variable under analysis 1 - for those with the lowest rate of WorkLifeBalance (1)"
      ],
      "metadata": {
        "id": "VqNoeKwAIh7E"
      }
    },
    {
      "cell_type": "code",
      "source": [
        "#Test 1.17\n",
        "gaussian(X11_train_std_feat, X11_test_std_feat, y11_train, y11_test)"
      ],
      "metadata": {
        "id": "sM4papryDrms",
        "colab": {
          "base_uri": "https://localhost:8080/"
        },
        "outputId": "49a9dc35-c900-40da-9a66-8286587bc787"
      },
      "execution_count": null,
      "outputs": [
        {
          "output_type": "stream",
          "name": "stdout",
          "text": [
            "[[  4   0  18   0]\n",
            " [  1   0  73   0]\n",
            " [  0   0 224   0]\n",
            " [  2   1  45   0]]\n",
            "              precision    recall  f1-score   support\n",
            "\n",
            "           1       0.57      0.18      0.28        22\n",
            "           2       0.00      0.00      0.00        74\n",
            "           3       0.62      1.00      0.77       224\n",
            "           4       0.00      0.00      0.00        48\n",
            "\n",
            "    accuracy                           0.62       368\n",
            "   macro avg       0.30      0.30      0.26       368\n",
            "weighted avg       0.41      0.62      0.48       368\n",
            "\n"
          ]
        },
        {
          "output_type": "stream",
          "name": "stderr",
          "text": [
            "/usr/local/lib/python3.10/dist-packages/sklearn/metrics/_classification.py:1344: UndefinedMetricWarning: Precision and F-score are ill-defined and being set to 0.0 in labels with no predicted samples. Use `zero_division` parameter to control this behavior.\n",
            "  _warn_prf(average, modifier, msg_start, len(result))\n",
            "/usr/local/lib/python3.10/dist-packages/sklearn/metrics/_classification.py:1344: UndefinedMetricWarning: Precision and F-score are ill-defined and being set to 0.0 in labels with no predicted samples. Use `zero_division` parameter to control this behavior.\n",
            "  _warn_prf(average, modifier, msg_start, len(result))\n",
            "/usr/local/lib/python3.10/dist-packages/sklearn/metrics/_classification.py:1344: UndefinedMetricWarning: Precision and F-score are ill-defined and being set to 0.0 in labels with no predicted samples. Use `zero_division` parameter to control this behavior.\n",
            "  _warn_prf(average, modifier, msg_start, len(result))\n"
          ]
        }
      ]
    },
    {
      "cell_type": "code",
      "source": [
        "#Test 1.18\n",
        "support(X11_train_std_feat, X11_test_std_feat, y11_train, y11_test)"
      ],
      "metadata": {
        "id": "1FjWR0tSDrbh",
        "colab": {
          "base_uri": "https://localhost:8080/"
        },
        "outputId": "9b7b713f-b4e4-4384-f9c2-715a8f73cab3"
      },
      "execution_count": null,
      "outputs": [
        {
          "output_type": "stream",
          "name": "stdout",
          "text": [
            "[[  0   0  22   0]\n",
            " [  0   0  74   0]\n",
            " [  0   0 224   0]\n",
            " [  0   0  48   0]]\n",
            "              precision    recall  f1-score   support\n",
            "\n",
            "           1       0.00      0.00      0.00        22\n",
            "           2       0.00      0.00      0.00        74\n",
            "           3       0.61      1.00      0.76       224\n",
            "           4       0.00      0.00      0.00        48\n",
            "\n",
            "    accuracy                           0.61       368\n",
            "   macro avg       0.15      0.25      0.19       368\n",
            "weighted avg       0.37      0.61      0.46       368\n",
            "\n"
          ]
        },
        {
          "output_type": "stream",
          "name": "stderr",
          "text": [
            "/usr/local/lib/python3.10/dist-packages/sklearn/metrics/_classification.py:1344: UndefinedMetricWarning: Precision and F-score are ill-defined and being set to 0.0 in labels with no predicted samples. Use `zero_division` parameter to control this behavior.\n",
            "  _warn_prf(average, modifier, msg_start, len(result))\n",
            "/usr/local/lib/python3.10/dist-packages/sklearn/metrics/_classification.py:1344: UndefinedMetricWarning: Precision and F-score are ill-defined and being set to 0.0 in labels with no predicted samples. Use `zero_division` parameter to control this behavior.\n",
            "  _warn_prf(average, modifier, msg_start, len(result))\n",
            "/usr/local/lib/python3.10/dist-packages/sklearn/metrics/_classification.py:1344: UndefinedMetricWarning: Precision and F-score are ill-defined and being set to 0.0 in labels with no predicted samples. Use `zero_division` parameter to control this behavior.\n",
            "  _warn_prf(average, modifier, msg_start, len(result))\n"
          ]
        }
      ]
    },
    {
      "cell_type": "markdown",
      "source": [
        "######3.4.2.1.g Standard scaler - Feature selection using chi2"
      ],
      "metadata": {
        "id": "sFiuNpxAG71d"
      }
    },
    {
      "cell_type": "code",
      "source": [
        "X12_std_feat = std.fit_transform(X12_feat)\n",
        "X12_train_std_feat, X12_test_std_feat, y12_train, y12_test = train_test_split(X12_std_feat, y12, test_size = 0.25, random_state = 42)"
      ],
      "metadata": {
        "id": "rVSJ6Z4jDrWt"
      },
      "execution_count": null,
      "outputs": []
    },
    {
      "cell_type": "code",
      "source": [
        "#Test 1.19\n",
        "LR(X12_train_std_feat, X12_test_std_feat, y12_train, y12_test)"
      ],
      "metadata": {
        "id": "I_ZNZPxfDrRp",
        "colab": {
          "base_uri": "https://localhost:8080/"
        },
        "outputId": "0d774cbb-3e81-43c8-acc8-bd4c83010e20"
      },
      "execution_count": null,
      "outputs": [
        {
          "output_type": "stream",
          "name": "stdout",
          "text": [
            "[[  0   0  22   0]\n",
            " [  0   0  74   0]\n",
            " [  0   0 224   0]\n",
            " [  0   0  48   0]]\n",
            "              precision    recall  f1-score   support\n",
            "\n",
            "           1       0.00      0.00      0.00        22\n",
            "           2       0.00      0.00      0.00        74\n",
            "           3       0.61      1.00      0.76       224\n",
            "           4       0.00      0.00      0.00        48\n",
            "\n",
            "    accuracy                           0.61       368\n",
            "   macro avg       0.15      0.25      0.19       368\n",
            "weighted avg       0.37      0.61      0.46       368\n",
            "\n"
          ]
        },
        {
          "output_type": "stream",
          "name": "stderr",
          "text": [
            "/usr/local/lib/python3.10/dist-packages/sklearn/metrics/_classification.py:1344: UndefinedMetricWarning: Precision and F-score are ill-defined and being set to 0.0 in labels with no predicted samples. Use `zero_division` parameter to control this behavior.\n",
            "  _warn_prf(average, modifier, msg_start, len(result))\n",
            "/usr/local/lib/python3.10/dist-packages/sklearn/metrics/_classification.py:1344: UndefinedMetricWarning: Precision and F-score are ill-defined and being set to 0.0 in labels with no predicted samples. Use `zero_division` parameter to control this behavior.\n",
            "  _warn_prf(average, modifier, msg_start, len(result))\n",
            "/usr/local/lib/python3.10/dist-packages/sklearn/metrics/_classification.py:1344: UndefinedMetricWarning: Precision and F-score are ill-defined and being set to 0.0 in labels with no predicted samples. Use `zero_division` parameter to control this behavior.\n",
            "  _warn_prf(average, modifier, msg_start, len(result))\n"
          ]
        }
      ]
    },
    {
      "cell_type": "code",
      "source": [
        "#Test 1.20\n",
        "gaussian(X12_train_std_feat, X12_test_std_feat, y12_train, y12_test)"
      ],
      "metadata": {
        "id": "h9ypsCmhDrEf",
        "colab": {
          "base_uri": "https://localhost:8080/"
        },
        "outputId": "d6ddad1b-46f9-4238-df55-0c37b8f864da"
      },
      "execution_count": null,
      "outputs": [
        {
          "output_type": "stream",
          "name": "stdout",
          "text": [
            "[[  3   0  19   0]\n",
            " [  3   0  71   0]\n",
            " [  5   0 219   0]\n",
            " [  3   0  45   0]]\n",
            "              precision    recall  f1-score   support\n",
            "\n",
            "           1       0.21      0.14      0.17        22\n",
            "           2       0.00      0.00      0.00        74\n",
            "           3       0.62      0.98      0.76       224\n",
            "           4       0.00      0.00      0.00        48\n",
            "\n",
            "    accuracy                           0.60       368\n",
            "   macro avg       0.21      0.28      0.23       368\n",
            "weighted avg       0.39      0.60      0.47       368\n",
            "\n"
          ]
        },
        {
          "output_type": "stream",
          "name": "stderr",
          "text": [
            "/usr/local/lib/python3.10/dist-packages/sklearn/metrics/_classification.py:1344: UndefinedMetricWarning: Precision and F-score are ill-defined and being set to 0.0 in labels with no predicted samples. Use `zero_division` parameter to control this behavior.\n",
            "  _warn_prf(average, modifier, msg_start, len(result))\n",
            "/usr/local/lib/python3.10/dist-packages/sklearn/metrics/_classification.py:1344: UndefinedMetricWarning: Precision and F-score are ill-defined and being set to 0.0 in labels with no predicted samples. Use `zero_division` parameter to control this behavior.\n",
            "  _warn_prf(average, modifier, msg_start, len(result))\n",
            "/usr/local/lib/python3.10/dist-packages/sklearn/metrics/_classification.py:1344: UndefinedMetricWarning: Precision and F-score are ill-defined and being set to 0.0 in labels with no predicted samples. Use `zero_division` parameter to control this behavior.\n",
            "  _warn_prf(average, modifier, msg_start, len(result))\n"
          ]
        }
      ]
    },
    {
      "cell_type": "code",
      "source": [
        "#Test 1.21\n",
        "support(X12_train_std_feat, X12_test_std_feat, y12_train, y12_test)"
      ],
      "metadata": {
        "id": "ue5dlqFnDq-K",
        "colab": {
          "base_uri": "https://localhost:8080/"
        },
        "outputId": "b5693ae0-1192-4522-9f66-72e8dd68a8fa"
      },
      "execution_count": null,
      "outputs": [
        {
          "output_type": "stream",
          "name": "stdout",
          "text": [
            "[[  0   0  22   0]\n",
            " [  0   0  74   0]\n",
            " [  0   0 224   0]\n",
            " [  0   0  48   0]]\n",
            "              precision    recall  f1-score   support\n",
            "\n",
            "           1       0.00      0.00      0.00        22\n",
            "           2       0.00      0.00      0.00        74\n",
            "           3       0.61      1.00      0.76       224\n",
            "           4       0.00      0.00      0.00        48\n",
            "\n",
            "    accuracy                           0.61       368\n",
            "   macro avg       0.15      0.25      0.19       368\n",
            "weighted avg       0.37      0.61      0.46       368\n",
            "\n"
          ]
        },
        {
          "output_type": "stream",
          "name": "stderr",
          "text": [
            "/usr/local/lib/python3.10/dist-packages/sklearn/metrics/_classification.py:1344: UndefinedMetricWarning: Precision and F-score are ill-defined and being set to 0.0 in labels with no predicted samples. Use `zero_division` parameter to control this behavior.\n",
            "  _warn_prf(average, modifier, msg_start, len(result))\n",
            "/usr/local/lib/python3.10/dist-packages/sklearn/metrics/_classification.py:1344: UndefinedMetricWarning: Precision and F-score are ill-defined and being set to 0.0 in labels with no predicted samples. Use `zero_division` parameter to control this behavior.\n",
            "  _warn_prf(average, modifier, msg_start, len(result))\n",
            "/usr/local/lib/python3.10/dist-packages/sklearn/metrics/_classification.py:1344: UndefinedMetricWarning: Precision and F-score are ill-defined and being set to 0.0 in labels with no predicted samples. Use `zero_division` parameter to control this behavior.\n",
            "  _warn_prf(average, modifier, msg_start, len(result))\n"
          ]
        }
      ]
    },
    {
      "cell_type": "markdown",
      "source": [
        "######3.4.2.1.h Standard scaler - Feature selection using mutual_info_regression"
      ],
      "metadata": {
        "id": "NxbcO87aH5Rq"
      }
    },
    {
      "cell_type": "code",
      "source": [
        "X13_std_feat = std.fit_transform(X13_feat)\n",
        "X13_train_std_feat, X13_test_std_feat, y13_train, y13_test = train_test_split(X13_std_feat, y13, test_size = 0.25, random_state = 42)"
      ],
      "metadata": {
        "id": "8aDQohwhDq55"
      },
      "execution_count": null,
      "outputs": []
    },
    {
      "cell_type": "code",
      "source": [
        "#Test 1.22\n",
        "LR(X13_train_std_feat, X13_test_std_feat, y13_train, y13_test)"
      ],
      "metadata": {
        "colab": {
          "base_uri": "https://localhost:8080/"
        },
        "id": "P_pTcGXyIGOu",
        "outputId": "bae87ae7-f97c-4800-ff63-11cafcda9038"
      },
      "execution_count": null,
      "outputs": [
        {
          "output_type": "stream",
          "name": "stdout",
          "text": [
            "[[  0   0  22   0]\n",
            " [  0   0  74   0]\n",
            " [  0   0 224   0]\n",
            " [  0   0  48   0]]\n",
            "              precision    recall  f1-score   support\n",
            "\n",
            "           1       0.00      0.00      0.00        22\n",
            "           2       0.00      0.00      0.00        74\n",
            "           3       0.61      1.00      0.76       224\n",
            "           4       0.00      0.00      0.00        48\n",
            "\n",
            "    accuracy                           0.61       368\n",
            "   macro avg       0.15      0.25      0.19       368\n",
            "weighted avg       0.37      0.61      0.46       368\n",
            "\n"
          ]
        },
        {
          "output_type": "stream",
          "name": "stderr",
          "text": [
            "/usr/local/lib/python3.10/dist-packages/sklearn/metrics/_classification.py:1344: UndefinedMetricWarning: Precision and F-score are ill-defined and being set to 0.0 in labels with no predicted samples. Use `zero_division` parameter to control this behavior.\n",
            "  _warn_prf(average, modifier, msg_start, len(result))\n",
            "/usr/local/lib/python3.10/dist-packages/sklearn/metrics/_classification.py:1344: UndefinedMetricWarning: Precision and F-score are ill-defined and being set to 0.0 in labels with no predicted samples. Use `zero_division` parameter to control this behavior.\n",
            "  _warn_prf(average, modifier, msg_start, len(result))\n",
            "/usr/local/lib/python3.10/dist-packages/sklearn/metrics/_classification.py:1344: UndefinedMetricWarning: Precision and F-score are ill-defined and being set to 0.0 in labels with no predicted samples. Use `zero_division` parameter to control this behavior.\n",
            "  _warn_prf(average, modifier, msg_start, len(result))\n"
          ]
        }
      ]
    },
    {
      "cell_type": "code",
      "source": [
        "#Test 1.23\n",
        "gaussian(X13_train_std_feat, X13_test_std_feat, y13_train, y13_test)"
      ],
      "metadata": {
        "colab": {
          "base_uri": "https://localhost:8080/"
        },
        "id": "Xa4dQ8QiIGHg",
        "outputId": "2f80a5c5-0bea-4fce-db36-041f8d816b4e"
      },
      "execution_count": null,
      "outputs": [
        {
          "output_type": "stream",
          "name": "stdout",
          "text": [
            "[[  0   0  22   0]\n",
            " [  0   0  74   0]\n",
            " [  4   0 220   0]\n",
            " [  0   0  48   0]]\n",
            "              precision    recall  f1-score   support\n",
            "\n",
            "           1       0.00      0.00      0.00        22\n",
            "           2       0.00      0.00      0.00        74\n",
            "           3       0.60      0.98      0.75       224\n",
            "           4       0.00      0.00      0.00        48\n",
            "\n",
            "    accuracy                           0.60       368\n",
            "   macro avg       0.15      0.25      0.19       368\n",
            "weighted avg       0.37      0.60      0.46       368\n",
            "\n"
          ]
        },
        {
          "output_type": "stream",
          "name": "stderr",
          "text": [
            "/usr/local/lib/python3.10/dist-packages/sklearn/metrics/_classification.py:1344: UndefinedMetricWarning: Precision and F-score are ill-defined and being set to 0.0 in labels with no predicted samples. Use `zero_division` parameter to control this behavior.\n",
            "  _warn_prf(average, modifier, msg_start, len(result))\n",
            "/usr/local/lib/python3.10/dist-packages/sklearn/metrics/_classification.py:1344: UndefinedMetricWarning: Precision and F-score are ill-defined and being set to 0.0 in labels with no predicted samples. Use `zero_division` parameter to control this behavior.\n",
            "  _warn_prf(average, modifier, msg_start, len(result))\n",
            "/usr/local/lib/python3.10/dist-packages/sklearn/metrics/_classification.py:1344: UndefinedMetricWarning: Precision and F-score are ill-defined and being set to 0.0 in labels with no predicted samples. Use `zero_division` parameter to control this behavior.\n",
            "  _warn_prf(average, modifier, msg_start, len(result))\n"
          ]
        }
      ]
    },
    {
      "cell_type": "code",
      "source": [
        "#Test 1.24\n",
        "support(X13_train_std_feat, X13_test_std_feat, y13_train, y13_test)"
      ],
      "metadata": {
        "colab": {
          "base_uri": "https://localhost:8080/"
        },
        "id": "M6B-UiNvIF6V",
        "outputId": "8bea506b-d83c-422e-8cd4-466ad80f2545"
      },
      "execution_count": null,
      "outputs": [
        {
          "output_type": "stream",
          "name": "stdout",
          "text": [
            "[[  0   0  22   0]\n",
            " [  0   0  74   0]\n",
            " [  0   0 224   0]\n",
            " [  0   0  48   0]]\n",
            "              precision    recall  f1-score   support\n",
            "\n",
            "           1       0.00      0.00      0.00        22\n",
            "           2       0.00      0.00      0.00        74\n",
            "           3       0.61      1.00      0.76       224\n",
            "           4       0.00      0.00      0.00        48\n",
            "\n",
            "    accuracy                           0.61       368\n",
            "   macro avg       0.15      0.25      0.19       368\n",
            "weighted avg       0.37      0.61      0.46       368\n",
            "\n"
          ]
        },
        {
          "output_type": "stream",
          "name": "stderr",
          "text": [
            "/usr/local/lib/python3.10/dist-packages/sklearn/metrics/_classification.py:1344: UndefinedMetricWarning: Precision and F-score are ill-defined and being set to 0.0 in labels with no predicted samples. Use `zero_division` parameter to control this behavior.\n",
            "  _warn_prf(average, modifier, msg_start, len(result))\n",
            "/usr/local/lib/python3.10/dist-packages/sklearn/metrics/_classification.py:1344: UndefinedMetricWarning: Precision and F-score are ill-defined and being set to 0.0 in labels with no predicted samples. Use `zero_division` parameter to control this behavior.\n",
            "  _warn_prf(average, modifier, msg_start, len(result))\n",
            "/usr/local/lib/python3.10/dist-packages/sklearn/metrics/_classification.py:1344: UndefinedMetricWarning: Precision and F-score are ill-defined and being set to 0.0 in labels with no predicted samples. Use `zero_division` parameter to control this behavior.\n",
            "  _warn_prf(average, modifier, msg_start, len(result))\n"
          ]
        }
      ]
    },
    {
      "cell_type": "markdown",
      "source": [
        "######3.4.2.1.i Min_Max Scaling with original data"
      ],
      "metadata": {
        "id": "--7GQdQwhfKL"
      }
    },
    {
      "cell_type": "code",
      "source": [
        "#Import requiered Libreary\n",
        "from sklearn.preprocessing import MinMaxScaler"
      ],
      "metadata": {
        "id": "UlE8lzxLqJJx"
      },
      "execution_count": null,
      "outputs": []
    },
    {
      "cell_type": "code",
      "source": [
        "min_max = MinMaxScaler()\n",
        "X1_mm = min_max.fit_transform(X1)"
      ],
      "metadata": {
        "id": "xKa1NohEqsMQ"
      },
      "execution_count": null,
      "outputs": []
    },
    {
      "cell_type": "code",
      "source": [
        "X1_train_mm, X1_test_mm, y1_train, y1_test = train_test_split(X1_mm, y1, test_size = 0.25, random_state = 42)"
      ],
      "metadata": {
        "id": "6P93R2lnqtip"
      },
      "execution_count": null,
      "outputs": []
    },
    {
      "cell_type": "code",
      "source": [
        "#Test 1.25\n",
        "LR(X1_train_mm, X1_test_mm, y1_train, y1_test)"
      ],
      "metadata": {
        "colab": {
          "base_uri": "https://localhost:8080/"
        },
        "id": "2BhwqokNqvBw",
        "outputId": "cd80299e-a01a-4b68-abad-285997ee9776"
      },
      "execution_count": null,
      "outputs": [
        {
          "output_type": "stream",
          "name": "stdout",
          "text": [
            "[[  0   0  22   0]\n",
            " [  0   0  74   0]\n",
            " [  0   1 223   0]\n",
            " [  0   1  47   0]]\n",
            "              precision    recall  f1-score   support\n",
            "\n",
            "           1       0.00      0.00      0.00        22\n",
            "           2       0.00      0.00      0.00        74\n",
            "           3       0.61      1.00      0.76       224\n",
            "           4       0.00      0.00      0.00        48\n",
            "\n",
            "    accuracy                           0.61       368\n",
            "   macro avg       0.15      0.25      0.19       368\n",
            "weighted avg       0.37      0.61      0.46       368\n",
            "\n"
          ]
        },
        {
          "output_type": "stream",
          "name": "stderr",
          "text": [
            "/usr/local/lib/python3.10/dist-packages/sklearn/linear_model/_logistic.py:458: ConvergenceWarning: lbfgs failed to converge (status=1):\n",
            "STOP: TOTAL NO. of ITERATIONS REACHED LIMIT.\n",
            "\n",
            "Increase the number of iterations (max_iter) or scale the data as shown in:\n",
            "    https://scikit-learn.org/stable/modules/preprocessing.html\n",
            "Please also refer to the documentation for alternative solver options:\n",
            "    https://scikit-learn.org/stable/modules/linear_model.html#logistic-regression\n",
            "  n_iter_i = _check_optimize_result(\n",
            "/usr/local/lib/python3.10/dist-packages/sklearn/metrics/_classification.py:1344: UndefinedMetricWarning: Precision and F-score are ill-defined and being set to 0.0 in labels with no predicted samples. Use `zero_division` parameter to control this behavior.\n",
            "  _warn_prf(average, modifier, msg_start, len(result))\n",
            "/usr/local/lib/python3.10/dist-packages/sklearn/metrics/_classification.py:1344: UndefinedMetricWarning: Precision and F-score are ill-defined and being set to 0.0 in labels with no predicted samples. Use `zero_division` parameter to control this behavior.\n",
            "  _warn_prf(average, modifier, msg_start, len(result))\n",
            "/usr/local/lib/python3.10/dist-packages/sklearn/metrics/_classification.py:1344: UndefinedMetricWarning: Precision and F-score are ill-defined and being set to 0.0 in labels with no predicted samples. Use `zero_division` parameter to control this behavior.\n",
            "  _warn_prf(average, modifier, msg_start, len(result))\n"
          ]
        }
      ]
    },
    {
      "cell_type": "code",
      "source": [
        "#Test 1.26\n",
        "gaussian(X1_train_mm, X1_test_mm, y1_train, y1_test)"
      ],
      "metadata": {
        "colab": {
          "base_uri": "https://localhost:8080/"
        },
        "id": "MJEhUbwjqxtu",
        "outputId": "d9996c5c-3219-4e79-dcd4-25599a6686ea"
      },
      "execution_count": null,
      "outputs": [
        {
          "output_type": "stream",
          "name": "stdout",
          "text": [
            "[[  3   1  18   0]\n",
            " [  8   1  64   1]\n",
            " [ 20   5 199   0]\n",
            " [  7   1  40   0]]\n",
            "              precision    recall  f1-score   support\n",
            "\n",
            "           1       0.08      0.14      0.10        22\n",
            "           2       0.12      0.01      0.02        74\n",
            "           3       0.62      0.89      0.73       224\n",
            "           4       0.00      0.00      0.00        48\n",
            "\n",
            "    accuracy                           0.55       368\n",
            "   macro avg       0.21      0.26      0.21       368\n",
            "weighted avg       0.41      0.55      0.46       368\n",
            "\n"
          ]
        }
      ]
    },
    {
      "cell_type": "code",
      "source": [
        "#Test 1.27\n",
        "support(X1_train_mm, X1_test_mm, y1_train, y1_test)"
      ],
      "metadata": {
        "colab": {
          "base_uri": "https://localhost:8080/"
        },
        "id": "sUR9LRHMqzt0",
        "outputId": "e928f23f-a31e-41ee-974b-9cd9220185c5"
      },
      "execution_count": null,
      "outputs": [
        {
          "output_type": "stream",
          "name": "stdout",
          "text": [
            "[[  0   0  22   0]\n",
            " [  0   0  74   0]\n",
            " [  0   0 224   0]\n",
            " [  0   0  48   0]]\n",
            "              precision    recall  f1-score   support\n",
            "\n",
            "           1       0.00      0.00      0.00        22\n",
            "           2       0.00      0.00      0.00        74\n",
            "           3       0.61      1.00      0.76       224\n",
            "           4       0.00      0.00      0.00        48\n",
            "\n",
            "    accuracy                           0.61       368\n",
            "   macro avg       0.15      0.25      0.19       368\n",
            "weighted avg       0.37      0.61      0.46       368\n",
            "\n"
          ]
        },
        {
          "output_type": "stream",
          "name": "stderr",
          "text": [
            "/usr/local/lib/python3.10/dist-packages/sklearn/metrics/_classification.py:1344: UndefinedMetricWarning: Precision and F-score are ill-defined and being set to 0.0 in labels with no predicted samples. Use `zero_division` parameter to control this behavior.\n",
            "  _warn_prf(average, modifier, msg_start, len(result))\n",
            "/usr/local/lib/python3.10/dist-packages/sklearn/metrics/_classification.py:1344: UndefinedMetricWarning: Precision and F-score are ill-defined and being set to 0.0 in labels with no predicted samples. Use `zero_division` parameter to control this behavior.\n",
            "  _warn_prf(average, modifier, msg_start, len(result))\n",
            "/usr/local/lib/python3.10/dist-packages/sklearn/metrics/_classification.py:1344: UndefinedMetricWarning: Precision and F-score are ill-defined and being set to 0.0 in labels with no predicted samples. Use `zero_division` parameter to control this behavior.\n",
            "  _warn_prf(average, modifier, msg_start, len(result))\n"
          ]
        }
      ]
    },
    {
      "cell_type": "markdown",
      "source": [
        "######Min_Max Scaling with selected features"
      ],
      "metadata": {
        "id": "SBeB8_8bhfCf"
      }
    },
    {
      "cell_type": "markdown",
      "source": [
        "######3.4.2.1.j Min_Max scaler feature selection using correlation matrix"
      ],
      "metadata": {
        "id": "TX-SlCHnWe-_"
      }
    },
    {
      "cell_type": "code",
      "source": [
        "min_max = MinMaxScaler()\n",
        "X11_mm_feat = min_max.fit_transform(X11_feat)\n",
        "X11_train_mm_feat, X11_test_mm_feat, y11_train, y11_test = train_test_split(X11_mm_feat, y11, test_size = 0.25, random_state = 42)\n"
      ],
      "metadata": {
        "id": "S8FmBy7JW3jA"
      },
      "execution_count": null,
      "outputs": []
    },
    {
      "cell_type": "code",
      "source": [
        "#Test 1.28\n",
        "LR(X11_train_mm_feat, X11_test_mm_feat, y11_train, y11_test)"
      ],
      "metadata": {
        "colab": {
          "base_uri": "https://localhost:8080/"
        },
        "id": "60bAm3FzW3Ui",
        "outputId": "f889f5d4-f125-420b-b229-e55ee909a348"
      },
      "execution_count": null,
      "outputs": [
        {
          "output_type": "stream",
          "name": "stdout",
          "text": [
            "[[  0   0  22   0]\n",
            " [  0   0  74   0]\n",
            " [  0   0 224   0]\n",
            " [  0   0  48   0]]\n",
            "              precision    recall  f1-score   support\n",
            "\n",
            "           1       0.00      0.00      0.00        22\n",
            "           2       0.00      0.00      0.00        74\n",
            "           3       0.61      1.00      0.76       224\n",
            "           4       0.00      0.00      0.00        48\n",
            "\n",
            "    accuracy                           0.61       368\n",
            "   macro avg       0.15      0.25      0.19       368\n",
            "weighted avg       0.37      0.61      0.46       368\n",
            "\n"
          ]
        },
        {
          "output_type": "stream",
          "name": "stderr",
          "text": [
            "/usr/local/lib/python3.10/dist-packages/sklearn/metrics/_classification.py:1344: UndefinedMetricWarning: Precision and F-score are ill-defined and being set to 0.0 in labels with no predicted samples. Use `zero_division` parameter to control this behavior.\n",
            "  _warn_prf(average, modifier, msg_start, len(result))\n",
            "/usr/local/lib/python3.10/dist-packages/sklearn/metrics/_classification.py:1344: UndefinedMetricWarning: Precision and F-score are ill-defined and being set to 0.0 in labels with no predicted samples. Use `zero_division` parameter to control this behavior.\n",
            "  _warn_prf(average, modifier, msg_start, len(result))\n",
            "/usr/local/lib/python3.10/dist-packages/sklearn/metrics/_classification.py:1344: UndefinedMetricWarning: Precision and F-score are ill-defined and being set to 0.0 in labels with no predicted samples. Use `zero_division` parameter to control this behavior.\n",
            "  _warn_prf(average, modifier, msg_start, len(result))\n"
          ]
        }
      ]
    },
    {
      "cell_type": "markdown",
      "source": [
        "######Top model variable under analysis 1 - for those with the lowest rate of WorkLifeBalance (1)"
      ],
      "metadata": {
        "id": "9ZAuu9gQYvOS"
      }
    },
    {
      "cell_type": "code",
      "source": [
        "#Test 1.29\n",
        "gaussian(X11_train_mm_feat, X11_test_mm_feat, y11_train, y11_test)"
      ],
      "metadata": {
        "colab": {
          "base_uri": "https://localhost:8080/"
        },
        "id": "qblD1IAPW3IC",
        "outputId": "dd7df9d1-964a-4756-c567-ded3a41ae7ce"
      },
      "execution_count": null,
      "outputs": [
        {
          "output_type": "stream",
          "name": "stdout",
          "text": [
            "[[  4   0  18   0]\n",
            " [  1   0  73   0]\n",
            " [  0   0 224   0]\n",
            " [  2   1  45   0]]\n",
            "              precision    recall  f1-score   support\n",
            "\n",
            "           1       0.57      0.18      0.28        22\n",
            "           2       0.00      0.00      0.00        74\n",
            "           3       0.62      1.00      0.77       224\n",
            "           4       0.00      0.00      0.00        48\n",
            "\n",
            "    accuracy                           0.62       368\n",
            "   macro avg       0.30      0.30      0.26       368\n",
            "weighted avg       0.41      0.62      0.48       368\n",
            "\n"
          ]
        },
        {
          "output_type": "stream",
          "name": "stderr",
          "text": [
            "/usr/local/lib/python3.10/dist-packages/sklearn/metrics/_classification.py:1344: UndefinedMetricWarning: Precision and F-score are ill-defined and being set to 0.0 in labels with no predicted samples. Use `zero_division` parameter to control this behavior.\n",
            "  _warn_prf(average, modifier, msg_start, len(result))\n",
            "/usr/local/lib/python3.10/dist-packages/sklearn/metrics/_classification.py:1344: UndefinedMetricWarning: Precision and F-score are ill-defined and being set to 0.0 in labels with no predicted samples. Use `zero_division` parameter to control this behavior.\n",
            "  _warn_prf(average, modifier, msg_start, len(result))\n",
            "/usr/local/lib/python3.10/dist-packages/sklearn/metrics/_classification.py:1344: UndefinedMetricWarning: Precision and F-score are ill-defined and being set to 0.0 in labels with no predicted samples. Use `zero_division` parameter to control this behavior.\n",
            "  _warn_prf(average, modifier, msg_start, len(result))\n"
          ]
        }
      ]
    },
    {
      "cell_type": "code",
      "source": [
        "#Test 1.30\n",
        "support(X11_train_mm_feat, X11_test_mm_feat, y11_train, y11_test)"
      ],
      "metadata": {
        "colab": {
          "base_uri": "https://localhost:8080/"
        },
        "id": "eFOsMw_dXp9R",
        "outputId": "3092622e-2c77-4596-beeb-d05f411c6671"
      },
      "execution_count": null,
      "outputs": [
        {
          "output_type": "stream",
          "name": "stdout",
          "text": [
            "[[  0   0  22   0]\n",
            " [  0   0  74   0]\n",
            " [  0   0 224   0]\n",
            " [  0   0  48   0]]\n",
            "              precision    recall  f1-score   support\n",
            "\n",
            "           1       0.00      0.00      0.00        22\n",
            "           2       0.00      0.00      0.00        74\n",
            "           3       0.61      1.00      0.76       224\n",
            "           4       0.00      0.00      0.00        48\n",
            "\n",
            "    accuracy                           0.61       368\n",
            "   macro avg       0.15      0.25      0.19       368\n",
            "weighted avg       0.37      0.61      0.46       368\n",
            "\n"
          ]
        },
        {
          "output_type": "stream",
          "name": "stderr",
          "text": [
            "/usr/local/lib/python3.10/dist-packages/sklearn/metrics/_classification.py:1344: UndefinedMetricWarning: Precision and F-score are ill-defined and being set to 0.0 in labels with no predicted samples. Use `zero_division` parameter to control this behavior.\n",
            "  _warn_prf(average, modifier, msg_start, len(result))\n",
            "/usr/local/lib/python3.10/dist-packages/sklearn/metrics/_classification.py:1344: UndefinedMetricWarning: Precision and F-score are ill-defined and being set to 0.0 in labels with no predicted samples. Use `zero_division` parameter to control this behavior.\n",
            "  _warn_prf(average, modifier, msg_start, len(result))\n",
            "/usr/local/lib/python3.10/dist-packages/sklearn/metrics/_classification.py:1344: UndefinedMetricWarning: Precision and F-score are ill-defined and being set to 0.0 in labels with no predicted samples. Use `zero_division` parameter to control this behavior.\n",
            "  _warn_prf(average, modifier, msg_start, len(result))\n"
          ]
        }
      ]
    },
    {
      "cell_type": "markdown",
      "source": [
        "######3.4.2.1.k Min_Max scaler feature selection using chi2"
      ],
      "metadata": {
        "id": "hScXhi3VWvan"
      }
    },
    {
      "cell_type": "code",
      "source": [
        "min_max = MinMaxScaler()\n",
        "X12_mm_feat = min_max.fit_transform(X12_feat)\n",
        "X12_train_mm_feat, X12_test_mm_feat, y12_train, y12_test = train_test_split(X12_mm_feat, y12, test_size = 0.25, random_state = 42)"
      ],
      "metadata": {
        "id": "0M38mqT7XQas"
      },
      "execution_count": null,
      "outputs": []
    },
    {
      "cell_type": "code",
      "source": [
        "#Test 1.31\n",
        "LR(X12_train_mm_feat, X12_test_mm_feat, y12_train, y12_test)"
      ],
      "metadata": {
        "colab": {
          "base_uri": "https://localhost:8080/"
        },
        "id": "xggqjiKuXZvJ",
        "outputId": "fe3f2100-0c54-4c67-c1b8-3c826d84fe0e"
      },
      "execution_count": null,
      "outputs": [
        {
          "output_type": "stream",
          "name": "stdout",
          "text": [
            "[[  0   0  22   0]\n",
            " [  0   0  74   0]\n",
            " [  0   0 224   0]\n",
            " [  0   0  48   0]]\n",
            "              precision    recall  f1-score   support\n",
            "\n",
            "           1       0.00      0.00      0.00        22\n",
            "           2       0.00      0.00      0.00        74\n",
            "           3       0.61      1.00      0.76       224\n",
            "           4       0.00      0.00      0.00        48\n",
            "\n",
            "    accuracy                           0.61       368\n",
            "   macro avg       0.15      0.25      0.19       368\n",
            "weighted avg       0.37      0.61      0.46       368\n",
            "\n"
          ]
        },
        {
          "output_type": "stream",
          "name": "stderr",
          "text": [
            "/usr/local/lib/python3.10/dist-packages/sklearn/metrics/_classification.py:1344: UndefinedMetricWarning: Precision and F-score are ill-defined and being set to 0.0 in labels with no predicted samples. Use `zero_division` parameter to control this behavior.\n",
            "  _warn_prf(average, modifier, msg_start, len(result))\n",
            "/usr/local/lib/python3.10/dist-packages/sklearn/metrics/_classification.py:1344: UndefinedMetricWarning: Precision and F-score are ill-defined and being set to 0.0 in labels with no predicted samples. Use `zero_division` parameter to control this behavior.\n",
            "  _warn_prf(average, modifier, msg_start, len(result))\n",
            "/usr/local/lib/python3.10/dist-packages/sklearn/metrics/_classification.py:1344: UndefinedMetricWarning: Precision and F-score are ill-defined and being set to 0.0 in labels with no predicted samples. Use `zero_division` parameter to control this behavior.\n",
            "  _warn_prf(average, modifier, msg_start, len(result))\n"
          ]
        }
      ]
    },
    {
      "cell_type": "code",
      "source": [
        "#Test 1.32\n",
        "gaussian(X12_train_mm_feat, X12_test_mm_feat, y12_train, y12_test)"
      ],
      "metadata": {
        "colab": {
          "base_uri": "https://localhost:8080/"
        },
        "id": "7E_kx93sXyL6",
        "outputId": "b888735f-3e56-4e3b-ced2-6a9b8587e34a"
      },
      "execution_count": null,
      "outputs": [
        {
          "output_type": "stream",
          "name": "stdout",
          "text": [
            "[[  3   0  19   0]\n",
            " [  3   0  71   0]\n",
            " [  5   0 219   0]\n",
            " [  3   0  45   0]]\n",
            "              precision    recall  f1-score   support\n",
            "\n",
            "           1       0.21      0.14      0.17        22\n",
            "           2       0.00      0.00      0.00        74\n",
            "           3       0.62      0.98      0.76       224\n",
            "           4       0.00      0.00      0.00        48\n",
            "\n",
            "    accuracy                           0.60       368\n",
            "   macro avg       0.21      0.28      0.23       368\n",
            "weighted avg       0.39      0.60      0.47       368\n",
            "\n"
          ]
        },
        {
          "output_type": "stream",
          "name": "stderr",
          "text": [
            "/usr/local/lib/python3.10/dist-packages/sklearn/metrics/_classification.py:1344: UndefinedMetricWarning: Precision and F-score are ill-defined and being set to 0.0 in labels with no predicted samples. Use `zero_division` parameter to control this behavior.\n",
            "  _warn_prf(average, modifier, msg_start, len(result))\n",
            "/usr/local/lib/python3.10/dist-packages/sklearn/metrics/_classification.py:1344: UndefinedMetricWarning: Precision and F-score are ill-defined and being set to 0.0 in labels with no predicted samples. Use `zero_division` parameter to control this behavior.\n",
            "  _warn_prf(average, modifier, msg_start, len(result))\n",
            "/usr/local/lib/python3.10/dist-packages/sklearn/metrics/_classification.py:1344: UndefinedMetricWarning: Precision and F-score are ill-defined and being set to 0.0 in labels with no predicted samples. Use `zero_division` parameter to control this behavior.\n",
            "  _warn_prf(average, modifier, msg_start, len(result))\n"
          ]
        }
      ]
    },
    {
      "cell_type": "code",
      "source": [
        "#Test 1.33\n",
        "support(X12_train_mm_feat, X12_test_mm_feat, y12_train, y12_test)"
      ],
      "metadata": {
        "colab": {
          "base_uri": "https://localhost:8080/"
        },
        "id": "6ONwxp6BX1NX",
        "outputId": "25c251aa-6822-408f-e86f-0c5774e3a4c6"
      },
      "execution_count": null,
      "outputs": [
        {
          "output_type": "stream",
          "name": "stdout",
          "text": [
            "[[  0   0  22   0]\n",
            " [  0   0  74   0]\n",
            " [  0   0 224   0]\n",
            " [  0   0  48   0]]\n",
            "              precision    recall  f1-score   support\n",
            "\n",
            "           1       0.00      0.00      0.00        22\n",
            "           2       0.00      0.00      0.00        74\n",
            "           3       0.61      1.00      0.76       224\n",
            "           4       0.00      0.00      0.00        48\n",
            "\n",
            "    accuracy                           0.61       368\n",
            "   macro avg       0.15      0.25      0.19       368\n",
            "weighted avg       0.37      0.61      0.46       368\n",
            "\n"
          ]
        },
        {
          "output_type": "stream",
          "name": "stderr",
          "text": [
            "/usr/local/lib/python3.10/dist-packages/sklearn/metrics/_classification.py:1344: UndefinedMetricWarning: Precision and F-score are ill-defined and being set to 0.0 in labels with no predicted samples. Use `zero_division` parameter to control this behavior.\n",
            "  _warn_prf(average, modifier, msg_start, len(result))\n",
            "/usr/local/lib/python3.10/dist-packages/sklearn/metrics/_classification.py:1344: UndefinedMetricWarning: Precision and F-score are ill-defined and being set to 0.0 in labels with no predicted samples. Use `zero_division` parameter to control this behavior.\n",
            "  _warn_prf(average, modifier, msg_start, len(result))\n",
            "/usr/local/lib/python3.10/dist-packages/sklearn/metrics/_classification.py:1344: UndefinedMetricWarning: Precision and F-score are ill-defined and being set to 0.0 in labels with no predicted samples. Use `zero_division` parameter to control this behavior.\n",
            "  _warn_prf(average, modifier, msg_start, len(result))\n"
          ]
        }
      ]
    },
    {
      "cell_type": "markdown",
      "source": [
        "######3.4.2.1.l Min_Max scaler feature selection using mutual_info_regression"
      ],
      "metadata": {
        "id": "9D8Y_zIUWyXi"
      }
    },
    {
      "cell_type": "code",
      "source": [
        "min_max = MinMaxScaler()\n",
        "X13_mm_feat = min_max.fit_transform(X13_feat)\n",
        "X13_train_mm_feat, X13_test_mm_feat, y13_train, y13_test = train_test_split(X13_mm_feat, y13, test_size = 0.25, random_state = 42)"
      ],
      "metadata": {
        "id": "wVdZ1frrXVIm"
      },
      "execution_count": null,
      "outputs": []
    },
    {
      "cell_type": "code",
      "source": [
        "#Test 1.34\n",
        "LR(X13_train_mm_feat, X13_test_mm_feat, y13_train, y13_test)"
      ],
      "metadata": {
        "colab": {
          "base_uri": "https://localhost:8080/"
        },
        "id": "jlJBG_tRXaCh",
        "outputId": "ce6f14d5-c688-4e58-a5ee-a591651f4b34"
      },
      "execution_count": null,
      "outputs": [
        {
          "output_type": "stream",
          "name": "stdout",
          "text": [
            "[[  0   0  22   0]\n",
            " [  0   0  74   0]\n",
            " [  0   0 224   0]\n",
            " [  0   0  48   0]]\n",
            "              precision    recall  f1-score   support\n",
            "\n",
            "           1       0.00      0.00      0.00        22\n",
            "           2       0.00      0.00      0.00        74\n",
            "           3       0.61      1.00      0.76       224\n",
            "           4       0.00      0.00      0.00        48\n",
            "\n",
            "    accuracy                           0.61       368\n",
            "   macro avg       0.15      0.25      0.19       368\n",
            "weighted avg       0.37      0.61      0.46       368\n",
            "\n"
          ]
        },
        {
          "output_type": "stream",
          "name": "stderr",
          "text": [
            "/usr/local/lib/python3.10/dist-packages/sklearn/metrics/_classification.py:1344: UndefinedMetricWarning: Precision and F-score are ill-defined and being set to 0.0 in labels with no predicted samples. Use `zero_division` parameter to control this behavior.\n",
            "  _warn_prf(average, modifier, msg_start, len(result))\n",
            "/usr/local/lib/python3.10/dist-packages/sklearn/metrics/_classification.py:1344: UndefinedMetricWarning: Precision and F-score are ill-defined and being set to 0.0 in labels with no predicted samples. Use `zero_division` parameter to control this behavior.\n",
            "  _warn_prf(average, modifier, msg_start, len(result))\n",
            "/usr/local/lib/python3.10/dist-packages/sklearn/metrics/_classification.py:1344: UndefinedMetricWarning: Precision and F-score are ill-defined and being set to 0.0 in labels with no predicted samples. Use `zero_division` parameter to control this behavior.\n",
            "  _warn_prf(average, modifier, msg_start, len(result))\n"
          ]
        }
      ]
    },
    {
      "cell_type": "code",
      "source": [
        "#Test 1.35\n",
        "gaussian(X13_train_mm_feat, X13_test_mm_feat, y13_train, y13_test)"
      ],
      "metadata": {
        "colab": {
          "base_uri": "https://localhost:8080/"
        },
        "id": "XgvPPLS3X9Te",
        "outputId": "b8c16efc-3fbc-41c7-ac1c-4cd60a42f90a"
      },
      "execution_count": null,
      "outputs": [
        {
          "output_type": "stream",
          "name": "stdout",
          "text": [
            "[[  0   0  22   0]\n",
            " [  0   0  74   0]\n",
            " [  4   0 220   0]\n",
            " [  0   0  48   0]]\n",
            "              precision    recall  f1-score   support\n",
            "\n",
            "           1       0.00      0.00      0.00        22\n",
            "           2       0.00      0.00      0.00        74\n",
            "           3       0.60      0.98      0.75       224\n",
            "           4       0.00      0.00      0.00        48\n",
            "\n",
            "    accuracy                           0.60       368\n",
            "   macro avg       0.15      0.25      0.19       368\n",
            "weighted avg       0.37      0.60      0.46       368\n",
            "\n"
          ]
        },
        {
          "output_type": "stream",
          "name": "stderr",
          "text": [
            "/usr/local/lib/python3.10/dist-packages/sklearn/metrics/_classification.py:1344: UndefinedMetricWarning: Precision and F-score are ill-defined and being set to 0.0 in labels with no predicted samples. Use `zero_division` parameter to control this behavior.\n",
            "  _warn_prf(average, modifier, msg_start, len(result))\n",
            "/usr/local/lib/python3.10/dist-packages/sklearn/metrics/_classification.py:1344: UndefinedMetricWarning: Precision and F-score are ill-defined and being set to 0.0 in labels with no predicted samples. Use `zero_division` parameter to control this behavior.\n",
            "  _warn_prf(average, modifier, msg_start, len(result))\n",
            "/usr/local/lib/python3.10/dist-packages/sklearn/metrics/_classification.py:1344: UndefinedMetricWarning: Precision and F-score are ill-defined and being set to 0.0 in labels with no predicted samples. Use `zero_division` parameter to control this behavior.\n",
            "  _warn_prf(average, modifier, msg_start, len(result))\n"
          ]
        }
      ]
    },
    {
      "cell_type": "code",
      "source": [
        "#Test 1.36\n",
        "support(X13_train_mm_feat, X13_test_mm_feat, y13_train, y13_test)"
      ],
      "metadata": {
        "colab": {
          "base_uri": "https://localhost:8080/"
        },
        "id": "NOUgI-V0X_VP",
        "outputId": "43979bf3-226c-4d3e-86cc-3807dea5da3b"
      },
      "execution_count": null,
      "outputs": [
        {
          "output_type": "stream",
          "name": "stdout",
          "text": [
            "[[  0   0  22   0]\n",
            " [  0   0  74   0]\n",
            " [  0   0 224   0]\n",
            " [  0   0  48   0]]\n",
            "              precision    recall  f1-score   support\n",
            "\n",
            "           1       0.00      0.00      0.00        22\n",
            "           2       0.00      0.00      0.00        74\n",
            "           3       0.61      1.00      0.76       224\n",
            "           4       0.00      0.00      0.00        48\n",
            "\n",
            "    accuracy                           0.61       368\n",
            "   macro avg       0.15      0.25      0.19       368\n",
            "weighted avg       0.37      0.61      0.46       368\n",
            "\n"
          ]
        },
        {
          "output_type": "stream",
          "name": "stderr",
          "text": [
            "/usr/local/lib/python3.10/dist-packages/sklearn/metrics/_classification.py:1344: UndefinedMetricWarning: Precision and F-score are ill-defined and being set to 0.0 in labels with no predicted samples. Use `zero_division` parameter to control this behavior.\n",
            "  _warn_prf(average, modifier, msg_start, len(result))\n",
            "/usr/local/lib/python3.10/dist-packages/sklearn/metrics/_classification.py:1344: UndefinedMetricWarning: Precision and F-score are ill-defined and being set to 0.0 in labels with no predicted samples. Use `zero_division` parameter to control this behavior.\n",
            "  _warn_prf(average, modifier, msg_start, len(result))\n",
            "/usr/local/lib/python3.10/dist-packages/sklearn/metrics/_classification.py:1344: UndefinedMetricWarning: Precision and F-score are ill-defined and being set to 0.0 in labels with no predicted samples. Use `zero_division` parameter to control this behavior.\n",
            "  _warn_prf(average, modifier, msg_start, len(result))\n"
          ]
        }
      ]
    },
    {
      "cell_type": "markdown",
      "source": [
        "#####3.4.2.2 JobSatisfaction - Classification Analysis"
      ],
      "metadata": {
        "id": "tMGG6bwWl0yr"
      }
    },
    {
      "cell_type": "markdown",
      "source": [
        "######3.4.2.2.a Experiment without feature selection"
      ],
      "metadata": {
        "id": "9PI5JNYKl1JH"
      }
    },
    {
      "cell_type": "code",
      "source": [
        "#Split data\n",
        "X2 = df.drop(columns=['JobSatisfaction','EmployeeCount','Over18','StandardHours'])\n",
        "y2 = df['JobSatisfaction']"
      ],
      "metadata": {
        "id": "NTbu0sFCpOpM"
      },
      "execution_count": null,
      "outputs": []
    },
    {
      "cell_type": "code",
      "source": [
        "#Split dataframe into random train and test subsets\n",
        "\n",
        "from sklearn.model_selection import train_test_split\n",
        "\n",
        "X2_train, X2_test, y2_train, y2_test = train_test_split(X2, y2, test_size=0.25, random_state = 42)"
      ],
      "metadata": {
        "id": "pzf6ajqcpObW"
      },
      "execution_count": null,
      "outputs": []
    },
    {
      "cell_type": "code",
      "source": [
        "#Test 2.1\n",
        "LR(X2_train, X2_test, y2_train, y2_test)"
      ],
      "metadata": {
        "colab": {
          "base_uri": "https://localhost:8080/"
        },
        "id": "5xTSb68ppfhP",
        "outputId": "56795085-3e6b-4083-c602-a57c9989fd23"
      },
      "execution_count": null,
      "outputs": [
        {
          "output_type": "stream",
          "name": "stdout",
          "text": [
            "[[ 4  0 24 49]\n",
            " [ 1  0  9 47]\n",
            " [ 3  0 37 78]\n",
            " [ 2  0 36 78]]\n",
            "              precision    recall  f1-score   support\n",
            "\n",
            "           1       0.40      0.05      0.09        77\n",
            "           2       0.00      0.00      0.00        57\n",
            "           3       0.35      0.31      0.33       118\n",
            "           4       0.31      0.67      0.42       116\n",
            "\n",
            "    accuracy                           0.32       368\n",
            "   macro avg       0.26      0.26      0.21       368\n",
            "weighted avg       0.29      0.32      0.26       368\n",
            "\n"
          ]
        },
        {
          "output_type": "stream",
          "name": "stderr",
          "text": [
            "/usr/local/lib/python3.10/dist-packages/sklearn/linear_model/_logistic.py:458: ConvergenceWarning: lbfgs failed to converge (status=1):\n",
            "STOP: TOTAL NO. of ITERATIONS REACHED LIMIT.\n",
            "\n",
            "Increase the number of iterations (max_iter) or scale the data as shown in:\n",
            "    https://scikit-learn.org/stable/modules/preprocessing.html\n",
            "Please also refer to the documentation for alternative solver options:\n",
            "    https://scikit-learn.org/stable/modules/linear_model.html#logistic-regression\n",
            "  n_iter_i = _check_optimize_result(\n",
            "/usr/local/lib/python3.10/dist-packages/sklearn/metrics/_classification.py:1344: UndefinedMetricWarning: Precision and F-score are ill-defined and being set to 0.0 in labels with no predicted samples. Use `zero_division` parameter to control this behavior.\n",
            "  _warn_prf(average, modifier, msg_start, len(result))\n",
            "/usr/local/lib/python3.10/dist-packages/sklearn/metrics/_classification.py:1344: UndefinedMetricWarning: Precision and F-score are ill-defined and being set to 0.0 in labels with no predicted samples. Use `zero_division` parameter to control this behavior.\n",
            "  _warn_prf(average, modifier, msg_start, len(result))\n",
            "/usr/local/lib/python3.10/dist-packages/sklearn/metrics/_classification.py:1344: UndefinedMetricWarning: Precision and F-score are ill-defined and being set to 0.0 in labels with no predicted samples. Use `zero_division` parameter to control this behavior.\n",
            "  _warn_prf(average, modifier, msg_start, len(result))\n"
          ]
        }
      ]
    },
    {
      "cell_type": "code",
      "source": [
        "#Test 2.2\n",
        "gaussian(X2_train, X2_test, y2_train, y2_test)"
      ],
      "metadata": {
        "colab": {
          "base_uri": "https://localhost:8080/"
        },
        "id": "Xp2saLzqppet",
        "outputId": "c63764a3-64b8-40ea-9b5e-a2c5d35077bd"
      },
      "execution_count": null,
      "outputs": [
        {
          "output_type": "stream",
          "name": "stdout",
          "text": [
            "[[ 6  8 22 41]\n",
            " [ 8  7 20 22]\n",
            " [ 8 15 34 61]\n",
            " [ 6 20 31 59]]\n",
            "              precision    recall  f1-score   support\n",
            "\n",
            "           1       0.21      0.08      0.11        77\n",
            "           2       0.14      0.12      0.13        57\n",
            "           3       0.32      0.29      0.30       118\n",
            "           4       0.32      0.51      0.39       116\n",
            "\n",
            "    accuracy                           0.29       368\n",
            "   macro avg       0.25      0.25      0.24       368\n",
            "weighted avg       0.27      0.29      0.27       368\n",
            "\n"
          ]
        }
      ]
    },
    {
      "cell_type": "code",
      "source": [
        "#Test 2.3\n",
        "support(X2_train, X2_test, y2_train, y2_test)"
      ],
      "metadata": {
        "colab": {
          "base_uri": "https://localhost:8080/"
        },
        "id": "RiCgLox3ppUf",
        "outputId": "c3415869-30c6-4323-f820-fa117f9745da"
      },
      "execution_count": null,
      "outputs": [
        {
          "output_type": "stream",
          "name": "stdout",
          "text": [
            "[[ 0  0 18 59]\n",
            " [ 0  0  6 51]\n",
            " [ 0  0 29 89]\n",
            " [ 0  0 18 98]]\n",
            "              precision    recall  f1-score   support\n",
            "\n",
            "           1       0.00      0.00      0.00        77\n",
            "           2       0.00      0.00      0.00        57\n",
            "           3       0.41      0.25      0.31       118\n",
            "           4       0.33      0.84      0.47       116\n",
            "\n",
            "    accuracy                           0.35       368\n",
            "   macro avg       0.18      0.27      0.20       368\n",
            "weighted avg       0.23      0.35      0.25       368\n",
            "\n"
          ]
        },
        {
          "output_type": "stream",
          "name": "stderr",
          "text": [
            "/usr/local/lib/python3.10/dist-packages/sklearn/metrics/_classification.py:1344: UndefinedMetricWarning: Precision and F-score are ill-defined and being set to 0.0 in labels with no predicted samples. Use `zero_division` parameter to control this behavior.\n",
            "  _warn_prf(average, modifier, msg_start, len(result))\n",
            "/usr/local/lib/python3.10/dist-packages/sklearn/metrics/_classification.py:1344: UndefinedMetricWarning: Precision and F-score are ill-defined and being set to 0.0 in labels with no predicted samples. Use `zero_division` parameter to control this behavior.\n",
            "  _warn_prf(average, modifier, msg_start, len(result))\n",
            "/usr/local/lib/python3.10/dist-packages/sklearn/metrics/_classification.py:1344: UndefinedMetricWarning: Precision and F-score are ill-defined and being set to 0.0 in labels with no predicted samples. Use `zero_division` parameter to control this behavior.\n",
            "  _warn_prf(average, modifier, msg_start, len(result))\n"
          ]
        }
      ]
    },
    {
      "cell_type": "markdown",
      "source": [
        "######3.4.2.2.b Feature selection using correlation matrix"
      ],
      "metadata": {
        "id": "gSpvKuZPl1JJ"
      }
    },
    {
      "cell_type": "code",
      "source": [
        "X21_feat = df.drop(columns=['JobSatisfaction','EmployeeCount','Over18','StandardHours','Age','BusinessTravel','DistanceFromHome','Education','EnvironmentSatisfaction','JobLevel','JobRole','MonthlyIncome','MonthlyRate','PerformanceRating','RelationshipSatisfaction','StockOptionLevel','TrainingTimesLastYear','WorkLifeBalance','YearsAtCompany','YearsInCurrentRole','YearsSinceLastPromotion'])\n",
        "y21 = df['JobSatisfaction']"
      ],
      "metadata": {
        "id": "Mq3i3gIDI72V"
      },
      "execution_count": null,
      "outputs": []
    },
    {
      "cell_type": "code",
      "source": [
        "X21_train_feat, X21_test_feat, y21_train, y21_test = train_test_split(X21_feat, y21, test_size = 0.25, random_state = 42)"
      ],
      "metadata": {
        "id": "DaKuwdurM_xl"
      },
      "execution_count": null,
      "outputs": []
    },
    {
      "cell_type": "code",
      "source": [
        "#Test 2.4\n",
        "LR(X21_train_feat, X21_test_feat, y21_train, y21_test)"
      ],
      "metadata": {
        "colab": {
          "base_uri": "https://localhost:8080/"
        },
        "id": "u5MZTfvZM_fy",
        "outputId": "f65e5bb1-0a2d-4294-eb1d-b59d43bafb52"
      },
      "execution_count": null,
      "outputs": [
        {
          "output_type": "stream",
          "name": "stdout",
          "text": [
            "[[ 1  0 33 43]\n",
            " [ 1  0 26 30]\n",
            " [ 1  0 46 71]\n",
            " [ 4  0 49 63]]\n",
            "              precision    recall  f1-score   support\n",
            "\n",
            "           1       0.14      0.01      0.02        77\n",
            "           2       0.00      0.00      0.00        57\n",
            "           3       0.30      0.39      0.34       118\n",
            "           4       0.30      0.54      0.39       116\n",
            "\n",
            "    accuracy                           0.30       368\n",
            "   macro avg       0.19      0.24      0.19       368\n",
            "weighted avg       0.22      0.30      0.24       368\n",
            "\n"
          ]
        },
        {
          "output_type": "stream",
          "name": "stderr",
          "text": [
            "/usr/local/lib/python3.10/dist-packages/sklearn/linear_model/_logistic.py:458: ConvergenceWarning: lbfgs failed to converge (status=1):\n",
            "STOP: TOTAL NO. of ITERATIONS REACHED LIMIT.\n",
            "\n",
            "Increase the number of iterations (max_iter) or scale the data as shown in:\n",
            "    https://scikit-learn.org/stable/modules/preprocessing.html\n",
            "Please also refer to the documentation for alternative solver options:\n",
            "    https://scikit-learn.org/stable/modules/linear_model.html#logistic-regression\n",
            "  n_iter_i = _check_optimize_result(\n",
            "/usr/local/lib/python3.10/dist-packages/sklearn/metrics/_classification.py:1344: UndefinedMetricWarning: Precision and F-score are ill-defined and being set to 0.0 in labels with no predicted samples. Use `zero_division` parameter to control this behavior.\n",
            "  _warn_prf(average, modifier, msg_start, len(result))\n",
            "/usr/local/lib/python3.10/dist-packages/sklearn/metrics/_classification.py:1344: UndefinedMetricWarning: Precision and F-score are ill-defined and being set to 0.0 in labels with no predicted samples. Use `zero_division` parameter to control this behavior.\n",
            "  _warn_prf(average, modifier, msg_start, len(result))\n",
            "/usr/local/lib/python3.10/dist-packages/sklearn/metrics/_classification.py:1344: UndefinedMetricWarning: Precision and F-score are ill-defined and being set to 0.0 in labels with no predicted samples. Use `zero_division` parameter to control this behavior.\n",
            "  _warn_prf(average, modifier, msg_start, len(result))\n"
          ]
        }
      ]
    },
    {
      "cell_type": "markdown",
      "source": [
        "######Top model variable under analysis 2 - for those with the lowest rate of WorkLifeBalance (1) and low rate (2)"
      ],
      "metadata": {
        "id": "3h7RnSJlwTNp"
      }
    },
    {
      "cell_type": "code",
      "source": [
        "#Test 2.5\n",
        "gaussian(X21_train_feat, X21_test_feat, y21_train, y21_test)"
      ],
      "metadata": {
        "colab": {
          "base_uri": "https://localhost:8080/"
        },
        "id": "JvvGx6utNPzp",
        "outputId": "59e344a4-eab7-4344-b605-58f3c7a6094a"
      },
      "execution_count": null,
      "outputs": [
        {
          "output_type": "stream",
          "name": "stdout",
          "text": [
            "[[10  6 24 37]\n",
            " [10  6 19 22]\n",
            " [14  2 38 64]\n",
            " [ 4  7 38 67]]\n",
            "              precision    recall  f1-score   support\n",
            "\n",
            "           1       0.26      0.13      0.17        77\n",
            "           2       0.29      0.11      0.15        57\n",
            "           3       0.32      0.32      0.32       118\n",
            "           4       0.35      0.58      0.44       116\n",
            "\n",
            "    accuracy                           0.33       368\n",
            "   macro avg       0.31      0.28      0.27       368\n",
            "weighted avg       0.31      0.33      0.30       368\n",
            "\n"
          ]
        }
      ]
    },
    {
      "cell_type": "code",
      "source": [
        "#Test 2.6\n",
        "support(X21_train_feat, X21_test_feat, y21_train, y21_test)"
      ],
      "metadata": {
        "colab": {
          "base_uri": "https://localhost:8080/"
        },
        "id": "YUpzEMntNPqV",
        "outputId": "bdc89b55-6bd8-4872-b6f7-34cf6243ed55"
      },
      "execution_count": null,
      "outputs": [
        {
          "output_type": "stream",
          "name": "stdout",
          "text": [
            "[[ 0  0 21 56]\n",
            " [ 0  0 17 40]\n",
            " [ 0  0 25 93]\n",
            " [ 0  0 27 89]]\n",
            "              precision    recall  f1-score   support\n",
            "\n",
            "           1       0.00      0.00      0.00        77\n",
            "           2       0.00      0.00      0.00        57\n",
            "           3       0.28      0.21      0.24       118\n",
            "           4       0.32      0.77      0.45       116\n",
            "\n",
            "    accuracy                           0.31       368\n",
            "   macro avg       0.15      0.24      0.17       368\n",
            "weighted avg       0.19      0.31      0.22       368\n",
            "\n"
          ]
        },
        {
          "output_type": "stream",
          "name": "stderr",
          "text": [
            "/usr/local/lib/python3.10/dist-packages/sklearn/metrics/_classification.py:1344: UndefinedMetricWarning: Precision and F-score are ill-defined and being set to 0.0 in labels with no predicted samples. Use `zero_division` parameter to control this behavior.\n",
            "  _warn_prf(average, modifier, msg_start, len(result))\n",
            "/usr/local/lib/python3.10/dist-packages/sklearn/metrics/_classification.py:1344: UndefinedMetricWarning: Precision and F-score are ill-defined and being set to 0.0 in labels with no predicted samples. Use `zero_division` parameter to control this behavior.\n",
            "  _warn_prf(average, modifier, msg_start, len(result))\n",
            "/usr/local/lib/python3.10/dist-packages/sklearn/metrics/_classification.py:1344: UndefinedMetricWarning: Precision and F-score are ill-defined and being set to 0.0 in labels with no predicted samples. Use `zero_division` parameter to control this behavior.\n",
            "  _warn_prf(average, modifier, msg_start, len(result))\n"
          ]
        }
      ]
    },
    {
      "cell_type": "markdown",
      "source": [
        "######3.4.2.2.c Feature selection using chi2"
      ],
      "metadata": {
        "id": "KOIXQfrYN8xl"
      }
    },
    {
      "cell_type": "code",
      "source": [
        "X22_feat = df.drop(columns=['JobSatisfaction','EmployeeCount','Over18','StandardHours','Age','BusinessTravel','Department','Education','Gender','JobInvolvement','JobLevel','JobRole','MaritalStatus','PerformanceRating','RelationshipSatisfaction','StockOptionLevel','TrainingTimesLastYear','WorkLifeBalance','YearsAtCompany','YearsInCurrentRole'])\n",
        "y22 = df['JobSatisfaction']"
      ],
      "metadata": {
        "id": "RiAxIpNVN8xs"
      },
      "execution_count": null,
      "outputs": []
    },
    {
      "cell_type": "code",
      "source": [
        "X22_train_feat, X22_test_feat, y22_train, y22_test = train_test_split(X22_feat, y22, test_size = 0.25, random_state = 42)"
      ],
      "metadata": {
        "id": "T3-N3dDdN8xs"
      },
      "execution_count": null,
      "outputs": []
    },
    {
      "cell_type": "code",
      "source": [
        "#Test 2.7\n",
        "LR(X22_train_feat, X22_test_feat, y22_train, y22_test)"
      ],
      "metadata": {
        "colab": {
          "base_uri": "https://localhost:8080/"
        },
        "outputId": "f051b444-e03f-4241-f022-44a2fbce2adc",
        "id": "soGl0BEkN8xs"
      },
      "execution_count": null,
      "outputs": [
        {
          "output_type": "stream",
          "name": "stdout",
          "text": [
            "[[ 1  0 27 49]\n",
            " [ 0  0 19 38]\n",
            " [ 1  0 45 72]\n",
            " [ 0  0 45 71]]\n",
            "              precision    recall  f1-score   support\n",
            "\n",
            "           1       0.50      0.01      0.03        77\n",
            "           2       0.00      0.00      0.00        57\n",
            "           3       0.33      0.38      0.35       118\n",
            "           4       0.31      0.61      0.41       116\n",
            "\n",
            "    accuracy                           0.32       368\n",
            "   macro avg       0.28      0.25      0.20       368\n",
            "weighted avg       0.31      0.32      0.25       368\n",
            "\n"
          ]
        },
        {
          "output_type": "stream",
          "name": "stderr",
          "text": [
            "/usr/local/lib/python3.10/dist-packages/sklearn/linear_model/_logistic.py:458: ConvergenceWarning: lbfgs failed to converge (status=1):\n",
            "STOP: TOTAL NO. of ITERATIONS REACHED LIMIT.\n",
            "\n",
            "Increase the number of iterations (max_iter) or scale the data as shown in:\n",
            "    https://scikit-learn.org/stable/modules/preprocessing.html\n",
            "Please also refer to the documentation for alternative solver options:\n",
            "    https://scikit-learn.org/stable/modules/linear_model.html#logistic-regression\n",
            "  n_iter_i = _check_optimize_result(\n",
            "/usr/local/lib/python3.10/dist-packages/sklearn/metrics/_classification.py:1344: UndefinedMetricWarning: Precision and F-score are ill-defined and being set to 0.0 in labels with no predicted samples. Use `zero_division` parameter to control this behavior.\n",
            "  _warn_prf(average, modifier, msg_start, len(result))\n",
            "/usr/local/lib/python3.10/dist-packages/sklearn/metrics/_classification.py:1344: UndefinedMetricWarning: Precision and F-score are ill-defined and being set to 0.0 in labels with no predicted samples. Use `zero_division` parameter to control this behavior.\n",
            "  _warn_prf(average, modifier, msg_start, len(result))\n",
            "/usr/local/lib/python3.10/dist-packages/sklearn/metrics/_classification.py:1344: UndefinedMetricWarning: Precision and F-score are ill-defined and being set to 0.0 in labels with no predicted samples. Use `zero_division` parameter to control this behavior.\n",
            "  _warn_prf(average, modifier, msg_start, len(result))\n"
          ]
        }
      ]
    },
    {
      "cell_type": "code",
      "source": [
        "#Test 2.8\n",
        "gaussian(X22_train_feat, X22_test_feat, y22_train, y22_test)"
      ],
      "metadata": {
        "colab": {
          "base_uri": "https://localhost:8080/"
        },
        "outputId": "42bda6f3-1fc6-4187-d98a-cd83d681310c",
        "id": "cSPGcIYKN8xt"
      },
      "execution_count": null,
      "outputs": [
        {
          "output_type": "stream",
          "name": "stdout",
          "text": [
            "[[ 6  7 24 40]\n",
            " [ 8  6 14 29]\n",
            " [ 8 16 30 64]\n",
            " [ 6 19 22 69]]\n",
            "              precision    recall  f1-score   support\n",
            "\n",
            "           1       0.21      0.08      0.11        77\n",
            "           2       0.12      0.11      0.11        57\n",
            "           3       0.33      0.25      0.29       118\n",
            "           4       0.34      0.59      0.43       116\n",
            "\n",
            "    accuracy                           0.30       368\n",
            "   macro avg       0.25      0.26      0.24       368\n",
            "weighted avg       0.28      0.30      0.27       368\n",
            "\n"
          ]
        }
      ]
    },
    {
      "cell_type": "code",
      "source": [
        "#Test 2.9\n",
        "support(X22_train_feat, X22_test_feat, y22_train, y22_test)"
      ],
      "metadata": {
        "colab": {
          "base_uri": "https://localhost:8080/"
        },
        "outputId": "b0ea0a5f-e167-411e-fc33-7df67ce7ffb6",
        "id": "ualZHsOJN8xt"
      },
      "execution_count": null,
      "outputs": [
        {
          "output_type": "stream",
          "name": "stdout",
          "text": [
            "[[ 0  0 18 59]\n",
            " [ 0  0  6 51]\n",
            " [ 0  0 29 89]\n",
            " [ 0  0 18 98]]\n",
            "              precision    recall  f1-score   support\n",
            "\n",
            "           1       0.00      0.00      0.00        77\n",
            "           2       0.00      0.00      0.00        57\n",
            "           3       0.41      0.25      0.31       118\n",
            "           4       0.33      0.84      0.47       116\n",
            "\n",
            "    accuracy                           0.35       368\n",
            "   macro avg       0.18      0.27      0.20       368\n",
            "weighted avg       0.23      0.35      0.25       368\n",
            "\n"
          ]
        },
        {
          "output_type": "stream",
          "name": "stderr",
          "text": [
            "/usr/local/lib/python3.10/dist-packages/sklearn/metrics/_classification.py:1344: UndefinedMetricWarning: Precision and F-score are ill-defined and being set to 0.0 in labels with no predicted samples. Use `zero_division` parameter to control this behavior.\n",
            "  _warn_prf(average, modifier, msg_start, len(result))\n",
            "/usr/local/lib/python3.10/dist-packages/sklearn/metrics/_classification.py:1344: UndefinedMetricWarning: Precision and F-score are ill-defined and being set to 0.0 in labels with no predicted samples. Use `zero_division` parameter to control this behavior.\n",
            "  _warn_prf(average, modifier, msg_start, len(result))\n",
            "/usr/local/lib/python3.10/dist-packages/sklearn/metrics/_classification.py:1344: UndefinedMetricWarning: Precision and F-score are ill-defined and being set to 0.0 in labels with no predicted samples. Use `zero_division` parameter to control this behavior.\n",
            "  _warn_prf(average, modifier, msg_start, len(result))\n"
          ]
        }
      ]
    },
    {
      "cell_type": "markdown",
      "source": [
        "######3.4.2.2.d Feature selection using mutual_info_regression"
      ],
      "metadata": {
        "id": "92ooKkddRN8U"
      }
    },
    {
      "cell_type": "code",
      "source": [
        "X23_feat = df.drop(columns=['JobSatisfaction','EmployeeCount','Over18','StandardHours','BusinessTravel','DailyRate','DistanceFromHome','Gender','HourlyRate','JobInvolvement','JobRole','NumCompaniesWorked','PercentSalaryHike','PerformanceRating','StockOptionLevel','TrainingTimesLastYear','WorkLifeBalance','YearsInCurrentRole','YearsSinceLastPromotion','YearsWithCurrManager'])\n",
        "y23 = df['JobSatisfaction']"
      ],
      "metadata": {
        "id": "D6_Ham-zRN8f"
      },
      "execution_count": null,
      "outputs": []
    },
    {
      "cell_type": "code",
      "source": [
        "X23_train_feat, X23_test_feat, y23_train, y23_test = train_test_split(X23_feat, y23, test_size = 0.25, random_state = 42)"
      ],
      "metadata": {
        "id": "eOMzXnk_RN8f"
      },
      "execution_count": null,
      "outputs": []
    },
    {
      "cell_type": "code",
      "source": [
        "#Test 2.10\n",
        "LR(X23_train_feat, X23_test_feat, y23_train, y23_test)"
      ],
      "metadata": {
        "colab": {
          "base_uri": "https://localhost:8080/"
        },
        "outputId": "494609c4-4ce3-42e0-939a-6d1b28de0ab9",
        "id": "Pi6YfrrIRN8g"
      },
      "execution_count": null,
      "outputs": [
        {
          "output_type": "stream",
          "name": "stdout",
          "text": [
            "[[ 0  0 28 49]\n",
            " [ 0  0 17 40]\n",
            " [ 0  0 40 78]\n",
            " [ 0  0 46 70]]\n",
            "              precision    recall  f1-score   support\n",
            "\n",
            "           1       0.00      0.00      0.00        77\n",
            "           2       0.00      0.00      0.00        57\n",
            "           3       0.31      0.34      0.32       118\n",
            "           4       0.30      0.60      0.40       116\n",
            "\n",
            "    accuracy                           0.30       368\n",
            "   macro avg       0.15      0.24      0.18       368\n",
            "weighted avg       0.19      0.30      0.23       368\n",
            "\n"
          ]
        },
        {
          "output_type": "stream",
          "name": "stderr",
          "text": [
            "/usr/local/lib/python3.10/dist-packages/sklearn/linear_model/_logistic.py:458: ConvergenceWarning: lbfgs failed to converge (status=1):\n",
            "STOP: TOTAL NO. of ITERATIONS REACHED LIMIT.\n",
            "\n",
            "Increase the number of iterations (max_iter) or scale the data as shown in:\n",
            "    https://scikit-learn.org/stable/modules/preprocessing.html\n",
            "Please also refer to the documentation for alternative solver options:\n",
            "    https://scikit-learn.org/stable/modules/linear_model.html#logistic-regression\n",
            "  n_iter_i = _check_optimize_result(\n",
            "/usr/local/lib/python3.10/dist-packages/sklearn/metrics/_classification.py:1344: UndefinedMetricWarning: Precision and F-score are ill-defined and being set to 0.0 in labels with no predicted samples. Use `zero_division` parameter to control this behavior.\n",
            "  _warn_prf(average, modifier, msg_start, len(result))\n",
            "/usr/local/lib/python3.10/dist-packages/sklearn/metrics/_classification.py:1344: UndefinedMetricWarning: Precision and F-score are ill-defined and being set to 0.0 in labels with no predicted samples. Use `zero_division` parameter to control this behavior.\n",
            "  _warn_prf(average, modifier, msg_start, len(result))\n",
            "/usr/local/lib/python3.10/dist-packages/sklearn/metrics/_classification.py:1344: UndefinedMetricWarning: Precision and F-score are ill-defined and being set to 0.0 in labels with no predicted samples. Use `zero_division` parameter to control this behavior.\n",
            "  _warn_prf(average, modifier, msg_start, len(result))\n"
          ]
        }
      ]
    },
    {
      "cell_type": "code",
      "source": [
        "#Test 2.11\n",
        "gaussian(X23_train_feat, X23_test_feat, y23_train, y23_test)"
      ],
      "metadata": {
        "colab": {
          "base_uri": "https://localhost:8080/"
        },
        "outputId": "6a407812-fb68-40c2-b35e-4c28d7bc51de",
        "id": "5HEvLHKuRN8g"
      },
      "execution_count": null,
      "outputs": [
        {
          "output_type": "stream",
          "name": "stdout",
          "text": [
            "[[ 8  9 13 47]\n",
            " [ 6  7  9 35]\n",
            " [11 18 19 70]\n",
            " [ 3 19 16 78]]\n",
            "              precision    recall  f1-score   support\n",
            "\n",
            "           1       0.29      0.10      0.15        77\n",
            "           2       0.13      0.12      0.13        57\n",
            "           3       0.33      0.16      0.22       118\n",
            "           4       0.34      0.67      0.45       116\n",
            "\n",
            "    accuracy                           0.30       368\n",
            "   macro avg       0.27      0.27      0.24       368\n",
            "weighted avg       0.29      0.30      0.26       368\n",
            "\n"
          ]
        }
      ]
    },
    {
      "cell_type": "code",
      "source": [
        "#Test 2.12\n",
        "support(X23_train_feat, X23_test_feat, y23_train, y23_test)"
      ],
      "metadata": {
        "colab": {
          "base_uri": "https://localhost:8080/"
        },
        "outputId": "7375a3bb-5ae6-473c-a799-bb6c6d774721",
        "id": "_8pnXKrORN8g"
      },
      "execution_count": null,
      "outputs": [
        {
          "output_type": "stream",
          "name": "stdout",
          "text": [
            "[[ 0  0 18 59]\n",
            " [ 0  0  6 51]\n",
            " [ 0  0 29 89]\n",
            " [ 0  0 19 97]]\n",
            "              precision    recall  f1-score   support\n",
            "\n",
            "           1       0.00      0.00      0.00        77\n",
            "           2       0.00      0.00      0.00        57\n",
            "           3       0.40      0.25      0.31       118\n",
            "           4       0.33      0.84      0.47       116\n",
            "\n",
            "    accuracy                           0.34       368\n",
            "   macro avg       0.18      0.27      0.19       368\n",
            "weighted avg       0.23      0.34      0.25       368\n",
            "\n"
          ]
        },
        {
          "output_type": "stream",
          "name": "stderr",
          "text": [
            "/usr/local/lib/python3.10/dist-packages/sklearn/metrics/_classification.py:1344: UndefinedMetricWarning: Precision and F-score are ill-defined and being set to 0.0 in labels with no predicted samples. Use `zero_division` parameter to control this behavior.\n",
            "  _warn_prf(average, modifier, msg_start, len(result))\n",
            "/usr/local/lib/python3.10/dist-packages/sklearn/metrics/_classification.py:1344: UndefinedMetricWarning: Precision and F-score are ill-defined and being set to 0.0 in labels with no predicted samples. Use `zero_division` parameter to control this behavior.\n",
            "  _warn_prf(average, modifier, msg_start, len(result))\n",
            "/usr/local/lib/python3.10/dist-packages/sklearn/metrics/_classification.py:1344: UndefinedMetricWarning: Precision and F-score are ill-defined and being set to 0.0 in labels with no predicted samples. Use `zero_division` parameter to control this behavior.\n",
            "  _warn_prf(average, modifier, msg_start, len(result))\n"
          ]
        }
      ]
    },
    {
      "cell_type": "markdown",
      "source": [
        "######3.4.2.2.e Standard scaler with original data"
      ],
      "metadata": {
        "id": "MS1y5zBhl1JJ"
      }
    },
    {
      "cell_type": "code",
      "source": [
        "#Import requiered Libreary\n",
        "from sklearn.preprocessing import StandardScaler"
      ],
      "metadata": {
        "id": "Gi5A8WtfruKM"
      },
      "execution_count": null,
      "outputs": []
    },
    {
      "cell_type": "code",
      "source": [
        "std = StandardScaler()\n",
        "X2_std = std.fit_transform(X2)"
      ],
      "metadata": {
        "id": "mO7BuFEJru8E"
      },
      "execution_count": null,
      "outputs": []
    },
    {
      "cell_type": "code",
      "source": [
        "X2_train_std, X2_test_std, y2_train, y2_test = train_test_split(X2_std, y2, test_size = 0.25, random_state = 42)"
      ],
      "metadata": {
        "id": "U5YyPx4Eruyr"
      },
      "execution_count": null,
      "outputs": []
    },
    {
      "cell_type": "code",
      "source": [
        "#Test 2.13\n",
        "LR(X2_train_std, X2_test_std, y2_train, y2_test)"
      ],
      "metadata": {
        "id": "ke-f57I0rulS",
        "colab": {
          "base_uri": "https://localhost:8080/"
        },
        "outputId": "e0405bd0-c3a9-4275-a1f0-0b4d18347e06"
      },
      "execution_count": null,
      "outputs": [
        {
          "output_type": "stream",
          "name": "stdout",
          "text": [
            "[[ 8  2 33 34]\n",
            " [ 5  3 28 21]\n",
            " [10  5 44 59]\n",
            " [15  4 46 51]]\n",
            "              precision    recall  f1-score   support\n",
            "\n",
            "           1       0.21      0.10      0.14        77\n",
            "           2       0.21      0.05      0.08        57\n",
            "           3       0.29      0.37      0.33       118\n",
            "           4       0.31      0.44      0.36       116\n",
            "\n",
            "    accuracy                           0.29       368\n",
            "   macro avg       0.26      0.24      0.23       368\n",
            "weighted avg       0.27      0.29      0.26       368\n",
            "\n"
          ]
        }
      ]
    },
    {
      "cell_type": "code",
      "source": [
        "#Test 2.14\n",
        "gaussian(X2_train_std, X2_test_std, y2_train, y2_test)"
      ],
      "metadata": {
        "colab": {
          "base_uri": "https://localhost:8080/"
        },
        "id": "fNqNaJauSZgV",
        "outputId": "8a6b984c-7c12-4dd8-b444-51e39fd331e4"
      },
      "execution_count": null,
      "outputs": [
        {
          "output_type": "stream",
          "name": "stdout",
          "text": [
            "[[ 7  9 23 38]\n",
            " [11  7 19 20]\n",
            " [17 15 30 56]\n",
            " [ 8 18 32 58]]\n",
            "              precision    recall  f1-score   support\n",
            "\n",
            "           1       0.16      0.09      0.12        77\n",
            "           2       0.14      0.12      0.13        57\n",
            "           3       0.29      0.25      0.27       118\n",
            "           4       0.34      0.50      0.40       116\n",
            "\n",
            "    accuracy                           0.28       368\n",
            "   macro avg       0.23      0.24      0.23       368\n",
            "weighted avg       0.25      0.28      0.26       368\n",
            "\n"
          ]
        }
      ]
    },
    {
      "cell_type": "code",
      "source": [
        "#Test 2.15\n",
        "support(X2_train_std, X2_test_std, y2_train, y2_test)"
      ],
      "metadata": {
        "colab": {
          "base_uri": "https://localhost:8080/"
        },
        "id": "qgLjINhpSbxh",
        "outputId": "0a4014dd-e3b7-4475-f6af-32fac4b54ce0"
      },
      "execution_count": null,
      "outputs": [
        {
          "output_type": "stream",
          "name": "stdout",
          "text": [
            "[[ 4  0 35 38]\n",
            " [ 3  0 30 24]\n",
            " [ 3  2 59 54]\n",
            " [ 3  3 50 60]]\n",
            "              precision    recall  f1-score   support\n",
            "\n",
            "           1       0.31      0.05      0.09        77\n",
            "           2       0.00      0.00      0.00        57\n",
            "           3       0.34      0.50      0.40       118\n",
            "           4       0.34      0.52      0.41       116\n",
            "\n",
            "    accuracy                           0.33       368\n",
            "   macro avg       0.25      0.27      0.23       368\n",
            "weighted avg       0.28      0.33      0.28       368\n",
            "\n"
          ]
        }
      ]
    },
    {
      "cell_type": "markdown",
      "source": [
        "######Standard scaler with selected features"
      ],
      "metadata": {
        "id": "5ze-8ijpl1JK"
      }
    },
    {
      "cell_type": "markdown",
      "source": [
        "######3.4.2.2.f Standard scaler - Feature selection using correlation matrix"
      ],
      "metadata": {
        "id": "naYnY4fUThLd"
      }
    },
    {
      "cell_type": "code",
      "source": [
        "X21_std_feat = std.fit_transform(X21_feat)\n",
        "X21_train_std_feat, X21_test_std_feat, y21_train, y21_test = train_test_split(X21_std_feat, y21, test_size = 0.25, random_state = 42)"
      ],
      "metadata": {
        "id": "ZwCviSgPThLl"
      },
      "execution_count": null,
      "outputs": []
    },
    {
      "cell_type": "code",
      "source": [
        "#Test 2.16\n",
        "LR(X21_train_std_feat, X21_test_std_feat, y21_train, y21_test)"
      ],
      "metadata": {
        "colab": {
          "base_uri": "https://localhost:8080/"
        },
        "outputId": "38b2b92c-2b64-4e8d-f4bf-d1aa59242740",
        "id": "KxxvvowjThLl"
      },
      "execution_count": null,
      "outputs": [
        {
          "output_type": "stream",
          "name": "stdout",
          "text": [
            "[[ 6  0 32 39]\n",
            " [ 5  0 26 26]\n",
            " [ 7  0 41 70]\n",
            " [ 5  0 50 61]]\n",
            "              precision    recall  f1-score   support\n",
            "\n",
            "           1       0.26      0.08      0.12        77\n",
            "           2       0.00      0.00      0.00        57\n",
            "           3       0.28      0.35      0.31       118\n",
            "           4       0.31      0.53      0.39       116\n",
            "\n",
            "    accuracy                           0.29       368\n",
            "   macro avg       0.21      0.24      0.20       368\n",
            "weighted avg       0.24      0.29      0.25       368\n",
            "\n"
          ]
        },
        {
          "output_type": "stream",
          "name": "stderr",
          "text": [
            "/usr/local/lib/python3.10/dist-packages/sklearn/metrics/_classification.py:1344: UndefinedMetricWarning: Precision and F-score are ill-defined and being set to 0.0 in labels with no predicted samples. Use `zero_division` parameter to control this behavior.\n",
            "  _warn_prf(average, modifier, msg_start, len(result))\n",
            "/usr/local/lib/python3.10/dist-packages/sklearn/metrics/_classification.py:1344: UndefinedMetricWarning: Precision and F-score are ill-defined and being set to 0.0 in labels with no predicted samples. Use `zero_division` parameter to control this behavior.\n",
            "  _warn_prf(average, modifier, msg_start, len(result))\n",
            "/usr/local/lib/python3.10/dist-packages/sklearn/metrics/_classification.py:1344: UndefinedMetricWarning: Precision and F-score are ill-defined and being set to 0.0 in labels with no predicted samples. Use `zero_division` parameter to control this behavior.\n",
            "  _warn_prf(average, modifier, msg_start, len(result))\n"
          ]
        }
      ]
    },
    {
      "cell_type": "markdown",
      "source": [
        "######Top model variable under analysis 2 - for those with the lowest rate of WorkLifeBalance (1) and low rate (2)"
      ],
      "metadata": {
        "id": "nS3OPFJmwtyF"
      }
    },
    {
      "cell_type": "code",
      "source": [
        "#Test 2.17\n",
        "gaussian(X21_train_std_feat, X21_test_std_feat, y21_train, y21_test)"
      ],
      "metadata": {
        "colab": {
          "base_uri": "https://localhost:8080/"
        },
        "outputId": "9dff9777-6c15-4418-a06f-7561cf6719a8",
        "id": "Voi1by81ThLl"
      },
      "execution_count": null,
      "outputs": [
        {
          "output_type": "stream",
          "name": "stdout",
          "text": [
            "[[10  6 24 37]\n",
            " [10  6 19 22]\n",
            " [14  2 38 64]\n",
            " [ 4  7 38 67]]\n",
            "              precision    recall  f1-score   support\n",
            "\n",
            "           1       0.26      0.13      0.17        77\n",
            "           2       0.29      0.11      0.15        57\n",
            "           3       0.32      0.32      0.32       118\n",
            "           4       0.35      0.58      0.44       116\n",
            "\n",
            "    accuracy                           0.33       368\n",
            "   macro avg       0.31      0.28      0.27       368\n",
            "weighted avg       0.31      0.33      0.30       368\n",
            "\n"
          ]
        }
      ]
    },
    {
      "cell_type": "code",
      "source": [
        "#Test 2.18\n",
        "support(X21_train_std_feat, X21_test_std_feat, y21_train, y21_test)"
      ],
      "metadata": {
        "colab": {
          "base_uri": "https://localhost:8080/"
        },
        "outputId": "87db560d-8718-48fc-bd6e-b0e6c0cdd5a0",
        "id": "47-INJpWThLm"
      },
      "execution_count": null,
      "outputs": [
        {
          "output_type": "stream",
          "name": "stdout",
          "text": [
            "[[ 5  1 35 36]\n",
            " [ 6  0 22 29]\n",
            " [ 3  2 41 72]\n",
            " [ 3  2 41 70]]\n",
            "              precision    recall  f1-score   support\n",
            "\n",
            "           1       0.29      0.06      0.11        77\n",
            "           2       0.00      0.00      0.00        57\n",
            "           3       0.29      0.35      0.32       118\n",
            "           4       0.34      0.60      0.43       116\n",
            "\n",
            "    accuracy                           0.32       368\n",
            "   macro avg       0.23      0.25      0.21       368\n",
            "weighted avg       0.26      0.32      0.26       368\n",
            "\n"
          ]
        }
      ]
    },
    {
      "cell_type": "markdown",
      "source": [
        "######3.4.2.2.g Standard scaler - Feature selection using chi2"
      ],
      "metadata": {
        "id": "tGEXiaXZThLm"
      }
    },
    {
      "cell_type": "code",
      "source": [
        "X22_std_feat = std.fit_transform(X22_feat)\n",
        "X22_train_std_feat, X22_test_std_feat, y22_train, y22_test = train_test_split(X22_std_feat, y22, test_size = 0.25, random_state = 42)"
      ],
      "metadata": {
        "id": "QP_BPvuyThLm"
      },
      "execution_count": null,
      "outputs": []
    },
    {
      "cell_type": "code",
      "source": [
        "#Test 2.19\n",
        "LR(X22_train_std_feat, X22_test_std_feat, y22_train, y22_test)"
      ],
      "metadata": {
        "colab": {
          "base_uri": "https://localhost:8080/"
        },
        "outputId": "690ba586-7b7a-401b-f50d-d19d46b5e972",
        "id": "JJlLbiYcThLm"
      },
      "execution_count": null,
      "outputs": [
        {
          "output_type": "stream",
          "name": "stdout",
          "text": [
            "[[ 7  1 33 36]\n",
            " [ 9  1 22 25]\n",
            " [ 7  1 42 68]\n",
            " [ 6  2 42 66]]\n",
            "              precision    recall  f1-score   support\n",
            "\n",
            "           1       0.24      0.09      0.13        77\n",
            "           2       0.20      0.02      0.03        57\n",
            "           3       0.30      0.36      0.33       118\n",
            "           4       0.34      0.57      0.42       116\n",
            "\n",
            "    accuracy                           0.32       368\n",
            "   macro avg       0.27      0.26      0.23       368\n",
            "weighted avg       0.29      0.32      0.27       368\n",
            "\n"
          ]
        }
      ]
    },
    {
      "cell_type": "code",
      "source": [
        "#Test 2.20\n",
        "gaussian(X22_train_std_feat, X22_test_std_feat, y22_train, y22_test)"
      ],
      "metadata": {
        "colab": {
          "base_uri": "https://localhost:8080/"
        },
        "outputId": "cd9c30d3-1ad3-4589-9fd6-c61cdb843452",
        "id": "aZ30qSJ2ThLm"
      },
      "execution_count": null,
      "outputs": [
        {
          "output_type": "stream",
          "name": "stdout",
          "text": [
            "[[ 9  7 17 44]\n",
            " [ 8  6 15 28]\n",
            " [16 16 26 60]\n",
            " [ 7 18 20 71]]\n",
            "              precision    recall  f1-score   support\n",
            "\n",
            "           1       0.23      0.12      0.15        77\n",
            "           2       0.13      0.11      0.12        57\n",
            "           3       0.33      0.22      0.27       118\n",
            "           4       0.35      0.61      0.45       116\n",
            "\n",
            "    accuracy                           0.30       368\n",
            "   macro avg       0.26      0.26      0.24       368\n",
            "weighted avg       0.28      0.30      0.28       368\n",
            "\n"
          ]
        }
      ]
    },
    {
      "cell_type": "code",
      "source": [
        "#Test 2.21\n",
        "support(X22_train_std_feat, X22_test_std_feat, y22_train, y22_test)"
      ],
      "metadata": {
        "colab": {
          "base_uri": "https://localhost:8080/"
        },
        "outputId": "8c756bf0-eb0d-4f1a-9198-d206fef91fd1",
        "id": "oK5WUuX6ThLm"
      },
      "execution_count": null,
      "outputs": [
        {
          "output_type": "stream",
          "name": "stdout",
          "text": [
            "[[ 3  1 27 46]\n",
            " [ 6  2 20 29]\n",
            " [13  4 41 60]\n",
            " [ 7  3 40 66]]\n",
            "              precision    recall  f1-score   support\n",
            "\n",
            "           1       0.10      0.04      0.06        77\n",
            "           2       0.20      0.04      0.06        57\n",
            "           3       0.32      0.35      0.33       118\n",
            "           4       0.33      0.57      0.42       116\n",
            "\n",
            "    accuracy                           0.30       368\n",
            "   macro avg       0.24      0.25      0.22       368\n",
            "weighted avg       0.26      0.30      0.26       368\n",
            "\n"
          ]
        }
      ]
    },
    {
      "cell_type": "markdown",
      "source": [
        "######3.4.2.2.h Standard scaler - Feature selection using mutual_info_regression"
      ],
      "metadata": {
        "id": "q0xo7lnaThLm"
      }
    },
    {
      "cell_type": "code",
      "source": [
        "X23_std_feat = std.fit_transform(X23_feat)\n",
        "X23_train_std_feat, X23_test_std_feat, y23_train, y23_test = train_test_split(X23_std_feat, y23, test_size = 0.25, random_state = 42)"
      ],
      "metadata": {
        "id": "DVlui0k-ThLn"
      },
      "execution_count": null,
      "outputs": []
    },
    {
      "cell_type": "code",
      "source": [
        "#Test 2.22\n",
        "LR(X23_train_std_feat, X23_test_std_feat, y23_train, y23_test)"
      ],
      "metadata": {
        "colab": {
          "base_uri": "https://localhost:8080/"
        },
        "outputId": "7bbaefe8-8e09-4f86-e709-fa0da5ad44e5",
        "id": "xd0oz92UThLn"
      },
      "execution_count": null,
      "outputs": [
        {
          "output_type": "stream",
          "name": "stdout",
          "text": [
            "[[ 6  1 31 39]\n",
            " [ 6  1 25 25]\n",
            " [ 5  0 50 63]\n",
            " [ 5  0 37 74]]\n",
            "              precision    recall  f1-score   support\n",
            "\n",
            "           1       0.27      0.08      0.12        77\n",
            "           2       0.50      0.02      0.03        57\n",
            "           3       0.35      0.42      0.38       118\n",
            "           4       0.37      0.64      0.47       116\n",
            "\n",
            "    accuracy                           0.36       368\n",
            "   macro avg       0.37      0.29      0.25       368\n",
            "weighted avg       0.36      0.36      0.30       368\n",
            "\n"
          ]
        }
      ]
    },
    {
      "cell_type": "code",
      "source": [
        "#Test 2.23\n",
        "gaussian(X23_train_std_feat, X23_test_std_feat, y23_train, y23_test)"
      ],
      "metadata": {
        "colab": {
          "base_uri": "https://localhost:8080/"
        },
        "outputId": "eff088ab-f633-4735-b78f-b4caa1e87c73",
        "id": "R6oHTxuOThLn"
      },
      "execution_count": null,
      "outputs": [
        {
          "output_type": "stream",
          "name": "stdout",
          "text": [
            "[[ 9  9 11 48]\n",
            " [10  6  6 35]\n",
            " [16 18 14 70]\n",
            " [ 7 18 11 80]]\n",
            "              precision    recall  f1-score   support\n",
            "\n",
            "           1       0.21      0.12      0.15        77\n",
            "           2       0.12      0.11      0.11        57\n",
            "           3       0.33      0.12      0.17       118\n",
            "           4       0.34      0.69      0.46       116\n",
            "\n",
            "    accuracy                           0.30       368\n",
            "   macro avg       0.25      0.26      0.22       368\n",
            "weighted avg       0.28      0.30      0.25       368\n",
            "\n"
          ]
        }
      ]
    },
    {
      "cell_type": "code",
      "source": [
        "#Test 2.24\n",
        "support(X23_train_std_feat, X23_test_std_feat, y23_train, y23_test)"
      ],
      "metadata": {
        "colab": {
          "base_uri": "https://localhost:8080/"
        },
        "outputId": "7706ef53-b53e-4771-df2f-0e0239d6795b",
        "id": "xQ9NitPSThLn"
      },
      "execution_count": null,
      "outputs": [
        {
          "output_type": "stream",
          "name": "stdout",
          "text": [
            "[[ 7  0 27 43]\n",
            " [ 8  1 20 28]\n",
            " [ 3  4 44 67]\n",
            " [ 2  3 37 74]]\n",
            "              precision    recall  f1-score   support\n",
            "\n",
            "           1       0.35      0.09      0.14        77\n",
            "           2       0.12      0.02      0.03        57\n",
            "           3       0.34      0.37      0.36       118\n",
            "           4       0.35      0.64      0.45       116\n",
            "\n",
            "    accuracy                           0.34       368\n",
            "   macro avg       0.29      0.28      0.25       368\n",
            "weighted avg       0.31      0.34      0.29       368\n",
            "\n"
          ]
        }
      ]
    },
    {
      "cell_type": "markdown",
      "source": [
        "######3.4.2.2.i Min_Max Scaling with original data"
      ],
      "metadata": {
        "id": "g33aDi9_aG0G"
      }
    },
    {
      "cell_type": "code",
      "source": [
        "#Import requiered Libreary\n",
        "from sklearn.preprocessing import MinMaxScaler"
      ],
      "metadata": {
        "id": "PrzoVtJ8aG0O"
      },
      "execution_count": null,
      "outputs": []
    },
    {
      "cell_type": "code",
      "source": [
        "min_max = MinMaxScaler()\n",
        "X2_mm = min_max.fit_transform(X2)"
      ],
      "metadata": {
        "id": "1b4MsrvkaG0O"
      },
      "execution_count": null,
      "outputs": []
    },
    {
      "cell_type": "code",
      "source": [
        "X2_train_mm, X2_test_mm, y2_train, y2_test = train_test_split(X2_mm, y2, test_size = 0.25, random_state = 42)"
      ],
      "metadata": {
        "id": "Y7JJw2UWaG0O"
      },
      "execution_count": null,
      "outputs": []
    },
    {
      "cell_type": "code",
      "source": [
        "#Test 2.25\n",
        "LR(X2_train_mm, X2_test_mm, y2_train, y2_test)"
      ],
      "metadata": {
        "colab": {
          "base_uri": "https://localhost:8080/"
        },
        "outputId": "b8808da8-ce8d-40ba-d83b-024e54a40fd5",
        "id": "7pPxXkAHaG0O"
      },
      "execution_count": null,
      "outputs": [
        {
          "output_type": "stream",
          "name": "stdout",
          "text": [
            "[[ 5  2 35 35]\n",
            " [ 5  3 27 22]\n",
            " [10  5 44 59]\n",
            " [11  3 49 53]]\n",
            "              precision    recall  f1-score   support\n",
            "\n",
            "           1       0.16      0.06      0.09        77\n",
            "           2       0.23      0.05      0.09        57\n",
            "           3       0.28      0.37      0.32       118\n",
            "           4       0.31      0.46      0.37       116\n",
            "\n",
            "    accuracy                           0.29       368\n",
            "   macro avg       0.25      0.24      0.22       368\n",
            "weighted avg       0.26      0.29      0.25       368\n",
            "\n"
          ]
        },
        {
          "output_type": "stream",
          "name": "stderr",
          "text": [
            "/usr/local/lib/python3.10/dist-packages/sklearn/linear_model/_logistic.py:458: ConvergenceWarning: lbfgs failed to converge (status=1):\n",
            "STOP: TOTAL NO. of ITERATIONS REACHED LIMIT.\n",
            "\n",
            "Increase the number of iterations (max_iter) or scale the data as shown in:\n",
            "    https://scikit-learn.org/stable/modules/preprocessing.html\n",
            "Please also refer to the documentation for alternative solver options:\n",
            "    https://scikit-learn.org/stable/modules/linear_model.html#logistic-regression\n",
            "  n_iter_i = _check_optimize_result(\n"
          ]
        }
      ]
    },
    {
      "cell_type": "code",
      "source": [
        "#Test 2.26\n",
        "gaussian(X2_train_mm, X2_test_mm, y2_train, y2_test)"
      ],
      "metadata": {
        "colab": {
          "base_uri": "https://localhost:8080/"
        },
        "outputId": "9a0801e7-0e5a-4fa7-8983-825c994ebee3",
        "id": "YrhgZEC4aG0O"
      },
      "execution_count": null,
      "outputs": [
        {
          "output_type": "stream",
          "name": "stdout",
          "text": [
            "[[ 7  9 23 38]\n",
            " [11  7 19 20]\n",
            " [17 15 30 56]\n",
            " [ 8 18 32 58]]\n",
            "              precision    recall  f1-score   support\n",
            "\n",
            "           1       0.16      0.09      0.12        77\n",
            "           2       0.14      0.12      0.13        57\n",
            "           3       0.29      0.25      0.27       118\n",
            "           4       0.34      0.50      0.40       116\n",
            "\n",
            "    accuracy                           0.28       368\n",
            "   macro avg       0.23      0.24      0.23       368\n",
            "weighted avg       0.25      0.28      0.26       368\n",
            "\n"
          ]
        }
      ]
    },
    {
      "cell_type": "code",
      "source": [
        "#Test 2.27\n",
        "support(X2_train_mm, X2_test_mm, y2_train, y2_test)"
      ],
      "metadata": {
        "colab": {
          "base_uri": "https://localhost:8080/"
        },
        "outputId": "2e6bfe42-8213-4ac1-dd92-f67e322df1fc",
        "id": "acxPaZUJaG0O"
      },
      "execution_count": null,
      "outputs": [
        {
          "output_type": "stream",
          "name": "stdout",
          "text": [
            "[[ 2  1 30 44]\n",
            " [ 4  0 24 29]\n",
            " [ 5  0 56 57]\n",
            " [ 3  3 51 59]]\n",
            "              precision    recall  f1-score   support\n",
            "\n",
            "           1       0.14      0.03      0.04        77\n",
            "           2       0.00      0.00      0.00        57\n",
            "           3       0.35      0.47      0.40       118\n",
            "           4       0.31      0.51      0.39       116\n",
            "\n",
            "    accuracy                           0.32       368\n",
            "   macro avg       0.20      0.25      0.21       368\n",
            "weighted avg       0.24      0.32      0.26       368\n",
            "\n"
          ]
        }
      ]
    },
    {
      "cell_type": "markdown",
      "source": [
        "######Min_Max Scaling with selected features"
      ],
      "metadata": {
        "id": "F447BZO2aG0P"
      }
    },
    {
      "cell_type": "markdown",
      "source": [
        "######3.4.2.2.j Min_Max scaler feature selection using correlation matrix"
      ],
      "metadata": {
        "id": "nadJ2qG4aG0P"
      }
    },
    {
      "cell_type": "code",
      "source": [
        "min_max = MinMaxScaler()\n",
        "X21_mm_feat = min_max.fit_transform(X21_feat)\n",
        "X21_train_mm_feat, X21_test_mm_feat, y21_train, y21_test = train_test_split(X21_mm_feat, y21, test_size = 0.25, random_state = 42)\n"
      ],
      "metadata": {
        "id": "NV5Z3KWvaG0P"
      },
      "execution_count": null,
      "outputs": []
    },
    {
      "cell_type": "code",
      "source": [
        "#Test 2.28\n",
        "LR(X21_train_mm_feat, X21_test_mm_feat, y21_train, y21_test)"
      ],
      "metadata": {
        "colab": {
          "base_uri": "https://localhost:8080/"
        },
        "outputId": "51f17f35-cd43-4981-c898-9fe37e68d266",
        "id": "f4ULboPwaG0P"
      },
      "execution_count": null,
      "outputs": [
        {
          "output_type": "stream",
          "name": "stdout",
          "text": [
            "[[ 6  0 32 39]\n",
            " [ 5  0 26 26]\n",
            " [ 7  0 40 71]\n",
            " [ 4  0 50 62]]\n",
            "              precision    recall  f1-score   support\n",
            "\n",
            "           1       0.27      0.08      0.12        77\n",
            "           2       0.00      0.00      0.00        57\n",
            "           3       0.27      0.34      0.30       118\n",
            "           4       0.31      0.53      0.39       116\n",
            "\n",
            "    accuracy                           0.29       368\n",
            "   macro avg       0.21      0.24      0.20       368\n",
            "weighted avg       0.24      0.29      0.25       368\n",
            "\n"
          ]
        },
        {
          "output_type": "stream",
          "name": "stderr",
          "text": [
            "/usr/local/lib/python3.10/dist-packages/sklearn/metrics/_classification.py:1344: UndefinedMetricWarning: Precision and F-score are ill-defined and being set to 0.0 in labels with no predicted samples. Use `zero_division` parameter to control this behavior.\n",
            "  _warn_prf(average, modifier, msg_start, len(result))\n",
            "/usr/local/lib/python3.10/dist-packages/sklearn/metrics/_classification.py:1344: UndefinedMetricWarning: Precision and F-score are ill-defined and being set to 0.0 in labels with no predicted samples. Use `zero_division` parameter to control this behavior.\n",
            "  _warn_prf(average, modifier, msg_start, len(result))\n",
            "/usr/local/lib/python3.10/dist-packages/sklearn/metrics/_classification.py:1344: UndefinedMetricWarning: Precision and F-score are ill-defined and being set to 0.0 in labels with no predicted samples. Use `zero_division` parameter to control this behavior.\n",
            "  _warn_prf(average, modifier, msg_start, len(result))\n"
          ]
        }
      ]
    },
    {
      "cell_type": "markdown",
      "source": [
        "######Top model variable under analysis 2 - for those with the lowest rate of WorkLifeBalance (1) and low rate (2)"
      ],
      "metadata": {
        "id": "QYyWBZmQaG0P"
      }
    },
    {
      "cell_type": "code",
      "source": [
        "#Test 2.29\n",
        "gaussian(X21_train_mm_feat, X21_test_mm_feat, y21_train, y21_test)"
      ],
      "metadata": {
        "colab": {
          "base_uri": "https://localhost:8080/"
        },
        "outputId": "7238c378-a3e8-47e3-c425-9c322674864e",
        "id": "4cKoeB00aG0P"
      },
      "execution_count": null,
      "outputs": [
        {
          "output_type": "stream",
          "name": "stdout",
          "text": [
            "[[10  6 24 37]\n",
            " [10  6 19 22]\n",
            " [14  2 38 64]\n",
            " [ 4  7 38 67]]\n",
            "              precision    recall  f1-score   support\n",
            "\n",
            "           1       0.26      0.13      0.17        77\n",
            "           2       0.29      0.11      0.15        57\n",
            "           3       0.32      0.32      0.32       118\n",
            "           4       0.35      0.58      0.44       116\n",
            "\n",
            "    accuracy                           0.33       368\n",
            "   macro avg       0.31      0.28      0.27       368\n",
            "weighted avg       0.31      0.33      0.30       368\n",
            "\n"
          ]
        }
      ]
    },
    {
      "cell_type": "code",
      "source": [
        "#Test 2.30\n",
        "support(X21_train_mm_feat, X21_test_mm_feat, y21_train, y21_test)"
      ],
      "metadata": {
        "colab": {
          "base_uri": "https://localhost:8080/"
        },
        "outputId": "9b6636a5-d871-4e65-8409-401a5a3679b8",
        "id": "hkglE0HwaG0P"
      },
      "execution_count": null,
      "outputs": [
        {
          "output_type": "stream",
          "name": "stdout",
          "text": [
            "[[ 2  1 33 41]\n",
            " [ 2  0 32 23]\n",
            " [ 5  1 41 71]\n",
            " [ 2  0 38 76]]\n",
            "              precision    recall  f1-score   support\n",
            "\n",
            "           1       0.18      0.03      0.05        77\n",
            "           2       0.00      0.00      0.00        57\n",
            "           3       0.28      0.35      0.31       118\n",
            "           4       0.36      0.66      0.46       116\n",
            "\n",
            "    accuracy                           0.32       368\n",
            "   macro avg       0.21      0.26      0.21       368\n",
            "weighted avg       0.24      0.32      0.26       368\n",
            "\n"
          ]
        }
      ]
    },
    {
      "cell_type": "markdown",
      "source": [
        "######3.4.2.2.k Min_Max scaler feature selection using chi2"
      ],
      "metadata": {
        "id": "YZT8dLf8aG0P"
      }
    },
    {
      "cell_type": "code",
      "source": [
        "min_max = MinMaxScaler()\n",
        "X22_mm_feat = min_max.fit_transform(X22_feat)\n",
        "X22_train_mm_feat, X22_test_mm_feat, y22_train, y22_test = train_test_split(X22_mm_feat, y22, test_size = 0.25, random_state = 42)"
      ],
      "metadata": {
        "id": "XnCxj5JPaG0Q"
      },
      "execution_count": null,
      "outputs": []
    },
    {
      "cell_type": "code",
      "source": [
        "#Test 2.31\n",
        "LR(X22_train_mm_feat, X22_test_mm_feat, y22_train, y22_test)"
      ],
      "metadata": {
        "colab": {
          "base_uri": "https://localhost:8080/"
        },
        "outputId": "291f4a04-026c-4b72-fb1e-2f41aeb29d51",
        "id": "udF6iyfmaG0Q"
      },
      "execution_count": null,
      "outputs": [
        {
          "output_type": "stream",
          "name": "stdout",
          "text": [
            "[[ 4  2 35 36]\n",
            " [ 5  1 23 28]\n",
            " [ 7  1 42 68]\n",
            " [ 6  2 42 66]]\n",
            "              precision    recall  f1-score   support\n",
            "\n",
            "           1       0.18      0.05      0.08        77\n",
            "           2       0.17      0.02      0.03        57\n",
            "           3       0.30      0.36      0.32       118\n",
            "           4       0.33      0.57      0.42       116\n",
            "\n",
            "    accuracy                           0.31       368\n",
            "   macro avg       0.24      0.25      0.21       368\n",
            "weighted avg       0.26      0.31      0.26       368\n",
            "\n"
          ]
        }
      ]
    },
    {
      "cell_type": "code",
      "source": [
        "#Test 2.32\n",
        "gaussian(X22_train_mm_feat, X22_test_mm_feat, y22_train, y22_test)"
      ],
      "metadata": {
        "colab": {
          "base_uri": "https://localhost:8080/"
        },
        "outputId": "7553d958-0424-4e7b-856e-450839817155",
        "id": "qCpVe-qXaG0Q"
      },
      "execution_count": null,
      "outputs": [
        {
          "output_type": "stream",
          "name": "stdout",
          "text": [
            "[[ 9  7 17 44]\n",
            " [ 8  6 15 28]\n",
            " [16 16 26 60]\n",
            " [ 7 18 20 71]]\n",
            "              precision    recall  f1-score   support\n",
            "\n",
            "           1       0.23      0.12      0.15        77\n",
            "           2       0.13      0.11      0.12        57\n",
            "           3       0.33      0.22      0.27       118\n",
            "           4       0.35      0.61      0.45       116\n",
            "\n",
            "    accuracy                           0.30       368\n",
            "   macro avg       0.26      0.26      0.24       368\n",
            "weighted avg       0.28      0.30      0.28       368\n",
            "\n"
          ]
        }
      ]
    },
    {
      "cell_type": "code",
      "source": [
        "#Test 2.33\n",
        "support(X22_train_mm_feat, X22_test_mm_feat, y22_train, y22_test)"
      ],
      "metadata": {
        "colab": {
          "base_uri": "https://localhost:8080/"
        },
        "outputId": "58ef356b-40b1-4f0d-9f13-59409d5e3f58",
        "id": "Y0YOrY6haG0Q"
      },
      "execution_count": null,
      "outputs": [
        {
          "output_type": "stream",
          "name": "stdout",
          "text": [
            "[[ 5  1 24 47]\n",
            " [ 7  1 18 31]\n",
            " [10  1 42 65]\n",
            " [ 6  1 36 73]]\n",
            "              precision    recall  f1-score   support\n",
            "\n",
            "           1       0.18      0.06      0.10        77\n",
            "           2       0.25      0.02      0.03        57\n",
            "           3       0.35      0.36      0.35       118\n",
            "           4       0.34      0.63      0.44       116\n",
            "\n",
            "    accuracy                           0.33       368\n",
            "   macro avg       0.28      0.27      0.23       368\n",
            "weighted avg       0.29      0.33      0.28       368\n",
            "\n"
          ]
        }
      ]
    },
    {
      "cell_type": "markdown",
      "source": [
        "######3.4.2.2.l Min_Max scaler feature selection using mutual_info_regression"
      ],
      "metadata": {
        "id": "Y0LanwA4aG0Q"
      }
    },
    {
      "cell_type": "code",
      "source": [
        "min_max = MinMaxScaler()\n",
        "X23_mm_feat = min_max.fit_transform(X23_feat)\n",
        "X23_train_mm_feat, X23_test_mm_feat, y23_train, y23_test = train_test_split(X23_mm_feat, y23, test_size = 0.25, random_state = 42)"
      ],
      "metadata": {
        "id": "Ol0eRbs9aG0Q"
      },
      "execution_count": null,
      "outputs": []
    },
    {
      "cell_type": "code",
      "source": [
        "#Test 2.34\n",
        "LR(X23_train_mm_feat, X23_test_mm_feat, y23_train, y23_test)"
      ],
      "metadata": {
        "colab": {
          "base_uri": "https://localhost:8080/"
        },
        "outputId": "a9cf4185-9d49-43ff-c869-1725601e9a30",
        "id": "tuHQrklXaG0Q"
      },
      "execution_count": null,
      "outputs": [
        {
          "output_type": "stream",
          "name": "stdout",
          "text": [
            "[[ 6  0 33 38]\n",
            " [ 4  1 26 26]\n",
            " [ 4  0 48 66]\n",
            " [ 4  0 34 78]]\n",
            "              precision    recall  f1-score   support\n",
            "\n",
            "           1       0.33      0.08      0.13        77\n",
            "           2       1.00      0.02      0.03        57\n",
            "           3       0.34      0.41      0.37       118\n",
            "           4       0.38      0.67      0.48       116\n",
            "\n",
            "    accuracy                           0.36       368\n",
            "   macro avg       0.51      0.29      0.25       368\n",
            "weighted avg       0.45      0.36      0.30       368\n",
            "\n"
          ]
        }
      ]
    },
    {
      "cell_type": "code",
      "source": [
        "#Test 2.35\n",
        "gaussian(X23_train_mm_feat, X23_test_mm_feat, y23_train, y23_test)"
      ],
      "metadata": {
        "colab": {
          "base_uri": "https://localhost:8080/"
        },
        "outputId": "608c3e11-0014-4f87-ca33-2cdf0960a96c",
        "id": "Z7LboHwMaG0R"
      },
      "execution_count": null,
      "outputs": [
        {
          "output_type": "stream",
          "name": "stdout",
          "text": [
            "[[ 9  9 11 48]\n",
            " [10  6  6 35]\n",
            " [16 18 14 70]\n",
            " [ 7 18 11 80]]\n",
            "              precision    recall  f1-score   support\n",
            "\n",
            "           1       0.21      0.12      0.15        77\n",
            "           2       0.12      0.11      0.11        57\n",
            "           3       0.33      0.12      0.17       118\n",
            "           4       0.34      0.69      0.46       116\n",
            "\n",
            "    accuracy                           0.30       368\n",
            "   macro avg       0.25      0.26      0.22       368\n",
            "weighted avg       0.28      0.30      0.25       368\n",
            "\n"
          ]
        }
      ]
    },
    {
      "cell_type": "code",
      "source": [
        "#Test 2.36\n",
        "support(X23_train_mm_feat, X23_test_mm_feat, y23_train, y23_test)"
      ],
      "metadata": {
        "colab": {
          "base_uri": "https://localhost:8080/"
        },
        "outputId": "650128b4-5e36-47e5-9739-044fa0295360",
        "id": "_r2b4igYaG0R"
      },
      "execution_count": null,
      "outputs": [
        {
          "output_type": "stream",
          "name": "stdout",
          "text": [
            "[[ 6  0 27 44]\n",
            " [ 8  1 18 30]\n",
            " [ 4  3 39 72]\n",
            " [ 2  2 35 77]]\n",
            "              precision    recall  f1-score   support\n",
            "\n",
            "           1       0.30      0.08      0.12        77\n",
            "           2       0.17      0.02      0.03        57\n",
            "           3       0.33      0.33      0.33       118\n",
            "           4       0.35      0.66      0.45       116\n",
            "\n",
            "    accuracy                           0.33       368\n",
            "   macro avg       0.28      0.27      0.23       368\n",
            "weighted avg       0.30      0.33      0.28       368\n",
            "\n"
          ]
        }
      ]
    },
    {
      "cell_type": "markdown",
      "source": [
        "###3.5   Optimization\n"
      ],
      "metadata": {
        "id": "7kqhlZ4atSeJ"
      }
    },
    {
      "cell_type": "markdown",
      "source": [
        "####3.5.1 WorkLifeBalance\n",
        "\n",
        "After running the models for workLifeBalance, the top models selected for data prediction class \"1\", would be gaussianNB feature selection with correlation matrix with MinMax or Standard scaler. (Test 1.17 and Test 1.29). Test 1.2 will also be considered for data prediction related to class \"2\".\n",
        "\n",
        "Thus, an optimization analysis by modification of the parameters for gaussianNB trying to improve macro avg f1-score will be held below."
      ],
      "metadata": {
        "id": "VAoBTSwvPiqW"
      }
    },
    {
      "cell_type": "markdown",
      "source": [
        "#####3.5.1.1 GaussianNB"
      ],
      "metadata": {
        "id": "HWQ-Jh6ZZi82"
      }
    },
    {
      "cell_type": "code",
      "source": [
        "#Create function for Gaussian Naive Bayes with hyperparameters\n",
        "from sklearn.naive_bayes import GaussianNB\n",
        "\n",
        "def gaussian_hyp(var_smoot, X_train, X_test, y_train, y_test):\n",
        "  gnb = GaussianNB(var_smoothing = var_smoot)\n",
        "  gnb.fit(X_train, y_train)\n",
        "  y_pred = gnb.predict(X_test)\n",
        "\n",
        "  print(confusion_matrix(y_test, y_pred))\n",
        "  print(classification_report(y_test, y_pred))"
      ],
      "metadata": {
        "id": "48m1dZnJT_Fm"
      },
      "execution_count": null,
      "outputs": []
    },
    {
      "cell_type": "markdown",
      "source": [
        "######3.5.1.1.a GaussianNB - var_smoothing = 0.0000001 (1e-7)"
      ],
      "metadata": {
        "id": "Tjvu_vKAXu37"
      }
    },
    {
      "cell_type": "code",
      "source": [
        "#Test 1.2.1\n",
        "gaussian_hyp(0.0000001,X1_train, X1_test, y1_train, y1_test)"
      ],
      "metadata": {
        "colab": {
          "base_uri": "https://localhost:8080/"
        },
        "id": "rhYiu-zgU9Sw",
        "outputId": "3b3afcdb-f8cd-42c9-bbd4-b89f46d23158"
      },
      "execution_count": null,
      "outputs": [
        {
          "output_type": "stream",
          "name": "stdout",
          "text": [
            "[[  0   0  22   0]\n",
            " [  0   0  74   0]\n",
            " [  0   0 224   0]\n",
            " [  0   0  48   0]]\n",
            "              precision    recall  f1-score   support\n",
            "\n",
            "           1       0.00      0.00      0.00        22\n",
            "           2       0.00      0.00      0.00        74\n",
            "           3       0.61      1.00      0.76       224\n",
            "           4       0.00      0.00      0.00        48\n",
            "\n",
            "    accuracy                           0.61       368\n",
            "   macro avg       0.15      0.25      0.19       368\n",
            "weighted avg       0.37      0.61      0.46       368\n",
            "\n"
          ]
        },
        {
          "output_type": "stream",
          "name": "stderr",
          "text": [
            "/usr/local/lib/python3.10/dist-packages/sklearn/metrics/_classification.py:1344: UndefinedMetricWarning: Precision and F-score are ill-defined and being set to 0.0 in labels with no predicted samples. Use `zero_division` parameter to control this behavior.\n",
            "  _warn_prf(average, modifier, msg_start, len(result))\n",
            "/usr/local/lib/python3.10/dist-packages/sklearn/metrics/_classification.py:1344: UndefinedMetricWarning: Precision and F-score are ill-defined and being set to 0.0 in labels with no predicted samples. Use `zero_division` parameter to control this behavior.\n",
            "  _warn_prf(average, modifier, msg_start, len(result))\n",
            "/usr/local/lib/python3.10/dist-packages/sklearn/metrics/_classification.py:1344: UndefinedMetricWarning: Precision and F-score are ill-defined and being set to 0.0 in labels with no predicted samples. Use `zero_division` parameter to control this behavior.\n",
            "  _warn_prf(average, modifier, msg_start, len(result))\n"
          ]
        }
      ]
    },
    {
      "cell_type": "code",
      "source": [
        "#Test 1.17.1\n",
        "gaussian_hyp(0.0000001,X11_train_std_feat, X11_test_std_feat, y11_train, y11_test)"
      ],
      "metadata": {
        "colab": {
          "base_uri": "https://localhost:8080/"
        },
        "id": "wbHxUEELV0TV",
        "outputId": "dd813f74-6c9b-421a-b44d-3d5100e91815"
      },
      "execution_count": null,
      "outputs": [
        {
          "output_type": "stream",
          "name": "stdout",
          "text": [
            "[[  4   0  18   0]\n",
            " [  1   0  73   0]\n",
            " [  0   0 224   0]\n",
            " [  2   1  45   0]]\n",
            "              precision    recall  f1-score   support\n",
            "\n",
            "           1       0.57      0.18      0.28        22\n",
            "           2       0.00      0.00      0.00        74\n",
            "           3       0.62      1.00      0.77       224\n",
            "           4       0.00      0.00      0.00        48\n",
            "\n",
            "    accuracy                           0.62       368\n",
            "   macro avg       0.30      0.30      0.26       368\n",
            "weighted avg       0.41      0.62      0.48       368\n",
            "\n"
          ]
        },
        {
          "output_type": "stream",
          "name": "stderr",
          "text": [
            "/usr/local/lib/python3.10/dist-packages/sklearn/metrics/_classification.py:1344: UndefinedMetricWarning: Precision and F-score are ill-defined and being set to 0.0 in labels with no predicted samples. Use `zero_division` parameter to control this behavior.\n",
            "  _warn_prf(average, modifier, msg_start, len(result))\n",
            "/usr/local/lib/python3.10/dist-packages/sklearn/metrics/_classification.py:1344: UndefinedMetricWarning: Precision and F-score are ill-defined and being set to 0.0 in labels with no predicted samples. Use `zero_division` parameter to control this behavior.\n",
            "  _warn_prf(average, modifier, msg_start, len(result))\n",
            "/usr/local/lib/python3.10/dist-packages/sklearn/metrics/_classification.py:1344: UndefinedMetricWarning: Precision and F-score are ill-defined and being set to 0.0 in labels with no predicted samples. Use `zero_division` parameter to control this behavior.\n",
            "  _warn_prf(average, modifier, msg_start, len(result))\n"
          ]
        }
      ]
    },
    {
      "cell_type": "code",
      "source": [
        "#Test 1.29.1\n",
        "gaussian_hyp(0.0000001,X11_train_mm_feat, X11_test_mm_feat, y11_train, y11_test)"
      ],
      "metadata": {
        "colab": {
          "base_uri": "https://localhost:8080/"
        },
        "id": "2G0p8qxPWhT-",
        "outputId": "300d94e3-7409-4ff2-c837-8d0341178e0b"
      },
      "execution_count": null,
      "outputs": [
        {
          "output_type": "stream",
          "name": "stdout",
          "text": [
            "[[  4   0  18   0]\n",
            " [  1   0  73   0]\n",
            " [  0   0 224   0]\n",
            " [  2   1  45   0]]\n",
            "              precision    recall  f1-score   support\n",
            "\n",
            "           1       0.57      0.18      0.28        22\n",
            "           2       0.00      0.00      0.00        74\n",
            "           3       0.62      1.00      0.77       224\n",
            "           4       0.00      0.00      0.00        48\n",
            "\n",
            "    accuracy                           0.62       368\n",
            "   macro avg       0.30      0.30      0.26       368\n",
            "weighted avg       0.41      0.62      0.48       368\n",
            "\n"
          ]
        },
        {
          "output_type": "stream",
          "name": "stderr",
          "text": [
            "/usr/local/lib/python3.10/dist-packages/sklearn/metrics/_classification.py:1344: UndefinedMetricWarning: Precision and F-score are ill-defined and being set to 0.0 in labels with no predicted samples. Use `zero_division` parameter to control this behavior.\n",
            "  _warn_prf(average, modifier, msg_start, len(result))\n",
            "/usr/local/lib/python3.10/dist-packages/sklearn/metrics/_classification.py:1344: UndefinedMetricWarning: Precision and F-score are ill-defined and being set to 0.0 in labels with no predicted samples. Use `zero_division` parameter to control this behavior.\n",
            "  _warn_prf(average, modifier, msg_start, len(result))\n",
            "/usr/local/lib/python3.10/dist-packages/sklearn/metrics/_classification.py:1344: UndefinedMetricWarning: Precision and F-score are ill-defined and being set to 0.0 in labels with no predicted samples. Use `zero_division` parameter to control this behavior.\n",
            "  _warn_prf(average, modifier, msg_start, len(result))\n"
          ]
        }
      ]
    },
    {
      "cell_type": "markdown",
      "source": [
        "######3.5.1.1.b GaussianNB - var_smoothing = 0.00000001 (1e-8)"
      ],
      "metadata": {
        "id": "aTPZN8xBYAl1"
      }
    },
    {
      "cell_type": "code",
      "source": [
        "#Test 1.2.2\n",
        "gaussian_hyp(0.00000001,X1_train, X1_test, y1_train, y1_test)"
      ],
      "metadata": {
        "colab": {
          "base_uri": "https://localhost:8080/"
        },
        "outputId": "17ae7cb2-14b4-4d68-9cec-c7226177c927",
        "id": "1YbLyHFoYAl2"
      },
      "execution_count": null,
      "outputs": [
        {
          "output_type": "stream",
          "name": "stdout",
          "text": [
            "[[  0   0  22   0]\n",
            " [  3   0  71   0]\n",
            " [  8   0 216   0]\n",
            " [  0   0  48   0]]\n",
            "              precision    recall  f1-score   support\n",
            "\n",
            "           1       0.00      0.00      0.00        22\n",
            "           2       0.00      0.00      0.00        74\n",
            "           3       0.61      0.96      0.74       224\n",
            "           4       0.00      0.00      0.00        48\n",
            "\n",
            "    accuracy                           0.59       368\n",
            "   macro avg       0.15      0.24      0.19       368\n",
            "weighted avg       0.37      0.59      0.45       368\n",
            "\n"
          ]
        },
        {
          "output_type": "stream",
          "name": "stderr",
          "text": [
            "/usr/local/lib/python3.10/dist-packages/sklearn/metrics/_classification.py:1344: UndefinedMetricWarning: Precision and F-score are ill-defined and being set to 0.0 in labels with no predicted samples. Use `zero_division` parameter to control this behavior.\n",
            "  _warn_prf(average, modifier, msg_start, len(result))\n",
            "/usr/local/lib/python3.10/dist-packages/sklearn/metrics/_classification.py:1344: UndefinedMetricWarning: Precision and F-score are ill-defined and being set to 0.0 in labels with no predicted samples. Use `zero_division` parameter to control this behavior.\n",
            "  _warn_prf(average, modifier, msg_start, len(result))\n",
            "/usr/local/lib/python3.10/dist-packages/sklearn/metrics/_classification.py:1344: UndefinedMetricWarning: Precision and F-score are ill-defined and being set to 0.0 in labels with no predicted samples. Use `zero_division` parameter to control this behavior.\n",
            "  _warn_prf(average, modifier, msg_start, len(result))\n"
          ]
        }
      ]
    },
    {
      "cell_type": "code",
      "source": [
        "#Test 1.17.2\n",
        "gaussian_hyp(0.00000001,X11_train_std_feat, X11_test_std_feat, y11_train, y11_test)"
      ],
      "metadata": {
        "colab": {
          "base_uri": "https://localhost:8080/"
        },
        "outputId": "a0062421-b0e3-416d-d841-1d78327ee4e8",
        "id": "soIKpammYAl2"
      },
      "execution_count": null,
      "outputs": [
        {
          "output_type": "stream",
          "name": "stdout",
          "text": [
            "[[  4   0  18   0]\n",
            " [  1   0  73   0]\n",
            " [  0   0 224   0]\n",
            " [  2   1  45   0]]\n",
            "              precision    recall  f1-score   support\n",
            "\n",
            "           1       0.57      0.18      0.28        22\n",
            "           2       0.00      0.00      0.00        74\n",
            "           3       0.62      1.00      0.77       224\n",
            "           4       0.00      0.00      0.00        48\n",
            "\n",
            "    accuracy                           0.62       368\n",
            "   macro avg       0.30      0.30      0.26       368\n",
            "weighted avg       0.41      0.62      0.48       368\n",
            "\n"
          ]
        },
        {
          "output_type": "stream",
          "name": "stderr",
          "text": [
            "/usr/local/lib/python3.10/dist-packages/sklearn/metrics/_classification.py:1344: UndefinedMetricWarning: Precision and F-score are ill-defined and being set to 0.0 in labels with no predicted samples. Use `zero_division` parameter to control this behavior.\n",
            "  _warn_prf(average, modifier, msg_start, len(result))\n",
            "/usr/local/lib/python3.10/dist-packages/sklearn/metrics/_classification.py:1344: UndefinedMetricWarning: Precision and F-score are ill-defined and being set to 0.0 in labels with no predicted samples. Use `zero_division` parameter to control this behavior.\n",
            "  _warn_prf(average, modifier, msg_start, len(result))\n",
            "/usr/local/lib/python3.10/dist-packages/sklearn/metrics/_classification.py:1344: UndefinedMetricWarning: Precision and F-score are ill-defined and being set to 0.0 in labels with no predicted samples. Use `zero_division` parameter to control this behavior.\n",
            "  _warn_prf(average, modifier, msg_start, len(result))\n"
          ]
        }
      ]
    },
    {
      "cell_type": "code",
      "source": [
        "#Test 1.29.2\n",
        "gaussian_hyp(0.00000001,X11_train_mm_feat, X11_test_mm_feat, y11_train, y11_test)"
      ],
      "metadata": {
        "colab": {
          "base_uri": "https://localhost:8080/"
        },
        "outputId": "be30be51-f970-498e-accb-ed21f0dc6ea0",
        "id": "EZkqaY7kYAl3"
      },
      "execution_count": null,
      "outputs": [
        {
          "output_type": "stream",
          "name": "stdout",
          "text": [
            "[[  4   0  18   0]\n",
            " [  1   0  73   0]\n",
            " [  0   0 224   0]\n",
            " [  2   1  45   0]]\n"
          ]
        },
        {
          "output_type": "stream",
          "name": "stderr",
          "text": [
            "/usr/local/lib/python3.10/dist-packages/sklearn/metrics/_classification.py:1344: UndefinedMetricWarning: Precision and F-score are ill-defined and being set to 0.0 in labels with no predicted samples. Use `zero_division` parameter to control this behavior.\n",
            "  _warn_prf(average, modifier, msg_start, len(result))\n",
            "/usr/local/lib/python3.10/dist-packages/sklearn/metrics/_classification.py:1344: UndefinedMetricWarning: Precision and F-score are ill-defined and being set to 0.0 in labels with no predicted samples. Use `zero_division` parameter to control this behavior.\n",
            "  _warn_prf(average, modifier, msg_start, len(result))\n"
          ]
        },
        {
          "output_type": "stream",
          "name": "stdout",
          "text": [
            "              precision    recall  f1-score   support\n",
            "\n",
            "           1       0.57      0.18      0.28        22\n",
            "           2       0.00      0.00      0.00        74\n",
            "           3       0.62      1.00      0.77       224\n",
            "           4       0.00      0.00      0.00        48\n",
            "\n",
            "    accuracy                           0.62       368\n",
            "   macro avg       0.30      0.30      0.26       368\n",
            "weighted avg       0.41      0.62      0.48       368\n",
            "\n"
          ]
        },
        {
          "output_type": "stream",
          "name": "stderr",
          "text": [
            "/usr/local/lib/python3.10/dist-packages/sklearn/metrics/_classification.py:1344: UndefinedMetricWarning: Precision and F-score are ill-defined and being set to 0.0 in labels with no predicted samples. Use `zero_division` parameter to control this behavior.\n",
            "  _warn_prf(average, modifier, msg_start, len(result))\n"
          ]
        }
      ]
    },
    {
      "cell_type": "markdown",
      "source": [],
      "metadata": {
        "id": "r8EZVLXoY5Yl"
      }
    },
    {
      "cell_type": "markdown",
      "source": [
        "######3.5.1.1.c GaussianNB - var_smoothing = 0.00000000001 (1e-11)"
      ],
      "metadata": {
        "id": "EczxF7GXZZ8H"
      }
    },
    {
      "cell_type": "code",
      "source": [
        "#Test 1.2.3\n",
        "gaussian_hyp(0.00000000001,X1_train, X1_test, y1_train, y1_test)"
      ],
      "metadata": {
        "colab": {
          "base_uri": "https://localhost:8080/"
        },
        "outputId": "e34e4acb-5245-425a-e7c8-abf54c6bcac4",
        "id": "kueJJ8nGZZ8I"
      },
      "execution_count": null,
      "outputs": [
        {
          "output_type": "stream",
          "name": "stdout",
          "text": [
            "[[  3   1  18   0]\n",
            " [  8   1  64   1]\n",
            " [ 20   5 199   0]\n",
            " [  7   1  40   0]]\n",
            "              precision    recall  f1-score   support\n",
            "\n",
            "           1       0.08      0.14      0.10        22\n",
            "           2       0.12      0.01      0.02        74\n",
            "           3       0.62      0.89      0.73       224\n",
            "           4       0.00      0.00      0.00        48\n",
            "\n",
            "    accuracy                           0.55       368\n",
            "   macro avg       0.21      0.26      0.21       368\n",
            "weighted avg       0.41      0.55      0.46       368\n",
            "\n"
          ]
        }
      ]
    },
    {
      "cell_type": "code",
      "source": [
        "#Test 1.17.3\n",
        "gaussian_hyp(0.00000000001,X11_train_std_feat, X11_test_std_feat, y11_train, y11_test)"
      ],
      "metadata": {
        "colab": {
          "base_uri": "https://localhost:8080/"
        },
        "outputId": "09de7a5c-fb2a-44fb-ca48-c6ce80a62398",
        "id": "vWQwtcr3ZZ8I"
      },
      "execution_count": null,
      "outputs": [
        {
          "output_type": "stream",
          "name": "stdout",
          "text": [
            "[[  4   0  18   0]\n",
            " [  1   0  73   0]\n",
            " [  0   0 224   0]\n",
            " [  2   1  45   0]]\n",
            "              precision    recall  f1-score   support\n",
            "\n",
            "           1       0.57      0.18      0.28        22\n",
            "           2       0.00      0.00      0.00        74\n",
            "           3       0.62      1.00      0.77       224\n",
            "           4       0.00      0.00      0.00        48\n",
            "\n",
            "    accuracy                           0.62       368\n",
            "   macro avg       0.30      0.30      0.26       368\n",
            "weighted avg       0.41      0.62      0.48       368\n",
            "\n"
          ]
        },
        {
          "output_type": "stream",
          "name": "stderr",
          "text": [
            "/usr/local/lib/python3.10/dist-packages/sklearn/metrics/_classification.py:1344: UndefinedMetricWarning: Precision and F-score are ill-defined and being set to 0.0 in labels with no predicted samples. Use `zero_division` parameter to control this behavior.\n",
            "  _warn_prf(average, modifier, msg_start, len(result))\n",
            "/usr/local/lib/python3.10/dist-packages/sklearn/metrics/_classification.py:1344: UndefinedMetricWarning: Precision and F-score are ill-defined and being set to 0.0 in labels with no predicted samples. Use `zero_division` parameter to control this behavior.\n",
            "  _warn_prf(average, modifier, msg_start, len(result))\n",
            "/usr/local/lib/python3.10/dist-packages/sklearn/metrics/_classification.py:1344: UndefinedMetricWarning: Precision and F-score are ill-defined and being set to 0.0 in labels with no predicted samples. Use `zero_division` parameter to control this behavior.\n",
            "  _warn_prf(average, modifier, msg_start, len(result))\n"
          ]
        }
      ]
    },
    {
      "cell_type": "code",
      "source": [
        "#Test 1.29.3\n",
        "gaussian_hyp(0.00000000001,X11_train_mm_feat, X11_test_mm_feat, y11_train, y11_test)"
      ],
      "metadata": {
        "colab": {
          "base_uri": "https://localhost:8080/"
        },
        "outputId": "81892362-aebb-4dc3-b772-c570828f8f19",
        "id": "sGi8S5vyZZ8I"
      },
      "execution_count": null,
      "outputs": [
        {
          "output_type": "stream",
          "name": "stdout",
          "text": [
            "[[  4   0  18   0]\n",
            " [  1   0  73   0]\n",
            " [  0   0 224   0]\n",
            " [  2   1  45   0]]\n",
            "              precision    recall  f1-score   support\n",
            "\n",
            "           1       0.57      0.18      0.28        22\n",
            "           2       0.00      0.00      0.00        74\n",
            "           3       0.62      1.00      0.77       224\n",
            "           4       0.00      0.00      0.00        48\n",
            "\n",
            "    accuracy                           0.62       368\n",
            "   macro avg       0.30      0.30      0.26       368\n",
            "weighted avg       0.41      0.62      0.48       368\n",
            "\n"
          ]
        },
        {
          "output_type": "stream",
          "name": "stderr",
          "text": [
            "/usr/local/lib/python3.10/dist-packages/sklearn/metrics/_classification.py:1344: UndefinedMetricWarning: Precision and F-score are ill-defined and being set to 0.0 in labels with no predicted samples. Use `zero_division` parameter to control this behavior.\n",
            "  _warn_prf(average, modifier, msg_start, len(result))\n",
            "/usr/local/lib/python3.10/dist-packages/sklearn/metrics/_classification.py:1344: UndefinedMetricWarning: Precision and F-score are ill-defined and being set to 0.0 in labels with no predicted samples. Use `zero_division` parameter to control this behavior.\n",
            "  _warn_prf(average, modifier, msg_start, len(result))\n",
            "/usr/local/lib/python3.10/dist-packages/sklearn/metrics/_classification.py:1344: UndefinedMetricWarning: Precision and F-score are ill-defined and being set to 0.0 in labels with no predicted samples. Use `zero_division` parameter to control this behavior.\n",
            "  _warn_prf(average, modifier, msg_start, len(result))\n"
          ]
        }
      ]
    },
    {
      "cell_type": "markdown",
      "source": [
        "######3.5.1.1.d Conclusion related to GaussianNB model optimization"
      ],
      "metadata": {
        "id": "BIUn_40zZZet"
      }
    },
    {
      "cell_type": "markdown",
      "source": [
        "Different experiments were held by modification of parameter \"var_smoothing\" (default value is 0.000000001 (1e-09))\n",
        "for var_smoothing = 0.0000001 (1e-07), 0.00000001 (1e-08), 0.00000000001 (1e-11)\n",
        "\n",
        "There were no significal changes for macro avg f1.score, Thus, there is no optimization for Gaussian NB model.\n",
        "\n",
        "The SVC parameters will be reviewed"
      ],
      "metadata": {
        "id": "WqQzr9GQX_Wp"
      }
    },
    {
      "cell_type": "markdown",
      "source": [
        "#####3.5.1.2 SVC"
      ],
      "metadata": {
        "id": "vLWet_b8ZnKG"
      }
    },
    {
      "cell_type": "code",
      "source": [
        "#(c) Evaluate the performance (accuracy) of SVC for different parameters \"kernel\" and \"C\"\n",
        "\n",
        "import numpy as np\n",
        "from sklearn.metrics import accuracy_score\n",
        "from sklearn.svm import SVC\n",
        "\n",
        "#(c) Evaluate the performance (accuracy) of SVC for different parameters \"kernel\" and \"C\"\n",
        "\n",
        "import numpy as np\n",
        "from sklearn.metrics import accuracy_score\n",
        "from sklearn.svm import SVC\n",
        "\n",
        "\n",
        "def test_svc_kernel(Xi,yi):\n",
        "  acc = []\n",
        "  ker = ['poly', 'rbf', 'sigmoid']\n",
        "  ci = [0.1, 1.0, 10.0]\n",
        "\n",
        "  for i in ker:\n",
        "      for c in ci:\n",
        "          X_train, X_test, y_train, y_test = train_test_split(Xi, yi, test_size=0.25, random_state=42)  # test set is 25%\n",
        "          model = SVC(C=c, kernel=i)\n",
        "          model.fit(X_train, y_train)\n",
        "          pred_svc = model.predict(X_test)\n",
        "          accu = accuracy_score(y_test, pred_svc)\n",
        "          acc.append(f\"Kernel: {i}, C: {c}, Accuracy: {accu}\")\n",
        "  return acc\n",
        "\n",
        "print('Normal data\\n')\n",
        "test_svc_kernel(X1,y1)"
      ],
      "metadata": {
        "colab": {
          "base_uri": "https://localhost:8080/"
        },
        "id": "dNBFJH-WZpSn",
        "outputId": "de167d05-cb25-4e36-b037-e5a8c51ac21c"
      },
      "execution_count": null,
      "outputs": [
        {
          "output_type": "stream",
          "name": "stdout",
          "text": [
            "Normal data\n",
            "\n"
          ]
        },
        {
          "output_type": "execute_result",
          "data": {
            "text/plain": [
              "['Kernel: poly, C: 0.1, Accuracy: 0.6086956521739131',\n",
              " 'Kernel: poly, C: 1.0, Accuracy: 0.6086956521739131',\n",
              " 'Kernel: poly, C: 10.0, Accuracy: 0.6086956521739131',\n",
              " 'Kernel: rbf, C: 0.1, Accuracy: 0.6086956521739131',\n",
              " 'Kernel: rbf, C: 1.0, Accuracy: 0.6086956521739131',\n",
              " 'Kernel: rbf, C: 10.0, Accuracy: 0.6086956521739131',\n",
              " 'Kernel: sigmoid, C: 0.1, Accuracy: 0.6086956521739131',\n",
              " 'Kernel: sigmoid, C: 1.0, Accuracy: 0.45108695652173914',\n",
              " 'Kernel: sigmoid, C: 10.0, Accuracy: 0.38858695652173914']"
            ]
          },
          "metadata": {},
          "execution_count": 429
        }
      ]
    },
    {
      "cell_type": "code",
      "source": [
        "test_svc_kernel(X1_std,y1)"
      ],
      "metadata": {
        "colab": {
          "base_uri": "https://localhost:8080/"
        },
        "id": "ZLBQCvf8bFBC",
        "outputId": "082f1066-fb75-4f4c-e4a8-39bd93d59ae1"
      },
      "execution_count": null,
      "outputs": [
        {
          "output_type": "execute_result",
          "data": {
            "text/plain": [
              "['Kernel: poly, C: 0.1, Accuracy: 0.6086956521739131',\n",
              " 'Kernel: poly, C: 1.0, Accuracy: 0.592391304347826',\n",
              " 'Kernel: poly, C: 10.0, Accuracy: 0.46467391304347827',\n",
              " 'Kernel: rbf, C: 0.1, Accuracy: 0.6086956521739131',\n",
              " 'Kernel: rbf, C: 1.0, Accuracy: 0.6086956521739131',\n",
              " 'Kernel: rbf, C: 10.0, Accuracy: 0.5108695652173914',\n",
              " 'Kernel: sigmoid, C: 0.1, Accuracy: 0.6086956521739131',\n",
              " 'Kernel: sigmoid, C: 1.0, Accuracy: 0.6005434782608695',\n",
              " 'Kernel: sigmoid, C: 10.0, Accuracy: 0.5135869565217391']"
            ]
          },
          "metadata": {},
          "execution_count": 430
        }
      ]
    },
    {
      "cell_type": "code",
      "source": [
        "test_svc_kernel(X1_mm,y1)"
      ],
      "metadata": {
        "colab": {
          "base_uri": "https://localhost:8080/"
        },
        "id": "EMlbSbsdbILs",
        "outputId": "dcae3979-3594-4396-c4cd-a211f70e0820"
      },
      "execution_count": null,
      "outputs": [
        {
          "output_type": "execute_result",
          "data": {
            "text/plain": [
              "['Kernel: poly, C: 0.1, Accuracy: 0.6086956521739131',\n",
              " 'Kernel: poly, C: 1.0, Accuracy: 0.532608695652174',\n",
              " 'Kernel: poly, C: 10.0, Accuracy: 0.421195652173913',\n",
              " 'Kernel: rbf, C: 0.1, Accuracy: 0.6086956521739131',\n",
              " 'Kernel: rbf, C: 1.0, Accuracy: 0.6086956521739131',\n",
              " 'Kernel: rbf, C: 10.0, Accuracy: 0.48097826086956524',\n",
              " 'Kernel: sigmoid, C: 0.1, Accuracy: 0.6086956521739131',\n",
              " 'Kernel: sigmoid, C: 1.0, Accuracy: 0.5081521739130435',\n",
              " 'Kernel: sigmoid, C: 10.0, Accuracy: 0.4157608695652174']"
            ]
          },
          "metadata": {},
          "execution_count": 431
        }
      ]
    },
    {
      "cell_type": "code",
      "source": [
        "print('Feature selection - correlation matrix \\n')\n",
        "test_svc_kernel(X11_feat,y11)"
      ],
      "metadata": {
        "colab": {
          "base_uri": "https://localhost:8080/"
        },
        "id": "DSWGWpp1bOUZ",
        "outputId": "81175a54-e6ed-4ba0-bbda-043c8ece0f09"
      },
      "execution_count": null,
      "outputs": [
        {
          "output_type": "stream",
          "name": "stdout",
          "text": [
            "Feature selection - correlation matrix \n",
            "\n"
          ]
        },
        {
          "output_type": "execute_result",
          "data": {
            "text/plain": [
              "['Kernel: poly, C: 0.1, Accuracy: 0.6086956521739131',\n",
              " 'Kernel: poly, C: 1.0, Accuracy: 0.6086956521739131',\n",
              " 'Kernel: poly, C: 10.0, Accuracy: 0.6086956521739131',\n",
              " 'Kernel: rbf, C: 0.1, Accuracy: 0.6086956521739131',\n",
              " 'Kernel: rbf, C: 1.0, Accuracy: 0.6086956521739131',\n",
              " 'Kernel: rbf, C: 10.0, Accuracy: 0.6086956521739131',\n",
              " 'Kernel: sigmoid, C: 0.1, Accuracy: 0.5407608695652174',\n",
              " 'Kernel: sigmoid, C: 1.0, Accuracy: 0.4945652173913043',\n",
              " 'Kernel: sigmoid, C: 10.0, Accuracy: 0.4945652173913043']"
            ]
          },
          "metadata": {},
          "execution_count": 432
        }
      ]
    },
    {
      "cell_type": "code",
      "source": [
        "test_svc_kernel(X11_std_feat,y11)"
      ],
      "metadata": {
        "colab": {
          "base_uri": "https://localhost:8080/"
        },
        "id": "KBtE07wSbSIV",
        "outputId": "20b7b1f1-1da0-4ce9-9d29-f608e204d894"
      },
      "execution_count": null,
      "outputs": [
        {
          "output_type": "execute_result",
          "data": {
            "text/plain": [
              "['Kernel: poly, C: 0.1, Accuracy: 0.6086956521739131',\n",
              " 'Kernel: poly, C: 1.0, Accuracy: 0.592391304347826',\n",
              " 'Kernel: poly, C: 10.0, Accuracy: 0.49184782608695654',\n",
              " 'Kernel: rbf, C: 0.1, Accuracy: 0.6086956521739131',\n",
              " 'Kernel: rbf, C: 1.0, Accuracy: 0.6086956521739131',\n",
              " 'Kernel: rbf, C: 10.0, Accuracy: 0.532608695652174',\n",
              " 'Kernel: sigmoid, C: 0.1, Accuracy: 0.6059782608695652',\n",
              " 'Kernel: sigmoid, C: 1.0, Accuracy: 0.5570652173913043',\n",
              " 'Kernel: sigmoid, C: 10.0, Accuracy: 0.5271739130434783']"
            ]
          },
          "metadata": {},
          "execution_count": 433
        }
      ]
    },
    {
      "cell_type": "code",
      "source": [
        "test_svc_kernel(X11_mm_feat,y11)"
      ],
      "metadata": {
        "colab": {
          "base_uri": "https://localhost:8080/"
        },
        "id": "QbqR2kkqbUy3",
        "outputId": "f5521f3f-3449-4964-e37f-050cb62c0536"
      },
      "execution_count": null,
      "outputs": [
        {
          "output_type": "execute_result",
          "data": {
            "text/plain": [
              "['Kernel: poly, C: 0.1, Accuracy: 0.6086956521739131',\n",
              " 'Kernel: poly, C: 1.0, Accuracy: 0.5978260869565217',\n",
              " 'Kernel: poly, C: 10.0, Accuracy: 0.5217391304347826',\n",
              " 'Kernel: rbf, C: 0.1, Accuracy: 0.6086956521739131',\n",
              " 'Kernel: rbf, C: 1.0, Accuracy: 0.6086956521739131',\n",
              " 'Kernel: rbf, C: 10.0, Accuracy: 0.5652173913043478',\n",
              " 'Kernel: sigmoid, C: 0.1, Accuracy: 0.6086956521739131',\n",
              " 'Kernel: sigmoid, C: 1.0, Accuracy: 0.5163043478260869',\n",
              " 'Kernel: sigmoid, C: 10.0, Accuracy: 0.4673913043478261']"
            ]
          },
          "metadata": {},
          "execution_count": 434
        }
      ]
    },
    {
      "cell_type": "code",
      "source": [
        "print('Feature selection - chi2 \\n')\n",
        "test_svc_kernel(X12_feat,y12)"
      ],
      "metadata": {
        "colab": {
          "base_uri": "https://localhost:8080/"
        },
        "id": "_s0YGKHHbX8h",
        "outputId": "abbb4ff7-b298-43b9-98ee-948012ffee4d"
      },
      "execution_count": null,
      "outputs": [
        {
          "output_type": "stream",
          "name": "stdout",
          "text": [
            "Feature selection - chi2 \n",
            "\n"
          ]
        },
        {
          "output_type": "execute_result",
          "data": {
            "text/plain": [
              "['Kernel: poly, C: 0.1, Accuracy: 0.6086956521739131',\n",
              " 'Kernel: poly, C: 1.0, Accuracy: 0.6086956521739131',\n",
              " 'Kernel: poly, C: 10.0, Accuracy: 0.6086956521739131',\n",
              " 'Kernel: rbf, C: 0.1, Accuracy: 0.6086956521739131',\n",
              " 'Kernel: rbf, C: 1.0, Accuracy: 0.6086956521739131',\n",
              " 'Kernel: rbf, C: 10.0, Accuracy: 0.6086956521739131',\n",
              " 'Kernel: sigmoid, C: 0.1, Accuracy: 0.6086956521739131',\n",
              " 'Kernel: sigmoid, C: 1.0, Accuracy: 0.4592391304347826',\n",
              " 'Kernel: sigmoid, C: 10.0, Accuracy: 0.3967391304347826']"
            ]
          },
          "metadata": {},
          "execution_count": 435
        }
      ]
    },
    {
      "cell_type": "code",
      "source": [
        "test_svc_kernel(X12_std_feat,y12)"
      ],
      "metadata": {
        "colab": {
          "base_uri": "https://localhost:8080/"
        },
        "id": "pUkxJkkYbbBf",
        "outputId": "77a6e672-8250-434f-9def-cf870674a468"
      },
      "execution_count": null,
      "outputs": [
        {
          "output_type": "execute_result",
          "data": {
            "text/plain": [
              "['Kernel: poly, C: 0.1, Accuracy: 0.6086956521739131',\n",
              " 'Kernel: poly, C: 1.0, Accuracy: 0.5978260869565217',\n",
              " 'Kernel: poly, C: 10.0, Accuracy: 0.5108695652173914',\n",
              " 'Kernel: rbf, C: 0.1, Accuracy: 0.6086956521739131',\n",
              " 'Kernel: rbf, C: 1.0, Accuracy: 0.6086956521739131',\n",
              " 'Kernel: rbf, C: 10.0, Accuracy: 0.5190217391304348',\n",
              " 'Kernel: sigmoid, C: 0.1, Accuracy: 0.5978260869565217',\n",
              " 'Kernel: sigmoid, C: 1.0, Accuracy: 0.6005434782608695',\n",
              " 'Kernel: sigmoid, C: 10.0, Accuracy: 0.47554347826086957']"
            ]
          },
          "metadata": {},
          "execution_count": 436
        }
      ]
    },
    {
      "cell_type": "code",
      "source": [
        "test_svc_kernel(X12_mm_feat,y12)"
      ],
      "metadata": {
        "colab": {
          "base_uri": "https://localhost:8080/"
        },
        "id": "i9q7iNlibdkR",
        "outputId": "921f47b4-d433-431b-e411-9478cdbcc40d"
      },
      "execution_count": null,
      "outputs": [
        {
          "output_type": "execute_result",
          "data": {
            "text/plain": [
              "['Kernel: poly, C: 0.1, Accuracy: 0.6086956521739131',\n",
              " 'Kernel: poly, C: 1.0, Accuracy: 0.5869565217391305',\n",
              " 'Kernel: poly, C: 10.0, Accuracy: 0.5271739130434783',\n",
              " 'Kernel: rbf, C: 0.1, Accuracy: 0.6086956521739131',\n",
              " 'Kernel: rbf, C: 1.0, Accuracy: 0.6086956521739131',\n",
              " 'Kernel: rbf, C: 10.0, Accuracy: 0.5380434782608695',\n",
              " 'Kernel: sigmoid, C: 0.1, Accuracy: 0.6086956521739131',\n",
              " 'Kernel: sigmoid, C: 1.0, Accuracy: 0.4782608695652174',\n",
              " 'Kernel: sigmoid, C: 10.0, Accuracy: 0.453804347826087']"
            ]
          },
          "metadata": {},
          "execution_count": 437
        }
      ]
    },
    {
      "cell_type": "code",
      "source": [
        "print('Feature selection - mutual_info_regression \\n')\n",
        "test_svc_kernel(X13_feat,y13)"
      ],
      "metadata": {
        "colab": {
          "base_uri": "https://localhost:8080/"
        },
        "id": "oztscuhhbf7w",
        "outputId": "012ef14a-9e75-4a10-e425-188383c102ff"
      },
      "execution_count": null,
      "outputs": [
        {
          "output_type": "stream",
          "name": "stdout",
          "text": [
            "Feature selection - mutual_info_regression \n",
            "\n"
          ]
        },
        {
          "output_type": "execute_result",
          "data": {
            "text/plain": [
              "['Kernel: poly, C: 0.1, Accuracy: 0.6086956521739131',\n",
              " 'Kernel: poly, C: 1.0, Accuracy: 0.6086956521739131',\n",
              " 'Kernel: poly, C: 10.0, Accuracy: 0.6086956521739131',\n",
              " 'Kernel: rbf, C: 0.1, Accuracy: 0.6086956521739131',\n",
              " 'Kernel: rbf, C: 1.0, Accuracy: 0.6086956521739131',\n",
              " 'Kernel: rbf, C: 10.0, Accuracy: 0.6086956521739131',\n",
              " 'Kernel: sigmoid, C: 0.1, Accuracy: 0.6086956521739131',\n",
              " 'Kernel: sigmoid, C: 1.0, Accuracy: 0.4592391304347826',\n",
              " 'Kernel: sigmoid, C: 10.0, Accuracy: 0.4483695652173913']"
            ]
          },
          "metadata": {},
          "execution_count": 438
        }
      ]
    },
    {
      "cell_type": "code",
      "source": [
        "test_svc_kernel(X13_std_feat,y13)"
      ],
      "metadata": {
        "colab": {
          "base_uri": "https://localhost:8080/"
        },
        "id": "4OYsNoFqbjLo",
        "outputId": "8c7fa00c-ac1e-45eb-ea22-70629e6902a0"
      },
      "execution_count": null,
      "outputs": [
        {
          "output_type": "execute_result",
          "data": {
            "text/plain": [
              "['Kernel: poly, C: 0.1, Accuracy: 0.6086956521739131',\n",
              " 'Kernel: poly, C: 1.0, Accuracy: 0.595108695652174',\n",
              " 'Kernel: poly, C: 10.0, Accuracy: 0.46195652173913043',\n",
              " 'Kernel: rbf, C: 0.1, Accuracy: 0.6086956521739131',\n",
              " 'Kernel: rbf, C: 1.0, Accuracy: 0.6086956521739131',\n",
              " 'Kernel: rbf, C: 10.0, Accuracy: 0.5108695652173914',\n",
              " 'Kernel: sigmoid, C: 0.1, Accuracy: 0.6005434782608695',\n",
              " 'Kernel: sigmoid, C: 1.0, Accuracy: 0.5597826086956522',\n",
              " 'Kernel: sigmoid, C: 10.0, Accuracy: 0.44021739130434784']"
            ]
          },
          "metadata": {},
          "execution_count": 439
        }
      ]
    },
    {
      "cell_type": "code",
      "source": [
        "test_svc_kernel(X13_mm_feat,y13)"
      ],
      "metadata": {
        "colab": {
          "base_uri": "https://localhost:8080/"
        },
        "id": "HTulwhtobmmo",
        "outputId": "40138306-02be-4a2d-a1b6-40763b72f440"
      },
      "execution_count": null,
      "outputs": [
        {
          "output_type": "execute_result",
          "data": {
            "text/plain": [
              "['Kernel: poly, C: 0.1, Accuracy: 0.6086956521739131',\n",
              " 'Kernel: poly, C: 1.0, Accuracy: 0.6005434782608695',\n",
              " 'Kernel: poly, C: 10.0, Accuracy: 0.5108695652173914',\n",
              " 'Kernel: rbf, C: 0.1, Accuracy: 0.6086956521739131',\n",
              " 'Kernel: rbf, C: 1.0, Accuracy: 0.6086956521739131',\n",
              " 'Kernel: rbf, C: 10.0, Accuracy: 0.5679347826086957',\n",
              " 'Kernel: sigmoid, C: 0.1, Accuracy: 0.6086956521739131',\n",
              " 'Kernel: sigmoid, C: 1.0, Accuracy: 0.49184782608695654',\n",
              " 'Kernel: sigmoid, C: 10.0, Accuracy: 0.47282608695652173']"
            ]
          },
          "metadata": {},
          "execution_count": 440
        }
      ]
    },
    {
      "cell_type": "markdown",
      "source": [
        "Considering that we could not get higher accuracy with parameters different to those by default 'Kernel: rbf, C: 1.0, Accuracy: 0.6086956521739131'\n",
        "\n",
        "There is no need to run the model with any of these variation in parameter, however, the option of parameter \"gamma\" will be analyzed"
      ],
      "metadata": {
        "id": "exrhKzThdJHF"
      }
    },
    {
      "cell_type": "code",
      "source": [
        "#(c) Evaluate the performance of SVC for different kernel using 100 multi Colums runs in terms of accuracy\n",
        "\n",
        "import numpy as np\n",
        "from sklearn.metrics import accuracy_score\n",
        "from sklearn.svm import SVC\n",
        "\n",
        "acc = []\n",
        "\n",
        "ker = ['rbf', 'sigmoid']\n",
        "gammai = [0.1, 1, 10,'auto','scale']\n",
        "\n",
        "for i in ker:\n",
        "    for g in gammai:\n",
        "        X_train, X_test, y_train, y_test = train_test_split(X1, y1, test_size=0.25, random_state=42)  # test set is 25%\n",
        "        model = SVC(kernel=i, gamma = g)\n",
        "        model.fit(X_train, y_train)\n",
        "        pred_svc = model.predict(X_test)\n",
        "        accu = accuracy_score(y_test, pred_svc)\n",
        "        acc.append(f\"Kernel: {i}, gamma: {g}, Accuracy: {accu}\")\n",
        "\n",
        "print(acc)"
      ],
      "metadata": {
        "colab": {
          "base_uri": "https://localhost:8080/"
        },
        "id": "y0l45nVSeCzP",
        "outputId": "cce1db5c-747e-47b4-dc66-b453cf5c62e2"
      },
      "execution_count": null,
      "outputs": [
        {
          "output_type": "stream",
          "name": "stdout",
          "text": [
            "['Kernel: rbf, gamma: 0.1, Accuracy: 0.6086956521739131', 'Kernel: rbf, gamma: 1, Accuracy: 0.6086956521739131', 'Kernel: rbf, gamma: 10, Accuracy: 0.6086956521739131', 'Kernel: rbf, gamma: auto, Accuracy: 0.6086956521739131', 'Kernel: rbf, gamma: scale, Accuracy: 0.6086956521739131', 'Kernel: sigmoid, gamma: 0.1, Accuracy: 0.6086956521739131', 'Kernel: sigmoid, gamma: 1, Accuracy: 0.6086956521739131', 'Kernel: sigmoid, gamma: 10, Accuracy: 0.6086956521739131', 'Kernel: sigmoid, gamma: auto, Accuracy: 0.6086956521739131', 'Kernel: sigmoid, gamma: scale, Accuracy: 0.45108695652173914']\n"
          ]
        }
      ]
    },
    {
      "cell_type": "markdown",
      "source": [
        "Considering that we could not get higher accuracy with parameters different to those by default 'Kernel: rbf, gamma: Scale Accuracy: 0.6086956521739131'\n",
        "\n",
        "There is no need to run the model with any of these variation in parameters.\n",
        "\n",
        "Eventhough the possible variations in SVC, this is not the best model for the current analysis"
      ],
      "metadata": {
        "id": "F_ErUZLTfWAK"
      }
    },
    {
      "cell_type": "markdown",
      "source": [
        "####3.5.2 JobSatisfaction\n",
        "\n",
        "After running the models for JobSatisfaction, the selected modes would be gaussianNB feature selection with correlation matrix and original data (Test 2.5), gaussianNB feature selection with correlation matrix Standard scaler (Test2.17), and gaussianNB feature selection using correlation matrix scale data (2.29). Thus, we would try to modify the parameters trying to improve macro avg f1-score"
      ],
      "metadata": {
        "id": "-nP-5efpxfUA"
      }
    },
    {
      "cell_type": "markdown",
      "source": [
        "#####3.5.2.1 GaussianNB"
      ],
      "metadata": {
        "id": "M94oXBWmxsVP"
      }
    },
    {
      "cell_type": "code",
      "source": [
        "#Create function for Gaussian Naive Bayes with hyperparameters\n",
        "from sklearn.naive_bayes import GaussianNB\n",
        "\n",
        "def gaussian_hyp(var_smoot, X_train, X_test, y_train, y_test):\n",
        "  gnb = GaussianNB(var_smoothing = var_smoot)\n",
        "  gnb.fit(X_train, y_train)\n",
        "  y_pred = gnb.predict(X_test)\n",
        "\n",
        "  print(confusion_matrix(y_test, y_pred))\n",
        "  print(classification_report(y_test, y_pred))"
      ],
      "metadata": {
        "id": "5B7CYm3Vzi0o"
      },
      "execution_count": null,
      "outputs": []
    },
    {
      "cell_type": "markdown",
      "source": [
        "######3.5.2.1.a GaussianNB - var_smoothing = 0.0000001 (1e-7)"
      ],
      "metadata": {
        "id": "EYefFU0_eI82"
      }
    },
    {
      "cell_type": "code",
      "source": [
        "#Test 2.5.1\n",
        "gaussian_hyp(0.0000001,X21_train_feat, X21_test_feat, y21_train, y21_test)"
      ],
      "metadata": {
        "colab": {
          "base_uri": "https://localhost:8080/"
        },
        "id": "KOUicmwZzvc6",
        "outputId": "d89136ae-af94-471f-d012-9ace81f3d6bf"
      },
      "execution_count": null,
      "outputs": [
        {
          "output_type": "stream",
          "name": "stdout",
          "text": [
            "[[ 7  5 28 37]\n",
            " [ 9  5 22 21]\n",
            " [ 8  3 37 70]\n",
            " [ 4  7 41 64]]\n",
            "              precision    recall  f1-score   support\n",
            "\n",
            "           1       0.25      0.09      0.13        77\n",
            "           2       0.25      0.09      0.13        57\n",
            "           3       0.29      0.31      0.30       118\n",
            "           4       0.33      0.55      0.42       116\n",
            "\n",
            "    accuracy                           0.31       368\n",
            "   macro avg       0.28      0.26      0.24       368\n",
            "weighted avg       0.29      0.31      0.28       368\n",
            "\n"
          ]
        }
      ]
    },
    {
      "cell_type": "code",
      "source": [
        "#Test 2.17.1\n",
        "gaussian_hyp(0.0000001,X21_train_std_feat, X21_test_std_feat, y21_train, y21_test)"
      ],
      "metadata": {
        "colab": {
          "base_uri": "https://localhost:8080/"
        },
        "outputId": "2e520b6d-b939-42c1-8a90-3dfc3b714476",
        "id": "Hl_9zo7wxwbE"
      },
      "execution_count": null,
      "outputs": [
        {
          "output_type": "stream",
          "name": "stdout",
          "text": [
            "[[10  6 24 37]\n",
            " [10  6 19 22]\n",
            " [14  2 38 64]\n",
            " [ 4  7 38 67]]\n",
            "              precision    recall  f1-score   support\n",
            "\n",
            "           1       0.26      0.13      0.17        77\n",
            "           2       0.29      0.11      0.15        57\n",
            "           3       0.32      0.32      0.32       118\n",
            "           4       0.35      0.58      0.44       116\n",
            "\n",
            "    accuracy                           0.33       368\n",
            "   macro avg       0.31      0.28      0.27       368\n",
            "weighted avg       0.31      0.33      0.30       368\n",
            "\n"
          ]
        }
      ]
    },
    {
      "cell_type": "code",
      "source": [
        "#Test 2.29.1\n",
        "gaussian_hyp(0.0000001,X21_train_mm_feat, X21_test_mm_feat, y21_train, y21_test)"
      ],
      "metadata": {
        "colab": {
          "base_uri": "https://localhost:8080/"
        },
        "outputId": "b6be5102-7e37-4917-a867-614f1ddb49dc",
        "id": "n_diBwnhxwbE"
      },
      "execution_count": null,
      "outputs": [
        {
          "output_type": "stream",
          "name": "stdout",
          "text": [
            "[[10  6 24 37]\n",
            " [10  6 19 22]\n",
            " [14  2 38 64]\n",
            " [ 4  7 38 67]]\n",
            "              precision    recall  f1-score   support\n",
            "\n",
            "           1       0.26      0.13      0.17        77\n",
            "           2       0.29      0.11      0.15        57\n",
            "           3       0.32      0.32      0.32       118\n",
            "           4       0.35      0.58      0.44       116\n",
            "\n",
            "    accuracy                           0.33       368\n",
            "   macro avg       0.31      0.28      0.27       368\n",
            "weighted avg       0.31      0.33      0.30       368\n",
            "\n"
          ]
        }
      ]
    },
    {
      "cell_type": "markdown",
      "source": [
        "######3.5.2.1.b GaussianNB - var_smoothing = 0.00000001 (1e-8)"
      ],
      "metadata": {
        "id": "zvELdVI0ePdD"
      }
    },
    {
      "cell_type": "code",
      "source": [
        "#Test 2.5.2\n",
        "gaussian_hyp(0.00000001,X21_train_feat, X21_test_feat, y21_train, y21_test)"
      ],
      "metadata": {
        "colab": {
          "base_uri": "https://localhost:8080/"
        },
        "id": "IA3AMv98e_lO",
        "outputId": "0dbfc8ea-b6ee-4562-8620-a81ac695efcc"
      },
      "execution_count": null,
      "outputs": [
        {
          "output_type": "stream",
          "name": "stdout",
          "text": [
            "[[ 9  6 25 37]\n",
            " [10  6 19 22]\n",
            " [13  2 38 65]\n",
            " [ 4  7 38 67]]\n",
            "              precision    recall  f1-score   support\n",
            "\n",
            "           1       0.25      0.12      0.16        77\n",
            "           2       0.29      0.11      0.15        57\n",
            "           3       0.32      0.32      0.32       118\n",
            "           4       0.35      0.58      0.44       116\n",
            "\n",
            "    accuracy                           0.33       368\n",
            "   macro avg       0.30      0.28      0.27       368\n",
            "weighted avg       0.31      0.33      0.30       368\n",
            "\n"
          ]
        }
      ]
    },
    {
      "cell_type": "code",
      "source": [
        "#Test 2.17.2\n",
        "gaussian_hyp(0.00000001,X21_train_std_feat, X21_test_std_feat, y21_train, y21_test)"
      ],
      "metadata": {
        "colab": {
          "base_uri": "https://localhost:8080/"
        },
        "id": "54WSwJdZfCsQ",
        "outputId": "958cf2e4-6246-44c5-a493-09cc929470a7"
      },
      "execution_count": null,
      "outputs": [
        {
          "output_type": "stream",
          "name": "stdout",
          "text": [
            "[[10  6 24 37]\n",
            " [10  6 19 22]\n",
            " [14  2 38 64]\n",
            " [ 4  7 38 67]]\n",
            "              precision    recall  f1-score   support\n",
            "\n",
            "           1       0.26      0.13      0.17        77\n",
            "           2       0.29      0.11      0.15        57\n",
            "           3       0.32      0.32      0.32       118\n",
            "           4       0.35      0.58      0.44       116\n",
            "\n",
            "    accuracy                           0.33       368\n",
            "   macro avg       0.31      0.28      0.27       368\n",
            "weighted avg       0.31      0.33      0.30       368\n",
            "\n"
          ]
        }
      ]
    },
    {
      "cell_type": "code",
      "source": [
        "#Test 2.29.2\n",
        "gaussian_hyp(0.00000001,X21_train_mm_feat, X21_test_mm_feat, y21_train, y21_test)"
      ],
      "metadata": {
        "colab": {
          "base_uri": "https://localhost:8080/"
        },
        "id": "DFqUw2h7fCf6",
        "outputId": "12e8f546-6001-4230-e545-b46baa6bd2be"
      },
      "execution_count": null,
      "outputs": [
        {
          "output_type": "stream",
          "name": "stdout",
          "text": [
            "[[10  6 24 37]\n",
            " [10  6 19 22]\n",
            " [14  2 38 64]\n",
            " [ 4  7 38 67]]\n",
            "              precision    recall  f1-score   support\n",
            "\n",
            "           1       0.26      0.13      0.17        77\n",
            "           2       0.29      0.11      0.15        57\n",
            "           3       0.32      0.32      0.32       118\n",
            "           4       0.35      0.58      0.44       116\n",
            "\n",
            "    accuracy                           0.33       368\n",
            "   macro avg       0.31      0.28      0.27       368\n",
            "weighted avg       0.31      0.33      0.30       368\n",
            "\n"
          ]
        }
      ]
    },
    {
      "cell_type": "markdown",
      "source": [
        "######3.5.2.1.c GaussianNB - var_smoothing = 0.00000000001 (1e-11)"
      ],
      "metadata": {
        "id": "nYn_5PbweXNp"
      }
    },
    {
      "cell_type": "code",
      "source": [
        "#Test 2.5.3\n",
        "gaussian_hyp(0.00000000001,X21_train_feat, X21_test_feat, y21_train, y21_test)"
      ],
      "metadata": {
        "colab": {
          "base_uri": "https://localhost:8080/"
        },
        "id": "VkWgMla1fKVL",
        "outputId": "c5ef1c1e-e053-41db-b347-e65b5603d83e"
      },
      "execution_count": null,
      "outputs": [
        {
          "output_type": "stream",
          "name": "stdout",
          "text": [
            "[[10  6 24 37]\n",
            " [10  6 19 22]\n",
            " [14  2 38 64]\n",
            " [ 4  7 38 67]]\n",
            "              precision    recall  f1-score   support\n",
            "\n",
            "           1       0.26      0.13      0.17        77\n",
            "           2       0.29      0.11      0.15        57\n",
            "           3       0.32      0.32      0.32       118\n",
            "           4       0.35      0.58      0.44       116\n",
            "\n",
            "    accuracy                           0.33       368\n",
            "   macro avg       0.31      0.28      0.27       368\n",
            "weighted avg       0.31      0.33      0.30       368\n",
            "\n"
          ]
        }
      ]
    },
    {
      "cell_type": "code",
      "source": [
        "#Test 2.17.3\n",
        "gaussian_hyp(0.00000000001,X21_train_std_feat, X21_test_std_feat, y21_train, y21_test)"
      ],
      "metadata": {
        "colab": {
          "base_uri": "https://localhost:8080/"
        },
        "id": "QSyO2PZTfKVL",
        "outputId": "ab487f9c-7a32-4618-c9d6-d93602941b72"
      },
      "execution_count": null,
      "outputs": [
        {
          "output_type": "stream",
          "name": "stdout",
          "text": [
            "[[10  6 24 37]\n",
            " [10  6 19 22]\n",
            " [14  2 38 64]\n",
            " [ 4  7 38 67]]\n",
            "              precision    recall  f1-score   support\n",
            "\n",
            "           1       0.26      0.13      0.17        77\n",
            "           2       0.29      0.11      0.15        57\n",
            "           3       0.32      0.32      0.32       118\n",
            "           4       0.35      0.58      0.44       116\n",
            "\n",
            "    accuracy                           0.33       368\n",
            "   macro avg       0.31      0.28      0.27       368\n",
            "weighted avg       0.31      0.33      0.30       368\n",
            "\n"
          ]
        }
      ]
    },
    {
      "cell_type": "code",
      "source": [
        "#Test 2.29.3\n",
        "gaussian_hyp(0.00000000001,X21_train_mm_feat, X21_test_mm_feat, y21_train, y21_test)"
      ],
      "metadata": {
        "colab": {
          "base_uri": "https://localhost:8080/"
        },
        "id": "vChMeSfbfKVL",
        "outputId": "6f81bdc2-a163-45c3-fd7d-c88e2c57049c"
      },
      "execution_count": null,
      "outputs": [
        {
          "output_type": "stream",
          "name": "stdout",
          "text": [
            "[[10  6 24 37]\n",
            " [10  6 19 22]\n",
            " [14  2 38 64]\n",
            " [ 4  7 38 67]]\n",
            "              precision    recall  f1-score   support\n",
            "\n",
            "           1       0.26      0.13      0.17        77\n",
            "           2       0.29      0.11      0.15        57\n",
            "           3       0.32      0.32      0.32       118\n",
            "           4       0.35      0.58      0.44       116\n",
            "\n",
            "    accuracy                           0.33       368\n",
            "   macro avg       0.31      0.28      0.27       368\n",
            "weighted avg       0.31      0.33      0.30       368\n",
            "\n"
          ]
        }
      ]
    },
    {
      "cell_type": "markdown",
      "source": [
        "######3.5.2.1.d Conclusion related to GaussianNB model optimization"
      ],
      "metadata": {
        "id": "i4ZgVmJoebtp"
      }
    },
    {
      "cell_type": "markdown",
      "source": [
        "Different experiments were held by modification of parameter \"var_smoothing\" (default value is 0.000000001 (1e-09)) for var_smoothing = 0.0000001 (1e-07), 0.00000001 (1e-08), 0.00000000001 (1e-11)\n",
        "\n",
        "There were no significal changes for macro avg f1.score, Thus, there is no optimization for Gaussian NB model.\n",
        "\n",
        "The SVC parameters will be reviewed"
      ],
      "metadata": {
        "id": "FH5H3L6X4n13"
      }
    },
    {
      "cell_type": "markdown",
      "source": [
        "#####3.5.2.2 SVC"
      ],
      "metadata": {
        "id": "-StT8dy7xUxH"
      }
    },
    {
      "cell_type": "code",
      "source": [
        "#(c) Evaluate the performance (accuracy) of SVC for different parameters \"kernel\" and \"C\"\n",
        "\n",
        "import numpy as np\n",
        "from sklearn.metrics import accuracy_score\n",
        "from sklearn.svm import SVC\n",
        "\n",
        "\n",
        "def test_svc_kernel(Xi,yi):\n",
        "  acc = []\n",
        "  ker = ['poly', 'rbf', 'sigmoid']\n",
        "  ci = [0.1, 1.0, 10.0]\n",
        "\n",
        "  for i in ker:\n",
        "      for c in ci:\n",
        "          X_train, X_test, y_train, y_test = train_test_split(Xi, yi, test_size=0.25, random_state=42)  # test set is 25%\n",
        "          model = SVC(C=c, kernel=i)\n",
        "          model.fit(X_train, y_train)\n",
        "          pred_svc = model.predict(X_test)\n",
        "          accu = accuracy_score(y_test, pred_svc)\n",
        "          acc.append(f\"Kernel: {i}, C: {c}, Accuracy: {accu}\")\n",
        "  return acc\n",
        "\n",
        "print('Normal data\\n')\n",
        "test_svc_kernel(X2,y2)"
      ],
      "metadata": {
        "colab": {
          "base_uri": "https://localhost:8080/"
        },
        "outputId": "ac98e2f2-7505-4865-f896-cea167d84ff7",
        "id": "0T8szeU2xUxI"
      },
      "execution_count": null,
      "outputs": [
        {
          "output_type": "stream",
          "name": "stdout",
          "text": [
            "Normal data\n",
            "\n"
          ]
        },
        {
          "output_type": "execute_result",
          "data": {
            "text/plain": [
              "['Kernel: poly, C: 0.1, Accuracy: 0.3423913043478261',\n",
              " 'Kernel: poly, C: 1.0, Accuracy: 0.328804347826087',\n",
              " 'Kernel: poly, C: 10.0, Accuracy: 0.328804347826087',\n",
              " 'Kernel: rbf, C: 0.1, Accuracy: 0.31521739130434784',\n",
              " 'Kernel: rbf, C: 1.0, Accuracy: 0.3451086956521739',\n",
              " 'Kernel: rbf, C: 10.0, Accuracy: 0.33152173913043476',\n",
              " 'Kernel: sigmoid, C: 0.1, Accuracy: 0.31521739130434784',\n",
              " 'Kernel: sigmoid, C: 1.0, Accuracy: 0.2717391304347826',\n",
              " 'Kernel: sigmoid, C: 10.0, Accuracy: 0.26358695652173914']"
            ]
          },
          "metadata": {},
          "execution_count": 478
        }
      ]
    },
    {
      "cell_type": "code",
      "source": [
        "test_svc_kernel(X2_std,y2)"
      ],
      "metadata": {
        "colab": {
          "base_uri": "https://localhost:8080/"
        },
        "id": "fXJXvXYzcHRh",
        "outputId": "7345c995-7c73-4ae7-9cb8-574d726b8509"
      },
      "execution_count": null,
      "outputs": [
        {
          "output_type": "execute_result",
          "data": {
            "text/plain": [
              "['Kernel: poly, C: 0.1, Accuracy: 0.3125',\n",
              " 'Kernel: poly, C: 1.0, Accuracy: 0.30434782608695654',\n",
              " 'Kernel: poly, C: 10.0, Accuracy: 0.24456521739130435',\n",
              " 'Kernel: rbf, C: 0.1, Accuracy: 0.31521739130434784',\n",
              " 'Kernel: rbf, C: 1.0, Accuracy: 0.3342391304347826',\n",
              " 'Kernel: rbf, C: 10.0, Accuracy: 0.2391304347826087',\n",
              " 'Kernel: sigmoid, C: 0.1, Accuracy: 0.3179347826086957',\n",
              " 'Kernel: sigmoid, C: 1.0, Accuracy: 0.33967391304347827',\n",
              " 'Kernel: sigmoid, C: 10.0, Accuracy: 0.296195652173913']"
            ]
          },
          "metadata": {},
          "execution_count": 479
        }
      ]
    },
    {
      "cell_type": "code",
      "source": [
        "test_svc_kernel(X2_mm,y2)"
      ],
      "metadata": {
        "colab": {
          "base_uri": "https://localhost:8080/"
        },
        "id": "Fy406QPocHRi",
        "outputId": "577cab2f-6cfd-47b1-af4d-594898ba804f"
      },
      "execution_count": null,
      "outputs": [
        {
          "output_type": "execute_result",
          "data": {
            "text/plain": [
              "['Kernel: poly, C: 0.1, Accuracy: 0.3342391304347826',\n",
              " 'Kernel: poly, C: 1.0, Accuracy: 0.27717391304347827',\n",
              " 'Kernel: poly, C: 10.0, Accuracy: 0.23641304347826086',\n",
              " 'Kernel: rbf, C: 0.1, Accuracy: 0.31521739130434784',\n",
              " 'Kernel: rbf, C: 1.0, Accuracy: 0.3179347826086957',\n",
              " 'Kernel: rbf, C: 10.0, Accuracy: 0.2798913043478261',\n",
              " 'Kernel: sigmoid, C: 0.1, Accuracy: 0.31521739130434784',\n",
              " 'Kernel: sigmoid, C: 1.0, Accuracy: 0.2717391304347826',\n",
              " 'Kernel: sigmoid, C: 10.0, Accuracy: 0.24456521739130435']"
            ]
          },
          "metadata": {},
          "execution_count": 480
        }
      ]
    },
    {
      "cell_type": "code",
      "source": [
        "print('Feature selection - correlation matrix \\n')\n",
        "test_svc_kernel(X21_feat,y21)"
      ],
      "metadata": {
        "colab": {
          "base_uri": "https://localhost:8080/"
        },
        "id": "Xx2m3aOwcHRj",
        "outputId": "0e14a0d1-b436-4f26-a985-4d8629ecdd27"
      },
      "execution_count": null,
      "outputs": [
        {
          "output_type": "stream",
          "name": "stdout",
          "text": [
            "Feature selection - correlation matrix \n",
            "\n"
          ]
        },
        {
          "output_type": "execute_result",
          "data": {
            "text/plain": [
              "['Kernel: poly, C: 0.1, Accuracy: 0.3179347826086957',\n",
              " 'Kernel: poly, C: 1.0, Accuracy: 0.29891304347826086',\n",
              " 'Kernel: poly, C: 10.0, Accuracy: 0.29891304347826086',\n",
              " 'Kernel: rbf, C: 0.1, Accuracy: 0.31521739130434784',\n",
              " 'Kernel: rbf, C: 1.0, Accuracy: 0.30978260869565216',\n",
              " 'Kernel: rbf, C: 10.0, Accuracy: 0.3016304347826087',\n",
              " 'Kernel: sigmoid, C: 0.1, Accuracy: 0.31521739130434784',\n",
              " 'Kernel: sigmoid, C: 1.0, Accuracy: 0.23369565217391305',\n",
              " 'Kernel: sigmoid, C: 10.0, Accuracy: 0.2608695652173913']"
            ]
          },
          "metadata": {},
          "execution_count": 481
        }
      ]
    },
    {
      "cell_type": "code",
      "source": [
        "test_svc_kernel(X21_std_feat,y21)"
      ],
      "metadata": {
        "colab": {
          "base_uri": "https://localhost:8080/"
        },
        "id": "H7w6K-TIcHRj",
        "outputId": "ee2fb5cb-91f8-4f46-cb1e-9805b6d0f26d"
      },
      "execution_count": null,
      "outputs": [
        {
          "output_type": "execute_result",
          "data": {
            "text/plain": [
              "['Kernel: poly, C: 0.1, Accuracy: 0.3179347826086957',\n",
              " 'Kernel: poly, C: 1.0, Accuracy: 0.30978260869565216',\n",
              " 'Kernel: poly, C: 10.0, Accuracy: 0.24456521739130435',\n",
              " 'Kernel: rbf, C: 0.1, Accuracy: 0.31521739130434784',\n",
              " 'Kernel: rbf, C: 1.0, Accuracy: 0.31521739130434784',\n",
              " 'Kernel: rbf, C: 10.0, Accuracy: 0.23369565217391305',\n",
              " 'Kernel: sigmoid, C: 0.1, Accuracy: 0.3016304347826087',\n",
              " 'Kernel: sigmoid, C: 1.0, Accuracy: 0.33695652173913043',\n",
              " 'Kernel: sigmoid, C: 10.0, Accuracy: 0.31521739130434784']"
            ]
          },
          "metadata": {},
          "execution_count": 482
        }
      ]
    },
    {
      "cell_type": "code",
      "source": [
        "test_svc_kernel(X21_mm_feat,y21)"
      ],
      "metadata": {
        "colab": {
          "base_uri": "https://localhost:8080/"
        },
        "id": "t12msf9GcHRk",
        "outputId": "9060e4bf-59b6-4caa-ddcb-669fdfc505cf"
      },
      "execution_count": null,
      "outputs": [
        {
          "output_type": "execute_result",
          "data": {
            "text/plain": [
              "['Kernel: poly, C: 0.1, Accuracy: 0.33695652173913043',\n",
              " 'Kernel: poly, C: 1.0, Accuracy: 0.31521739130434784',\n",
              " 'Kernel: poly, C: 10.0, Accuracy: 0.26358695652173914',\n",
              " 'Kernel: rbf, C: 0.1, Accuracy: 0.31521739130434784',\n",
              " 'Kernel: rbf, C: 1.0, Accuracy: 0.3233695652173913',\n",
              " 'Kernel: rbf, C: 10.0, Accuracy: 0.266304347826087',\n",
              " 'Kernel: sigmoid, C: 0.1, Accuracy: 0.31521739130434784',\n",
              " 'Kernel: sigmoid, C: 1.0, Accuracy: 0.27717391304347827',\n",
              " 'Kernel: sigmoid, C: 10.0, Accuracy: 0.2826086956521739']"
            ]
          },
          "metadata": {},
          "execution_count": 483
        }
      ]
    },
    {
      "cell_type": "code",
      "source": [
        "print('Feature selection - chi2 \\n')\n",
        "test_svc_kernel(X22_feat,y22)"
      ],
      "metadata": {
        "colab": {
          "base_uri": "https://localhost:8080/"
        },
        "id": "dHGlG6j6cHRl",
        "outputId": "78c0f4a9-e46f-4804-816f-b2f1d9fea6b7"
      },
      "execution_count": null,
      "outputs": [
        {
          "output_type": "stream",
          "name": "stdout",
          "text": [
            "Feature selection - chi2 \n",
            "\n"
          ]
        },
        {
          "output_type": "execute_result",
          "data": {
            "text/plain": [
              "['Kernel: poly, C: 0.1, Accuracy: 0.3423913043478261',\n",
              " 'Kernel: poly, C: 1.0, Accuracy: 0.32608695652173914',\n",
              " 'Kernel: poly, C: 10.0, Accuracy: 0.328804347826087',\n",
              " 'Kernel: rbf, C: 0.1, Accuracy: 0.31521739130434784',\n",
              " 'Kernel: rbf, C: 1.0, Accuracy: 0.3451086956521739',\n",
              " 'Kernel: rbf, C: 10.0, Accuracy: 0.3342391304347826',\n",
              " 'Kernel: sigmoid, C: 0.1, Accuracy: 0.31521739130434784',\n",
              " 'Kernel: sigmoid, C: 1.0, Accuracy: 0.27445652173913043',\n",
              " 'Kernel: sigmoid, C: 10.0, Accuracy: 0.27717391304347827']"
            ]
          },
          "metadata": {},
          "execution_count": 484
        }
      ]
    },
    {
      "cell_type": "code",
      "source": [
        "test_svc_kernel(X22_std_feat,y22)"
      ],
      "metadata": {
        "colab": {
          "base_uri": "https://localhost:8080/"
        },
        "id": "BNwgfjNXcHRl",
        "outputId": "a76f5964-5fcf-4480-96b6-93b35b314cfd"
      },
      "execution_count": null,
      "outputs": [
        {
          "output_type": "execute_result",
          "data": {
            "text/plain": [
              "['Kernel: poly, C: 0.1, Accuracy: 0.30978260869565216',\n",
              " 'Kernel: poly, C: 1.0, Accuracy: 0.3233695652173913',\n",
              " 'Kernel: poly, C: 10.0, Accuracy: 0.296195652173913',\n",
              " 'Kernel: rbf, C: 0.1, Accuracy: 0.31521739130434784',\n",
              " 'Kernel: rbf, C: 1.0, Accuracy: 0.30434782608695654',\n",
              " 'Kernel: rbf, C: 10.0, Accuracy: 0.2798913043478261',\n",
              " 'Kernel: sigmoid, C: 0.1, Accuracy: 0.3179347826086957',\n",
              " 'Kernel: sigmoid, C: 1.0, Accuracy: 0.30978260869565216',\n",
              " 'Kernel: sigmoid, C: 10.0, Accuracy: 0.266304347826087']"
            ]
          },
          "metadata": {},
          "execution_count": 485
        }
      ]
    },
    {
      "cell_type": "code",
      "source": [
        "test_svc_kernel(X22_mm_feat,y22)"
      ],
      "metadata": {
        "colab": {
          "base_uri": "https://localhost:8080/"
        },
        "id": "p5rTlPsTcHRm",
        "outputId": "d163c675-12c2-4e2c-95c5-2ecbaa9332ec"
      },
      "execution_count": null,
      "outputs": [
        {
          "output_type": "execute_result",
          "data": {
            "text/plain": [
              "['Kernel: poly, C: 0.1, Accuracy: 0.328804347826087',\n",
              " 'Kernel: poly, C: 1.0, Accuracy: 0.32065217391304346',\n",
              " 'Kernel: poly, C: 10.0, Accuracy: 0.2826086956521739',\n",
              " 'Kernel: rbf, C: 0.1, Accuracy: 0.3179347826086957',\n",
              " 'Kernel: rbf, C: 1.0, Accuracy: 0.328804347826087',\n",
              " 'Kernel: rbf, C: 10.0, Accuracy: 0.25815217391304346',\n",
              " 'Kernel: sigmoid, C: 0.1, Accuracy: 0.31521739130434784',\n",
              " 'Kernel: sigmoid, C: 1.0, Accuracy: 0.20108695652173914',\n",
              " 'Kernel: sigmoid, C: 10.0, Accuracy: 0.22826086956521738']"
            ]
          },
          "metadata": {},
          "execution_count": 486
        }
      ]
    },
    {
      "cell_type": "code",
      "source": [
        "print('Feature selection - mutual_info_regression \\n')\n",
        "test_svc_kernel(X23_feat,y23)"
      ],
      "metadata": {
        "colab": {
          "base_uri": "https://localhost:8080/"
        },
        "id": "OOTQiCRwcHRn",
        "outputId": "52aa4bc9-59b2-4f5a-88f8-67f7465a6749"
      },
      "execution_count": null,
      "outputs": [
        {
          "output_type": "stream",
          "name": "stdout",
          "text": [
            "Feature selection - mutual_info_regression \n",
            "\n"
          ]
        },
        {
          "output_type": "execute_result",
          "data": {
            "text/plain": [
              "['Kernel: poly, C: 0.1, Accuracy: 0.33967391304347827',\n",
              " 'Kernel: poly, C: 1.0, Accuracy: 0.328804347826087',\n",
              " 'Kernel: poly, C: 10.0, Accuracy: 0.32608695652173914',\n",
              " 'Kernel: rbf, C: 0.1, Accuracy: 0.31521739130434784',\n",
              " 'Kernel: rbf, C: 1.0, Accuracy: 0.3423913043478261',\n",
              " 'Kernel: rbf, C: 10.0, Accuracy: 0.3342391304347826',\n",
              " 'Kernel: sigmoid, C: 0.1, Accuracy: 0.31521739130434784',\n",
              " 'Kernel: sigmoid, C: 1.0, Accuracy: 0.27445652173913043',\n",
              " 'Kernel: sigmoid, C: 10.0, Accuracy: 0.27445652173913043']"
            ]
          },
          "metadata": {},
          "execution_count": 487
        }
      ]
    },
    {
      "cell_type": "code",
      "source": [
        "test_svc_kernel(X23_std_feat,y23)"
      ],
      "metadata": {
        "colab": {
          "base_uri": "https://localhost:8080/"
        },
        "id": "McdDMrKjcHRn",
        "outputId": "5bb52fc9-4f55-48dc-f956-a2bdb01f8ede"
      },
      "execution_count": null,
      "outputs": [
        {
          "output_type": "execute_result",
          "data": {
            "text/plain": [
              "['Kernel: poly, C: 0.1, Accuracy: 0.30434782608695654',\n",
              " 'Kernel: poly, C: 1.0, Accuracy: 0.29891304347826086',\n",
              " 'Kernel: poly, C: 10.0, Accuracy: 0.266304347826087',\n",
              " 'Kernel: rbf, C: 0.1, Accuracy: 0.31521739130434784',\n",
              " 'Kernel: rbf, C: 1.0, Accuracy: 0.3423913043478261',\n",
              " 'Kernel: rbf, C: 10.0, Accuracy: 0.25271739130434784',\n",
              " 'Kernel: sigmoid, C: 0.1, Accuracy: 0.3125',\n",
              " 'Kernel: sigmoid, C: 1.0, Accuracy: 0.31521739130434784',\n",
              " 'Kernel: sigmoid, C: 10.0, Accuracy: 0.23641304347826086']"
            ]
          },
          "metadata": {},
          "execution_count": 488
        }
      ]
    },
    {
      "cell_type": "code",
      "source": [
        "test_svc_kernel(X23_mm_feat,y23)"
      ],
      "metadata": {
        "colab": {
          "base_uri": "https://localhost:8080/"
        },
        "id": "W5M2ZZYccHRo",
        "outputId": "d6b20b8c-b400-4fb6-fca4-98981423cdfc"
      },
      "execution_count": null,
      "outputs": [
        {
          "output_type": "execute_result",
          "data": {
            "text/plain": [
              "['Kernel: poly, C: 0.1, Accuracy: 0.3342391304347826',\n",
              " 'Kernel: poly, C: 1.0, Accuracy: 0.3070652173913043',\n",
              " 'Kernel: poly, C: 10.0, Accuracy: 0.29347826086956524',\n",
              " 'Kernel: rbf, C: 0.1, Accuracy: 0.31521739130434784',\n",
              " 'Kernel: rbf, C: 1.0, Accuracy: 0.3342391304347826',\n",
              " 'Kernel: rbf, C: 10.0, Accuracy: 0.29891304347826086',\n",
              " 'Kernel: sigmoid, C: 0.1, Accuracy: 0.31521739130434784',\n",
              " 'Kernel: sigmoid, C: 1.0, Accuracy: 0.3125',\n",
              " 'Kernel: sigmoid, C: 10.0, Accuracy: 0.31521739130434784']"
            ]
          },
          "metadata": {},
          "execution_count": 489
        }
      ]
    },
    {
      "cell_type": "markdown",
      "source": [
        "Considering that we could not get higher accuracy with parameters different to those by default 'Kernel: rbf, C: 1.0, Accuracy: 0.3451086956521739' for any data set (normal, feature selection or scaled)\n",
        "\n",
        "There is no need to run the model with any of these variation in parameter, however, the option of parameter \"gamma\" will be analyzed"
      ],
      "metadata": {
        "id": "r2dv63vyxUxI"
      }
    },
    {
      "cell_type": "code",
      "source": [
        "#(c) Evaluate the performance of SVC for different kernel using 100 multi Colums runs in terms of accuracy\n",
        "\n",
        "import numpy as np\n",
        "from sklearn.metrics import accuracy_score\n",
        "from sklearn.svm import SVC\n",
        "\n",
        "acc = []\n",
        "\n",
        "ker = ['rbf', 'sigmoid']\n",
        "gammai = [0.1, 1, 10,'auto','scale']\n",
        "\n",
        "for i in ker:\n",
        "    for g in gammai:\n",
        "        X_train, X_test, y_train, y_test = train_test_split(X2, y2, test_size=0.25, random_state=42)  # test set is 25%\n",
        "        model = SVC(kernel=i, gamma = g)\n",
        "        model.fit(X_train, y_train)\n",
        "        pred_svc = model.predict(X_test)\n",
        "        accu = accuracy_score(y_test, pred_svc)\n",
        "        acc.append(f\"Kernel: {i}, gamma: {g}, Accuracy: {accu}\")\n",
        "\n",
        "print(acc)"
      ],
      "metadata": {
        "colab": {
          "base_uri": "https://localhost:8080/"
        },
        "outputId": "7f9b8a8b-501f-49da-e31d-6a5f2656689d",
        "id": "MV4LRo_exUxI"
      },
      "execution_count": null,
      "outputs": [
        {
          "output_type": "stream",
          "name": "stdout",
          "text": [
            "['Kernel: rbf, gamma: 0.1, Accuracy: 0.31521739130434784', 'Kernel: rbf, gamma: 1, Accuracy: 0.31521739130434784', 'Kernel: rbf, gamma: 10, Accuracy: 0.31521739130434784', 'Kernel: rbf, gamma: auto, Accuracy: 0.31521739130434784', 'Kernel: rbf, gamma: scale, Accuracy: 0.3451086956521739', 'Kernel: sigmoid, gamma: 0.1, Accuracy: 0.31521739130434784', 'Kernel: sigmoid, gamma: 1, Accuracy: 0.31521739130434784', 'Kernel: sigmoid, gamma: 10, Accuracy: 0.31521739130434784', 'Kernel: sigmoid, gamma: auto, Accuracy: 0.31521739130434784', 'Kernel: sigmoid, gamma: scale, Accuracy: 0.2717391304347826']\n"
          ]
        }
      ]
    },
    {
      "cell_type": "markdown",
      "source": [
        "Considering that we could not get higher accuracy with parameters different to those by default 'Kernel: rbf, gamma: scale, Accuracy: 0.3451086956521739'\n",
        "\n",
        "\n",
        "There is no need to run the model with any of these variation in parameters.\n",
        "\n",
        "Eventhough the possible variations in SVC, this is not the best model for the current analysis"
      ],
      "metadata": {
        "id": "g8LyomP2xUxI"
      }
    },
    {
      "cell_type": "markdown",
      "source": [
        "###3.6   Model Comparison"
      ],
      "metadata": {
        "id": "WRkeOwFYrrUh"
      }
    },
    {
      "cell_type": "markdown",
      "source": [
        "Considering that the current analysis is focused on the prediction for those groups of employees with a higher risk of getting burnout or trying to quit their jobs, by reviewing the dependent variables \"WorkLifeBalance\" and \"JobSatisfaction\", class 1 and 2 represent the focus classes to be attended.\n",
        "\n",
        "For both variables were considered 3 models for calssification task: Logistic Regression, Gaussian Naive Bayes (GaussianNB) and Support Vector Classification.\n",
        "\n",
        "Regarding feature selection, the analysis consider three techniques, 1. Correlation matrix, 2. Chi-square, 3. Mutual info classifier.\n",
        "\n",
        "By optimization, the search of better parameters for Gaussian Naive Bayes (GaussianNB) and Support Vector Classification was carried out, without meaningful results.\n",
        "\n",
        "\n"
      ],
      "metadata": {
        "id": "mQaiK5kYhdle"
      }
    },
    {
      "cell_type": "markdown",
      "source": [
        "**Model selected for WorkLifeBalance:**\n",
        "Regarding WorkLifeBalance, the models selected were:\n",
        "- Test 1.17, Gaussian NB with Feature Selection - Correlation Matrix and Standar Scaler used for data\n",
        "- Test 1.29, Gaussian NB with Feature Selection - Correlation Matrix and MinMax Scaler used for data\n",
        "\n",
        "These two models would provide better prediction conidering f-1 score for Class 1 related to those employees with the highest risk. However for Class 2 which is the other focus class to be considered, the model Test 1.2 Gaussian NB could provide better predictions.\n",
        "\n",
        "Both selected models represent similar simplicity of data use, thus both  could be chosen as better models with current dataset."
      ],
      "metadata": {
        "id": "a2LhAElw4jhU"
      }
    },
    {
      "cell_type": "markdown",
      "source": [
        "**Model selected for JobSatisfaction:**\n",
        "Regarding JobSatisfaction, the models selected were:\n",
        "- Test 2.5, Gaussian NB with Feature Selection - Correlation Matrix\n",
        "- Test 2.17, Gaussian NB with Feature Selection - Correlation Matrix and Standar Scaler used for data\n",
        "- Test 2.29, Gaussian NB with Feature Selection - Correlation Matrix and MinMax Scaler used for data\n",
        "\n",
        "These three models would provide better prediction considering f-1 score for Class 1 and Class 2.\n",
        "\n",
        "By simplicity of data use, the model Test 2.5 could be chosen with current dataset"
      ],
      "metadata": {
        "id": "I_23ojDx4kZB"
      }
    },
    {
      "cell_type": "markdown",
      "source": [
        "Depite the selected models would provide better predictive result with the current data set, it is importat to consider that macr av f-1 obtained in each one could be considerar as not accurate enough. Thus, potential future steps, should be consider such as:\n",
        "- Collect more information for dataset\n",
        "- Exploring additional feature selection methods\n",
        "- Test different algorithms such as Decition Tree\n",
        "- Try different optimization techniques"
      ],
      "metadata": {
        "id": "nrZJrogY5Fzv"
      }
    }
  ]
}